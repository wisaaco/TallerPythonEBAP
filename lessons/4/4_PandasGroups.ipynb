{
 "cells": [
  {
   "attachments": {},
   "cell_type": "markdown",
   "metadata": {},
   "source": [
    "<div align=\"right\">\n",
    "\n",
    "[![Open In Colab](https://colab.research.google.com/assets/colab-badge.svg)](https://colab.research.google.com/github/wisaaco/TallerPythonFEE/blob/main/lessons/4/4_PandasGroups.ipynb)\n",
    "\n",
    "\n",
    "</div>"
   ]
  },
  {
   "attachments": {},
   "cell_type": "markdown",
   "metadata": {},
   "source": [
    "# 5 - Agrupacions de dades\n",
    "\n",
    "Les agrupacions són operacions necessàries per a analitzar dades, ja que permeten extreure informació en funció de dades categòriques del nostre dataframe."
   ]
  },
  {
   "attachments": {},
   "cell_type": "markdown",
   "metadata": {},
   "source": [
    "Començarem aquest aprenentatge amb les següents dades"
   ]
  },
  {
   "cell_type": "code",
   "execution_count": 11,
   "metadata": {},
   "outputs": [
    {
     "name": "stdout",
     "output_type": "stream",
     "text": [
      "      Unnamed: 0  Dni        Nom                             CP  Ciutat      Sexe    Tipus certificat cat      Punts\n",
      "--  ------------  ---------  ----------------------------  ----  ----------  ------  ----------------------  -------\n",
      " 0             0  H61414629  María Dolores Arjona Jove     7800  Eivissa     M       B                            73\n",
      " 1             1  S3138381C  Núria Quirós                  7511  Ruberts     F       A                            40\n",
      " 2             2  J8698188C  Miguel José María Gil Vargas  7340  Alaro       M       A                            45\n",
      " 3             3  A48821615  Jordi Chaves Bustamante       7609  Bellavista  F       B                            40\n",
      " 4             4  U0247281I  Jana Rosa Collado Menéndez    7006  Palma       M       B                            86\n",
      "------------------------------\n",
      "Index(['Unnamed: 0', 'Dni', 'Nom', 'CP', 'Ciutat', 'Sexe',\n",
      "       'Tipus certificat cat', 'Punts'],\n",
      "      dtype='object')\n",
      "------------------------------\n",
      "(1000, 8)\n"
     ]
    }
   ],
   "source": [
    "import pandas as pd\n",
    "from tabulate import tabulate # Nova llibreria\n",
    "\n",
    "df = pd.read_csv(\"data/data_groups.csv\") # Atenció: Dades creades aleatòriament !!\n",
    "\n",
    "print(tabulate(df.head(), headers='keys'))\n",
    "\n",
    "print(\"-\"*30)\n",
    "print(df.columns)\n",
    "print(\"-\"*30)\n",
    "print(df.shape)"
   ]
  },
  {
   "attachments": {},
   "cell_type": "markdown",
   "metadata": {},
   "source": [
    "### A.4.0 Activitats \"d'escalfament\""
   ]
  },
  {
   "cell_type": "code",
   "execution_count": 2,
   "metadata": {},
   "outputs": [],
   "source": [
    "#A401 - Quines i quantes ciutats n'hi ha?\n"
   ]
  },
  {
   "cell_type": "code",
   "execution_count": 3,
   "metadata": {},
   "outputs": [],
   "source": [
    "#A402 - Suprimeix la columna primera: \"Unnamed: 0\"\n"
   ]
  },
  {
   "cell_type": "code",
   "execution_count": 4,
   "metadata": {},
   "outputs": [],
   "source": [
    "#A403 - Llista les files 3, 4 i 5 amb les columnes de Nom i Punts\n"
   ]
  },
  {
   "cell_type": "code",
   "execution_count": 5,
   "metadata": {},
   "outputs": [],
   "source": [
    "#A404 - Crea dues columnes noves amb nom i llinatges de l'actual columna de \"Nom\".\n"
   ]
  },
  {
   "cell_type": "code",
   "execution_count": 12,
   "metadata": {},
   "outputs": [],
   "source": [
    "#A405 - Quantes categories de \"Tipus de certificat cat\" ?"
   ]
  },
  {
   "attachments": {},
   "cell_type": "markdown",
   "metadata": {},
   "source": [
    "## Groups"
   ]
  },
  {
   "attachments": {},
   "cell_type": "markdown",
   "metadata": {},
   "source": [
    "Per a agrupar només cal usar el mètode de `groupby`. <br/>\n",
    "\n",
    "En el següent exemple agrupem les dades segons el sexe de la persona mitjançant el mètode `groupby` que retorna un `DataFrame` agrupat:"
   ]
  },
  {
   "cell_type": "code",
   "execution_count": 13,
   "metadata": {},
   "outputs": [
    {
     "data": {
      "text/plain": [
       "pandas.core.groupby.generic.DataFrameGroupBy"
      ]
     },
     "execution_count": 13,
     "metadata": {},
     "output_type": "execute_result"
    }
   ],
   "source": [
    "bySex = df.groupby('Sexe')\n",
    "type(bySex)"
   ]
  },
  {
   "cell_type": "code",
   "execution_count": 14,
   "metadata": {},
   "outputs": [
    {
     "name": "stdout",
     "output_type": "stream",
     "text": [
      "<pandas.core.groupby.generic.DataFrameGroupBy object at 0x11b5f6970>\n"
     ]
    }
   ],
   "source": [
    "print(bySex)"
   ]
  },
  {
   "cell_type": "code",
   "execution_count": 15,
   "metadata": {},
   "outputs": [
    {
     "data": {
      "text/plain": [
       "<pandas.core.groupby.generic.DataFrameGroupBy object at 0x11b5f6970>"
      ]
     },
     "execution_count": 15,
     "metadata": {},
     "output_type": "execute_result"
    }
   ],
   "source": [
    "bySex"
   ]
  },
  {
   "attachments": {},
   "cell_type": "markdown",
   "metadata": {},
   "source": [
    "Una agupació té sentit quan se fà qualque tipus d'agregació de dades. Ara mateix la variable `bySex` només te informació computacional que separa els elements de cada tipus de grup. Hem de fer qualque operació, com per exemple, `describe()`"
   ]
  },
  {
   "cell_type": "code",
   "execution_count": 43,
   "metadata": {},
   "outputs": [
    {
     "data": {
      "text/html": [
       "<div>\n",
       "<style scoped>\n",
       "    .dataframe tbody tr th:only-of-type {\n",
       "        vertical-align: middle;\n",
       "    }\n",
       "\n",
       "    .dataframe tbody tr th {\n",
       "        vertical-align: top;\n",
       "    }\n",
       "\n",
       "    .dataframe thead tr th {\n",
       "        text-align: left;\n",
       "    }\n",
       "\n",
       "    .dataframe thead tr:last-of-type th {\n",
       "        text-align: right;\n",
       "    }\n",
       "</style>\n",
       "<table border=\"1\" class=\"dataframe\">\n",
       "  <thead>\n",
       "    <tr>\n",
       "      <th></th>\n",
       "      <th colspan=\"8\" halign=\"left\">Unnamed: 0</th>\n",
       "      <th colspan=\"5\" halign=\"left\">CP</th>\n",
       "      <th colspan=\"8\" halign=\"left\">Punts</th>\n",
       "    </tr>\n",
       "    <tr>\n",
       "      <th></th>\n",
       "      <th>count</th>\n",
       "      <th>mean</th>\n",
       "      <th>std</th>\n",
       "      <th>min</th>\n",
       "      <th>25%</th>\n",
       "      <th>50%</th>\n",
       "      <th>75%</th>\n",
       "      <th>max</th>\n",
       "      <th>count</th>\n",
       "      <th>mean</th>\n",
       "      <th>...</th>\n",
       "      <th>75%</th>\n",
       "      <th>max</th>\n",
       "      <th>count</th>\n",
       "      <th>mean</th>\n",
       "      <th>std</th>\n",
       "      <th>min</th>\n",
       "      <th>25%</th>\n",
       "      <th>50%</th>\n",
       "      <th>75%</th>\n",
       "      <th>max</th>\n",
       "    </tr>\n",
       "    <tr>\n",
       "      <th>Sexe</th>\n",
       "      <th></th>\n",
       "      <th></th>\n",
       "      <th></th>\n",
       "      <th></th>\n",
       "      <th></th>\n",
       "      <th></th>\n",
       "      <th></th>\n",
       "      <th></th>\n",
       "      <th></th>\n",
       "      <th></th>\n",
       "      <th></th>\n",
       "      <th></th>\n",
       "      <th></th>\n",
       "      <th></th>\n",
       "      <th></th>\n",
       "      <th></th>\n",
       "      <th></th>\n",
       "      <th></th>\n",
       "      <th></th>\n",
       "      <th></th>\n",
       "      <th></th>\n",
       "    </tr>\n",
       "  </thead>\n",
       "  <tbody>\n",
       "    <tr>\n",
       "      <th>F</th>\n",
       "      <td>483.0</td>\n",
       "      <td>503.248447</td>\n",
       "      <td>290.076225</td>\n",
       "      <td>1.0</td>\n",
       "      <td>245.0</td>\n",
       "      <td>496.0</td>\n",
       "      <td>757.5</td>\n",
       "      <td>999.0</td>\n",
       "      <td>483.0</td>\n",
       "      <td>7519.567288</td>\n",
       "      <td>...</td>\n",
       "      <td>7701.0</td>\n",
       "      <td>7870.0</td>\n",
       "      <td>483.0</td>\n",
       "      <td>50.084886</td>\n",
       "      <td>28.548551</td>\n",
       "      <td>1.0</td>\n",
       "      <td>24.5</td>\n",
       "      <td>50.0</td>\n",
       "      <td>74.0</td>\n",
       "      <td>99.0</td>\n",
       "    </tr>\n",
       "    <tr>\n",
       "      <th>M</th>\n",
       "      <td>517.0</td>\n",
       "      <td>495.998066</td>\n",
       "      <td>287.877191</td>\n",
       "      <td>0.0</td>\n",
       "      <td>253.0</td>\n",
       "      <td>502.0</td>\n",
       "      <td>744.0</td>\n",
       "      <td>998.0</td>\n",
       "      <td>517.0</td>\n",
       "      <td>7533.143133</td>\n",
       "      <td>...</td>\n",
       "      <td>7701.0</td>\n",
       "      <td>7870.0</td>\n",
       "      <td>517.0</td>\n",
       "      <td>49.321083</td>\n",
       "      <td>28.504273</td>\n",
       "      <td>1.0</td>\n",
       "      <td>24.0</td>\n",
       "      <td>50.0</td>\n",
       "      <td>73.0</td>\n",
       "      <td>99.0</td>\n",
       "    </tr>\n",
       "  </tbody>\n",
       "</table>\n",
       "<p>2 rows × 24 columns</p>\n",
       "</div>"
      ],
      "text/plain": [
       "     Unnamed: 0                                                           \\\n",
       "          count        mean         std  min    25%    50%    75%    max   \n",
       "Sexe                                                                       \n",
       "F         483.0  503.248447  290.076225  1.0  245.0  496.0  757.5  999.0   \n",
       "M         517.0  495.998066  287.877191  0.0  253.0  502.0  744.0  998.0   \n",
       "\n",
       "         CP               ...                  Punts                        \\\n",
       "      count         mean  ...     75%     max  count       mean        std   \n",
       "Sexe                      ...                                                \n",
       "F     483.0  7519.567288  ...  7701.0  7870.0  483.0  50.084886  28.548551   \n",
       "M     517.0  7533.143133  ...  7701.0  7870.0  517.0  49.321083  28.504273   \n",
       "\n",
       "                                   \n",
       "      min   25%   50%   75%   max  \n",
       "Sexe                               \n",
       "F     1.0  24.5  50.0  74.0  99.0  \n",
       "M     1.0  24.0  50.0  73.0  99.0  \n",
       "\n",
       "[2 rows x 24 columns]"
      ]
     },
     "execution_count": 43,
     "metadata": {},
     "output_type": "execute_result"
    }
   ],
   "source": [
    "# Podem descriure la informació d'un \"[DataFrame]Groupby\"\n",
    "bySex.describe()"
   ]
  },
  {
   "attachments": {},
   "cell_type": "markdown",
   "metadata": {},
   "source": [
    "Només guarda quins elements pertanyen a cada categoria.\n",
    "L'atribut `groups` ens mostra quines mostres/files pertanyen a cada grup:"
   ]
  },
  {
   "cell_type": "code",
   "execution_count": 37,
   "metadata": {},
   "outputs": [
    {
     "data": {
      "text/plain": [
       "{'F': [1, 3, 6, 7, 8, 9, 12, 23, 25, 26, 28, 29, 32, 33, 35, 36, 38, 42, 43, 44, 45, 48, 53, 54, 57, 58, 59, 63, 65, 70, 71, 72, 79, 80, 81, 82, 84, 87, 88, 92, 94, 95, 97, 98, 99, 103, 105, 106, 107, 108, 111, 112, 115, 116, 117, 118, 120, 125, 128, 129, 132, 134, 135, 136, 137, 138, 140, 141, 142, 143, 144, 147, 148, 150, 151, 153, 154, 155, 156, 161, 162, 163, 164, 165, 168, 170, 172, 174, 175, 176, 177, 178, 179, 181, 182, 184, 185, 188, 194, 196, ...], 'M': [0, 2, 4, 5, 10, 11, 13, 14, 15, 16, 17, 18, 19, 20, 21, 22, 24, 27, 30, 31, 34, 37, 39, 40, 41, 46, 47, 49, 50, 51, 52, 55, 56, 60, 61, 62, 64, 66, 67, 68, 69, 73, 74, 75, 76, 77, 78, 83, 85, 86, 89, 90, 91, 93, 96, 100, 101, 102, 104, 109, 110, 113, 114, 119, 121, 122, 123, 124, 126, 127, 130, 131, 133, 139, 145, 146, 149, 152, 157, 158, 159, 160, 166, 167, 169, 171, 173, 180, 183, 186, 187, 189, 190, 191, 192, 193, 195, 197, 199, 201, ...]}"
      ]
     },
     "execution_count": 37,
     "metadata": {},
     "output_type": "execute_result"
    }
   ],
   "source": [
    "bySex.groups # Quin tipus de variable és? Quina informació conté?"
   ]
  },
  {
   "attachments": {},
   "cell_type": "markdown",
   "metadata": {},
   "source": [
    "Aquest atribut, (un dictionari) ens permet realitzar operacions de filtrat en funció dels grups:"
   ]
  },
  {
   "cell_type": "code",
   "execution_count": 40,
   "metadata": {},
   "outputs": [
    {
     "data": {
      "text/html": [
       "<div>\n",
       "<style scoped>\n",
       "    .dataframe tbody tr th:only-of-type {\n",
       "        vertical-align: middle;\n",
       "    }\n",
       "\n",
       "    .dataframe tbody tr th {\n",
       "        vertical-align: top;\n",
       "    }\n",
       "\n",
       "    .dataframe thead th {\n",
       "        text-align: right;\n",
       "    }\n",
       "</style>\n",
       "<table border=\"1\" class=\"dataframe\">\n",
       "  <thead>\n",
       "    <tr style=\"text-align: right;\">\n",
       "      <th></th>\n",
       "      <th>Unnamed: 0</th>\n",
       "      <th>Dni</th>\n",
       "      <th>Nom</th>\n",
       "      <th>CP</th>\n",
       "      <th>Ciutat</th>\n",
       "      <th>Sexe</th>\n",
       "      <th>Tipus certificat cat</th>\n",
       "      <th>Punts</th>\n",
       "    </tr>\n",
       "  </thead>\n",
       "  <tbody>\n",
       "    <tr>\n",
       "      <th>0</th>\n",
       "      <td>0</td>\n",
       "      <td>H61414629</td>\n",
       "      <td>María Dolores Arjona Jove</td>\n",
       "      <td>7800</td>\n",
       "      <td>Eivissa</td>\n",
       "      <td>M</td>\n",
       "      <td>B</td>\n",
       "      <td>73</td>\n",
       "    </tr>\n",
       "    <tr>\n",
       "      <th>2</th>\n",
       "      <td>2</td>\n",
       "      <td>J8698188C</td>\n",
       "      <td>Miguel José María Gil Vargas</td>\n",
       "      <td>7340</td>\n",
       "      <td>Alaro</td>\n",
       "      <td>M</td>\n",
       "      <td>A</td>\n",
       "      <td>45</td>\n",
       "    </tr>\n",
       "    <tr>\n",
       "      <th>4</th>\n",
       "      <td>4</td>\n",
       "      <td>U0247281I</td>\n",
       "      <td>Jana Rosa Collado Menéndez</td>\n",
       "      <td>7006</td>\n",
       "      <td>Palma</td>\n",
       "      <td>M</td>\n",
       "      <td>B</td>\n",
       "      <td>86</td>\n",
       "    </tr>\n",
       "    <tr>\n",
       "      <th>5</th>\n",
       "      <td>5</td>\n",
       "      <td>V3761435A</td>\n",
       "      <td>Antonio Murillo Suarez</td>\n",
       "      <td>7701</td>\n",
       "      <td>Mao</td>\n",
       "      <td>M</td>\n",
       "      <td>B</td>\n",
       "      <td>53</td>\n",
       "    </tr>\n",
       "    <tr>\n",
       "      <th>10</th>\n",
       "      <td>10</td>\n",
       "      <td>A64863723</td>\n",
       "      <td>Nil Mínguez Hervás</td>\n",
       "      <td>7350</td>\n",
       "      <td>Binissalem</td>\n",
       "      <td>M</td>\n",
       "      <td>B</td>\n",
       "      <td>17</td>\n",
       "    </tr>\n",
       "    <tr>\n",
       "      <th>...</th>\n",
       "      <td>...</td>\n",
       "      <td>...</td>\n",
       "      <td>...</td>\n",
       "      <td>...</td>\n",
       "      <td>...</td>\n",
       "      <td>...</td>\n",
       "      <td>...</td>\n",
       "      <td>...</td>\n",
       "    </tr>\n",
       "    <tr>\n",
       "      <th>991</th>\n",
       "      <td>991</td>\n",
       "      <td>G28994028</td>\n",
       "      <td>Juan Cervera Arribas</td>\n",
       "      <td>7006</td>\n",
       "      <td>Palma</td>\n",
       "      <td>M</td>\n",
       "      <td>B</td>\n",
       "      <td>83</td>\n",
       "    </tr>\n",
       "    <tr>\n",
       "      <th>993</th>\n",
       "      <td>993</td>\n",
       "      <td>J3906733E</td>\n",
       "      <td>Josefa María Dolores Barreda Ibañez</td>\n",
       "      <td>7609</td>\n",
       "      <td>Bellavista</td>\n",
       "      <td>M</td>\n",
       "      <td>B</td>\n",
       "      <td>17</td>\n",
       "    </tr>\n",
       "    <tr>\n",
       "      <th>994</th>\n",
       "      <td>994</td>\n",
       "      <td>C26665125</td>\n",
       "      <td>Josefa Ferrando-Navas</td>\n",
       "      <td>7340</td>\n",
       "      <td>Alaro</td>\n",
       "      <td>M</td>\n",
       "      <td>A</td>\n",
       "      <td>56</td>\n",
       "    </tr>\n",
       "    <tr>\n",
       "      <th>996</th>\n",
       "      <td>996</td>\n",
       "      <td>H72967045</td>\n",
       "      <td>Álex Javier Campos Palomar</td>\n",
       "      <td>7701</td>\n",
       "      <td>Mao</td>\n",
       "      <td>M</td>\n",
       "      <td>B</td>\n",
       "      <td>72</td>\n",
       "    </tr>\n",
       "    <tr>\n",
       "      <th>998</th>\n",
       "      <td>998</td>\n",
       "      <td>C61296679</td>\n",
       "      <td>Èric Pinedo</td>\n",
       "      <td>7009</td>\n",
       "      <td>Palma</td>\n",
       "      <td>M</td>\n",
       "      <td>A</td>\n",
       "      <td>1</td>\n",
       "    </tr>\n",
       "  </tbody>\n",
       "</table>\n",
       "<p>517 rows × 8 columns</p>\n",
       "</div>"
      ],
      "text/plain": [
       "     Unnamed: 0        Dni                                  Nom    CP  \\\n",
       "0             0  H61414629            María Dolores Arjona Jove  7800   \n",
       "2             2  J8698188C         Miguel José María Gil Vargas  7340   \n",
       "4             4  U0247281I           Jana Rosa Collado Menéndez  7006   \n",
       "5             5  V3761435A               Antonio Murillo Suarez  7701   \n",
       "10           10  A64863723                   Nil Mínguez Hervás  7350   \n",
       "..          ...        ...                                  ...   ...   \n",
       "991         991  G28994028                 Juan Cervera Arribas  7006   \n",
       "993         993  J3906733E  Josefa María Dolores Barreda Ibañez  7609   \n",
       "994         994  C26665125                Josefa Ferrando-Navas  7340   \n",
       "996         996  H72967045           Álex Javier Campos Palomar  7701   \n",
       "998         998  C61296679                          Èric Pinedo  7009   \n",
       "\n",
       "         Ciutat Sexe Tipus certificat cat  Punts  \n",
       "0       Eivissa    M                    B     73  \n",
       "2         Alaro    M                    A     45  \n",
       "4         Palma    M                    B     86  \n",
       "5           Mao    M                    B     53  \n",
       "10   Binissalem    M                    B     17  \n",
       "..          ...  ...                  ...    ...  \n",
       "991       Palma    M                    B     83  \n",
       "993  Bellavista    M                    B     17  \n",
       "994       Alaro    M                    A     56  \n",
       "996         Mao    M                    B     72  \n",
       "998       Palma    M                    A      1  \n",
       "\n",
       "[517 rows x 8 columns]"
      ]
     },
     "execution_count": 40,
     "metadata": {},
     "output_type": "execute_result"
    }
   ],
   "source": [
    "dfM = df.loc[bySex.groups['M'].values] #Recorda que \"loc\" accedeix per index de fila\n",
    "dfM"
   ]
  },
  {
   "attachments": {},
   "cell_type": "markdown",
   "metadata": {},
   "source": [
    "Obviament: <br/>\n",
    "Segons el tipus d'agrupació, l'operació pot realitzar-se com una selecció lògica."
   ]
  },
  {
   "cell_type": "code",
   "execution_count": 41,
   "metadata": {},
   "outputs": [
    {
     "data": {
      "text/html": [
       "<div>\n",
       "<style scoped>\n",
       "    .dataframe tbody tr th:only-of-type {\n",
       "        vertical-align: middle;\n",
       "    }\n",
       "\n",
       "    .dataframe tbody tr th {\n",
       "        vertical-align: top;\n",
       "    }\n",
       "\n",
       "    .dataframe thead th {\n",
       "        text-align: right;\n",
       "    }\n",
       "</style>\n",
       "<table border=\"1\" class=\"dataframe\">\n",
       "  <thead>\n",
       "    <tr style=\"text-align: right;\">\n",
       "      <th></th>\n",
       "      <th>Unnamed: 0</th>\n",
       "      <th>Dni</th>\n",
       "      <th>Nom</th>\n",
       "      <th>CP</th>\n",
       "      <th>Ciutat</th>\n",
       "      <th>Sexe</th>\n",
       "      <th>Tipus certificat cat</th>\n",
       "      <th>Punts</th>\n",
       "    </tr>\n",
       "  </thead>\n",
       "  <tbody>\n",
       "    <tr>\n",
       "      <th>0</th>\n",
       "      <td>0</td>\n",
       "      <td>H61414629</td>\n",
       "      <td>María Dolores Arjona Jove</td>\n",
       "      <td>7800</td>\n",
       "      <td>Eivissa</td>\n",
       "      <td>M</td>\n",
       "      <td>B</td>\n",
       "      <td>73</td>\n",
       "    </tr>\n",
       "    <tr>\n",
       "      <th>2</th>\n",
       "      <td>2</td>\n",
       "      <td>J8698188C</td>\n",
       "      <td>Miguel José María Gil Vargas</td>\n",
       "      <td>7340</td>\n",
       "      <td>Alaro</td>\n",
       "      <td>M</td>\n",
       "      <td>A</td>\n",
       "      <td>45</td>\n",
       "    </tr>\n",
       "    <tr>\n",
       "      <th>4</th>\n",
       "      <td>4</td>\n",
       "      <td>U0247281I</td>\n",
       "      <td>Jana Rosa Collado Menéndez</td>\n",
       "      <td>7006</td>\n",
       "      <td>Palma</td>\n",
       "      <td>M</td>\n",
       "      <td>B</td>\n",
       "      <td>86</td>\n",
       "    </tr>\n",
       "    <tr>\n",
       "      <th>5</th>\n",
       "      <td>5</td>\n",
       "      <td>V3761435A</td>\n",
       "      <td>Antonio Murillo Suarez</td>\n",
       "      <td>7701</td>\n",
       "      <td>Mao</td>\n",
       "      <td>M</td>\n",
       "      <td>B</td>\n",
       "      <td>53</td>\n",
       "    </tr>\n",
       "    <tr>\n",
       "      <th>10</th>\n",
       "      <td>10</td>\n",
       "      <td>A64863723</td>\n",
       "      <td>Nil Mínguez Hervás</td>\n",
       "      <td>7350</td>\n",
       "      <td>Binissalem</td>\n",
       "      <td>M</td>\n",
       "      <td>B</td>\n",
       "      <td>17</td>\n",
       "    </tr>\n",
       "    <tr>\n",
       "      <th>...</th>\n",
       "      <td>...</td>\n",
       "      <td>...</td>\n",
       "      <td>...</td>\n",
       "      <td>...</td>\n",
       "      <td>...</td>\n",
       "      <td>...</td>\n",
       "      <td>...</td>\n",
       "      <td>...</td>\n",
       "    </tr>\n",
       "    <tr>\n",
       "      <th>991</th>\n",
       "      <td>991</td>\n",
       "      <td>G28994028</td>\n",
       "      <td>Juan Cervera Arribas</td>\n",
       "      <td>7006</td>\n",
       "      <td>Palma</td>\n",
       "      <td>M</td>\n",
       "      <td>B</td>\n",
       "      <td>83</td>\n",
       "    </tr>\n",
       "    <tr>\n",
       "      <th>993</th>\n",
       "      <td>993</td>\n",
       "      <td>J3906733E</td>\n",
       "      <td>Josefa María Dolores Barreda Ibañez</td>\n",
       "      <td>7609</td>\n",
       "      <td>Bellavista</td>\n",
       "      <td>M</td>\n",
       "      <td>B</td>\n",
       "      <td>17</td>\n",
       "    </tr>\n",
       "    <tr>\n",
       "      <th>994</th>\n",
       "      <td>994</td>\n",
       "      <td>C26665125</td>\n",
       "      <td>Josefa Ferrando-Navas</td>\n",
       "      <td>7340</td>\n",
       "      <td>Alaro</td>\n",
       "      <td>M</td>\n",
       "      <td>A</td>\n",
       "      <td>56</td>\n",
       "    </tr>\n",
       "    <tr>\n",
       "      <th>996</th>\n",
       "      <td>996</td>\n",
       "      <td>H72967045</td>\n",
       "      <td>Álex Javier Campos Palomar</td>\n",
       "      <td>7701</td>\n",
       "      <td>Mao</td>\n",
       "      <td>M</td>\n",
       "      <td>B</td>\n",
       "      <td>72</td>\n",
       "    </tr>\n",
       "    <tr>\n",
       "      <th>998</th>\n",
       "      <td>998</td>\n",
       "      <td>C61296679</td>\n",
       "      <td>Èric Pinedo</td>\n",
       "      <td>7009</td>\n",
       "      <td>Palma</td>\n",
       "      <td>M</td>\n",
       "      <td>A</td>\n",
       "      <td>1</td>\n",
       "    </tr>\n",
       "  </tbody>\n",
       "</table>\n",
       "<p>517 rows × 8 columns</p>\n",
       "</div>"
      ],
      "text/plain": [
       "     Unnamed: 0        Dni                                  Nom    CP  \\\n",
       "0             0  H61414629            María Dolores Arjona Jove  7800   \n",
       "2             2  J8698188C         Miguel José María Gil Vargas  7340   \n",
       "4             4  U0247281I           Jana Rosa Collado Menéndez  7006   \n",
       "5             5  V3761435A               Antonio Murillo Suarez  7701   \n",
       "10           10  A64863723                   Nil Mínguez Hervás  7350   \n",
       "..          ...        ...                                  ...   ...   \n",
       "991         991  G28994028                 Juan Cervera Arribas  7006   \n",
       "993         993  J3906733E  Josefa María Dolores Barreda Ibañez  7609   \n",
       "994         994  C26665125                Josefa Ferrando-Navas  7340   \n",
       "996         996  H72967045           Álex Javier Campos Palomar  7701   \n",
       "998         998  C61296679                          Èric Pinedo  7009   \n",
       "\n",
       "         Ciutat Sexe Tipus certificat cat  Punts  \n",
       "0       Eivissa    M                    B     73  \n",
       "2         Alaro    M                    A     45  \n",
       "4         Palma    M                    B     86  \n",
       "5           Mao    M                    B     53  \n",
       "10   Binissalem    M                    B     17  \n",
       "..          ...  ...                  ...    ...  \n",
       "991       Palma    M                    B     83  \n",
       "993  Bellavista    M                    B     17  \n",
       "994       Alaro    M                    A     56  \n",
       "996         Mao    M                    B     72  \n",
       "998       Palma    M                    A      1  \n",
       "\n",
       "[517 rows x 8 columns]"
      ]
     },
     "execution_count": 41,
     "metadata": {},
     "output_type": "execute_result"
    }
   ],
   "source": [
    "df[df.Sexe==\"M\"]"
   ]
  },
  {
   "cell_type": "code",
   "execution_count": 16,
   "metadata": {},
   "outputs": [
    {
     "name": "stdout",
     "output_type": "stream",
     "text": [
      "**********\n",
      "F\n",
      "**********\n",
      "   Unnamed: 0        Dni                      Nom    CP      Ciutat Sexe  \\\n",
      "1           1  S3138381C             Núria Quirós  7511     Ruberts    F   \n",
      "3           3  A48821615  Jordi Chaves Bustamante  7609  Bellavista    F   \n",
      "6           6  H16936148         Arlet del Rovira  7350  Binissalem    F   \n",
      "7           7  E47121991         Emma Tapia Salas  7340       Alaro    F   \n",
      "8           8  E15932486             Jana Barrios  7870   La Savina    F   \n",
      "\n",
      "  Tipus certificat cat  Punts  \n",
      "1                    A     40  \n",
      "3                    B     40  \n",
      "6                    A     54  \n",
      "7                    C     60  \n",
      "8                    A     35  \n",
      "------------------------------------------------------------\n",
      "**********\n",
      "M\n",
      "**********\n",
      "    Unnamed: 0        Dni                           Nom    CP      Ciutat  \\\n",
      "0            0  H61414629     María Dolores Arjona Jove  7800     Eivissa   \n",
      "2            2  J8698188C  Miguel José María Gil Vargas  7340       Alaro   \n",
      "4            4  U0247281I    Jana Rosa Collado Menéndez  7006       Palma   \n",
      "5            5  V3761435A        Antonio Murillo Suarez  7701         Mao   \n",
      "10          10  A64863723            Nil Mínguez Hervás  7350  Binissalem   \n",
      "\n",
      "   Sexe Tipus certificat cat  Punts  \n",
      "0     M                    B     73  \n",
      "2     M                    A     45  \n",
      "4     M                    B     86  \n",
      "5     M                    B     53  \n",
      "10    M                    B     17  \n",
      "------------------------------------------------------------\n"
     ]
    }
   ],
   "source": [
    "#Cada dataframegroupby te dos elements: el id-value del grup i el df de elements d'aquest grup\n",
    "for identificador, group in df.groupby('Sexe'): \n",
    "    # Criteri de l'agrupacio: M o F \n",
    "    print(\"*\"*10)\n",
    "    print(identificador)\n",
    "    print(\"*\"*10)\n",
    "    # Dataframe específic\n",
    "    print(group.head())\n",
    "    \n",
    "    print(\"-\"*60)"
   ]
  },
  {
   "attachments": {},
   "cell_type": "markdown",
   "metadata": {},
   "source": [
    "## Agregacions\n",
    "\n",
    "\n",
    "El mètodo  `aggregate` ens permet crear variables d'agregació sobre la taula obtinguda amb `groupby`. <br/>Indicarem la informació que volem obtenir de cada columna amb un diccionari. Especifiquem la funció que aplicarem a les dades de cada grup en cada columna per a obtenir un únic valor.\n",
    "\n",
    "-  Ref: https://pandas.pydata.org/docs/reference/api/pandas.DataFrame.aggregate.html\n"
   ]
  },
  {
   "cell_type": "code",
   "execution_count": 17,
   "metadata": {},
   "outputs": [
    {
     "data": {
      "text/html": [
       "<div>\n",
       "<style scoped>\n",
       "    .dataframe tbody tr th:only-of-type {\n",
       "        vertical-align: middle;\n",
       "    }\n",
       "\n",
       "    .dataframe tbody tr th {\n",
       "        vertical-align: top;\n",
       "    }\n",
       "\n",
       "    .dataframe thead th {\n",
       "        text-align: right;\n",
       "    }\n",
       "</style>\n",
       "<table border=\"1\" class=\"dataframe\">\n",
       "  <thead>\n",
       "    <tr style=\"text-align: right;\">\n",
       "      <th></th>\n",
       "      <th>Punts</th>\n",
       "    </tr>\n",
       "    <tr>\n",
       "      <th>Tipus certificat cat</th>\n",
       "      <th></th>\n",
       "    </tr>\n",
       "  </thead>\n",
       "  <tbody>\n",
       "    <tr>\n",
       "      <th>A</th>\n",
       "      <td>22502</td>\n",
       "    </tr>\n",
       "    <tr>\n",
       "      <th>B</th>\n",
       "      <td>17289</td>\n",
       "    </tr>\n",
       "    <tr>\n",
       "      <th>C</th>\n",
       "      <td>7399</td>\n",
       "    </tr>\n",
       "    <tr>\n",
       "      <th>D</th>\n",
       "      <td>2500</td>\n",
       "    </tr>\n",
       "  </tbody>\n",
       "</table>\n",
       "</div>"
      ],
      "text/plain": [
       "                      Punts\n",
       "Tipus certificat cat       \n",
       "A                     22502\n",
       "B                     17289\n",
       "C                      7399\n",
       "D                      2500"
      ]
     },
     "execution_count": 17,
     "metadata": {},
     "output_type": "execute_result"
    }
   ],
   "source": [
    "df.groupby([\"Tipus certificat cat\"]).aggregate(\n",
    "    {               # Dictionari\n",
    "    \"Punts\":sum     # Columna : Operacion de agregació\n",
    "    }\n",
    "    ) # "
   ]
  },
  {
   "attachments": {},
   "cell_type": "markdown",
   "metadata": {},
   "source": [
    "Podem aplicar un gran nombre de funcions d'agregació:\n",
    "\n",
    "- [Funcions estadístiques](https://docs.scipy.org/doc/numpy/reference/routines.statistics.html): mean, std, ...\n",
    "\n",
    "- [Funcions matemàtiques](https://docs.scipy.org/doc/numpy/reference/routines.math.html): sum, prod, ...\n",
    "\n",
    "- Altres funcions: max, min, ...\n"
   ]
  },
  {
   "cell_type": "code",
   "execution_count": 18,
   "metadata": {},
   "outputs": [
    {
     "data": {
      "text/html": [
       "<div>\n",
       "<style scoped>\n",
       "    .dataframe tbody tr th:only-of-type {\n",
       "        vertical-align: middle;\n",
       "    }\n",
       "\n",
       "    .dataframe tbody tr th {\n",
       "        vertical-align: top;\n",
       "    }\n",
       "\n",
       "    .dataframe thead th {\n",
       "        text-align: right;\n",
       "    }\n",
       "</style>\n",
       "<table border=\"1\" class=\"dataframe\">\n",
       "  <thead>\n",
       "    <tr style=\"text-align: right;\">\n",
       "      <th></th>\n",
       "      <th>Punts</th>\n",
       "    </tr>\n",
       "    <tr>\n",
       "      <th>Tipus certificat cat</th>\n",
       "      <th></th>\n",
       "    </tr>\n",
       "  </thead>\n",
       "  <tbody>\n",
       "    <tr>\n",
       "      <th>A</th>\n",
       "      <td>99</td>\n",
       "    </tr>\n",
       "    <tr>\n",
       "      <th>B</th>\n",
       "      <td>99</td>\n",
       "    </tr>\n",
       "    <tr>\n",
       "      <th>C</th>\n",
       "      <td>99</td>\n",
       "    </tr>\n",
       "    <tr>\n",
       "      <th>D</th>\n",
       "      <td>99</td>\n",
       "    </tr>\n",
       "  </tbody>\n",
       "</table>\n",
       "</div>"
      ],
      "text/plain": [
       "                      Punts\n",
       "Tipus certificat cat       \n",
       "A                        99\n",
       "B                        99\n",
       "C                        99\n",
       "D                        99"
      ]
     },
     "execution_count": 18,
     "metadata": {},
     "output_type": "execute_result"
    }
   ],
   "source": [
    "df.groupby([\"Tipus certificat cat\"]).aggregate({\"Punts\":max}) "
   ]
  },
  {
   "attachments": {},
   "cell_type": "markdown",
   "metadata": {},
   "source": [
    "Si volem incloure la mateixa columna múltiples vegades, hem de fer servir el mètode `agg`"
   ]
  },
  {
   "cell_type": "code",
   "execution_count": 23,
   "metadata": {},
   "outputs": [
    {
     "data": {
      "text/html": [
       "<div>\n",
       "<style scoped>\n",
       "    .dataframe tbody tr th:only-of-type {\n",
       "        vertical-align: middle;\n",
       "    }\n",
       "\n",
       "    .dataframe tbody tr th {\n",
       "        vertical-align: top;\n",
       "    }\n",
       "\n",
       "    .dataframe thead th {\n",
       "        text-align: right;\n",
       "    }\n",
       "</style>\n",
       "<table border=\"1\" class=\"dataframe\">\n",
       "  <thead>\n",
       "    <tr style=\"text-align: right;\">\n",
       "      <th></th>\n",
       "      <th>Maximo</th>\n",
       "      <th>Minim</th>\n",
       "      <th>Mitj</th>\n",
       "    </tr>\n",
       "    <tr>\n",
       "      <th>Tipus certificat cat</th>\n",
       "      <th></th>\n",
       "      <th></th>\n",
       "      <th></th>\n",
       "    </tr>\n",
       "  </thead>\n",
       "  <tbody>\n",
       "    <tr>\n",
       "      <th>A</th>\n",
       "      <td>99</td>\n",
       "      <td>1</td>\n",
       "      <td>50.115813</td>\n",
       "    </tr>\n",
       "    <tr>\n",
       "      <th>B</th>\n",
       "      <td>99</td>\n",
       "      <td>1</td>\n",
       "      <td>49.681034</td>\n",
       "    </tr>\n",
       "    <tr>\n",
       "      <th>C</th>\n",
       "      <td>99</td>\n",
       "      <td>1</td>\n",
       "      <td>48.045455</td>\n",
       "    </tr>\n",
       "    <tr>\n",
       "      <th>D</th>\n",
       "      <td>99</td>\n",
       "      <td>1</td>\n",
       "      <td>51.020408</td>\n",
       "    </tr>\n",
       "  </tbody>\n",
       "</table>\n",
       "</div>"
      ],
      "text/plain": [
       "                      Maximo  Minim       Mitj\n",
       "Tipus certificat cat                          \n",
       "A                         99      1  50.115813\n",
       "B                         99      1  49.681034\n",
       "C                         99      1  48.045455\n",
       "D                         99      1  51.020408"
      ]
     },
     "execution_count": 23,
     "metadata": {},
     "output_type": "execute_result"
    }
   ],
   "source": [
    "import numpy as np\n",
    "## Una manera\n",
    "dftipus = df.groupby([\"Tipus certificat cat\"]).agg(Maximo=('Punts', max), Minim=('Punts', 'min'), Mitj=('Punts', np.mean))\n",
    "dftipus"
   ]
  },
  {
   "cell_type": "code",
   "execution_count": 25,
   "metadata": {},
   "outputs": [
    {
     "data": {
      "text/plain": [
       "pandas.core.frame.DataFrame"
      ]
     },
     "execution_count": 25,
     "metadata": {},
     "output_type": "execute_result"
    }
   ],
   "source": [
    "type(dftipus) #Nota: Una vegada feta una agregació damunt una agrupació obtenim un dataframe !!!"
   ]
  },
  {
   "cell_type": "code",
   "execution_count": 26,
   "metadata": {},
   "outputs": [
    {
     "data": {
      "text/html": [
       "<div>\n",
       "<style scoped>\n",
       "    .dataframe tbody tr th:only-of-type {\n",
       "        vertical-align: middle;\n",
       "    }\n",
       "\n",
       "    .dataframe tbody tr th {\n",
       "        vertical-align: top;\n",
       "    }\n",
       "\n",
       "    .dataframe thead th {\n",
       "        text-align: right;\n",
       "    }\n",
       "</style>\n",
       "<table border=\"1\" class=\"dataframe\">\n",
       "  <thead>\n",
       "    <tr style=\"text-align: right;\">\n",
       "      <th></th>\n",
       "      <th>Maximo</th>\n",
       "      <th>Minim</th>\n",
       "      <th>Mitj</th>\n",
       "    </tr>\n",
       "    <tr>\n",
       "      <th>Tipus certificat cat</th>\n",
       "      <th></th>\n",
       "      <th></th>\n",
       "      <th></th>\n",
       "    </tr>\n",
       "  </thead>\n",
       "  <tbody>\n",
       "    <tr>\n",
       "      <th>B</th>\n",
       "      <td>99</td>\n",
       "      <td>1</td>\n",
       "      <td>49.681034</td>\n",
       "    </tr>\n",
       "    <tr>\n",
       "      <th>C</th>\n",
       "      <td>99</td>\n",
       "      <td>1</td>\n",
       "      <td>48.045455</td>\n",
       "    </tr>\n",
       "  </tbody>\n",
       "</table>\n",
       "</div>"
      ],
      "text/plain": [
       "                      Maximo  Minim       Mitj\n",
       "Tipus certificat cat                          \n",
       "B                         99      1  49.681034\n",
       "C                         99      1  48.045455"
      ]
     },
     "execution_count": 26,
     "metadata": {},
     "output_type": "execute_result"
    }
   ],
   "source": [
    "dftipus[dftipus.Mitj<50]"
   ]
  },
  {
   "attachments": {},
   "cell_type": "markdown",
   "metadata": {},
   "source": [
    "### 4.1. Activitats \n"
   ]
  },
  {
   "cell_type": "code",
   "execution_count": 27,
   "metadata": {},
   "outputs": [],
   "source": [
    "# 4.1.1 Quina estructura té aquest dataframe: shape, index, columns?\n"
   ]
  },
  {
   "cell_type": "code",
   "execution_count": 28,
   "metadata": {},
   "outputs": [],
   "source": [
    "# 4.1.2 Pots accedir al valor mínim del certificat \"C\"\n"
   ]
  },
  {
   "cell_type": "code",
   "execution_count": 29,
   "metadata": {},
   "outputs": [],
   "source": [
    "# 4.1.3 Pots canviar el nom a les columnes a \"max punts\", \"min punts\" i \"mitjana punts\", respectivament."
   ]
  },
  {
   "attachments": {},
   "cell_type": "markdown",
   "metadata": {},
   "source": [
    "#### Altres maneres de fer aggregacions"
   ]
  },
  {
   "cell_type": "code",
   "execution_count": 31,
   "metadata": {},
   "outputs": [
    {
     "data": {
      "text/html": [
       "<div>\n",
       "<style scoped>\n",
       "    .dataframe tbody tr th:only-of-type {\n",
       "        vertical-align: middle;\n",
       "    }\n",
       "\n",
       "    .dataframe tbody tr th {\n",
       "        vertical-align: top;\n",
       "    }\n",
       "\n",
       "    .dataframe thead tr th {\n",
       "        text-align: left;\n",
       "    }\n",
       "\n",
       "    .dataframe thead tr:last-of-type th {\n",
       "        text-align: right;\n",
       "    }\n",
       "</style>\n",
       "<table border=\"1\" class=\"dataframe\">\n",
       "  <thead>\n",
       "    <tr>\n",
       "      <th></th>\n",
       "      <th colspan=\"4\" halign=\"left\">Punts</th>\n",
       "    </tr>\n",
       "    <tr>\n",
       "      <th></th>\n",
       "      <th>mean</th>\n",
       "      <th>count</th>\n",
       "      <th>amin</th>\n",
       "      <th>std</th>\n",
       "    </tr>\n",
       "    <tr>\n",
       "      <th>Tipus certificat cat</th>\n",
       "      <th></th>\n",
       "      <th></th>\n",
       "      <th></th>\n",
       "      <th></th>\n",
       "    </tr>\n",
       "  </thead>\n",
       "  <tbody>\n",
       "    <tr>\n",
       "      <th>A</th>\n",
       "      <td>50.115813</td>\n",
       "      <td>449</td>\n",
       "      <td>1</td>\n",
       "      <td>28.518712</td>\n",
       "    </tr>\n",
       "    <tr>\n",
       "      <th>B</th>\n",
       "      <td>49.681034</td>\n",
       "      <td>348</td>\n",
       "      <td>1</td>\n",
       "      <td>28.271817</td>\n",
       "    </tr>\n",
       "    <tr>\n",
       "      <th>C</th>\n",
       "      <td>48.045455</td>\n",
       "      <td>154</td>\n",
       "      <td>1</td>\n",
       "      <td>27.907724</td>\n",
       "    </tr>\n",
       "    <tr>\n",
       "      <th>D</th>\n",
       "      <td>51.020408</td>\n",
       "      <td>49</td>\n",
       "      <td>1</td>\n",
       "      <td>32.520180</td>\n",
       "    </tr>\n",
       "  </tbody>\n",
       "</table>\n",
       "</div>"
      ],
      "text/plain": [
       "                          Punts                      \n",
       "                           mean count amin        std\n",
       "Tipus certificat cat                                 \n",
       "A                     50.115813   449    1  28.518712\n",
       "B                     49.681034   348    1  28.271817\n",
       "C                     48.045455   154    1  27.907724\n",
       "D                     51.020408    49    1  32.520180"
      ]
     },
     "execution_count": 31,
     "metadata": {},
     "output_type": "execute_result"
    }
   ],
   "source": [
    "# Una altra manera\n",
    "dftipus2 = df.groupby([\"Tipus certificat cat\"]).agg({\n",
    "        'Punts': ['mean', 'count', np.min, np.std], \n",
    "   })\n",
    "\n",
    "dftipus2 "
   ]
  },
  {
   "cell_type": "code",
   "execution_count": 32,
   "metadata": {},
   "outputs": [
    {
     "data": {
      "text/plain": [
       "MultiIndex([('Punts',  'mean'),\n",
       "            ('Punts', 'count'),\n",
       "            ('Punts',  'amin'),\n",
       "            ('Punts',   'std')],\n",
       "           )"
      ]
     },
     "execution_count": 32,
     "metadata": {},
     "output_type": "execute_result"
    }
   ],
   "source": [
    "dftipus2.columns ## ALERTA ! MULTIINDEX"
   ]
  },
  {
   "cell_type": "code",
   "execution_count": 39,
   "metadata": {},
   "outputs": [
    {
     "data": {
      "text/plain": [
       "Tipus certificat cat\n",
       "A    50.115813\n",
       "B    49.681034\n",
       "C    48.045455\n",
       "D    51.020408\n",
       "Name: mean, dtype: float64"
      ]
     },
     "execution_count": 39,
     "metadata": {},
     "output_type": "execute_result"
    }
   ],
   "source": [
    "#Si volem accedir a una columna específica\n",
    "\n",
    "dftipus2[\"Punts\"][\"mean\"] ### Obliga a fer ús d'un conjunt seguit de \"keys\" de columnes"
   ]
  },
  {
   "cell_type": "code",
   "execution_count": 40,
   "metadata": {},
   "outputs": [
    {
     "data": {
      "text/plain": [
       "Tipus certificat cat\n",
       "A    50.115813\n",
       "B    49.681034\n",
       "C    48.045455\n",
       "D    51.020408\n",
       "Name: (Punts, mean), dtype: float64"
      ]
     },
     "execution_count": 40,
     "metadata": {},
     "output_type": "execute_result"
    }
   ],
   "source": [
    "dftipus2[(\"Punts\",\"mean\")] ### O fer us del concepte de tupla"
   ]
  },
  {
   "attachments": {},
   "cell_type": "markdown",
   "metadata": {},
   "source": [
    "## Agrupacions amb múltiples columnes\n",
    "\n",
    "En una agrupació amb diversos criteris, es creen totes les combinacions possibles entre els criteris donant lloc a un producte cartesià de les agregacions indicades."
   ]
  },
  {
   "cell_type": "code",
   "execution_count": 67,
   "metadata": {},
   "outputs": [
    {
     "data": {
      "text/html": [
       "<div>\n",
       "<style scoped>\n",
       "    .dataframe tbody tr th:only-of-type {\n",
       "        vertical-align: middle;\n",
       "    }\n",
       "\n",
       "    .dataframe tbody tr th {\n",
       "        vertical-align: top;\n",
       "    }\n",
       "\n",
       "    .dataframe thead th {\n",
       "        text-align: right;\n",
       "    }\n",
       "</style>\n",
       "<table border=\"1\" class=\"dataframe\">\n",
       "  <thead>\n",
       "    <tr style=\"text-align: right;\">\n",
       "      <th></th>\n",
       "      <th></th>\n",
       "      <th>Unnamed: 0</th>\n",
       "      <th>CP</th>\n",
       "      <th>Punts</th>\n",
       "    </tr>\n",
       "    <tr>\n",
       "      <th>Tipus certificat cat</th>\n",
       "      <th>Ciutat</th>\n",
       "      <th></th>\n",
       "      <th></th>\n",
       "      <th></th>\n",
       "    </tr>\n",
       "  </thead>\n",
       "  <tbody>\n",
       "    <tr>\n",
       "      <th rowspan=\"10\" valign=\"top\">A</th>\n",
       "      <th>Alaro</th>\n",
       "      <td>447.929825</td>\n",
       "      <td>7340.000000</td>\n",
       "      <td>50.789474</td>\n",
       "    </tr>\n",
       "    <tr>\n",
       "      <th>Ariany</th>\n",
       "      <td>547.203704</td>\n",
       "      <td>7529.000000</td>\n",
       "      <td>52.537037</td>\n",
       "    </tr>\n",
       "    <tr>\n",
       "      <th>Bellavista</th>\n",
       "      <td>499.148936</td>\n",
       "      <td>7609.000000</td>\n",
       "      <td>46.787234</td>\n",
       "    </tr>\n",
       "    <tr>\n",
       "      <th>Binissalem</th>\n",
       "      <td>535.375000</td>\n",
       "      <td>7350.000000</td>\n",
       "      <td>44.325000</td>\n",
       "    </tr>\n",
       "    <tr>\n",
       "      <th>Eivissa</th>\n",
       "      <td>504.931818</td>\n",
       "      <td>7800.000000</td>\n",
       "      <td>52.227273</td>\n",
       "    </tr>\n",
       "    <tr>\n",
       "      <th>La Savina</th>\n",
       "      <td>468.194444</td>\n",
       "      <td>7870.000000</td>\n",
       "      <td>47.944444</td>\n",
       "    </tr>\n",
       "    <tr>\n",
       "      <th>Mao</th>\n",
       "      <td>528.918919</td>\n",
       "      <td>7701.864865</td>\n",
       "      <td>47.027027</td>\n",
       "    </tr>\n",
       "    <tr>\n",
       "      <th>Palma</th>\n",
       "      <td>471.918367</td>\n",
       "      <td>7009.469388</td>\n",
       "      <td>51.081633</td>\n",
       "    </tr>\n",
       "    <tr>\n",
       "      <th>Pedruscada</th>\n",
       "      <td>475.347826</td>\n",
       "      <td>7590.000000</td>\n",
       "      <td>56.847826</td>\n",
       "    </tr>\n",
       "    <tr>\n",
       "      <th>Ruberts</th>\n",
       "      <td>503.487179</td>\n",
       "      <td>7511.000000</td>\n",
       "      <td>49.128205</td>\n",
       "    </tr>\n",
       "    <tr>\n",
       "      <th rowspan=\"10\" valign=\"top\">B</th>\n",
       "      <th>Alaro</th>\n",
       "      <td>485.333333</td>\n",
       "      <td>7340.000000</td>\n",
       "      <td>52.452381</td>\n",
       "    </tr>\n",
       "    <tr>\n",
       "      <th>Ariany</th>\n",
       "      <td>496.404762</td>\n",
       "      <td>7529.000000</td>\n",
       "      <td>49.166667</td>\n",
       "    </tr>\n",
       "    <tr>\n",
       "      <th>Bellavista</th>\n",
       "      <td>540.851852</td>\n",
       "      <td>7609.000000</td>\n",
       "      <td>44.185185</td>\n",
       "    </tr>\n",
       "    <tr>\n",
       "      <th>Binissalem</th>\n",
       "      <td>560.909091</td>\n",
       "      <td>7350.000000</td>\n",
       "      <td>52.787879</td>\n",
       "    </tr>\n",
       "    <tr>\n",
       "      <th>Eivissa</th>\n",
       "      <td>525.484848</td>\n",
       "      <td>7800.000000</td>\n",
       "      <td>47.393939</td>\n",
       "    </tr>\n",
       "    <tr>\n",
       "      <th>La Savina</th>\n",
       "      <td>524.470588</td>\n",
       "      <td>7870.000000</td>\n",
       "      <td>44.441176</td>\n",
       "    </tr>\n",
       "    <tr>\n",
       "      <th>Mao</th>\n",
       "      <td>497.040816</td>\n",
       "      <td>7701.775510</td>\n",
       "      <td>50.673469</td>\n",
       "    </tr>\n",
       "    <tr>\n",
       "      <th>Palma</th>\n",
       "      <td>493.062500</td>\n",
       "      <td>7008.625000</td>\n",
       "      <td>55.375000</td>\n",
       "    </tr>\n",
       "    <tr>\n",
       "      <th>Pedruscada</th>\n",
       "      <td>486.606061</td>\n",
       "      <td>7590.000000</td>\n",
       "      <td>50.484848</td>\n",
       "    </tr>\n",
       "    <tr>\n",
       "      <th>Ruberts</th>\n",
       "      <td>391.956522</td>\n",
       "      <td>7511.000000</td>\n",
       "      <td>47.391304</td>\n",
       "    </tr>\n",
       "    <tr>\n",
       "      <th rowspan=\"10\" valign=\"top\">C</th>\n",
       "      <th>Alaro</th>\n",
       "      <td>451.625000</td>\n",
       "      <td>7340.000000</td>\n",
       "      <td>39.687500</td>\n",
       "    </tr>\n",
       "    <tr>\n",
       "      <th>Ariany</th>\n",
       "      <td>606.583333</td>\n",
       "      <td>7529.000000</td>\n",
       "      <td>41.833333</td>\n",
       "    </tr>\n",
       "    <tr>\n",
       "      <th>Bellavista</th>\n",
       "      <td>503.111111</td>\n",
       "      <td>7609.000000</td>\n",
       "      <td>37.500000</td>\n",
       "    </tr>\n",
       "    <tr>\n",
       "      <th>Binissalem</th>\n",
       "      <td>478.058824</td>\n",
       "      <td>7350.000000</td>\n",
       "      <td>67.823529</td>\n",
       "    </tr>\n",
       "    <tr>\n",
       "      <th>Eivissa</th>\n",
       "      <td>525.777778</td>\n",
       "      <td>7800.000000</td>\n",
       "      <td>41.444444</td>\n",
       "    </tr>\n",
       "    <tr>\n",
       "      <th>La Savina</th>\n",
       "      <td>508.357143</td>\n",
       "      <td>7870.000000</td>\n",
       "      <td>52.500000</td>\n",
       "    </tr>\n",
       "    <tr>\n",
       "      <th>Mao</th>\n",
       "      <td>433.428571</td>\n",
       "      <td>7701.857143</td>\n",
       "      <td>52.428571</td>\n",
       "    </tr>\n",
       "    <tr>\n",
       "      <th>Palma</th>\n",
       "      <td>371.333333</td>\n",
       "      <td>7011.666667</td>\n",
       "      <td>33.083333</td>\n",
       "    </tr>\n",
       "    <tr>\n",
       "      <th>Pedruscada</th>\n",
       "      <td>554.000000</td>\n",
       "      <td>7590.000000</td>\n",
       "      <td>53.166667</td>\n",
       "    </tr>\n",
       "    <tr>\n",
       "      <th>Ruberts</th>\n",
       "      <td>541.823529</td>\n",
       "      <td>7511.000000</td>\n",
       "      <td>51.235294</td>\n",
       "    </tr>\n",
       "    <tr>\n",
       "      <th rowspan=\"10\" valign=\"top\">D</th>\n",
       "      <th>Alaro</th>\n",
       "      <td>203.200000</td>\n",
       "      <td>7340.000000</td>\n",
       "      <td>66.800000</td>\n",
       "    </tr>\n",
       "    <tr>\n",
       "      <th>Ariany</th>\n",
       "      <td>446.600000</td>\n",
       "      <td>7529.000000</td>\n",
       "      <td>47.200000</td>\n",
       "    </tr>\n",
       "    <tr>\n",
       "      <th>Bellavista</th>\n",
       "      <td>728.833333</td>\n",
       "      <td>7609.000000</td>\n",
       "      <td>56.333333</td>\n",
       "    </tr>\n",
       "    <tr>\n",
       "      <th>Binissalem</th>\n",
       "      <td>470.000000</td>\n",
       "      <td>7350.000000</td>\n",
       "      <td>67.666667</td>\n",
       "    </tr>\n",
       "    <tr>\n",
       "      <th>Eivissa</th>\n",
       "      <td>581.800000</td>\n",
       "      <td>7800.000000</td>\n",
       "      <td>35.800000</td>\n",
       "    </tr>\n",
       "    <tr>\n",
       "      <th>La Savina</th>\n",
       "      <td>455.333333</td>\n",
       "      <td>7870.000000</td>\n",
       "      <td>43.000000</td>\n",
       "    </tr>\n",
       "    <tr>\n",
       "      <th>Mao</th>\n",
       "      <td>467.000000</td>\n",
       "      <td>7703.000000</td>\n",
       "      <td>20.000000</td>\n",
       "    </tr>\n",
       "    <tr>\n",
       "      <th>Palma</th>\n",
       "      <td>613.666667</td>\n",
       "      <td>7008.000000</td>\n",
       "      <td>30.333333</td>\n",
       "    </tr>\n",
       "    <tr>\n",
       "      <th>Pedruscada</th>\n",
       "      <td>496.777778</td>\n",
       "      <td>7590.000000</td>\n",
       "      <td>66.777778</td>\n",
       "    </tr>\n",
       "    <tr>\n",
       "      <th>Ruberts</th>\n",
       "      <td>636.833333</td>\n",
       "      <td>7511.000000</td>\n",
       "      <td>40.000000</td>\n",
       "    </tr>\n",
       "  </tbody>\n",
       "</table>\n",
       "</div>"
      ],
      "text/plain": [
       "                                 Unnamed: 0           CP      Punts\n",
       "Tipus certificat cat Ciutat                                        \n",
       "A                    Alaro       447.929825  7340.000000  50.789474\n",
       "                     Ariany      547.203704  7529.000000  52.537037\n",
       "                     Bellavista  499.148936  7609.000000  46.787234\n",
       "                     Binissalem  535.375000  7350.000000  44.325000\n",
       "                     Eivissa     504.931818  7800.000000  52.227273\n",
       "                     La Savina   468.194444  7870.000000  47.944444\n",
       "                     Mao         528.918919  7701.864865  47.027027\n",
       "                     Palma       471.918367  7009.469388  51.081633\n",
       "                     Pedruscada  475.347826  7590.000000  56.847826\n",
       "                     Ruberts     503.487179  7511.000000  49.128205\n",
       "B                    Alaro       485.333333  7340.000000  52.452381\n",
       "                     Ariany      496.404762  7529.000000  49.166667\n",
       "                     Bellavista  540.851852  7609.000000  44.185185\n",
       "                     Binissalem  560.909091  7350.000000  52.787879\n",
       "                     Eivissa     525.484848  7800.000000  47.393939\n",
       "                     La Savina   524.470588  7870.000000  44.441176\n",
       "                     Mao         497.040816  7701.775510  50.673469\n",
       "                     Palma       493.062500  7008.625000  55.375000\n",
       "                     Pedruscada  486.606061  7590.000000  50.484848\n",
       "                     Ruberts     391.956522  7511.000000  47.391304\n",
       "C                    Alaro       451.625000  7340.000000  39.687500\n",
       "                     Ariany      606.583333  7529.000000  41.833333\n",
       "                     Bellavista  503.111111  7609.000000  37.500000\n",
       "                     Binissalem  478.058824  7350.000000  67.823529\n",
       "                     Eivissa     525.777778  7800.000000  41.444444\n",
       "                     La Savina   508.357143  7870.000000  52.500000\n",
       "                     Mao         433.428571  7701.857143  52.428571\n",
       "                     Palma       371.333333  7011.666667  33.083333\n",
       "                     Pedruscada  554.000000  7590.000000  53.166667\n",
       "                     Ruberts     541.823529  7511.000000  51.235294\n",
       "D                    Alaro       203.200000  7340.000000  66.800000\n",
       "                     Ariany      446.600000  7529.000000  47.200000\n",
       "                     Bellavista  728.833333  7609.000000  56.333333\n",
       "                     Binissalem  470.000000  7350.000000  67.666667\n",
       "                     Eivissa     581.800000  7800.000000  35.800000\n",
       "                     La Savina   455.333333  7870.000000  43.000000\n",
       "                     Mao         467.000000  7703.000000  20.000000\n",
       "                     Palma       613.666667  7008.000000  30.333333\n",
       "                     Pedruscada  496.777778  7590.000000  66.777778\n",
       "                     Ruberts     636.833333  7511.000000  40.000000"
      ]
     },
     "execution_count": 67,
     "metadata": {},
     "output_type": "execute_result"
    }
   ],
   "source": [
    "dftc = df.groupby([\"Tipus certificat cat\",\"Ciutat\"]).mean()\n",
    "dftc"
   ]
  },
  {
   "attachments": {},
   "cell_type": "markdown",
   "metadata": {},
   "source": [
    "Observacions\n",
    "- És necessari la mitja de \"CP\"?\n",
    "  \n",
    "### 4.2 Activitat\n"
   ]
  },
  {
   "cell_type": "code",
   "execution_count": 41,
   "metadata": {},
   "outputs": [],
   "source": [
    "# 4.2.1 Fes que només surti la columna de \"Punts\" a l'agrupació anterior.\n"
   ]
  },
  {
   "cell_type": "code",
   "execution_count": 42,
   "metadata": {},
   "outputs": [],
   "source": [
    "# 4.2.2 Pots seleccionar només les mostres de Mao."
   ]
  },
  {
   "cell_type": "code",
   "execution_count": 43,
   "metadata": {},
   "outputs": [],
   "source": [
    "# 4.2.3 Com podries calcular la mida de cada grup?"
   ]
  },
  {
   "attachments": {},
   "cell_type": "markdown",
   "metadata": {},
   "source": [
    "## MultIndex \n",
    "\n",
    "A vegades un índex no és suficient per expressar la meta-informació que identifica una o algunes columnes. Per exemple, una coordenada està formada per la latitud i longitud.\n",
    "\n",
    "Un `multindex` és una jerarquia d'índexs.\n",
    "\n",
    "Una agrupació amb diferents criteris origina un multiindex"
   ]
  },
  {
   "cell_type": "code",
   "execution_count": 45,
   "metadata": {},
   "outputs": [
    {
     "data": {
      "text/plain": [
       "MultiIndex([('A',      'Alaro'),\n",
       "            ('A',     'Ariany'),\n",
       "            ('A', 'Bellavista'),\n",
       "            ('A', 'Binissalem'),\n",
       "            ('A',    'Eivissa'),\n",
       "            ('A',  'La Savina'),\n",
       "            ('A',        'Mao'),\n",
       "            ('A',      'Palma'),\n",
       "            ('A', 'Pedruscada'),\n",
       "            ('A',    'Ruberts'),\n",
       "            ('B',      'Alaro'),\n",
       "            ('B',     'Ariany'),\n",
       "            ('B', 'Bellavista'),\n",
       "            ('B', 'Binissalem'),\n",
       "            ('B',    'Eivissa'),\n",
       "            ('B',  'La Savina'),\n",
       "            ('B',        'Mao'),\n",
       "            ('B',      'Palma'),\n",
       "            ('B', 'Pedruscada'),\n",
       "            ('B',    'Ruberts'),\n",
       "            ('C',      'Alaro'),\n",
       "            ('C',     'Ariany'),\n",
       "            ('C', 'Bellavista'),\n",
       "            ('C', 'Binissalem'),\n",
       "            ('C',    'Eivissa'),\n",
       "            ('C',  'La Savina'),\n",
       "            ('C',        'Mao'),\n",
       "            ('C',      'Palma'),\n",
       "            ('C', 'Pedruscada'),\n",
       "            ('C',    'Ruberts'),\n",
       "            ('D',      'Alaro'),\n",
       "            ('D',     'Ariany'),\n",
       "            ('D', 'Bellavista'),\n",
       "            ('D', 'Binissalem'),\n",
       "            ('D',    'Eivissa'),\n",
       "            ('D',  'La Savina'),\n",
       "            ('D',        'Mao'),\n",
       "            ('D',      'Palma'),\n",
       "            ('D', 'Pedruscada'),\n",
       "            ('D',    'Ruberts')],\n",
       "           names=['Tipus certificat cat', 'Ciutat'])"
      ]
     },
     "execution_count": 45,
     "metadata": {},
     "output_type": "execute_result"
    }
   ],
   "source": [
    "dftc = df.groupby([\"Tipus certificat cat\",\"Ciutat\"]).mean()\n",
    "dftc.index"
   ]
  },
  {
   "cell_type": "code",
   "execution_count": 46,
   "metadata": {},
   "outputs": [
    {
     "data": {
      "text/html": [
       "<div>\n",
       "<style scoped>\n",
       "    .dataframe tbody tr th:only-of-type {\n",
       "        vertical-align: middle;\n",
       "    }\n",
       "\n",
       "    .dataframe tbody tr th {\n",
       "        vertical-align: top;\n",
       "    }\n",
       "\n",
       "    .dataframe thead th {\n",
       "        text-align: right;\n",
       "    }\n",
       "</style>\n",
       "<table border=\"1\" class=\"dataframe\">\n",
       "  <thead>\n",
       "    <tr style=\"text-align: right;\">\n",
       "      <th></th>\n",
       "      <th>Unnamed: 0</th>\n",
       "      <th>CP</th>\n",
       "      <th>Punts</th>\n",
       "    </tr>\n",
       "    <tr>\n",
       "      <th>Ciutat</th>\n",
       "      <th></th>\n",
       "      <th></th>\n",
       "      <th></th>\n",
       "    </tr>\n",
       "  </thead>\n",
       "  <tbody>\n",
       "    <tr>\n",
       "      <th>Alaro</th>\n",
       "      <td>447.929825</td>\n",
       "      <td>7340.000000</td>\n",
       "      <td>50.789474</td>\n",
       "    </tr>\n",
       "    <tr>\n",
       "      <th>Ariany</th>\n",
       "      <td>547.203704</td>\n",
       "      <td>7529.000000</td>\n",
       "      <td>52.537037</td>\n",
       "    </tr>\n",
       "    <tr>\n",
       "      <th>Bellavista</th>\n",
       "      <td>499.148936</td>\n",
       "      <td>7609.000000</td>\n",
       "      <td>46.787234</td>\n",
       "    </tr>\n",
       "    <tr>\n",
       "      <th>Binissalem</th>\n",
       "      <td>535.375000</td>\n",
       "      <td>7350.000000</td>\n",
       "      <td>44.325000</td>\n",
       "    </tr>\n",
       "    <tr>\n",
       "      <th>Eivissa</th>\n",
       "      <td>504.931818</td>\n",
       "      <td>7800.000000</td>\n",
       "      <td>52.227273</td>\n",
       "    </tr>\n",
       "    <tr>\n",
       "      <th>La Savina</th>\n",
       "      <td>468.194444</td>\n",
       "      <td>7870.000000</td>\n",
       "      <td>47.944444</td>\n",
       "    </tr>\n",
       "    <tr>\n",
       "      <th>Mao</th>\n",
       "      <td>528.918919</td>\n",
       "      <td>7701.864865</td>\n",
       "      <td>47.027027</td>\n",
       "    </tr>\n",
       "    <tr>\n",
       "      <th>Palma</th>\n",
       "      <td>471.918367</td>\n",
       "      <td>7009.469388</td>\n",
       "      <td>51.081633</td>\n",
       "    </tr>\n",
       "    <tr>\n",
       "      <th>Pedruscada</th>\n",
       "      <td>475.347826</td>\n",
       "      <td>7590.000000</td>\n",
       "      <td>56.847826</td>\n",
       "    </tr>\n",
       "    <tr>\n",
       "      <th>Ruberts</th>\n",
       "      <td>503.487179</td>\n",
       "      <td>7511.000000</td>\n",
       "      <td>49.128205</td>\n",
       "    </tr>\n",
       "  </tbody>\n",
       "</table>\n",
       "</div>"
      ],
      "text/plain": [
       "            Unnamed: 0           CP      Punts\n",
       "Ciutat                                        \n",
       "Alaro       447.929825  7340.000000  50.789474\n",
       "Ariany      547.203704  7529.000000  52.537037\n",
       "Bellavista  499.148936  7609.000000  46.787234\n",
       "Binissalem  535.375000  7350.000000  44.325000\n",
       "Eivissa     504.931818  7800.000000  52.227273\n",
       "La Savina   468.194444  7870.000000  47.944444\n",
       "Mao         528.918919  7701.864865  47.027027\n",
       "Palma       471.918367  7009.469388  51.081633\n",
       "Pedruscada  475.347826  7590.000000  56.847826\n",
       "Ruberts     503.487179  7511.000000  49.128205"
      ]
     },
     "execution_count": 46,
     "metadata": {},
     "output_type": "execute_result"
    }
   ],
   "source": [
    "dftc.loc[\"A\"] # primer index"
   ]
  },
  {
   "cell_type": "code",
   "execution_count": 47,
   "metadata": {},
   "outputs": [
    {
     "ename": "KeyError",
     "evalue": "'Mao'",
     "output_type": "error",
     "traceback": [
      "\u001b[0;31m---------------------------------------------------------------------------\u001b[0m",
      "\u001b[0;31mKeyError\u001b[0m                                  Traceback (most recent call last)",
      "File \u001b[0;32m~/.pyenv/versions/3.9.7/envs/my397/lib/python3.9/site-packages/pandas/core/indexes/base.py:3621\u001b[0m, in \u001b[0;36mIndex.get_loc\u001b[0;34m(self, key, method, tolerance)\u001b[0m\n\u001b[1;32m   3620\u001b[0m \u001b[39mtry\u001b[39;00m:\n\u001b[0;32m-> 3621\u001b[0m     \u001b[39mreturn\u001b[39;00m \u001b[39mself\u001b[39;49m\u001b[39m.\u001b[39;49m_engine\u001b[39m.\u001b[39;49mget_loc(casted_key)\n\u001b[1;32m   3622\u001b[0m \u001b[39mexcept\u001b[39;00m \u001b[39mKeyError\u001b[39;00m \u001b[39mas\u001b[39;00m err:\n",
      "File \u001b[0;32mpandas/_libs/index.pyx:136\u001b[0m, in \u001b[0;36mpandas._libs.index.IndexEngine.get_loc\u001b[0;34m()\u001b[0m\n",
      "File \u001b[0;32mpandas/_libs/index.pyx:163\u001b[0m, in \u001b[0;36mpandas._libs.index.IndexEngine.get_loc\u001b[0;34m()\u001b[0m\n",
      "File \u001b[0;32mpandas/_libs/hashtable_class_helper.pxi:5198\u001b[0m, in \u001b[0;36mpandas._libs.hashtable.PyObjectHashTable.get_item\u001b[0;34m()\u001b[0m\n",
      "File \u001b[0;32mpandas/_libs/hashtable_class_helper.pxi:5206\u001b[0m, in \u001b[0;36mpandas._libs.hashtable.PyObjectHashTable.get_item\u001b[0;34m()\u001b[0m\n",
      "\u001b[0;31mKeyError\u001b[0m: 'Mao'",
      "\nThe above exception was the direct cause of the following exception:\n",
      "\u001b[0;31mKeyError\u001b[0m                                  Traceback (most recent call last)",
      "\u001b[1;32m/Users/isaac/Projects/TallerPythonFEE/lessons/4/4_PandasGroups.ipynb Cell 51\u001b[0m in \u001b[0;36m<cell line: 1>\u001b[0;34m()\u001b[0m\n\u001b[0;32m----> <a href='vscode-notebook-cell:/Users/isaac/Projects/TallerPythonFEE/lessons/4/4_PandasGroups.ipynb#X50sZmlsZQ%3D%3D?line=0'>1</a>\u001b[0m dftc\u001b[39m.\u001b[39;49mloc[\u001b[39m\"\u001b[39;49m\u001b[39mMao\u001b[39;49m\u001b[39m\"\u001b[39;49m]\n",
      "File \u001b[0;32m~/.pyenv/versions/3.9.7/envs/my397/lib/python3.9/site-packages/pandas/core/indexing.py:967\u001b[0m, in \u001b[0;36m_LocationIndexer.__getitem__\u001b[0;34m(self, key)\u001b[0m\n\u001b[1;32m    964\u001b[0m axis \u001b[39m=\u001b[39m \u001b[39mself\u001b[39m\u001b[39m.\u001b[39maxis \u001b[39mor\u001b[39;00m \u001b[39m0\u001b[39m\n\u001b[1;32m    966\u001b[0m maybe_callable \u001b[39m=\u001b[39m com\u001b[39m.\u001b[39mapply_if_callable(key, \u001b[39mself\u001b[39m\u001b[39m.\u001b[39mobj)\n\u001b[0;32m--> 967\u001b[0m \u001b[39mreturn\u001b[39;00m \u001b[39mself\u001b[39;49m\u001b[39m.\u001b[39;49m_getitem_axis(maybe_callable, axis\u001b[39m=\u001b[39;49maxis)\n",
      "File \u001b[0;32m~/.pyenv/versions/3.9.7/envs/my397/lib/python3.9/site-packages/pandas/core/indexing.py:1202\u001b[0m, in \u001b[0;36m_LocIndexer._getitem_axis\u001b[0;34m(self, key, axis)\u001b[0m\n\u001b[1;32m   1200\u001b[0m \u001b[39m# fall thru to straight lookup\u001b[39;00m\n\u001b[1;32m   1201\u001b[0m \u001b[39mself\u001b[39m\u001b[39m.\u001b[39m_validate_key(key, axis)\n\u001b[0;32m-> 1202\u001b[0m \u001b[39mreturn\u001b[39;00m \u001b[39mself\u001b[39;49m\u001b[39m.\u001b[39;49m_get_label(key, axis\u001b[39m=\u001b[39;49maxis)\n",
      "File \u001b[0;32m~/.pyenv/versions/3.9.7/envs/my397/lib/python3.9/site-packages/pandas/core/indexing.py:1153\u001b[0m, in \u001b[0;36m_LocIndexer._get_label\u001b[0;34m(self, label, axis)\u001b[0m\n\u001b[1;32m   1151\u001b[0m \u001b[39mdef\u001b[39;00m \u001b[39m_get_label\u001b[39m(\u001b[39mself\u001b[39m, label, axis: \u001b[39mint\u001b[39m):\n\u001b[1;32m   1152\u001b[0m     \u001b[39m# GH#5667 this will fail if the label is not present in the axis.\u001b[39;00m\n\u001b[0;32m-> 1153\u001b[0m     \u001b[39mreturn\u001b[39;00m \u001b[39mself\u001b[39;49m\u001b[39m.\u001b[39;49mobj\u001b[39m.\u001b[39;49mxs(label, axis\u001b[39m=\u001b[39;49maxis)\n",
      "File \u001b[0;32m~/.pyenv/versions/3.9.7/envs/my397/lib/python3.9/site-packages/pandas/core/generic.py:3857\u001b[0m, in \u001b[0;36mNDFrame.xs\u001b[0;34m(self, key, axis, level, drop_level)\u001b[0m\n\u001b[1;32m   3854\u001b[0m \u001b[39mself\u001b[39m\u001b[39m.\u001b[39m_consolidate_inplace()\n\u001b[1;32m   3856\u001b[0m \u001b[39mif\u001b[39;00m \u001b[39misinstance\u001b[39m(index, MultiIndex):\n\u001b[0;32m-> 3857\u001b[0m     loc, new_index \u001b[39m=\u001b[39m index\u001b[39m.\u001b[39;49m_get_loc_level(key, level\u001b[39m=\u001b[39;49m\u001b[39m0\u001b[39;49m)\n\u001b[1;32m   3858\u001b[0m     \u001b[39mif\u001b[39;00m \u001b[39mnot\u001b[39;00m drop_level:\n\u001b[1;32m   3859\u001b[0m         \u001b[39mif\u001b[39;00m lib\u001b[39m.\u001b[39mis_integer(loc):\n",
      "File \u001b[0;32m~/.pyenv/versions/3.9.7/envs/my397/lib/python3.9/site-packages/pandas/core/indexes/multi.py:3113\u001b[0m, in \u001b[0;36mMultiIndex._get_loc_level\u001b[0;34m(self, key, level)\u001b[0m\n\u001b[1;32m   3111\u001b[0m         \u001b[39mreturn\u001b[39;00m indexer, maybe_mi_droplevels(indexer, ilevels)\n\u001b[1;32m   3112\u001b[0m \u001b[39melse\u001b[39;00m:\n\u001b[0;32m-> 3113\u001b[0m     indexer \u001b[39m=\u001b[39m \u001b[39mself\u001b[39;49m\u001b[39m.\u001b[39;49m_get_level_indexer(key, level\u001b[39m=\u001b[39;49mlevel)\n\u001b[1;32m   3114\u001b[0m     \u001b[39mif\u001b[39;00m (\n\u001b[1;32m   3115\u001b[0m         \u001b[39misinstance\u001b[39m(key, \u001b[39mstr\u001b[39m)\n\u001b[1;32m   3116\u001b[0m         \u001b[39mand\u001b[39;00m \u001b[39mself\u001b[39m\u001b[39m.\u001b[39mlevels[level]\u001b[39m.\u001b[39m_supports_partial_string_indexing\n\u001b[1;32m   3117\u001b[0m     ):\n\u001b[1;32m   3118\u001b[0m         \u001b[39m# check to see if we did an exact lookup vs sliced\u001b[39;00m\n\u001b[1;32m   3119\u001b[0m         check \u001b[39m=\u001b[39m \u001b[39mself\u001b[39m\u001b[39m.\u001b[39mlevels[level]\u001b[39m.\u001b[39mget_loc(key)\n",
      "File \u001b[0;32m~/.pyenv/versions/3.9.7/envs/my397/lib/python3.9/site-packages/pandas/core/indexes/multi.py:3222\u001b[0m, in \u001b[0;36mMultiIndex._get_level_indexer\u001b[0;34m(self, key, level, indexer)\u001b[0m\n\u001b[1;32m   3218\u001b[0m         \u001b[39mreturn\u001b[39;00m \u001b[39mslice\u001b[39m(i, j, step)\n\u001b[1;32m   3220\u001b[0m \u001b[39melse\u001b[39;00m:\n\u001b[0;32m-> 3222\u001b[0m     idx \u001b[39m=\u001b[39m \u001b[39mself\u001b[39;49m\u001b[39m.\u001b[39;49m_get_loc_single_level_index(level_index, key)\n\u001b[1;32m   3224\u001b[0m     \u001b[39mif\u001b[39;00m level \u001b[39m>\u001b[39m \u001b[39m0\u001b[39m \u001b[39mor\u001b[39;00m \u001b[39mself\u001b[39m\u001b[39m.\u001b[39m_lexsort_depth \u001b[39m==\u001b[39m \u001b[39m0\u001b[39m:\n\u001b[1;32m   3225\u001b[0m         \u001b[39m# Desired level is not sorted\u001b[39;00m\n\u001b[1;32m   3226\u001b[0m         \u001b[39mif\u001b[39;00m \u001b[39misinstance\u001b[39m(idx, \u001b[39mslice\u001b[39m):\n\u001b[1;32m   3227\u001b[0m             \u001b[39m# test_get_loc_partial_timestamp_multiindex\u001b[39;00m\n",
      "File \u001b[0;32m~/.pyenv/versions/3.9.7/envs/my397/lib/python3.9/site-packages/pandas/core/indexes/multi.py:2802\u001b[0m, in \u001b[0;36mMultiIndex._get_loc_single_level_index\u001b[0;34m(self, level_index, key)\u001b[0m\n\u001b[1;32m   2800\u001b[0m     \u001b[39mreturn\u001b[39;00m \u001b[39m-\u001b[39m\u001b[39m1\u001b[39m\n\u001b[1;32m   2801\u001b[0m \u001b[39melse\u001b[39;00m:\n\u001b[0;32m-> 2802\u001b[0m     \u001b[39mreturn\u001b[39;00m level_index\u001b[39m.\u001b[39;49mget_loc(key)\n",
      "File \u001b[0;32m~/.pyenv/versions/3.9.7/envs/my397/lib/python3.9/site-packages/pandas/core/indexes/base.py:3623\u001b[0m, in \u001b[0;36mIndex.get_loc\u001b[0;34m(self, key, method, tolerance)\u001b[0m\n\u001b[1;32m   3621\u001b[0m     \u001b[39mreturn\u001b[39;00m \u001b[39mself\u001b[39m\u001b[39m.\u001b[39m_engine\u001b[39m.\u001b[39mget_loc(casted_key)\n\u001b[1;32m   3622\u001b[0m \u001b[39mexcept\u001b[39;00m \u001b[39mKeyError\u001b[39;00m \u001b[39mas\u001b[39;00m err:\n\u001b[0;32m-> 3623\u001b[0m     \u001b[39mraise\u001b[39;00m \u001b[39mKeyError\u001b[39;00m(key) \u001b[39mfrom\u001b[39;00m \u001b[39merr\u001b[39;00m\n\u001b[1;32m   3624\u001b[0m \u001b[39mexcept\u001b[39;00m \u001b[39mTypeError\u001b[39;00m:\n\u001b[1;32m   3625\u001b[0m     \u001b[39m# If we have a listlike key, _check_indexing_error will raise\u001b[39;00m\n\u001b[1;32m   3626\u001b[0m     \u001b[39m#  InvalidIndexError. Otherwise we fall through and re-raise\u001b[39;00m\n\u001b[1;32m   3627\u001b[0m     \u001b[39m#  the TypeError.\u001b[39;00m\n\u001b[1;32m   3628\u001b[0m     \u001b[39mself\u001b[39m\u001b[39m.\u001b[39m_check_indexing_error(key)\n",
      "\u001b[0;31mKeyError\u001b[0m: 'Mao'"
     ]
    }
   ],
   "source": [
    "dftc.loc[\"Mao\"] # dependent index"
   ]
  },
  {
   "cell_type": "code",
   "execution_count": 53,
   "metadata": {},
   "outputs": [
    {
     "data": {
      "text/plain": [
       "Unnamed: 0     528.918919\n",
       "CP            7701.864865\n",
       "Punts           47.027027\n",
       "Name: (A, Mao), dtype: float64"
      ]
     },
     "execution_count": 53,
     "metadata": {},
     "output_type": "execute_result"
    }
   ],
   "source": [
    "dftc.loc[(\"A\",\"Mao\")]"
   ]
  },
  {
   "cell_type": "code",
   "execution_count": 55,
   "metadata": {},
   "outputs": [
    {
     "ename": "SyntaxError",
     "evalue": "invalid syntax (837983254.py, line 2)",
     "output_type": "error",
     "traceback": [
      "\u001b[0;36m  Input \u001b[0;32mIn [55]\u001b[0;36m\u001b[0m\n\u001b[0;31m    dftc.loc([:,\"Mao\"])\u001b[0m\n\u001b[0m              ^\u001b[0m\n\u001b[0;31mSyntaxError\u001b[0m\u001b[0;31m:\u001b[0m invalid syntax\n"
     ]
    }
   ],
   "source": [
    "#Podem seleccionar totes les Categories de Mao\n",
    "dftc.loc[[:,\"Mao\"]]"
   ]
  },
  {
   "cell_type": "code",
   "execution_count": 56,
   "metadata": {},
   "outputs": [
    {
     "data": {
      "text/html": [
       "<div>\n",
       "<style scoped>\n",
       "    .dataframe tbody tr th:only-of-type {\n",
       "        vertical-align: middle;\n",
       "    }\n",
       "\n",
       "    .dataframe tbody tr th {\n",
       "        vertical-align: top;\n",
       "    }\n",
       "\n",
       "    .dataframe thead th {\n",
       "        text-align: right;\n",
       "    }\n",
       "</style>\n",
       "<table border=\"1\" class=\"dataframe\">\n",
       "  <thead>\n",
       "    <tr style=\"text-align: right;\">\n",
       "      <th></th>\n",
       "      <th></th>\n",
       "      <th>Unnamed: 0</th>\n",
       "      <th>CP</th>\n",
       "      <th>Punts</th>\n",
       "    </tr>\n",
       "    <tr>\n",
       "      <th>Tipus certificat cat</th>\n",
       "      <th>Ciutat</th>\n",
       "      <th></th>\n",
       "      <th></th>\n",
       "      <th></th>\n",
       "    </tr>\n",
       "  </thead>\n",
       "  <tbody>\n",
       "    <tr>\n",
       "      <th>A</th>\n",
       "      <th>Mao</th>\n",
       "      <td>528.918919</td>\n",
       "      <td>7701.864865</td>\n",
       "      <td>47.027027</td>\n",
       "    </tr>\n",
       "    <tr>\n",
       "      <th>B</th>\n",
       "      <th>Mao</th>\n",
       "      <td>497.040816</td>\n",
       "      <td>7701.775510</td>\n",
       "      <td>50.673469</td>\n",
       "    </tr>\n",
       "    <tr>\n",
       "      <th>C</th>\n",
       "      <th>Mao</th>\n",
       "      <td>433.428571</td>\n",
       "      <td>7701.857143</td>\n",
       "      <td>52.428571</td>\n",
       "    </tr>\n",
       "    <tr>\n",
       "      <th>D</th>\n",
       "      <th>Mao</th>\n",
       "      <td>467.000000</td>\n",
       "      <td>7703.000000</td>\n",
       "      <td>20.000000</td>\n",
       "    </tr>\n",
       "  </tbody>\n",
       "</table>\n",
       "</div>"
      ],
      "text/plain": [
       "                             Unnamed: 0           CP      Punts\n",
       "Tipus certificat cat Ciutat                                    \n",
       "A                    Mao     528.918919  7701.864865  47.027027\n",
       "B                    Mao     497.040816  7701.775510  50.673469\n",
       "C                    Mao     433.428571  7701.857143  52.428571\n",
       "D                    Mao     467.000000  7703.000000  20.000000"
      ]
     },
     "execution_count": 56,
     "metadata": {},
     "output_type": "execute_result"
    }
   ],
   "source": [
    "# Una manera més elegant és:\n",
    "dftc.loc[pd.IndexSlice[:, 'Mao'],:] # Quins parametres n'hi ha? LOC i IndexSlice\n",
    "# https://pandas.pydata.org/docs/reference/api/pandas.IndexSlice.html"
   ]
  },
  {
   "cell_type": "code",
   "execution_count": 83,
   "metadata": {},
   "outputs": [
    {
     "data": {
      "text/plain": [
       "Tipus certificat cat  Ciutat\n",
       "B                     Mao       50.673469\n",
       "C                     Mao       52.428571\n",
       "Name: Punts, dtype: float64"
      ]
     },
     "execution_count": 83,
     "metadata": {},
     "output_type": "execute_result"
    }
   ],
   "source": [
    "dfBCMao = dftc.loc[pd.IndexSlice[[\"B\",\"C\"], 'Mao'],\"Punts\"]\n",
    "dfBCMao"
   ]
  },
  {
   "attachments": {},
   "cell_type": "markdown",
   "metadata": {},
   "source": [
    "#### Una altra opció és `aplanar` o `esborrar` l'índex"
   ]
  },
  {
   "cell_type": "code",
   "execution_count": 89,
   "metadata": {},
   "outputs": [
    {
     "name": "stdout",
     "output_type": "stream",
     "text": [
      "   Tipus certificat cat      Ciutat  Unnamed: 0           CP      Punts\n",
      "0                     A       Alaro  447.929825  7340.000000  50.789474\n",
      "1                     A      Ariany  547.203704  7529.000000  52.537037\n",
      "2                     A  Bellavista  499.148936  7609.000000  46.787234\n",
      "3                     A  Binissalem  535.375000  7350.000000  44.325000\n",
      "4                     A     Eivissa  504.931818  7800.000000  52.227273\n",
      "5                     A   La Savina  468.194444  7870.000000  47.944444\n",
      "6                     A         Mao  528.918919  7701.864865  47.027027\n",
      "7                     A       Palma  471.918367  7009.469388  51.081633\n",
      "8                     A  Pedruscada  475.347826  7590.000000  56.847826\n",
      "9                     A     Ruberts  503.487179  7511.000000  49.128205\n",
      "10                    B       Alaro  485.333333  7340.000000  52.452381\n",
      "11                    B      Ariany  496.404762  7529.000000  49.166667\n",
      "12                    B  Bellavista  540.851852  7609.000000  44.185185\n",
      "13                    B  Binissalem  560.909091  7350.000000  52.787879\n",
      "14                    B     Eivissa  525.484848  7800.000000  47.393939\n",
      "15                    B   La Savina  524.470588  7870.000000  44.441176\n",
      "16                    B         Mao  497.040816  7701.775510  50.673469\n",
      "17                    B       Palma  493.062500  7008.625000  55.375000\n",
      "18                    B  Pedruscada  486.606061  7590.000000  50.484848\n",
      "19                    B     Ruberts  391.956522  7511.000000  47.391304\n",
      "20                    C       Alaro  451.625000  7340.000000  39.687500\n",
      "21                    C      Ariany  606.583333  7529.000000  41.833333\n",
      "22                    C  Bellavista  503.111111  7609.000000  37.500000\n",
      "23                    C  Binissalem  478.058824  7350.000000  67.823529\n",
      "24                    C     Eivissa  525.777778  7800.000000  41.444444\n",
      "25                    C   La Savina  508.357143  7870.000000  52.500000\n",
      "26                    C         Mao  433.428571  7701.857143  52.428571\n",
      "27                    C       Palma  371.333333  7011.666667  33.083333\n",
      "28                    C  Pedruscada  554.000000  7590.000000  53.166667\n",
      "29                    C     Ruberts  541.823529  7511.000000  51.235294\n",
      "30                    D       Alaro  203.200000  7340.000000  66.800000\n",
      "31                    D      Ariany  446.600000  7529.000000  47.200000\n",
      "32                    D  Bellavista  728.833333  7609.000000  56.333333\n",
      "33                    D  Binissalem  470.000000  7350.000000  67.666667\n",
      "34                    D     Eivissa  581.800000  7800.000000  35.800000\n",
      "35                    D   La Savina  455.333333  7870.000000  43.000000\n",
      "36                    D         Mao  467.000000  7703.000000  20.000000\n",
      "37                    D       Palma  613.666667  7008.000000  30.333333\n",
      "38                    D  Pedruscada  496.777778  7590.000000  66.777778\n",
      "39                    D     Ruberts  636.833333  7511.000000  40.000000\n"
     ]
    }
   ],
   "source": [
    "dftc = df.groupby([\"Tipus certificat cat\",\"Ciutat\"]).mean().reset_index()\n",
    "print(dftc)"
   ]
  },
  {
   "cell_type": "code",
   "execution_count": 93,
   "metadata": {},
   "outputs": [
    {
     "name": "stdout",
     "output_type": "stream",
     "text": [
      "   Tipus certificat cat Ciutat  Unnamed: 0           CP      Punts\n",
      "6                     A    Mao  528.918919  7701.864865  47.027027\n",
      "16                    B    Mao  497.040816  7701.775510  50.673469\n",
      "26                    C    Mao  433.428571  7701.857143  52.428571\n",
      "36                    D    Mao  467.000000  7703.000000  20.000000\n"
     ]
    }
   ],
   "source": [
    "print(dftc[dftc[\"Ciutat\"]==\"Mao\"])"
   ]
  },
  {
   "cell_type": "code",
   "execution_count": 96,
   "metadata": {},
   "outputs": [
    {
     "name": "stdout",
     "output_type": "stream",
     "text": [
      "6     47.027027\n",
      "16    50.673469\n",
      "26    52.428571\n",
      "36    20.000000\n",
      "Name: Punts, dtype: float64\n"
     ]
    }
   ],
   "source": [
    "print(dftc[dftc[\"Ciutat\"]==\"Mao\"].Punts) # Quina informació trobeu?\n"
   ]
  },
  {
   "attachments": {},
   "cell_type": "markdown",
   "metadata": {},
   "source": [
    "### Activitat. 4.3"
   ]
  },
  {
   "cell_type": "code",
   "execution_count": 59,
   "metadata": {},
   "outputs": [],
   "source": [
    "# Com podem agafar només les categories B i C de la ciutat de Mao?"
   ]
  },
  {
   "attachments": {},
   "cell_type": "markdown",
   "metadata": {},
   "source": [
    "## Agregacions avançades\n",
    "\n",
    "Damunt d'una agregació podem fer operacions diferents a les aritmètiques. <br/> \n",
    "\n",
    "Per exemple, si volem crear un histograma de la distribució de tipus de certificat per Ciutat i CP, necessitem crear una llista per a cada grup."
   ]
  },
  {
   "cell_type": "code",
   "execution_count": 60,
   "metadata": {},
   "outputs": [
    {
     "data": {
      "text/html": [
       "<div>\n",
       "<style scoped>\n",
       "    .dataframe tbody tr th:only-of-type {\n",
       "        vertical-align: middle;\n",
       "    }\n",
       "\n",
       "    .dataframe tbody tr th {\n",
       "        vertical-align: top;\n",
       "    }\n",
       "\n",
       "    .dataframe thead th {\n",
       "        text-align: right;\n",
       "    }\n",
       "</style>\n",
       "<table border=\"1\" class=\"dataframe\">\n",
       "  <thead>\n",
       "    <tr style=\"text-align: right;\">\n",
       "      <th></th>\n",
       "      <th>Unnamed: 0</th>\n",
       "      <th>Dni</th>\n",
       "      <th>Nom</th>\n",
       "      <th>CP</th>\n",
       "      <th>Ciutat</th>\n",
       "      <th>Sexe</th>\n",
       "      <th>Tipus certificat cat</th>\n",
       "      <th>Punts</th>\n",
       "    </tr>\n",
       "  </thead>\n",
       "  <tbody>\n",
       "    <tr>\n",
       "      <th>0</th>\n",
       "      <td>0</td>\n",
       "      <td>H61414629</td>\n",
       "      <td>María Dolores Arjona Jove</td>\n",
       "      <td>7800</td>\n",
       "      <td>Eivissa</td>\n",
       "      <td>M</td>\n",
       "      <td>B</td>\n",
       "      <td>73</td>\n",
       "    </tr>\n",
       "    <tr>\n",
       "      <th>1</th>\n",
       "      <td>1</td>\n",
       "      <td>S3138381C</td>\n",
       "      <td>Núria Quirós</td>\n",
       "      <td>7511</td>\n",
       "      <td>Ruberts</td>\n",
       "      <td>F</td>\n",
       "      <td>A</td>\n",
       "      <td>40</td>\n",
       "    </tr>\n",
       "    <tr>\n",
       "      <th>2</th>\n",
       "      <td>2</td>\n",
       "      <td>J8698188C</td>\n",
       "      <td>Miguel José María Gil Vargas</td>\n",
       "      <td>7340</td>\n",
       "      <td>Alaro</td>\n",
       "      <td>M</td>\n",
       "      <td>A</td>\n",
       "      <td>45</td>\n",
       "    </tr>\n",
       "    <tr>\n",
       "      <th>3</th>\n",
       "      <td>3</td>\n",
       "      <td>A48821615</td>\n",
       "      <td>Jordi Chaves Bustamante</td>\n",
       "      <td>7609</td>\n",
       "      <td>Bellavista</td>\n",
       "      <td>F</td>\n",
       "      <td>B</td>\n",
       "      <td>40</td>\n",
       "    </tr>\n",
       "    <tr>\n",
       "      <th>4</th>\n",
       "      <td>4</td>\n",
       "      <td>U0247281I</td>\n",
       "      <td>Jana Rosa Collado Menéndez</td>\n",
       "      <td>7006</td>\n",
       "      <td>Palma</td>\n",
       "      <td>M</td>\n",
       "      <td>B</td>\n",
       "      <td>86</td>\n",
       "    </tr>\n",
       "  </tbody>\n",
       "</table>\n",
       "</div>"
      ],
      "text/plain": [
       "   Unnamed: 0        Dni                           Nom    CP      Ciutat Sexe  \\\n",
       "0           0  H61414629     María Dolores Arjona Jove  7800     Eivissa    M   \n",
       "1           1  S3138381C                  Núria Quirós  7511     Ruberts    F   \n",
       "2           2  J8698188C  Miguel José María Gil Vargas  7340       Alaro    M   \n",
       "3           3  A48821615       Jordi Chaves Bustamante  7609  Bellavista    F   \n",
       "4           4  U0247281I    Jana Rosa Collado Menéndez  7006       Palma    M   \n",
       "\n",
       "  Tipus certificat cat  Punts  \n",
       "0                    B     73  \n",
       "1                    A     40  \n",
       "2                    A     45  \n",
       "3                    B     40  \n",
       "4                    B     86  "
      ]
     },
     "execution_count": 60,
     "metadata": {},
     "output_type": "execute_result"
    }
   ],
   "source": [
    "# Obtindre un llistat de certificats per agrupació de ciutat i codi postal\n",
    "df = pd.read_csv(\"data/data_groups.csv\") \n",
    "df.head()"
   ]
  },
  {
   "cell_type": "code",
   "execution_count": 61,
   "metadata": {},
   "outputs": [
    {
     "data": {
      "text/plain": [
       "Ciutat      CP  \n",
       "Alaro       7340    [A, C, B, A, A, B, A, D, A, B, A, B, B, A, B, ...\n",
       "Ariany      7529    [B, A, B, A, A, B, A, B, A, B, A, A, C, A, B, ...\n",
       "Bellavista  7609    [B, C, A, A, A, C, A, A, B, A, A, A, B, A, C, ...\n",
       "Binissalem  7350    [A, B, B, C, C, A, A, A, C, A, C, A, B, B, D, ...\n",
       "Eivissa     7800    [B, A, A, B, B, B, A, A, A, A, B, C, A, A, B, ...\n",
       "La Savina   7870    [A, A, A, B, A, A, B, B, A, A, B, A, B, B, A, ...\n",
       "Mao         7701    [B, C, B, C, B, C, A, B, B, B, A, C, C, A, C, ...\n",
       "            7703    [B, A, B, C, A, A, B, A, C, B, A, B, C, A, B, ...\n",
       "Palma       7006    [B, A, B, B, A, A, A, B, B, A, A, B, B, A, B, ...\n",
       "            7009    [A, D, A, B, C, A, A, C, B, A, A, A, C, A, A, ...\n",
       "            7013    [A, A, B, C, C, C, C, A, A, A, B, A, C, C, A, ...\n",
       "Pedruscada  7590    [A, B, A, A, A, A, B, B, C, B, B, B, C, A, A, ...\n",
       "Ruberts     7511    [A, A, A, B, C, A, B, A, A, B, B, A, C, B, B, ...\n",
       "Name: Tipus certificat cat, dtype: object"
      ]
     },
     "execution_count": 61,
     "metadata": {},
     "output_type": "execute_result"
    }
   ],
   "source": [
    "dfc = df.groupby([\"Ciutat\",\"CP\"])[\"Tipus certificat cat\"].apply(list)\n",
    "dfc"
   ]
  },
  {
   "cell_type": "code",
   "execution_count": 62,
   "metadata": {},
   "outputs": [
    {
     "name": "stdout",
     "output_type": "stream",
     "text": [
      "['A' 'B' 'C' 'D']\n",
      "[57 42 16  5]\n",
      "----------------------------------------\n",
      "{'A': 57, 'B': 42, 'C': 16, 'D': 5}\n"
     ]
    }
   ],
   "source": [
    "# Podem fer més operatives amb els valors obtinguts\n",
    "# Calcula la distribucció de tipus de certificats \n",
    "tipusAlaro = dfc.loc[pd.IndexSlice[\"Alaro\",7340]]\n",
    "\n",
    "values, counts = np.unique(tipusAlaro, return_counts=True)\n",
    "print(values) # Tipus \n",
    "print(counts) # quantitat\n",
    "print(\"-\"*40)\n",
    "distribucioAlaro = dict(zip(values,counts)) ## Que fa el ZIP?!\n",
    "print(distribucioAlaro)"
   ]
  },
  {
   "cell_type": "code",
   "execution_count": 63,
   "metadata": {},
   "outputs": [
    {
     "name": "stdout",
     "output_type": "stream",
     "text": [
      "                                              Tipus certificat cat     \n",
      "                                                        <lambda_0> size\n",
      "Ciutat     CP                                                          \n",
      "Alaro      7340  [A, C, B, A, A, B, A, D, A, B, A, B, B, A, B, ...  120\n",
      "Ariany     7529  [B, A, B, A, A, B, A, B, A, B, A, A, C, A, B, ...  113\n",
      "Bellavista 7609  [B, C, A, A, A, C, A, A, B, A, A, A, B, A, C, ...   98\n",
      "Binissalem 7350  [A, B, B, C, C, A, A, A, C, A, C, A, B, B, D, ...   93\n",
      "Eivissa    7800  [B, A, A, B, B, B, A, A, A, A, B, C, A, A, B, ...   91\n",
      "La Savina  7870  [A, A, A, B, A, A, B, B, A, A, B, A, B, B, A, ...   90\n",
      "Mao        7701  [B, C, B, C, B, C, A, B, B, B, A, C, C, A, C, ...   63\n",
      "           7703  [B, A, B, C, A, A, B, A, C, B, A, B, C, A, B, ...   45\n",
      "Palma      7006  [B, A, B, B, A, A, A, B, B, A, A, B, B, A, B, ...   36\n",
      "           7009  [A, D, A, B, C, A, A, C, B, A, A, A, C, A, A, ...   23\n",
      "           7013  [A, A, B, C, C, C, C, A, A, A, B, A, C, C, A, ...   37\n",
      "Pedruscada 7590  [A, B, A, A, A, A, B, B, C, B, B, B, C, A, A, ...  106\n",
      "Ruberts    7511  [A, A, A, B, C, A, B, A, A, B, B, A, C, B, B, ...   85\n"
     ]
    }
   ],
   "source": [
    "## També podem invocar funcions especifiques! en lloc de una sum, mean, max, etc.\n",
    "df2 = df.groupby([\"Ciutat\",\"CP\"]).agg(\n",
    "        {\"Tipus certificat cat\": [lambda x: list(x), np.size]}) # lambda !\n",
    "\n",
    "print(df2)\n"
   ]
  },
  {
   "cell_type": "code",
   "execution_count": 64,
   "metadata": {},
   "outputs": [],
   "source": [
    "# Qué és una funció lambda?"
   ]
  },
  {
   "cell_type": "code",
   "execution_count": 195,
   "metadata": {},
   "outputs": [
    {
     "name": "stdout",
     "output_type": "stream",
     "text": [
      "                     Punts     \n",
      "                <lambda_0> size\n",
      "Ciutat     CP                  \n",
      "Alaro      7340         61  120\n",
      "Ariany     7529         56  113\n",
      "Bellavista 7609         43   98\n",
      "Binissalem 7350         50   93\n",
      "Eivissa    7800         44   91\n",
      "La Savina  7870         41   90\n",
      "Mao        7701         34   63\n",
      "           7703         18   45\n",
      "Palma      7006         19   36\n",
      "           7009         10   23\n",
      "           7013         19   37\n",
      "Pedruscada 7590         65  106\n",
      "Ruberts    7511         36   85\n"
     ]
    }
   ],
   "source": [
    "# Em aquest exemple apliquem una funció que té un criterí més específic:\n",
    "\n",
    "def miBarem50p(serie):\n",
    "  up50list = []\n",
    "  for value in serie.values:\n",
    "    if value>50:\n",
    "      up50list.append(value)\n",
    "  return len(up50list)\n",
    "\n",
    "\n",
    "df3 = df.groupby([\"Ciutat\",\"CP\"]).agg(\n",
    "        {\"Punts\": [lambda x: miBarem50p(x), np.size]}) # lambda: què és X?\n",
    "\n",
    "print(df3) #Quina interpretació dels resultats feu?"
   ]
  },
  {
   "attachments": {},
   "cell_type": "markdown",
   "metadata": {},
   "source": [
    "Les agrupacions són un mecanisme de selecció agregada de la informació. I el resultat, són tipus compatibles: dataframes o sèries, per tant, entre altres coses, podem fer una visualització:"
   ]
  },
  {
   "cell_type": "code",
   "execution_count": 196,
   "metadata": {},
   "outputs": [],
   "source": [
    "df3.columns = ['Candidats per damunt dels 50 punts',\"Candidats totals\"]\n",
    "df3.reset_index(inplace=True)\n",
    "df3.drop(columns=\"CP\",inplace=True)\n",
    "df3.index = df3.Ciutat"
   ]
  },
  {
   "cell_type": "code",
   "execution_count": 194,
   "metadata": {},
   "outputs": [
    {
     "data": {
      "text/plain": [
       "<AxesSubplot:xlabel='Ciutat'>"
      ]
     },
     "execution_count": 194,
     "metadata": {},
     "output_type": "execute_result"
    },
    {
     "data": {
      "image/png": "[encoded data removed]",
      "text/plain": [
       "<Figure size 432x288 with 1 Axes>"
      ]
     },
     "metadata": {
      "needs_background": "light"
     },
     "output_type": "display_data"
    }
   ],
   "source": [
    "df3.plot(kind=\"bar\") #Alerta amb la interpretació: punts per CP i Ciutat"
   ]
  },
  {
   "attachments": {},
   "cell_type": "markdown",
   "metadata": {},
   "source": [
    "## Activitat"
   ]
  },
  {
   "attachments": {},
   "cell_type": "markdown",
   "metadata": {},
   "source": [
    "A) Agrupa els segënts dades per el nom de la escola.\n",
    "- Quina escola té més nins?\n",
    "- Quina escola té els nins més alts?"
   ]
  },
  {
   "cell_type": "code",
   "execution_count": 65,
   "metadata": {},
   "outputs": [
    {
     "data": {
      "text/html": [
       "<div>\n",
       "<style scoped>\n",
       "    .dataframe tbody tr th:only-of-type {\n",
       "        vertical-align: middle;\n",
       "    }\n",
       "\n",
       "    .dataframe tbody tr th {\n",
       "        vertical-align: top;\n",
       "    }\n",
       "\n",
       "    .dataframe thead th {\n",
       "        text-align: right;\n",
       "    }\n",
       "</style>\n",
       "<table border=\"1\" class=\"dataframe\">\n",
       "  <thead>\n",
       "    <tr style=\"text-align: right;\">\n",
       "      <th></th>\n",
       "      <th>school</th>\n",
       "      <th>class</th>\n",
       "      <th>name</th>\n",
       "      <th>date_Of_Birth</th>\n",
       "      <th>age</th>\n",
       "      <th>height</th>\n",
       "      <th>weight</th>\n",
       "      <th>address</th>\n",
       "    </tr>\n",
       "  </thead>\n",
       "  <tbody>\n",
       "    <tr>\n",
       "      <th>S1</th>\n",
       "      <td>s001</td>\n",
       "      <td>V</td>\n",
       "      <td>Alberto Franco</td>\n",
       "      <td>15/05/2002</td>\n",
       "      <td>12</td>\n",
       "      <td>173</td>\n",
       "      <td>35</td>\n",
       "      <td>street1</td>\n",
       "    </tr>\n",
       "    <tr>\n",
       "      <th>S2</th>\n",
       "      <td>s002</td>\n",
       "      <td>V</td>\n",
       "      <td>Gino Mcneill</td>\n",
       "      <td>17/05/2002</td>\n",
       "      <td>12</td>\n",
       "      <td>192</td>\n",
       "      <td>32</td>\n",
       "      <td>street2</td>\n",
       "    </tr>\n",
       "    <tr>\n",
       "      <th>S3</th>\n",
       "      <td>s003</td>\n",
       "      <td>VI</td>\n",
       "      <td>Ryan Parkes</td>\n",
       "      <td>16/02/1999</td>\n",
       "      <td>13</td>\n",
       "      <td>186</td>\n",
       "      <td>33</td>\n",
       "      <td>street3</td>\n",
       "    </tr>\n",
       "    <tr>\n",
       "      <th>S4</th>\n",
       "      <td>s001</td>\n",
       "      <td>VI</td>\n",
       "      <td>Eesha Hinton</td>\n",
       "      <td>25/09/1998</td>\n",
       "      <td>13</td>\n",
       "      <td>167</td>\n",
       "      <td>30</td>\n",
       "      <td>street1</td>\n",
       "    </tr>\n",
       "    <tr>\n",
       "      <th>S5</th>\n",
       "      <td>s002</td>\n",
       "      <td>V</td>\n",
       "      <td>Gino Mcneill</td>\n",
       "      <td>11/05/2002</td>\n",
       "      <td>14</td>\n",
       "      <td>151</td>\n",
       "      <td>31</td>\n",
       "      <td>street2</td>\n",
       "    </tr>\n",
       "  </tbody>\n",
       "</table>\n",
       "</div>"
      ],
      "text/plain": [
       "   school class            name date_Of_Birth  age  height  weight  address\n",
       "S1   s001     V  Alberto Franco    15/05/2002   12     173      35  street1\n",
       "S2   s002     V    Gino Mcneill    17/05/2002   12     192      32  street2\n",
       "S3   s003    VI     Ryan Parkes    16/02/1999   13     186      33  street3\n",
       "S4   s001    VI    Eesha Hinton    25/09/1998   13     167      30  street1\n",
       "S5   s002     V    Gino Mcneill    11/05/2002   14     151      31  street2"
      ]
     },
     "execution_count": 65,
     "metadata": {},
     "output_type": "execute_result"
    }
   ],
   "source": [
    "data = {\n",
    "    'school': ['s001', 's002', 's003', 's001', 's002', 's004'],\n",
    "    'class': ['V', 'V', 'VI', 'VI', 'V', 'VI'],\n",
    "    'name': ['Alberto Franco', 'Gino Mcneill', 'Ryan Parkes', 'Eesha Hinton', 'Gino Mcneill', 'David Parkes'],\n",
    "    'date_Of_Birth': ['15/05/2002', '17/05/2002', '16/02/1999', '25/09/1998', '11/05/2002', '15/09/1997'],\n",
    "    'age': [12, 12, 13, 13, 14, 12],\n",
    "    'height': [173, 192, 186, 167, 151, 159],\n",
    "    'weight': [35, 32, 33, 30, 31, 32],\n",
    "    'address': ['street1', 'street2', 'street3', 'street1', 'street2', 'street4']\n",
    "}\n",
    "\n",
    "df = pd.DataFrame(data, index=['S1', 'S2', 'S3', 'S4','S5','S6'])\n",
    "df.head()\n"
   ]
  },
  {
   "cell_type": "code",
   "execution_count": null,
   "metadata": {},
   "outputs": [],
   "source": [
    "#TODO"
   ]
  },
  {
   "attachments": {},
   "cell_type": "markdown",
   "metadata": {},
   "source": [
    "A) Donat el següent llistat de vendes:\n",
    "- Quin comprador ha gastat més?\n",
    "- Quin vendedor ha fet més vendes?"
   ]
  },
  {
   "cell_type": "code",
   "execution_count": 66,
   "metadata": {},
   "outputs": [
    {
     "name": "stdout",
     "output_type": "stream",
     "text": [
      "       Producto  Precio Comprador Vendedor\n",
      "0    Producto 1      44     Pedro   Carlos\n",
      "1    Producto 2      37     Maria    Elena\n",
      "2    Producto 3      16     Maria   Carlos\n",
      "3    Producto 4      35       Ana    Elena\n",
      "4    Producto 5      83     Maria   Miguel\n",
      "5    Producto 6      64      Juan    Laura\n",
      "6    Producto 7      17       Ana    Laura\n",
      "7    Producto 8      88     Pedro   Carlos\n",
      "8    Producto 9      74      Juan   Miguel\n",
      "9   Producto 10      41       Ana   Miguel\n",
      "10  Producto 11      58      Juan   Carlos\n",
      "11  Producto 12      29       Ana    Elena\n",
      "12  Producto 13      66     Maria   Miguel\n",
      "13  Producto 14      32       Ana   Miguel\n",
      "14  Producto 15      54       Ana    Laura\n"
     ]
    }
   ],
   "source": [
    "import pandas as pd\n",
    "import numpy as np\n",
    "\n",
    "# Crear datos aleatorios\n",
    "n = 15\n",
    "productos = ['Producto ' + str(i) for i in range(1, n+1)]\n",
    "precios = np.random.randint(10, 100, n)\n",
    "compradores = np.random.choice(['Juan', 'Pedro', 'Maria', 'Ana'], n)\n",
    "vendedores = np.random.choice(['Carlos', 'Laura', 'Miguel', 'Elena'], n)\n",
    "\n",
    "# Crear DataFrame\n",
    "df_ventas = pd.DataFrame({\n",
    "    'Producto': productos,\n",
    "    'Precio': precios,\n",
    "    'Comprador': compradores,\n",
    "    'Vendedor': vendedores\n",
    "})\n",
    "\n",
    "print(df_ventas)\n"
   ]
  },
  {
   "cell_type": "code",
   "execution_count": null,
   "metadata": {},
   "outputs": [],
   "source": [
    "#TODO"
   ]
  },
  {
   "attachments": {},
   "cell_type": "markdown",
   "metadata": {},
   "source": [
    "A)  Usant el fitxer 1/data/WHO.csv, Quin és el volum total de CO2 emès per cada continent? Qui continent emet més CO2?"
   ]
  },
  {
   "cell_type": "code",
   "execution_count": 198,
   "metadata": {},
   "outputs": [],
   "source": [
    "#TODO"
   ]
  },
  {
   "attachments": {},
   "cell_type": "markdown",
   "metadata": {},
   "source": [
    "B) Usant el fitxer 1/data/WHO.csv, Quants països hi ha per continent? Quin continent té més països?"
   ]
  },
  {
   "cell_type": "code",
   "execution_count": 197,
   "metadata": {},
   "outputs": [],
   "source": [
    "#TODO"
   ]
  },
  {
   "attachments": {},
   "cell_type": "markdown",
   "metadata": {},
   "source": [
    "C) Usant el fitxer 1/data/presupuesto_gastos_2023.csv, Calcula la despesa total per \"SAILAREN DESKRIBAPENA_EU/DESCRIPCION DEPARTAMENT_CAS\" ? Ordena el resultats per despesa (descendent)"
   ]
  },
  {
   "cell_type": "code",
   "execution_count": null,
   "metadata": {},
   "outputs": [],
   "source": [
    "#TODO"
   ]
  },
  {
   "attachments": {},
   "cell_type": "markdown",
   "metadata": {},
   "source": [
    "D) Fitxer \"data/data_groups_cursos.csv\", El fitxer conté cursos realitzats per persones. Cada mostra correspon a un curs.\n",
    "Es demana obtenir un llistat de número de cursos realitzat per cada persona, una valoració de punts segons el curs de la següent manera:\n",
    "- 'A': 3 punts\n",
    "- 'B': 2 punts\n",
    "- 'C': 1 punt\n",
    "- 'D': 0.5 punt\n",
    "- \"E\": 0.5 punt\n",
    "- \"F\": 1 punt\n",
    "  "
   ]
  },
  {
   "cell_type": "code",
   "execution_count": 199,
   "metadata": {},
   "outputs": [],
   "source": [
    "#TODO"
   ]
  },
  {
   "cell_type": "markdown",
   "metadata": {},
   "source": [
    "D.2 (amb el anterior cas D), tonar a calcula la valoració de punts considerant la combinació de cursos (independentment del seu ordre):\n",
    "- A, B i C : +10 punts\n",
    "- A i F: +3 punts\n",
    "- E i F: -10 punts\n",
    "- C i F:  +5 punts"
   ]
  },
  {
   "cell_type": "code",
   "execution_count": 201,
   "metadata": {},
   "outputs": [],
   "source": [
    "#TODO"
   ]
  },
  {
   "attachments": {},
   "cell_type": "markdown",
   "metadata": {},
   "source": [
    "## Activitat 4 del homework"
   ]
  },
  {
   "attachments": {},
   "cell_type": "markdown",
   "metadata": {},
   "source": [
    "[![License: CC BY 4.0](https://img.shields.io/badge/License-CC_BY_4.0-lightgrey.svg)](https://creativecommons.org/licenses/by/4.0/) <br/>\n",
    "Isaac Lera and Gabriel Moya <br/>\n",
    "Universitat de les Illes Balears <br/>\n",
    "isaac.lera@uib.edu, gabriel.moya@uib.edu"
   ]
  },
  {
   "cell_type": "markdown",
   "metadata": {},
   "source": []
  }
 ],
 "metadata": {
  "kernelspec": {
   "display_name": "my397",
   "language": "python",
   "name": "python3"
  },
  "language_info": {
   "codemirror_mode": {
    "name": "ipython",
    "version": 3
   },
   "file_extension": ".py",
   "mimetype": "text/x-python",
   "name": "python",
   "nbconvert_exporter": "python",
   "pygments_lexer": "ipython3",
   "version": "3.9.7"
  },
  "orig_nbformat": 4,
  "vscode": {
   "interpreter": {
    "hash": "8b38137d60f5ef6101ebd11fd805c6415d52a5c999d13278488bced8392256b3"
   }
  }
 },
 "nbformat": 4,
 "nbformat_minor": 2
}
