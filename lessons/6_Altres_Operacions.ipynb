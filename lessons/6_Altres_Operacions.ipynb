{
 "cells": [
  {
   "attachments": {},
   "cell_type": "markdown",
   "metadata": {},
   "source": [
    "<div align=\"right\">\n",
    "\n",
    "[![Open In Colab](https://colab.research.google.com/assets/colab-badge.png)](https://colab.research.google.com/github/wisaaco/TallerPythonEBAP/blob/main/lessons/6_Altres_Operacions.ipynb)\n",
    "\n",
    "Si no funciona el botó podeu copiar el següent [enllaç](https://colab.research.google.com/github/wisaaco/TallerPythonEBAP/blob/main/lessons/6_Altres_Operacions.ipynb)\n",
    "\n",
    "</div>"
   ]
  },
  {
   "attachments": {},
   "cell_type": "markdown",
   "metadata": {},
   "source": [
    "# 6 - Pandas: altres particularitats\n",
    "\n"
   ]
  },
  {
   "cell_type": "markdown",
   "source": [
    "## Activitats d'escalfament\n",
    "Abans de començar repassarem el que hem fet fins ara amb aquestes activitats:"
   ],
   "metadata": {
    "collapsed": false
   }
  },
  {
   "cell_type": "code",
   "execution_count": null,
   "outputs": [],
   "source": [
    "import pandas as pd\n",
    "import numpy as np\n",
    "# Dades generades de manera aleatòria\n",
    "data = {\n",
    "    'pais': ['Argentina', 'Brasil', 'Canadá', 'China', 'Alemania', 'India', 'Japón', 'México', 'Nigeria', 'Rusia'],\n",
    "    'continente': ['América del Sur', 'América del Sur', 'América del Norte', 'Asia', 'Europa', 'Asia', 'Asia', 'América del Norte', 'África', 'Europa'],\n",
    "    'poblacion': [45376763, 213823154, 38131104, 1395380000, 83149300, 1380004385, 126150000, 130222815, 206139587, 144096812],\n",
    "    'pib': [637.717, 2055.51, 1610.07, 16624.05, 4644.83, 2697.22, 4930.61, 1079.24, 514.049, 1630.03],\n",
    "    'contaminacion': [12.40, 9.69, 15.04, 7.57, 9.35, 17.70, 9.70, 14.87, 6.66, 11.14]\n",
    "}\n",
    "\n",
    "df_fictici = pd.DataFrame(data)"
   ],
   "metadata": {
    "collapsed": false
   }
  },
  {
   "cell_type": "markdown",
   "source": [
    "Mostra la població dels països d'Àsia.\n",
    "Quina és la contaminació mitjana per continent?\n",
    "Quin continent té més població?"
   ],
   "metadata": {
    "collapsed": false
   }
  },
  {
   "cell_type": "code",
   "execution_count": null,
   "outputs": [],
   "source": [
    "# Mostra la població dels països d'Àsia.\n"
   ],
   "metadata": {
    "collapsed": false
   }
  },
  {
   "cell_type": "code",
   "execution_count": null,
   "outputs": [],
   "source": [
    "# Quina és la contaminació mitjana per continent?\n"
   ],
   "metadata": {
    "collapsed": false
   }
  },
  {
   "cell_type": "code",
   "execution_count": null,
   "outputs": [],
   "source": [
    "# Quin continent té més població?\n"
   ],
   "metadata": {
    "collapsed": false
   }
  },
  {
   "cell_type": "code",
   "execution_count": null,
   "outputs": [],
   "source": [
    "# Cream noves dades, més endavant en la sessió d'avui explicarem aquest codi\n",
    "membres_onu = ['Argentina', 'Brasil',  'China', 'Alemania', 'India', 'Japón' ] #Datos ficticios!\n",
    "df_fictici['miembro_onu'] = df_fictici['pais'].apply(lambda x: 'Sí' if x in membres_onu else 'No')"
   ],
   "metadata": {
    "collapsed": false
   }
  },
  {
   "cell_type": "markdown",
   "source": [
    "Quin és el PIB mitjà per continent i per membres a l'ONU?"
   ],
   "metadata": {
    "collapsed": false
   }
  },
  {
   "cell_type": "code",
   "execution_count": null,
   "outputs": [],
   "source": [],
   "metadata": {
    "collapsed": false
   }
  },
  {
   "cell_type": "markdown",
   "metadata": {},
   "source": [
    "## Funcions Lambda\n",
    "\n",
    "Aquestes són funcions anònimes (sense nom) petites i temporals que es poden utilitzar per aplicar operacions senzilles als elements d'un objecte de Pandas, com una sèrie o un DataFrame.\n",
    "\n",
    "L'estructura bàsica d'una funció lambda és la següent: `lambda arguments: expressió`\n",
    "On:\n",
    "- arguments són els arguments que es passen a la funció lambda.\n",
    "- expressió és una expressió única que defineix l'operació que volem realitzar amb els arguments.\n",
    "\n",
    "Començarem aquest aprenentatge amb les següents dades:\n"
   ]
  },
  {
   "cell_type": "code",
   "execution_count": null,
   "metadata": {},
   "outputs": [],
   "source": [
    "import pandas as pd\n",
    "from tabulate import tabulate # Nova llibreria\n",
    "\n",
    "df = pd.read_csv(\"data/data_groups.csv\") # Atenció: Dades creades aleatòriament !!\n",
    "\n",
    "print(tabulate(df.head(), headers='keys')) \n"
   ]
  },
  {
   "cell_type": "markdown",
   "source": [
    "Veurem com podem emprar-les juntament amb la funció `map` per canviar els valors de una columna d'una manera senzilla i consistent:"
   ],
   "metadata": {
    "collapsed": false
   }
  },
  {
   "cell_type": "code",
   "execution_count": null,
   "metadata": {},
   "outputs": [],
   "source": [
    "df.Genere.map(lambda x: \"Masculi\" if x==\"M\" else \"Femeni\")"
   ]
  },
  {
   "cell_type": "markdown",
   "source": [
    "En aquest cas canviarem el tipus de dades de la columna:"
   ],
   "metadata": {
    "collapsed": false
   }
  },
  {
   "cell_type": "code",
   "execution_count": null,
   "metadata": {},
   "outputs": [],
   "source": [
    "df.Punts.map(lambda x: \"Superat\" if x>50 else \"NP\")"
   ]
  },
  {
   "cell_type": "markdown",
   "source": [],
   "metadata": {
    "collapsed": false
   }
  },
  {
   "cell_type": "markdown",
   "metadata": {},
   "source": [
    "## Categorització de dades\n",
    "\n",
    "#### Funció cut\n",
    "La funció `cut` de Pandas és una eina útil per a la segmentació i la discretització de les dades en intervals o categories. Aquesta funció és especialment útil quan voleu convertir una variable numèrica contínua en una variable categòrica, dividint-la en intervals o categories específiques.\n",
    "\n",
    "[Documentació](https://pandas.pydata.org/docs/reference/api/pandas.cut.html)\n",
    "\n",
    "Crearem un dataframe nou per poder fer proves:"
   ]
  },
  {
   "cell_type": "code",
   "execution_count": null,
   "metadata": {},
   "outputs": [],
   "source": [
    "import numpy as np\n",
    "np.random.seed(0)\n",
    "df_random = pd.DataFrame({\"candidat\":np.arange(1,11), \"nota\":np.random.randint(0,11,size=10)})\n",
    "df_random\n"
   ]
  },
  {
   "cell_type": "markdown",
   "source": [
    "A continuació crearem una nova columna que conté una nota en escala categòrica:"
   ],
   "metadata": {
    "collapsed": false
   }
  },
  {
   "cell_type": "code",
   "execution_count": null,
   "metadata": {},
   "outputs": [],
   "source": [
    "df_random[\"notaCategorica\"] = pd.cut(df_random.nota, 3, labels=[\"dolent\", \"mig\", \"bona\"])\n",
    "df_random"
   ]
  },
  {
   "cell_type": "code",
   "execution_count": null,
   "metadata": {},
   "outputs": [],
   "source": [
    "df[df.notaCategorica==df.notaCategorica.max()]"
   ]
  },
  {
   "cell_type": "markdown",
   "source": [
    "A l'exemple anterior tenim un problema, i és que les categoríes que hem obtingut no contemplen el valor 10 de nota. Anem a arreglar-ho:"
   ],
   "metadata": {
    "collapsed": false
   }
  },
  {
   "cell_type": "code",
   "execution_count": null,
   "outputs": [],
   "source": [
    "bins = [0, 4, 7, 8.5, 10]\n",
    "labels = ['Suspens', 'Be', 'Notable', 'Excel·lent']\n",
    "df_random[\"notaCategorica\"] = pd.cut(df_random.nota, bins, labels=labels) # include_lowest=True\n",
    "df_random"
   ],
   "metadata": {
    "collapsed": false
   }
  },
  {
   "cell_type": "markdown",
   "metadata": {},
   "source": [
    "#### Funció qcut\n",
    "La funció `qcut` de Pandas és una eina que permet la discretització de dades numèriques en intervals o quantils de manera que cada interval tingui aproximadament el mateix nombre d'observacions. Això fa que sigui útil quan es volen crear intervals amb una distribució semblant de dades, especialment en anàlisis estadístics.\n",
    "\n",
    "[Documentació](https://pandas.pydata.org/docs/reference/api/pandas.qcut.html#pandas.qcut)\n",
    "\n",
    "Tornam a generar dades:"
   ]
  },
  {
   "cell_type": "code",
   "execution_count": null,
   "metadata": {},
   "outputs": [],
   "source": [
    "import numpy as np\n",
    "marks = np.arange(0,1.1,0.25)\n",
    "print(marks)\n",
    "print\n",
    "print(\"-\"*10)\n",
    "factors = pd.qcut(df_random.nota, marks)\n",
    "print(factors)\n",
    "print(\"-\"*10)\n",
    "pd.value_counts(factors)"
   ]
  },
  {
   "cell_type": "markdown",
   "metadata": {},
   "source": [
    "## Valors desconeguts NaN, None, NaT\n",
    "\n",
    "Els valors desconeguts `NaN`, `None` i `NaT` són elements que es poden trobar en els dataframes i que indiquen que les dades no existeixen o no estan disponibles. Cadascun d'aquests valors s'utilitza en un context específic:\n",
    "\n",
    "- `NaN` (Not a Number): NaN és una representació especial per als valors numèrics que no són vàlids o no estan disponibles. Es fa servir principalment en sèries o dataframes amb dades numèriques. Quan realitzem operacions matemàtiques o estadístiques en dades que contenen `NaN`, el resultat sovint serà `NaN`. Per a identificar `NaN` en Pandas, pots utilitzar la funció `pd.isna()` o `pd.isnan()`.\n",
    "\n",
    "- `None`: `None` és una constant especial en Python que s'utilitza per representar la manca d'un valor o la no disponibilitat d'una variable. Per verificar si un valor és `None`, pots utilitzar l'operador d'igualtat (`==`) o la funció pd.isna().\n",
    "\n",
    "- `NaT` (Not a Timestamp): `NaT` és una representació especial per als valors de data i hora (datetime) que no estan disponibles o no estan definits. Aquest valor s'utilitza principalment en columnes que contenen dates i hores. Pots identificar `NaT` utilitzant la funció `pd.isna()` o `pd.isnull()` en columnes de dates.\n",
    "\n",
    "Emprant el fitxer WHO.csv:\n",
    "\n",
    "\n",
    "1. Contabiliza cuántos paises tienen algún valor NaN en cualquiera de sus columnas.\n",
    "2. ¿Cuál es el país con mayor número de muestras desconocidas?"
   ]
  },
  {
   "cell_type": "code",
   "execution_count": null,
   "outputs": [],
   "source": [],
   "metadata": {
    "collapsed": false
   }
  },
  {
   "cell_type": "markdown",
   "source": [
    "Les operacions de _Pandas_ es troben preparades per treballar amb aquests valors faltants, per observar-ho consultarem la documentació de l'operació de [suma](https://pandas.pydata.org/docs/reference/api/pandas.DataFrame.sum.html#pandas.DataFrame.sum).\n",
    "\n",
    "Per altra banda, la mateixa llibreria ens permet inferir i substituir aquests valors amb altres:\n",
    "\n",
    "De manera general podem dir que tenim 2 opcions:\n",
    "\n",
    "- [fillna](https://pandas.pydata.org/docs/reference/api/pandas.DataFrame.fillna.html): Basicament substitueix els valors `Nan` per una constant o pel valor de la fila/columna anterior.\n",
    "- [interpolate](https://pandas.pydata.org/docs/reference/api/pandas.DataFrame.interpolate.html) Omple els valors `NaN` mitjançant un mètode d'interpolació. Té sentit en sèries temporals amb observacions properes.\n",
    "\n",
    "Una altra tècnica que també es pot usar (encara que pot ser perillosa) és la d'eliminar aquelles files i columnes que contenen aquest tipus de valors: [dropna](https://pandas.pydata.org/pandas-docs/stable/reference/api/pandas.DataFrame.dropna.html).\n",
    "\n",
    "Per tenir més informació d'aquest tema podeu llegir la [documentació](https://pandas.pydata.org/pandas-docs/stable/user_guide/missing_data.html#missing-data)\n",
    "\n",
    "\n",
    "Seleccionar la columna `Adult literacy rate (%)`:\n",
    "\n",
    "- Quants valors `Nan` conté?\n",
    "- Quina és la mitjana de tots els països del mòn?\n",
    "- Quina és la mitjana per continent?\n",
    "- Substitueix els valors `Nan` per zeros. Quina és la nova mitjana per continent?\n",
    "- Substitueix els valors `Nan` pel valor anterior. Quina és la nova mitjana per continent?\n",
    "- Substitueix els valors `Nan` per la mitjana del continent"
   ],
   "metadata": {
    "collapsed": false
   }
  },
  {
   "cell_type": "code",
   "execution_count": null,
   "outputs": [],
   "source": [
    "# Posar el vostre codi"
   ],
   "metadata": {
    "collapsed": false
   }
  },
  {
   "cell_type": "markdown",
   "metadata": {},
   "source": [
    "## Sèries Temporals\n",
    "Les sèries temporals són mostres de valors preses al llarg d'un temps amb un mostreig generalment equidistant. Per exemple, informació econòmica, demografia, meteorològica; registres de seguretat, activitat, etc.\n",
    "\n",
    "La llibreria Pandas gestiona les sèries temporals usant l'índex: una data (`datetime`):\n",
    "\n",
    "L'índex d'un _dataframe_ és el pilar bàsic d'accés als valors, per la qual cosa el seu ús simplifica processos de filtratge, selecció, interpolació, etc.\n",
    "\n",
    "Enllaç a la documentació: [TimeSeries](https://pandas.pydata.org/docs/user_guide/timeseries.html)"
   ]
  },
  {
   "cell_type": "markdown",
   "metadata": {},
   "source": [
    "En aquesta secció començarem a treballar amb sèries temporals, començarem inspeccionant un conjunt de dades:"
   ]
  },
  {
   "cell_type": "code",
   "execution_count": null,
   "metadata": {},
   "outputs": [],
   "source": [
    "import pandas as pd\n",
    "df = pd.read_csv(\"data/rdu-weather-history.csv\",sep=\";\")  \n",
    "#Sempre començam inspeccionant el fitxer\n",
    "df.head()"
   ]
  },
  {
   "cell_type": "code",
   "execution_count": null,
   "outputs": [],
   "source": [
    "df.describe()"
   ],
   "metadata": {
    "collapsed": false
   }
  },
  {
   "cell_type": "code",
   "execution_count": null,
   "outputs": [],
   "source": [
    "print(list(df.columns))"
   ],
   "metadata": {
    "collapsed": false
   }
  },
  {
   "cell_type": "markdown",
   "source": [
    "Observarem el que ens interessa. Quan comença? Quan acaba?"
   ],
   "metadata": {
    "collapsed": false
   }
  },
  {
   "cell_type": "code",
   "execution_count": null,
   "metadata": {},
   "outputs": [],
   "source": []
  },
  {
   "cell_type": "markdown",
   "metadata": {},
   "source": [
    "Nosaltres només cobrirem els aspectes bàsics d'aquests tipus de dades, el que volem és poder contestar qüestions similars a les següents:\n",
    "- Com podria obtenir la temperatura mitjana d'un any?\n",
    "- Com podria obtenir la temperatura més alta de tots els mesos de juliol?\n",
    "\n",
    "En primer lloc, ens interessa transformar l'index en una Data:"
   ]
  },
  {
   "cell_type": "code",
   "execution_count": null,
   "metadata": {},
   "outputs": [],
   "source": [
    "from pandas import DatetimeIndex\n",
    "df.index = DatetimeIndex(df[\"date\"])\n",
    "\n",
    "df.head()"
   ]
  },
  {
   "cell_type": "markdown",
   "source": [
    "Veiem que ara tenim 2 cops la informació repetida, l'índex i la columna `date`. Sabries com eliminar aquesta columna?"
   ],
   "metadata": {
    "collapsed": false
   }
  },
  {
   "cell_type": "code",
   "execution_count": null,
   "outputs": [],
   "source": [],
   "metadata": {
    "collapsed": false
   }
  },
  {
   "cell_type": "markdown",
   "source": [
    "Podem obtenir informació de l'index: any, mes dia"
   ],
   "metadata": {
    "collapsed": false
   }
  },
  {
   "cell_type": "code",
   "execution_count": null,
   "outputs": [],
   "source": [
    "df.index.year  # prova-ho amb els mesos (month) i els dies (day)"
   ],
   "metadata": {
    "collapsed": false
   }
  },
  {
   "cell_type": "markdown",
   "source": [
    "Podem fer seleccions concretes. Emprant la funció `loc` podem seleccionar emprant les dates:"
   ],
   "metadata": {
    "collapsed": false
   }
  },
  {
   "cell_type": "code",
   "execution_count": null,
   "metadata": {},
   "outputs": [],
   "source": [
    "# any i mes\n",
    "df.loc[\"2015-07\"]"
   ]
  },
  {
   "cell_type": "code",
   "execution_count": null,
   "metadata": {},
   "outputs": [],
   "source": [
    "# any\n",
    "df.loc[\"2015\"]"
   ]
  },
  {
   "cell_type": "markdown",
   "source": [
    "Seguim amb la capacitat de fer seleccions lògiques:"
   ],
   "metadata": {
    "collapsed": false
   }
  },
  {
   "cell_type": "code",
   "execution_count": null,
   "metadata": {},
   "outputs": [],
   "source": [
    "df.loc[\"2015\"].temperaturemin.min() > df.loc[\"2016\"].temperaturemin.min()"
   ]
  },
  {
   "cell_type": "code",
   "execution_count": null,
   "metadata": {},
   "outputs": [],
   "source": [
    "df.loc[\"03/2015\"].temperaturemin"
   ]
  },
  {
   "cell_type": "markdown",
   "source": [
    "I també fer seleccions de columnes i d'obtenir informació de resum:"
   ],
   "metadata": {
    "collapsed": false
   }
  },
  {
   "cell_type": "code",
   "execution_count": null,
   "metadata": {},
   "outputs": [],
   "source": [
    "print(df.loc[\"03-2015\"][\"temperaturemin\"]) # seleccionam columna en data\n",
    "print(df.loc[\"03-2015\"].temperaturemin.min()) # mínim"
   ]
  },
  {
   "cell_type": "markdown",
   "source": [
    "Com hem vist, la principal diferència en les sèries temporals és l'ús d'un índex diferent. Ara ens trobem en condicions de respondre a les següents preguntes:\n",
    "\n",
    "### Activitats\n",
    "\n",
    "Quantes vegades ha nevat cada any?"
   ],
   "metadata": {
    "collapsed": false
   }
  },
  {
   "cell_type": "code",
   "execution_count": null,
   "outputs": [],
   "source": [],
   "metadata": {
    "collapsed": false
   }
  },
  {
   "cell_type": "markdown",
   "source": [
    "Imprimeix per pantalla quin any ha nevat més (`snowdepth`)"
   ],
   "metadata": {
    "collapsed": false
   }
  },
  {
   "cell_type": "code",
   "execution_count": null,
   "outputs": [],
   "source": [],
   "metadata": {
    "collapsed": false
   }
  },
  {
   "cell_type": "markdown",
   "source": [
    "Crea un dataframe que contengui la temperatura màxima del juliol de cada any."
   ],
   "metadata": {
    "collapsed": false
   }
  },
  {
   "cell_type": "code",
   "execution_count": null,
   "outputs": [],
   "source": [
    "\n"
   ],
   "metadata": {
    "collapsed": false
   }
  },
  {
   "cell_type": "markdown",
   "source": [
    "Fes una agrupació que contengui les temperatures màximes i mínimes de cada mes de cada any."
   ],
   "metadata": {
    "collapsed": false
   }
  },
  {
   "cell_type": "code",
   "execution_count": null,
   "outputs": [],
   "source": [],
   "metadata": {
    "collapsed": false
   }
  },
  {
   "cell_type": "markdown",
   "source": [
    "Ara proposarem un parell més d'exercicis que ens obligaran a emprar els continguts inicials de la sessió:\n",
    "\n",
    "- Crea una nova columna en el dataframe anomenada `ha_nevat` que indiqui si ha nevat o no. Has d'emprar una funció lamda."
   ],
   "metadata": {
    "collapsed": false
   }
  },
  {
   "cell_type": "code",
   "execution_count": null,
   "outputs": [],
   "source": [],
   "metadata": {
    "collapsed": false
   }
  },
  {
   "cell_type": "markdown",
   "source": [
    "Volem discretitzar la variable `snowfall` per poder tenir 4 categories de nevada.\n",
    "\n",
    "En primer lloc, intenta emprar la funció `qcut` per fer aquesta categorització en grups de valor similar. Fes una prova i analitza per quin motiu aquesta no és la millor opció.\n",
    "\n",
    "Ara crea 4 categoríes emprant la funció `cut`:"
   ],
   "metadata": {
    "collapsed": false
   }
  },
  {
   "cell_type": "code",
   "execution_count": 415,
   "outputs": [],
   "source": [],
   "metadata": {
    "collapsed": false
   }
  },
  {
   "attachments": {},
   "cell_type": "markdown",
   "metadata": {},
   "source": [
    "[![License: CC BY 4.0](https://img.shields.io/badge/License-CC_BY_4.0-lightgrey.svg)](https://creativecommons.org/licenses/by/4.0/) <br/>\n",
    "Isaac Lera and Gabriel Moya <br/>\n",
    "Universitat de les Illes Balears <br/>\n",
    "isaac.lera@uib.edu, gabriel.moya@uib.edu"
   ]
  },
  {
   "cell_type": "markdown",
   "metadata": {},
   "source": []
  }
 ],
 "metadata": {
  "kernelspec": {
   "display_name": "my397",
   "language": "python",
   "name": "python3"
  },
  "language_info": {
   "codemirror_mode": {
    "name": "ipython",
    "version": 3
   },
   "file_extension": ".py",
   "mimetype": "text/x-python",
   "name": "python",
   "nbconvert_exporter": "python",
   "pygments_lexer": "ipython3",
   "version": "3.9.7"
  },
  "orig_nbformat": 4,
  "vscode": {
   "interpreter": {
    "hash": "8b38137d60f5ef6101ebd11fd805c6415d52a5c999d13278488bced8392256b3"
   }
  }
 },
 "nbformat": 4,
 "nbformat_minor": 2
}
