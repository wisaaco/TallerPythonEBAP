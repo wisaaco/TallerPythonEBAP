{
 "cells": [
  {
   "attachments": {},
   "cell_type": "markdown",
   "metadata": {},
   "source": [
    "<div align=\"right\">\n",
    "\n",
    "[![Open In Colab](https://colab.research.google.com/assets/colab-badge.svg)](https://colab.research.google.com/github/wisaaco/TallerPythonEBAP/blob/main/lessons/2/1_Pandas_Seleccio.ipynb)\n",
    "\n",
    "Si no funciona el botó podeu copiar el següent [enllaç](https://colab.research.google.com/github/wisaaco/TallerPythonEBAP/blob/main/lessons/2/1_Pandas_Seleccio.ipynb)\n",
    "</div>"
   ]
  },
  {
   "cell_type": "markdown",
   "metadata": {
    "collapsed": false
   },
   "source": [
    "# 3 - Estructura del dataframe\n",
    "\n",
    "Ara que ja sabem carregar dataframes de fitxers, descobrirem com podem accedir a l'informació que es troba dins de l'estructura de dades.\n",
    "\n",
    "Començarem seleccionant columnes i obtenint resums estadístics d'elles. Més endavant passarem a fer seleccions de files del dataframe. Finalment, realitzarem seleccions combinades creant els nostres propis dataframes a partir dels subconjunts seleccionats."
   ]
  },
  {
   "cell_type": "code",
   "execution_count": 22,
   "metadata": {
    "collapsed": false
   },
   "outputs": [],
   "source": [
    "#Seguirem emprant la llibreria pandas\n",
    "\n",
    "import pandas as pd\n",
    "\n",
    "df_who = pd.read_csv(\"http://www.exploredata.net/ftp/WHO.csv\") #dataframe"
   ]
  },
  {
   "attachments": {},
   "cell_type": "markdown",
   "metadata": {},
   "source": [
    "## Columnes\n",
    "\n",
    "Com hem comentat a l'introducció, començarem amb les columnes"
   ]
  },
  {
   "cell_type": "code",
   "execution_count": 23,
   "metadata": {},
   "outputs": [
    {
     "name": "stdout",
     "output_type": "stream",
     "text": [
      "Index(['Country', 'CountryID', 'Continent', 'Adolescent fertility rate (%)',\n",
      "       'Adult literacy rate (%)',\n",
      "       'Gross national income per capita (PPP international $)',\n",
      "       'Net primary school enrolment ratio female (%)',\n",
      "       'Net primary school enrolment ratio male (%)',\n",
      "       'Population (in thousands) total', 'Population annual growth rate (%)',\n",
      "       ...\n",
      "       'Total_CO2_emissions', 'Total_income', 'Total_reserves',\n",
      "       'Trade_balance_goods_and_services', 'Under_five_mortality_from_CME',\n",
      "       'Under_five_mortality_from_IHME', 'Under_five_mortality_rate',\n",
      "       'Urban_population', 'Urban_population_growth',\n",
      "       'Urban_population_pct_of_total'],\n",
      "      dtype='object', length=358)\n"
     ]
    }
   ],
   "source": [
    "# Columnes o caracteristiques de cada mostra\n",
    "print(df_who.columns)"
   ]
  },
  {
   "cell_type": "code",
   "execution_count": 24,
   "metadata": {},
   "outputs": [
    {
     "name": "stdout",
     "output_type": "stream",
     "text": [
      "Country\n",
      "CountryID\n",
      "Continent\n",
      "Adolescent fertility rate (%)\n",
      "Adult literacy rate (%)\n",
      "Gross national income per capita (PPP international $)\n",
      "Net primary school enrolment ratio female (%)\n",
      "Net primary school enrolment ratio male (%)\n",
      "Population (in thousands) total\n",
      "Population annual growth rate (%)\n",
      "Population in urban areas (%)\n",
      "Population living below the poverty line (% living on &lt; US$1 per day)\n",
      "Population median age (years)\n",
      "Population proportion over 60 (%)\n",
      "Population proportion under 15 (%)\n",
      "Registration coverage of births (%)\n",
      "Total fertility rate (per woman)\n",
      "Antenatal care coverage - at least four visits (%)\n",
      "Antiretroviral therapy coverage among HIV-infected pregt women for PMTCT (%)\n",
      "Antiretroviral therapy coverage among people with advanced HIV infections (%)\n",
      "Births attended by skilled health personnel (%)\n",
      "Births by caesarean section (%)\n",
      "Children aged 6-59 months who received vitamin A supplementation (%)\n",
      "Children aged &lt;5 years sleeping under insecticide-treated nets (%)\n",
      "Children aged &lt;5 years who received any antimalarial treatment for fever (%)\n",
      "Children aged &lt;5 years with ARI symptoms taken to facility (%)\n",
      "Children aged &lt;5 years with diarrhoea receiving ORT (%)\n",
      "Contraceptive prevalence (%)\n",
      "Neonates protected at birth against neonatal tetanus (PAB) (%)\n",
      "One-year-olds immunized with MCV\n",
      "One-year-olds immunized with three doses of diphtheria tetanus toxoid and pertussis (DTP3) (%)\n",
      "One-year-olds immunized with three doses of Hepatitis B (HepB3) (%)\n",
      "One-year-olds immunized with three doses of Hib (Hib3) vaccine (%)\n",
      "Tuberculosis detection rate under DOTS (%)\n",
      "Tuberculosis treatment success under DOTS (%)\n",
      "Women who have had mammography (%)\n",
      "Women who have had PAP smear (%)\n",
      "Community and traditional health workers density (per 10 000 population)\n",
      "Dentistry personnel density (per 10 000 population)\n",
      "Environment and public health workers density (per 10 000 population)\n",
      "External resources for health as percentage of total expenditure on health\n",
      "General government expenditure on health as percentage of total expenditure on health\n",
      "General government expenditure on health as percentage of total government expenditure\n",
      "Hospital beds (per 10 000 population)\n",
      "Laboratory health workers density (per 10 000 population)\n",
      "Number of community and traditional health workers\n",
      "Number of dentistry personnel\n",
      "Number of environment and public health workers\n",
      "Number of laboratory health workers\n",
      "Number of nursing and midwifery personnel\n",
      "Number of other health service providers\n",
      "Number of pharmaceutical personnel\n",
      "Number of physicians\n",
      "Nursing and midwifery personnel density (per 10 000 population)\n",
      "Other health service providers density (per 10 000 population)\n",
      "Out-of-pocket expenditure as percentage of private expenditure on health\n",
      "Per capita government expenditure on health (PPP int. $)\n",
      "Per capita government expenditure on health at average exchange rate (US$)\n",
      "Per capita total expenditure on health (PPP int. $)\n",
      "Per capita total expenditure on health at average exchange rate (US$)\n",
      "Pharmaceutical personnel density (per 10 000 population)\n",
      "Physicians density (per 10 000 population)\n",
      "Private expenditure on health as percentage of total expenditure on health\n",
      "Private prepaid plans as percentage of private expenditure on health\n",
      "Ratio of health management and support workers to health service providers\n",
      "Ratio of nurses and midwives to physicians\n",
      "Social security expenditure on health as percentage of general government expenditure on health\n",
      "Total expenditure on health as percentage of gross domestic product\n",
      "Births attended by skilled health personnel (%) highest educational level of mother\n",
      "Births attended by skilled health personnel (%) highest wealth quintile\n",
      "Births attended by skilled health personnel (%) lowest educational level of mother\n",
      "Births attended by skilled health personnel (%) lowest wealth quintile\n",
      "Births attended by skilled health personnel (%) rural\n",
      "Births attended by skilled health personnel (%) urban\n",
      "Births attended by skilled health personnel difference highest lowest educational level of mother\n",
      "Births attended by skilled health personnel difference highest-lowest wealth quintile\n",
      "Births attended by skilled health personnel difference urban-rural\n",
      "Births attended by skilled health personnel ratio highest-lowest educational level of mother\n",
      "Births attended by skilled health personnel ratio highest-lowest wealth quintile\n",
      "Births attended by skilled health personnel ratio urban-rural\n",
      "Measles immunization coverage among one-year-olds (%) highest educational level of mother\n",
      "Measles immunization coverage among one-year-olds (%) highest wealth quintile\n",
      "Measles immunization coverage among one-year-olds (%) lowest educational level of mother\n",
      "Measles immunization coverage among one-year-olds (%) lowest wealth quintile\n",
      "Measles immunization coverage among one-year-olds (%) rural\n",
      "Measles immunization coverage among one-year-olds (%) urban\n",
      "Measles immunization coverage among one-year-olds difference highest-lowest educational level of mother\n",
      "Measles immunization coverage among one-year-olds difference highest-lowest wealth quintile\n",
      "Measles immunization coverage among one-year-olds difference urban-rural\n",
      "Measles immunization coverage among one-year-olds ratio highest-lowest educational level of mother\n",
      "Measles immunization coverage among one-year-olds ratio highest-lowest wealth quintile\n",
      "Measles immunization coverage among one-year-olds ratio urban-rural\n",
      "Under-5 mortality rate (Probability of dying aged &lt; 5 years per 1 000 live births) difference lowest-highest educational level of mother\n",
      "Under-5 mortality rate (Probability of dying aged &lt; 5 years per 1 000 live births) difference lowest-highest wealth quintile\n",
      "Under-5 mortality rate (Probability of dying aged &lt; 5 years per 1 000 live births) difference rural-urban\n",
      "Under-5 mortality rate (Probability of dying aged &lt; 5 years per 1 000 live births) highest educational level of mother\n",
      "Under-5 mortality rate (Probability of dying aged &lt; 5 years per 1 000 live births) highest wealth quintile\n",
      "Under-5 mortality rate (Probability of dying aged &lt; 5 years per 1 000 live births) lowest educational level of mother\n",
      "Under-5 mortality rate (Probability of dying aged &lt; 5 years per 1 000 live births) lowest wealth quintile\n",
      "Under-5 mortality rate (Probability of dying aged &lt; 5 years per 1 000 live births) ratio lowest-highest educational level of mother\n",
      "Under-5 mortality rate (Probability of dying aged &lt; 5 years per 1 000 live births) ratio lowest-highest wealth quintile\n",
      "Under-5 mortality rate (Probability of dying aged &lt; 5 years per 1 000 live births) ratio rural-urban\n",
      "Under-5 mortality rate (Probability of dying aged &lt; 5 years per 1 000 live births) rural\n",
      "Under-5 mortality rate (Probability of dying aged &lt; 5 years per 1 000 live births) urban\n",
      "Adult mortality rate (probability of dying between 15 to 60 years per 1000 population) both sexes\n",
      "Adult mortality rate (probability of dying between 15 to 60 years per 1000 population) female\n",
      "Adult mortality rate (probability of dying between 15 to 60 years per 1000 population) male\n",
      "Age-standardized mortality rate for cancer (per 100 000 population)\n",
      "Age-standardized mortality rate for cardiovascular diseases (per 100 000 population)\n",
      "Age-standardized mortality rate for injuries (per 100 000 population)\n",
      "Age-standardized mortality rate for non-communicable diseases (per 100 000 population)\n",
      "Deaths among children under five years of age due to diarrhoeal diseases (%)\n",
      "Deaths among children under five years of age due to HIV/AIDS (%)\n",
      "Deaths among children under five years of age due to injuries (%)\n",
      "Deaths among children under five years of age due to malaria (%)\n",
      "Deaths among children under five years of age due to measles (%)\n",
      "Deaths among children under five years of age due to neonatal causes (%)\n",
      "Deaths among children under five years of age due to other causes (%)\n",
      "Deaths among children under five years of age due to pneumonia (%)\n",
      "Deaths due to HIV/AIDS (per 100 000 population per year)\n",
      "Deaths due to tuberculosis among HIV-negative people (per 100 000 population)\n",
      "Deaths due to tuberculosis among HIV-positive people (per 100 000 population)\n",
      "Healthy life expectancy (HALE) at birth (years) both sexes\n",
      "Healthy life expectancy (HALE) at birth (years) female\n",
      "Healthy life expectancy (HALE) at birth (years) male\n",
      "Incidence of tuberculosis (per 100 000 population per year)\n",
      "Infant mortality rate (per 1 000 live births) both sexes\n",
      "Infant mortality rate (per 1 000 live births) female\n",
      "Infant mortality rate (per 1 000 live births) male\n",
      "Life expectancy at birth (years) both sexes\n",
      "Life expectancy at birth (years) female \n",
      "Life expectancy at birth (years) male\n",
      "Maternal mortality ratio (per 100 000 live births)\n",
      "Neonatal mortality rate (per 1 000 live births)\n",
      "Number of confirmed poliomyelitis cases\n",
      "Prevalence of HIV among adults aged &gt;=15 years (per 100 000 population)\n",
      "Prevalence of tuberculosis (per 100 000 population)\n",
      "Under-5 mortality rate (probability of dying by age 5 per 1000 live births) both sexes\n",
      "Under-5 mortality rate (probability of dying by age 5 per 1000 live births) female\n",
      "Under-5 mortality rate (probability of dying by age 5 per 1000 live births) male\n",
      "Years of life lost to communicable diseases (%)\n",
      "Years of life lost to injuries (%)\n",
      "Years of life lost to non-communicable diseases (%)\n",
      "Children under five years of age overweight for age (%)\n",
      "Children under five years of age stunted for age (%)\n",
      "Children under five years of age underweight for age (%)\n",
      "Newborns with low birth weight (%)\n",
      "Per capita recorded alcohol consumption (litres of pure alcohol) among adults (&gt;=15 years)\n",
      "Population using solid fuels (%) rural\n",
      "Population using solid fuels (%) urban\n",
      "Population with sustainable access to improved drinking water sources (%) rural\n",
      "Population with sustainable access to improved drinking water sources (%) total\n",
      "Population with sustainable access to improved drinking water sources (%) urban\n",
      "Population with sustainable access to improved sanitation (%) rural\n",
      "Population with sustainable access to improved sanitation (%) total\n",
      "Population with sustainable access to improved sanitation (%) urban\n",
      "Prevalence of adults (&gt;=15 years) who are obese (%) female\n",
      "Prevalence of adults (&gt;=15 years) who are obese (%) male\n",
      "Prevalence of condom use by young people (15-24 years) at higher risk sex (%) female\n",
      "Prevalence of condom use by young people (15-24 years) at higher risk sex (%) male\n",
      "Prevalence of current tobacco use among adolescents (13-15 years) (%) both sexes\n",
      "Prevalence of current tobacco use among adolescents (13-15 years) (%) female\n",
      "Prevalence of current tobacco use among adolescents (13-15 years) (%) male\n",
      "Prevalence of current tobacco use among adults (&gt;=15 years) (%) both sexes\n",
      "Prevalence of current tobacco use among adults (&gt;=15 years) (%) female\n",
      "Prevalence of current tobacco use among adults (&gt;=15 years) (%) male\n",
      "Adolescent_fertility_rate\n",
      "Agricultural_land\n",
      "Agriculture_contribution_to_economy\n",
      "Aid_given\n",
      "Aid_received\n",
      "Aid_received_total\n",
      "All_forms_of_TB_new_cases_per_100_000_estimated\n",
      "All_forms_of_TB_new_cases_per_100_000_reported\n",
      "Annual_freshwater_withdrawals_total\n",
      "Arms_exports\n",
      "Arms_imports\n",
      "Bad_teeth_per_child\n",
      "Births_attended_by_skilled_health_staff\n",
      "Breast_cancer_deaths_per_100_000_women\n",
      "Breast_cancer_new_cases_per_100_000_women\n",
      "Breast_cancer_number_of_female_deaths\n",
      "Breast_cancer_number_of_new_female_cases\n",
      "Broadband_subscribers\n",
      "Broadband_subscribers_per_100_people\n",
      "CO2_emissions\n",
      "CO2_intensity_of_economic_output\n",
      "Capital_formation\n",
      "Cell_phones_per_100_people\n",
      "Cell_phones_total\n",
      "Central_bank_discount_rate\n",
      "Cervical_cancer_deaths_per_100_000_women\n",
      "Cervical_cancer_new_cases_per_100_000_women\n",
      "Cervical_cancer_number_of_female_deaths\n",
      "Cervical_cancer_number_of_new_female_cases\n",
      "Children_and_elderly\n",
      "Children_out_of_school_primary\n",
      "Children_out_of_school_primary_female\n",
      "Children_out_of_school_primary_male\n",
      "Children_per_woman\n",
      "Coal_consumption\n",
      "Coal_consumption_per_person\n",
      "Coal_production\n",
      "Coal_production_per_person\n",
      "Colon_and_Rectum_cancer_deaths_per_100_000_men\n",
      "Colon_and_Rectum_cancer_deaths_per_100_000_women\n",
      "Colon_and_Rectum_cancer_new_cases_per_100_000_men\n",
      "Colon_and_Rectum_cancer_new_cases_per_100_000_women\n",
      "Colon_and_Rectum_cancer_number_of_female_deaths\n",
      "Colon_and_Rectum_cancer_number_of_male_deaths\n",
      "Colon_and_Rectum_cancer_number_of_new_female_cases\n",
      "Colon_and_Rectum_cancer_number_of_new_male_cases\n",
      "Consumer_price_index\n",
      "Contraceptive_use\n",
      "Deaths_from_TB_per_100_000_estimated\n",
      "Debt_servicing_costs\n",
      "Democracy_score\n",
      "Electric_power_consumption\n",
      "Electricity_generation\n",
      "Electricity_generation_per_person\n",
      "Energy_use\n",
      "Expenditure_per_student_primary\n",
      "Expenditure_per_student_secondary\n",
      "Expenditure_per_student_tertiary\n",
      "Exports_of_goods_and_services\n",
      "Exports_unit_value\n",
      "External_debt_total_DOD_current_USdollars\n",
      "External_debt_total_pct_of_GNI\n",
      "Female_labour_force\n",
      "Fixed_line_and_mobile_phone_subscribers\n",
      "Foreign_direct_investment_net_inflows\n",
      "Foreign_direct_investment_net_outflows\n",
      "Forest_area\n",
      "Gross_capital_formation\n",
      "HIV_infected\n",
      "Health_expenditure_per_person\n",
      "Health_expenditure_private\n",
      "Health_expenditure_public_pct_of_GDP\n",
      "Health_expenditure_public_pct_of_government_expenditure\n",
      "Health_expenditure_public_pct_of_total_health_expenditure\n",
      "Health_expenditure_total\n",
      "High_technology_exports\n",
      "Hydroelectricity_consumption\n",
      "Hydroelectricity_consumption_per_person\n",
      "Imports_of_goods_and_services\n",
      "Imports_unit_value\n",
      "Improved_sanitation_facilities_urban\n",
      "Improved_water_source\n",
      "Income_growth\n",
      "Income_per_person\n",
      "Income_share_held_by_lowest_20pct\n",
      "Industry_contribution_to_economy\n",
      "Inequality_index\n",
      "Infant_mortality_rate\n",
      "Infectious_TB_new_cases_per_100_000_estimated\n",
      "Infectious_TB_new_cases_per_100_000_reported\n",
      "Infectious_TB_treatment_completeness\n",
      "Inflation_GDP_deflator\n",
      "Internet_users\n",
      "Life_expectancy_at_birth\n",
      "Literacy_rate_adult_female\n",
      "Literacy_rate_adult_male\n",
      "Literacy_rate_adult_total\n",
      "Literacy_rate_youth_female\n",
      "Literacy_rate_youth_male\n",
      "Literacy_rate_youth_total\n",
      "Liver_cancer_deaths_per_100_000_men\n",
      "Liver_cancer_deaths_per_100_000_women\n",
      "Liver_cancer_new_cases_per_100_000_men\n",
      "Liver_cancer_new_cases_per_100_000_women\n",
      "Liver_cancer_number_of_female_deaths\n",
      "Liver_cancer_number_of_male_deaths\n",
      "Liver_cancer_number_of_new_female_cases\n",
      "Liver_cancer_number_of_new_male_cases\n",
      "Lung_cancer_deaths_per_100_000_men\n",
      "Lung_cancer_deaths_per_100_000_women\n",
      "Lung_cancer_new_cases_per_100_000_men\n",
      "Lung_cancer_new_cases_per_100_000_women\n",
      "Lung_cancer_number_of_female_deaths\n",
      "Lung_cancer_number_of_male_deaths\n",
      "Lung_cancer_number_of_new_female_cases\n",
      "Lung_cancer_number_of_new_male_cases\n",
      "Malaria_prevention_insecticide_treated_bed_nets_usage\n",
      "Malaria_treatment\n",
      "Malnutrition_weight_for_age\n",
      "Market_value_of_listed_companies\n",
      "Maternal_mortality\n",
      "Math_achievement_4th_grade\n",
      "Math_achievement_8th_grade\n",
      "Measles_immunization\n",
      "Medical_Doctors\n",
      "Merchandise_trade\n",
      "Military_expenditure\n",
      "Natural_gas_consumption\n",
      "Natural_gas_consumption_per_person\n",
      "Natural_gas_production\n",
      "Natural_gas_production_per_person\n",
      "Natural_gas_proved_reserves\n",
      "Natural_gas_proven_reserves_per_person\n",
      "Net_barter_terms_of_trade\n",
      "Nuclear_consumption\n",
      "Nuclear_consumption_per_person\n",
      "Number_of_deaths_from_TB_estimated\n",
      "Number_of_existing_TB_cases_estimated\n",
      "Oil_consumption\n",
      "Oil_consumption_per_person\n",
      "Oil_production\n",
      "Oil_production_per_person\n",
      "Oil_proved_reserves\n",
      "Oil_proven_reserves_per_person\n",
      "Old_version_of_Income_per_person\n",
      "Patent_applications\n",
      "Patents_granted\n",
      "Patents_in_force\n",
      "People_living_with_HIV\n",
      "Personal_computers_per_100_people\n",
      "Personal_computers_total\n",
      "Population_growth\n",
      "Population_in_urban_agglomerations_more_than_1_million\n",
      "Population_total\n",
      "Poverty_headcount_ratio_at_national_poverty_line\n",
      "Present_value_of_debt\n",
      "Primary_completion_rate_total\n",
      "Primary_energy_consumption\n",
      "Primary_energy_consumption_per_person\n",
      "Primary_school_completion_pct_of_boys\n",
      "Primary_school_completion_pct_of_girls\n",
      "Prostate_cancer_deaths_per_100_000_men\n",
      "Prostate_cancer_new_cases_per_100_000_men\n",
      "Prostate_cancer_number_of_male_deaths\n",
      "Prostate_cancer_number_of_new_male_cases\n",
      "Pump_price_for_gasoline\n",
      "Ratio_of_girls_to_boys_in_primary_and_secondary_education\n",
      "Ratio_of_young_literate_females_to_males\n",
      "Roads_paved\n",
      "SO2_emissions_per_person\n",
      "Services_contribution_to_economy\n",
      "Stomach_cancer_deaths_per_100_000_men\n",
      "Stomach_cancer_deaths_per_100_000_women\n",
      "Stomach_cancer_new_cases_per_100_000_men\n",
      "Stomach_cancer_new_cases_per_100_000_women\n",
      "Stomach_cancer_number_of_female_deaths\n",
      "Stomach_cancer_number_of_male_deaths\n",
      "Stomach_cancer_number_of_new_female_cases\n",
      "Stomach_cancer_number_of_new_male_cases\n",
      "Sugar_per_person\n",
      "Surface_area\n",
      "Tax_revenue\n",
      "Total_CO2_emissions\n",
      "Total_income\n",
      "Total_reserves\n",
      "Trade_balance_goods_and_services\n",
      "Under_five_mortality_from_CME\n",
      "Under_five_mortality_from_IHME\n",
      "Under_five_mortality_rate\n",
      "Urban_population\n",
      "Urban_population_growth\n",
      "Urban_population_pct_of_total\n"
     ]
    }
   ],
   "source": [
    "for col in df_who.columns:\n",
    "    print(col)"
   ]
  },
  {
   "cell_type": "code",
   "execution_count": 25,
   "metadata": {},
   "outputs": [
    {
     "data": {
      "text/plain": [
       "0             Afghanistan\n",
       "1                 Albania\n",
       "2                 Algeria\n",
       "3                 Andorra\n",
       "4                  Angola\n",
       "              ...        \n",
       "197               Vietnam\n",
       "198    West Bank and Gaza\n",
       "199                 Yemen\n",
       "200                Zambia\n",
       "201              Zimbabwe\n",
       "Name: Country, Length: 202, dtype: object"
      ]
     },
     "execution_count": 25,
     "metadata": {},
     "output_type": "execute_result"
    }
   ],
   "source": [
    "df_who[\"Country\"] # Una serie"
   ]
  },
  {
   "cell_type": "markdown",
   "metadata": {
    "collapsed": false
   },
   "source": [
    "Un cop seleccionam una columna podem accedir als seus elements com si fossin una llista:"
   ]
  },
  {
   "cell_type": "code",
   "execution_count": 26,
   "metadata": {},
   "outputs": [
    {
     "name": "stdout",
     "output_type": "stream",
     "text": [
      "Afghanistan\n",
      "------------------------------\n",
      "0    Afghanistan\n",
      "1        Albania\n",
      "2        Algeria\n",
      "3        Andorra\n",
      "4         Angola\n",
      "Name: Country, dtype: object\n",
      "------------------------------\n",
      "['Afghanistan' 'Albania' 'Algeria' 'Andorra' 'Angola'\n",
      " 'Antigua and Barbuda' 'Argentina' 'Armenia' 'Australia' 'Austria'\n",
      " 'Azerbaijan' 'Bahamas' 'Bahrain' 'Bangladesh' 'Barbados' 'Belarus'\n",
      " 'Belgium' 'Belize' 'Benin' 'Bermuda' 'Bhutan' 'Bolivia'\n",
      " 'Bosnia and Herzegovina' 'Botswana' 'Brazil' 'Brunei Darussalam'\n",
      " 'Bulgaria' 'Burkina Faso' 'Burundi' 'Cambodia' 'Cameroon' 'Canada'\n",
      " 'Cape Verde' 'Central African Republic' 'Chad' 'Chile' 'China' 'Colombia'\n",
      " 'Comoros' 'Congo, Dem. Rep.' 'Congo, Rep.' 'Cook Islands' 'Costa Rica'\n",
      " \"Cote d'Ivoire\" 'Croatia' 'Cuba' 'Cyprus' 'Czech Republic' 'Denmark'\n",
      " 'Djibouti' 'Dominica' 'Dominican Republic' 'Ecuador' 'Egypt'\n",
      " 'El Salvador' 'Equatorial Guinea' 'Eritrea' 'Estonia' 'Ethiopia' 'Fiji'\n",
      " 'Finland' 'France' 'French Polynesia' 'Gabon' 'Gambia' 'Georgia'\n",
      " 'Germany' 'Ghana' 'Greece' 'Grenada' 'Guatemala' 'Guinea' 'Guinea-Bissau'\n",
      " 'Guyana' 'Haiti' 'Honduras' 'Hong Kong, China' 'Hungary' 'Iceland'\n",
      " 'India' 'Indonesia' 'Iran (Islamic Republic of)' 'Iraq' 'Ireland'\n",
      " 'Israel' 'Italy' 'Jamaica' 'Japan' 'Jordan' 'Kazakhstan' 'Kenya'\n",
      " 'Kiribati' 'Korea, Dem. Rep.' 'Korea, Rep.' 'Kuwait' 'Kyrgyzstan'\n",
      " \"Lao People's Democratic Republic\" 'Latvia' 'Lebanon' 'Lesotho' 'Liberia'\n",
      " 'Libyan Arab Jamahiriya' 'Lithuania' 'Luxembourg' 'Macao, China'\n",
      " 'Macedonia' 'Madagascar' 'Malawi' 'Malaysia' 'Maldives' 'Mali' 'Malta'\n",
      " 'Marshall Islands' 'Mauritania' 'Mauritius' 'Mexico'\n",
      " 'Micronesia (Federated States of)' 'Moldova' 'Monaco' 'Mongolia'\n",
      " 'Montenegro' 'Morocco' 'Mozambique' 'Myanmar' 'Namibia' 'Nauru' 'Nepal'\n",
      " 'Netherlands' 'Netherlands Antilles' 'New Caledonia' 'New Zealand'\n",
      " 'Nicaragua' 'Niger' 'Nigeria' 'Niue' 'Norway' 'Oman' 'Pakistan' 'Palau'\n",
      " 'Panama' 'Papua New Guinea' 'Paraguay' 'Peru' 'Philippines' 'Poland'\n",
      " 'Portugal' 'Puerto Rico' 'Qatar' 'Romania' 'Russia' 'Rwanda'\n",
      " 'Saint Kitts and Nevis' 'Saint Lucia' 'Saint Vincent and the Grenadines'\n",
      " 'Samoa' 'San Marino' 'Sao Tome and Principe' 'Saudi Arabia' 'Senegal'\n",
      " 'Serbia' 'Seychelles' 'Sierra Leone' 'Singapore' 'Slovakia' 'Slovenia'\n",
      " 'Solomon Islands' 'Somalia' 'South Africa' 'Spain' 'Sri Lanka' 'Sudan'\n",
      " 'Suriname' 'Swaziland' 'Sweden' 'Switzerland' 'Syria' 'Taiwan'\n",
      " 'Tajikistan' 'Tanzania' 'Thailand' 'Timor-Leste' 'Togo' 'Tonga'\n",
      " 'Trinidad and Tobago' 'Tunisia' 'Turkey' 'Turkmenistan' 'Tuvalu' 'Uganda'\n",
      " 'Ukraine' 'United Arab Emirates' 'United Kingdom'\n",
      " 'United States of America' 'Uruguay' 'Uzbekistan' 'Vanuatu' 'Venezuela'\n",
      " 'Vietnam' 'West Bank and Gaza' 'Yemen' 'Zambia' 'Zimbabwe']\n"
     ]
    }
   ],
   "source": [
    "print(df_who[\"Country\"][0])\n",
    "print(\"-\"*30)\n",
    "print(df_who[\"Country\"][:5])\n",
    "print(\"-\"*30)\n",
    "print(df_who[\"Country\"].values)"
   ]
  },
  {
   "cell_type": "markdown",
   "metadata": {
    "collapsed": false
   },
   "source": [
    " Existeix una altra manera més simple de seleccionar una única columna pero hi ha noms de columnes molt llargues: \"Children aged &lt;5 years who received any antimalarial treatment for fever (%)\"\n",
    "\n",
    "**Nota**: En la creació de documents és important un adequat nom de columnes"
   ]
  },
  {
   "cell_type": "code",
   "execution_count": 27,
   "metadata": {},
   "outputs": [
    {
     "data": {
      "text/plain": [
       "0             Afghanistan\n",
       "1                 Albania\n",
       "2                 Algeria\n",
       "3                 Andorra\n",
       "4                  Angola\n",
       "              ...        \n",
       "197               Vietnam\n",
       "198    West Bank and Gaza\n",
       "199                 Yemen\n",
       "200                Zambia\n",
       "201              Zimbabwe\n",
       "Name: Country, Length: 202, dtype: object"
      ]
     },
     "execution_count": 27,
     "metadata": {},
     "output_type": "execute_result"
    }
   ],
   "source": [
    "df_who.Country"
   ]
  },
  {
   "cell_type": "code",
   "execution_count": 28,
   "metadata": {
    "pycharm": {
     "is_executing": true
    }
   },
   "outputs": [
    {
     "name": "stdout",
     "output_type": "stream",
     "text": [
      "Population annual growth rate (%)\n",
      "------------------------------\n",
      "0      4.0\n",
      "1      0.6\n",
      "2      1.5\n",
      "3      1.0\n",
      "4      2.8\n",
      "      ... \n",
      "197    1.4\n",
      "198    NaN\n",
      "199    3.0\n",
      "200    1.9\n",
      "201    0.8\n",
      "Name: Population annual growth rate (%), Length: 202, dtype: float64\n"
     ]
    }
   ],
   "source": [
    "print(df_who.columns[9])\n",
    "print(\"-\"*30)\n",
    "print(df_who[df_who.columns[9]])\n"
   ]
  },
  {
   "cell_type": "code",
   "execution_count": 29,
   "metadata": {},
   "outputs": [
    {
     "data": {
      "text/html": [
       "<div>\n",
       "<style scoped>\n",
       "    .dataframe tbody tr th:only-of-type {\n",
       "        vertical-align: middle;\n",
       "    }\n",
       "\n",
       "    .dataframe tbody tr th {\n",
       "        vertical-align: top;\n",
       "    }\n",
       "\n",
       "    .dataframe thead th {\n",
       "        text-align: right;\n",
       "    }\n",
       "</style>\n",
       "<table border=\"1\" class=\"dataframe\">\n",
       "  <thead>\n",
       "    <tr style=\"text-align: right;\">\n",
       "      <th></th>\n",
       "      <th>Country</th>\n",
       "      <th>CountryID</th>\n",
       "      <th>Continent</th>\n",
       "      <th>Adolescent fertility rate (%)</th>\n",
       "      <th>Adult literacy rate (%)</th>\n",
       "    </tr>\n",
       "  </thead>\n",
       "  <tbody>\n",
       "    <tr>\n",
       "      <th>0</th>\n",
       "      <td>Afghanistan</td>\n",
       "      <td>1</td>\n",
       "      <td>1</td>\n",
       "      <td>151.0</td>\n",
       "      <td>28.0</td>\n",
       "    </tr>\n",
       "    <tr>\n",
       "      <th>1</th>\n",
       "      <td>Albania</td>\n",
       "      <td>2</td>\n",
       "      <td>2</td>\n",
       "      <td>27.0</td>\n",
       "      <td>98.7</td>\n",
       "    </tr>\n",
       "    <tr>\n",
       "      <th>2</th>\n",
       "      <td>Algeria</td>\n",
       "      <td>3</td>\n",
       "      <td>3</td>\n",
       "      <td>6.0</td>\n",
       "      <td>69.9</td>\n",
       "    </tr>\n",
       "    <tr>\n",
       "      <th>3</th>\n",
       "      <td>Andorra</td>\n",
       "      <td>4</td>\n",
       "      <td>2</td>\n",
       "      <td>NaN</td>\n",
       "      <td>NaN</td>\n",
       "    </tr>\n",
       "    <tr>\n",
       "      <th>4</th>\n",
       "      <td>Angola</td>\n",
       "      <td>5</td>\n",
       "      <td>3</td>\n",
       "      <td>146.0</td>\n",
       "      <td>67.4</td>\n",
       "    </tr>\n",
       "    <tr>\n",
       "      <th>...</th>\n",
       "      <td>...</td>\n",
       "      <td>...</td>\n",
       "      <td>...</td>\n",
       "      <td>...</td>\n",
       "      <td>...</td>\n",
       "    </tr>\n",
       "    <tr>\n",
       "      <th>197</th>\n",
       "      <td>Vietnam</td>\n",
       "      <td>198</td>\n",
       "      <td>6</td>\n",
       "      <td>25.0</td>\n",
       "      <td>90.3</td>\n",
       "    </tr>\n",
       "    <tr>\n",
       "      <th>198</th>\n",
       "      <td>West Bank and Gaza</td>\n",
       "      <td>199</td>\n",
       "      <td>1</td>\n",
       "      <td>NaN</td>\n",
       "      <td>NaN</td>\n",
       "    </tr>\n",
       "    <tr>\n",
       "      <th>199</th>\n",
       "      <td>Yemen</td>\n",
       "      <td>200</td>\n",
       "      <td>1</td>\n",
       "      <td>83.0</td>\n",
       "      <td>54.1</td>\n",
       "    </tr>\n",
       "    <tr>\n",
       "      <th>200</th>\n",
       "      <td>Zambia</td>\n",
       "      <td>201</td>\n",
       "      <td>3</td>\n",
       "      <td>161.0</td>\n",
       "      <td>68.0</td>\n",
       "    </tr>\n",
       "    <tr>\n",
       "      <th>201</th>\n",
       "      <td>Zimbabwe</td>\n",
       "      <td>202</td>\n",
       "      <td>3</td>\n",
       "      <td>101.0</td>\n",
       "      <td>89.5</td>\n",
       "    </tr>\n",
       "  </tbody>\n",
       "</table>\n",
       "<p>202 rows × 5 columns</p>\n",
       "</div>"
      ],
      "text/plain": [
       "                Country  CountryID  Continent  Adolescent fertility rate (%)  \\\n",
       "0           Afghanistan          1          1                          151.0   \n",
       "1               Albania          2          2                           27.0   \n",
       "2               Algeria          3          3                            6.0   \n",
       "3               Andorra          4          2                            NaN   \n",
       "4                Angola          5          3                          146.0   \n",
       "..                  ...        ...        ...                            ...   \n",
       "197             Vietnam        198          6                           25.0   \n",
       "198  West Bank and Gaza        199          1                            NaN   \n",
       "199               Yemen        200          1                           83.0   \n",
       "200              Zambia        201          3                          161.0   \n",
       "201            Zimbabwe        202          3                          101.0   \n",
       "\n",
       "     Adult literacy rate (%)  \n",
       "0                       28.0  \n",
       "1                       98.7  \n",
       "2                       69.9  \n",
       "3                        NaN  \n",
       "4                       67.4  \n",
       "..                       ...  \n",
       "197                     90.3  \n",
       "198                      NaN  \n",
       "199                     54.1  \n",
       "200                     68.0  \n",
       "201                     89.5  \n",
       "\n",
       "[202 rows x 5 columns]"
      ]
     },
     "execution_count": 29,
     "metadata": {},
     "output_type": "execute_result"
    }
   ],
   "source": [
    "# Podem agafar multiples columnes\n",
    "df_who[df_who.columns[0:5]]\n"
   ]
  },
  {
   "cell_type": "code",
   "execution_count": 30,
   "metadata": {},
   "outputs": [
    {
     "data": {
      "text/html": [
       "<div>\n",
       "<style scoped>\n",
       "    .dataframe tbody tr th:only-of-type {\n",
       "        vertical-align: middle;\n",
       "    }\n",
       "\n",
       "    .dataframe tbody tr th {\n",
       "        vertical-align: top;\n",
       "    }\n",
       "\n",
       "    .dataframe thead th {\n",
       "        text-align: right;\n",
       "    }\n",
       "</style>\n",
       "<table border=\"1\" class=\"dataframe\">\n",
       "  <thead>\n",
       "    <tr style=\"text-align: right;\">\n",
       "      <th></th>\n",
       "      <th>CountryID</th>\n",
       "      <th>Continent</th>\n",
       "    </tr>\n",
       "  </thead>\n",
       "  <tbody>\n",
       "    <tr>\n",
       "      <th>0</th>\n",
       "      <td>1</td>\n",
       "      <td>1</td>\n",
       "    </tr>\n",
       "    <tr>\n",
       "      <th>1</th>\n",
       "      <td>2</td>\n",
       "      <td>2</td>\n",
       "    </tr>\n",
       "    <tr>\n",
       "      <th>2</th>\n",
       "      <td>3</td>\n",
       "      <td>3</td>\n",
       "    </tr>\n",
       "    <tr>\n",
       "      <th>3</th>\n",
       "      <td>4</td>\n",
       "      <td>2</td>\n",
       "    </tr>\n",
       "    <tr>\n",
       "      <th>4</th>\n",
       "      <td>5</td>\n",
       "      <td>3</td>\n",
       "    </tr>\n",
       "    <tr>\n",
       "      <th>...</th>\n",
       "      <td>...</td>\n",
       "      <td>...</td>\n",
       "    </tr>\n",
       "    <tr>\n",
       "      <th>197</th>\n",
       "      <td>198</td>\n",
       "      <td>6</td>\n",
       "    </tr>\n",
       "    <tr>\n",
       "      <th>198</th>\n",
       "      <td>199</td>\n",
       "      <td>1</td>\n",
       "    </tr>\n",
       "    <tr>\n",
       "      <th>199</th>\n",
       "      <td>200</td>\n",
       "      <td>1</td>\n",
       "    </tr>\n",
       "    <tr>\n",
       "      <th>200</th>\n",
       "      <td>201</td>\n",
       "      <td>3</td>\n",
       "    </tr>\n",
       "    <tr>\n",
       "      <th>201</th>\n",
       "      <td>202</td>\n",
       "      <td>3</td>\n",
       "    </tr>\n",
       "  </tbody>\n",
       "</table>\n",
       "<p>202 rows × 2 columns</p>\n",
       "</div>"
      ],
      "text/plain": [
       "     CountryID  Continent\n",
       "0            1          1\n",
       "1            2          2\n",
       "2            3          3\n",
       "3            4          2\n",
       "4            5          3\n",
       "..         ...        ...\n",
       "197        198          6\n",
       "198        199          1\n",
       "199        200          1\n",
       "200        201          3\n",
       "201        202          3\n",
       "\n",
       "[202 rows x 2 columns]"
      ]
     },
     "execution_count": 30,
     "metadata": {},
     "output_type": "execute_result"
    }
   ],
   "source": [
    "df_who[[\"CountryID\",\"Continent\"]]"
   ]
  },
  {
   "cell_type": "code",
   "execution_count": 31,
   "metadata": {},
   "outputs": [
    {
     "data": {
      "text/html": [
       "<div>\n",
       "<style scoped>\n",
       "    .dataframe tbody tr th:only-of-type {\n",
       "        vertical-align: middle;\n",
       "    }\n",
       "\n",
       "    .dataframe tbody tr th {\n",
       "        vertical-align: top;\n",
       "    }\n",
       "\n",
       "    .dataframe thead th {\n",
       "        text-align: right;\n",
       "    }\n",
       "</style>\n",
       "<table border=\"1\" class=\"dataframe\">\n",
       "  <thead>\n",
       "    <tr style=\"text-align: right;\">\n",
       "      <th></th>\n",
       "      <th>Adolescent fertility rate (%)</th>\n",
       "      <th>Adult literacy rate (%)</th>\n",
       "    </tr>\n",
       "  </thead>\n",
       "  <tbody>\n",
       "    <tr>\n",
       "      <th>0</th>\n",
       "      <td>151.0</td>\n",
       "      <td>28.0</td>\n",
       "    </tr>\n",
       "    <tr>\n",
       "      <th>1</th>\n",
       "      <td>27.0</td>\n",
       "      <td>98.7</td>\n",
       "    </tr>\n",
       "    <tr>\n",
       "      <th>2</th>\n",
       "      <td>6.0</td>\n",
       "      <td>69.9</td>\n",
       "    </tr>\n",
       "    <tr>\n",
       "      <th>3</th>\n",
       "      <td>NaN</td>\n",
       "      <td>NaN</td>\n",
       "    </tr>\n",
       "    <tr>\n",
       "      <th>4</th>\n",
       "      <td>146.0</td>\n",
       "      <td>67.4</td>\n",
       "    </tr>\n",
       "    <tr>\n",
       "      <th>...</th>\n",
       "      <td>...</td>\n",
       "      <td>...</td>\n",
       "    </tr>\n",
       "    <tr>\n",
       "      <th>197</th>\n",
       "      <td>25.0</td>\n",
       "      <td>90.3</td>\n",
       "    </tr>\n",
       "    <tr>\n",
       "      <th>198</th>\n",
       "      <td>NaN</td>\n",
       "      <td>NaN</td>\n",
       "    </tr>\n",
       "    <tr>\n",
       "      <th>199</th>\n",
       "      <td>83.0</td>\n",
       "      <td>54.1</td>\n",
       "    </tr>\n",
       "    <tr>\n",
       "      <th>200</th>\n",
       "      <td>161.0</td>\n",
       "      <td>68.0</td>\n",
       "    </tr>\n",
       "    <tr>\n",
       "      <th>201</th>\n",
       "      <td>101.0</td>\n",
       "      <td>89.5</td>\n",
       "    </tr>\n",
       "  </tbody>\n",
       "</table>\n",
       "<p>202 rows × 2 columns</p>\n",
       "</div>"
      ],
      "text/plain": [
       "     Adolescent fertility rate (%)  Adult literacy rate (%)\n",
       "0                            151.0                     28.0\n",
       "1                             27.0                     98.7\n",
       "2                              6.0                     69.9\n",
       "3                              NaN                      NaN\n",
       "4                            146.0                     67.4\n",
       "..                             ...                      ...\n",
       "197                           25.0                     90.3\n",
       "198                            NaN                      NaN\n",
       "199                           83.0                     54.1\n",
       "200                          161.0                     68.0\n",
       "201                          101.0                     89.5\n",
       "\n",
       "[202 rows x 2 columns]"
      ]
     },
     "execution_count": 31,
     "metadata": {},
     "output_type": "execute_result"
    }
   ],
   "source": [
    "# Podem accedir a les columnes amb la seva posició en lloc del nom\n",
    "# funció: .iloc(files, columnes)\n",
    "df_who.iloc[:,3:5]"
   ]
  },
  {
   "cell_type": "code",
   "execution_count": 32,
   "metadata": {},
   "outputs": [
    {
     "data": {
      "text/html": [
       "<div>\n",
       "<style scoped>\n",
       "    .dataframe tbody tr th:only-of-type {\n",
       "        vertical-align: middle;\n",
       "    }\n",
       "\n",
       "    .dataframe tbody tr th {\n",
       "        vertical-align: top;\n",
       "    }\n",
       "\n",
       "    .dataframe thead th {\n",
       "        text-align: right;\n",
       "    }\n",
       "</style>\n",
       "<table border=\"1\" class=\"dataframe\">\n",
       "  <thead>\n",
       "    <tr style=\"text-align: right;\">\n",
       "      <th></th>\n",
       "      <th>Adolescent fertility rate (%)</th>\n",
       "      <th>Gross national income per capita (PPP international $)</th>\n",
       "      <th>Population annual growth rate (%)</th>\n",
       "    </tr>\n",
       "  </thead>\n",
       "  <tbody>\n",
       "    <tr>\n",
       "      <th>0</th>\n",
       "      <td>151.0</td>\n",
       "      <td>NaN</td>\n",
       "      <td>4.0</td>\n",
       "    </tr>\n",
       "    <tr>\n",
       "      <th>1</th>\n",
       "      <td>27.0</td>\n",
       "      <td>6000.0</td>\n",
       "      <td>0.6</td>\n",
       "    </tr>\n",
       "    <tr>\n",
       "      <th>2</th>\n",
       "      <td>6.0</td>\n",
       "      <td>5940.0</td>\n",
       "      <td>1.5</td>\n",
       "    </tr>\n",
       "    <tr>\n",
       "      <th>3</th>\n",
       "      <td>NaN</td>\n",
       "      <td>NaN</td>\n",
       "      <td>1.0</td>\n",
       "    </tr>\n",
       "    <tr>\n",
       "      <th>4</th>\n",
       "      <td>146.0</td>\n",
       "      <td>3890.0</td>\n",
       "      <td>2.8</td>\n",
       "    </tr>\n",
       "    <tr>\n",
       "      <th>...</th>\n",
       "      <td>...</td>\n",
       "      <td>...</td>\n",
       "      <td>...</td>\n",
       "    </tr>\n",
       "    <tr>\n",
       "      <th>197</th>\n",
       "      <td>25.0</td>\n",
       "      <td>2310.0</td>\n",
       "      <td>1.4</td>\n",
       "    </tr>\n",
       "    <tr>\n",
       "      <th>198</th>\n",
       "      <td>NaN</td>\n",
       "      <td>NaN</td>\n",
       "      <td>NaN</td>\n",
       "    </tr>\n",
       "    <tr>\n",
       "      <th>199</th>\n",
       "      <td>83.0</td>\n",
       "      <td>2090.0</td>\n",
       "      <td>3.0</td>\n",
       "    </tr>\n",
       "    <tr>\n",
       "      <th>200</th>\n",
       "      <td>161.0</td>\n",
       "      <td>1140.0</td>\n",
       "      <td>1.9</td>\n",
       "    </tr>\n",
       "    <tr>\n",
       "      <th>201</th>\n",
       "      <td>101.0</td>\n",
       "      <td>NaN</td>\n",
       "      <td>0.8</td>\n",
       "    </tr>\n",
       "  </tbody>\n",
       "</table>\n",
       "<p>202 rows × 3 columns</p>\n",
       "</div>"
      ],
      "text/plain": [
       "     Adolescent fertility rate (%)  \\\n",
       "0                            151.0   \n",
       "1                             27.0   \n",
       "2                              6.0   \n",
       "3                              NaN   \n",
       "4                            146.0   \n",
       "..                             ...   \n",
       "197                           25.0   \n",
       "198                            NaN   \n",
       "199                           83.0   \n",
       "200                          161.0   \n",
       "201                          101.0   \n",
       "\n",
       "     Gross national income per capita (PPP international $)  \\\n",
       "0                                                  NaN        \n",
       "1                                               6000.0        \n",
       "2                                               5940.0        \n",
       "3                                                  NaN        \n",
       "4                                               3890.0        \n",
       "..                                                 ...        \n",
       "197                                             2310.0        \n",
       "198                                                NaN        \n",
       "199                                             2090.0        \n",
       "200                                             1140.0        \n",
       "201                                                NaN        \n",
       "\n",
       "     Population annual growth rate (%)  \n",
       "0                                  4.0  \n",
       "1                                  0.6  \n",
       "2                                  1.5  \n",
       "3                                  1.0  \n",
       "4                                  2.8  \n",
       "..                                 ...  \n",
       "197                                1.4  \n",
       "198                                NaN  \n",
       "199                                3.0  \n",
       "200                                1.9  \n",
       "201                                0.8  \n",
       "\n",
       "[202 rows x 3 columns]"
      ]
     },
     "execution_count": 32,
     "metadata": {},
     "output_type": "execute_result"
    }
   ],
   "source": [
    "df_who.iloc[:,[3,5,9]]"
   ]
  },
  {
   "cell_type": "markdown",
   "metadata": {
    "collapsed": false
   },
   "source": [
    "### Estadístics\n",
    "\n",
    "En seleccionar una columna d'un dataframe obtenim una sèrie. Podem obtenir estadístics d'aquesta sèrie de manera molt senzilla:\n"
   ]
  },
  {
   "cell_type": "code",
   "execution_count": 33,
   "metadata": {
    "collapsed": false
   },
   "outputs": [
    {
     "name": "stdout",
     "output_type": "stream",
     "text": [
      "Min  0.0\n",
      "Max  199.0\n",
      "Mean  59.45762711864407\n"
     ]
    }
   ],
   "source": [
    "fertilitat = df_who[df_who.columns[3]]\n",
    "print(\"Min \", fertilitat.min())\n",
    "print(\"Max \", fertilitat.max())\n",
    "print(\"Mean \", fertilitat.mean())"
   ]
  },
  {
   "cell_type": "markdown",
   "metadata": {
    "collapsed": false
   },
   "source": [
    "A continuació trobareu la taula que mostra les funcions descriptives que tenim disponibles:\n",
    "<img src=\"https://i.imgur.com/OYnOFwL.png\">\n",
    "\n",
    "Veurem que obtenir aquestes informacions estadístiques ens pot ajudar a extreure informació molt concreta de la taula, per exemple, si volem saber:\n",
    "\n",
    "**¿Quin pais té la major emissió de CO2 ?**"
   ]
  },
  {
   "cell_type": "code",
   "execution_count": 34,
   "metadata": {
    "collapsed": false
   },
   "outputs": [
    {
     "data": {
      "text/plain": [
       "pandas.core.frame.DataFrame"
      ]
     },
     "execution_count": 34,
     "metadata": {},
     "output_type": "execute_result"
    }
   ],
   "source": [
    "co2 = df_who[\"Total_CO2_emissions\"]\n",
    "row = df_who[co2 == co2.max()]  # Selecció condicionada\n",
    "type(row)"
   ]
  },
  {
   "cell_type": "markdown",
   "metadata": {
    "collapsed": false
   },
   "source": [
    "La variable row conté la fila amb el valor màxim a la columna \"Total_CO2_emissions\""
   ]
  },
  {
   "cell_type": "code",
   "execution_count": 35,
   "metadata": {
    "collapsed": false
   },
   "outputs": [
    {
     "name": "stdout",
     "output_type": "stream",
     "text": [
      "192    United States of America\n",
      "Name: Country, dtype: object\n"
     ]
    }
   ],
   "source": [
    "print(row[\"Country\"])"
   ]
  },
  {
   "cell_type": "code",
   "execution_count": 36,
   "metadata": {
    "collapsed": false
   },
   "outputs": [
    {
     "data": {
      "text/plain": [
       "array(['United States of America'], dtype=object)"
      ]
     },
     "execution_count": 36,
     "metadata": {},
     "output_type": "execute_result"
    }
   ],
   "source": [
    "row[\"Country\"].values"
   ]
  },
  {
   "cell_type": "code",
   "execution_count": 37,
   "metadata": {
    "collapsed": false
   },
   "outputs": [
    {
     "name": "stdout",
     "output_type": "stream",
     "text": [
      "El pais mas contaminante es:  United States of America\n"
     ]
    }
   ],
   "source": [
    "print(\"El pais mas contaminante es: \", row[\"Country\"].values[0])"
   ]
  },
  {
   "cell_type": "markdown",
   "metadata": {},
   "source": [
    "Podem fer seleccions aleatories d'una serie"
   ]
  },
  {
   "cell_type": "code",
   "execution_count": 38,
   "metadata": {},
   "outputs": [
    {
     "name": "stdout",
     "output_type": "stream",
     "text": [
      "196     81.0\n",
      "71     153.0\n",
      "19       NaN\n",
      "Name: Adolescent fertility rate (%), dtype: float64\n"
     ]
    },
    {
     "data": {
      "text/plain": [
       "13     135.0\n",
       "189     29.0\n",
       "96     110.0\n",
       "Name: Adolescent fertility rate (%), dtype: float64"
      ]
     },
     "execution_count": 38,
     "metadata": {},
     "output_type": "execute_result"
    }
   ],
   "source": [
    "fertilitat = df_who[df_who.columns[3]]\n",
    "some = fertilitat.sample(n=3)\n",
    "print(some)\n",
    "fertilitat.sample(n=3,random_state=2023) #on random_state és la llavor/seed del aleatori"
   ]
  },
  {
   "attachments": {},
   "cell_type": "markdown",
   "metadata": {},
   "source": [
    "## Files\n",
    "\n",
    "Cada fila té un índex. L'índex pot ser numèric, alfabètic o de temps."
   ]
  },
  {
   "cell_type": "code",
   "execution_count": 39,
   "metadata": {},
   "outputs": [
    {
     "data": {
      "text/plain": [
       "RangeIndex(start=0, stop=202, step=1)"
      ]
     },
     "execution_count": 39,
     "metadata": {},
     "output_type": "execute_result"
    }
   ],
   "source": [
    "df_who.index"
   ]
  },
  {
   "cell_type": "code",
   "execution_count": 40,
   "metadata": {},
   "outputs": [
    {
     "data": {
      "text/plain": [
       "array([  0,   1,   2,   3,   4,   5,   6,   7,   8,   9,  10,  11,  12,\n",
       "        13,  14,  15,  16,  17,  18,  19,  20,  21,  22,  23,  24,  25,\n",
       "        26,  27,  28,  29,  30,  31,  32,  33,  34,  35,  36,  37,  38,\n",
       "        39,  40,  41,  42,  43,  44,  45,  46,  47,  48,  49,  50,  51,\n",
       "        52,  53,  54,  55,  56,  57,  58,  59,  60,  61,  62,  63,  64,\n",
       "        65,  66,  67,  68,  69,  70,  71,  72,  73,  74,  75,  76,  77,\n",
       "        78,  79,  80,  81,  82,  83,  84,  85,  86,  87,  88,  89,  90,\n",
       "        91,  92,  93,  94,  95,  96,  97,  98,  99, 100, 101, 102, 103,\n",
       "       104, 105, 106, 107, 108, 109, 110, 111, 112, 113, 114, 115, 116,\n",
       "       117, 118, 119, 120, 121, 122, 123, 124, 125, 126, 127, 128, 129,\n",
       "       130, 131, 132, 133, 134, 135, 136, 137, 138, 139, 140, 141, 142,\n",
       "       143, 144, 145, 146, 147, 148, 149, 150, 151, 152, 153, 154, 155,\n",
       "       156, 157, 158, 159, 160, 161, 162, 163, 164, 165, 166, 167, 168,\n",
       "       169, 170, 171, 172, 173, 174, 175, 176, 177, 178, 179, 180, 181,\n",
       "       182, 183, 184, 185, 186, 187, 188, 189, 190, 191, 192, 193, 194,\n",
       "       195, 196, 197, 198, 199, 200, 201])"
      ]
     },
     "execution_count": 40,
     "metadata": {},
     "output_type": "execute_result"
    }
   ],
   "source": [
    "df_who.index.values"
   ]
  },
  {
   "cell_type": "markdown",
   "metadata": {
    "collapsed": false
   },
   "source": [
    "Emprant el tribut  `loc` del dataframe podem accedir a les seves files amb la mateixa lògica que empram a les llistes:"
   ]
  },
  {
   "cell_type": "code",
   "execution_count": 41,
   "metadata": {},
   "outputs": [
    {
     "data": {
      "text/plain": [
       "Country                           Afghanistan\n",
       "CountryID                                   1\n",
       "Continent                                   1\n",
       "Adolescent fertility rate (%)           151.0\n",
       "Adult literacy rate (%)                  28.0\n",
       "                                     ...     \n",
       "Under_five_mortality_from_IHME          231.9\n",
       "Under_five_mortality_rate               257.0\n",
       "Urban_population                    5740436.0\n",
       "Urban_population_growth                  5.44\n",
       "Urban_population_pct_of_total            22.9\n",
       "Name: 0, Length: 358, dtype: object"
      ]
     },
     "execution_count": 41,
     "metadata": {},
     "output_type": "execute_result"
    }
   ],
   "source": [
    "df_who.loc[0] #la mostra zero, primera fila"
   ]
  },
  {
   "cell_type": "code",
   "execution_count": 42,
   "metadata": {},
   "outputs": [
    {
     "data": {
      "text/plain": [
       "pandas.core.series.Series"
      ]
     },
     "execution_count": 42,
     "metadata": {},
     "output_type": "execute_result"
    }
   ],
   "source": [
    "type(df_who.loc[0]) # una fila també és una sèrie"
   ]
  },
  {
   "cell_type": "code",
   "execution_count": 43,
   "metadata": {},
   "outputs": [
    {
     "name": "stdout",
     "output_type": "stream",
     "text": [
      "Afghanistan\n",
      "Afghanistan\n",
      "151.0\n"
     ]
    }
   ],
   "source": [
    "print(df_who.loc[0].Country) # Podem accedir a una sèrie amb el seu índex\n",
    "print(df_who.loc[0][0]) #o amb la seva posició\n",
    "print(df_who.loc[0][3])"
   ]
  },
  {
   "cell_type": "markdown",
   "metadata": {
    "collapsed": false
   },
   "source": [
    "Com passava amb les llistes també podem seleccionar diversos elements (files) en una sola comanda usant la tècnica de _slicing_."
   ]
  },
  {
   "cell_type": "code",
   "execution_count": 44,
   "metadata": {},
   "outputs": [
    {
     "data": {
      "text/html": [
       "<div>\n",
       "<style scoped>\n",
       "    .dataframe tbody tr th:only-of-type {\n",
       "        vertical-align: middle;\n",
       "    }\n",
       "\n",
       "    .dataframe tbody tr th {\n",
       "        vertical-align: top;\n",
       "    }\n",
       "\n",
       "    .dataframe thead th {\n",
       "        text-align: right;\n",
       "    }\n",
       "</style>\n",
       "<table border=\"1\" class=\"dataframe\">\n",
       "  <thead>\n",
       "    <tr style=\"text-align: right;\">\n",
       "      <th></th>\n",
       "      <th>Country</th>\n",
       "      <th>CountryID</th>\n",
       "      <th>Continent</th>\n",
       "      <th>Adolescent fertility rate (%)</th>\n",
       "      <th>Adult literacy rate (%)</th>\n",
       "      <th>Gross national income per capita (PPP international $)</th>\n",
       "      <th>Net primary school enrolment ratio female (%)</th>\n",
       "      <th>Net primary school enrolment ratio male (%)</th>\n",
       "      <th>Population (in thousands) total</th>\n",
       "      <th>Population annual growth rate (%)</th>\n",
       "      <th>...</th>\n",
       "      <th>Total_CO2_emissions</th>\n",
       "      <th>Total_income</th>\n",
       "      <th>Total_reserves</th>\n",
       "      <th>Trade_balance_goods_and_services</th>\n",
       "      <th>Under_five_mortality_from_CME</th>\n",
       "      <th>Under_five_mortality_from_IHME</th>\n",
       "      <th>Under_five_mortality_rate</th>\n",
       "      <th>Urban_population</th>\n",
       "      <th>Urban_population_growth</th>\n",
       "      <th>Urban_population_pct_of_total</th>\n",
       "    </tr>\n",
       "  </thead>\n",
       "  <tbody>\n",
       "    <tr>\n",
       "      <th>166</th>\n",
       "      <td>Somalia</td>\n",
       "      <td>167</td>\n",
       "      <td>3</td>\n",
       "      <td>35.0</td>\n",
       "      <td>NaN</td>\n",
       "      <td>NaN</td>\n",
       "      <td>6.0</td>\n",
       "      <td>11.0</td>\n",
       "      <td>8445.0</td>\n",
       "      <td>3.0</td>\n",
       "      <td>...</td>\n",
       "      <td>589.90</td>\n",
       "      <td>NaN</td>\n",
       "      <td>NaN</td>\n",
       "      <td>NaN</td>\n",
       "      <td>150.8</td>\n",
       "      <td>219.9</td>\n",
       "      <td>150.8</td>\n",
       "      <td>2885131.0</td>\n",
       "      <td>4.09</td>\n",
       "      <td>35.2</td>\n",
       "    </tr>\n",
       "    <tr>\n",
       "      <th>167</th>\n",
       "      <td>South Africa</td>\n",
       "      <td>168</td>\n",
       "      <td>3</td>\n",
       "      <td>65.0</td>\n",
       "      <td>82.4</td>\n",
       "      <td>8900.0</td>\n",
       "      <td>88.0</td>\n",
       "      <td>88.0</td>\n",
       "      <td>48282.0</td>\n",
       "      <td>0.7</td>\n",
       "      <td>...</td>\n",
       "      <td>408792.47</td>\n",
       "      <td>1.610000e+11</td>\n",
       "      <td>66.32</td>\n",
       "      <td>-2.200000e+09</td>\n",
       "      <td>68.5</td>\n",
       "      <td>68.5</td>\n",
       "      <td>68.5</td>\n",
       "      <td>27800000.0</td>\n",
       "      <td>1.98</td>\n",
       "      <td>59.3</td>\n",
       "    </tr>\n",
       "    <tr>\n",
       "      <th>168</th>\n",
       "      <td>Spain</td>\n",
       "      <td>169</td>\n",
       "      <td>2</td>\n",
       "      <td>10.0</td>\n",
       "      <td>97.2</td>\n",
       "      <td>28200.0</td>\n",
       "      <td>99.0</td>\n",
       "      <td>100.0</td>\n",
       "      <td>43887.0</td>\n",
       "      <td>1.1</td>\n",
       "      <td>...</td>\n",
       "      <td>343701.53</td>\n",
       "      <td>6.780000e+11</td>\n",
       "      <td>NaN</td>\n",
       "      <td>-5.770000e+10</td>\n",
       "      <td>4.9</td>\n",
       "      <td>4.2</td>\n",
       "      <td>4.9</td>\n",
       "      <td>33300000.0</td>\n",
       "      <td>1.75</td>\n",
       "      <td>76.7</td>\n",
       "    </tr>\n",
       "    <tr>\n",
       "      <th>169</th>\n",
       "      <td>Sri Lanka</td>\n",
       "      <td>170</td>\n",
       "      <td>7</td>\n",
       "      <td>29.0</td>\n",
       "      <td>90.7</td>\n",
       "      <td>3730.0</td>\n",
       "      <td>100.0</td>\n",
       "      <td>99.0</td>\n",
       "      <td>19207.0</td>\n",
       "      <td>0.5</td>\n",
       "      <td>...</td>\n",
       "      <td>11017.65</td>\n",
       "      <td>1.980000e+10</td>\n",
       "      <td>24.28</td>\n",
       "      <td>-2.180000e+09</td>\n",
       "      <td>21.4</td>\n",
       "      <td>12.1</td>\n",
       "      <td>21.4</td>\n",
       "      <td>2969868.0</td>\n",
       "      <td>0.26</td>\n",
       "      <td>15.1</td>\n",
       "    </tr>\n",
       "    <tr>\n",
       "      <th>170</th>\n",
       "      <td>Sudan</td>\n",
       "      <td>171</td>\n",
       "      <td>3</td>\n",
       "      <td>51.0</td>\n",
       "      <td>60.9</td>\n",
       "      <td>1780.0</td>\n",
       "      <td>37.0</td>\n",
       "      <td>45.0</td>\n",
       "      <td>37707.0</td>\n",
       "      <td>2.2</td>\n",
       "      <td>...</td>\n",
       "      <td>10618.27</td>\n",
       "      <td>1.670000e+10</td>\n",
       "      <td>10.13</td>\n",
       "      <td>-2.850000e+09</td>\n",
       "      <td>111.3</td>\n",
       "      <td>94.4</td>\n",
       "      <td>111.3</td>\n",
       "      <td>15100000.0</td>\n",
       "      <td>4.40</td>\n",
       "      <td>40.8</td>\n",
       "    </tr>\n",
       "  </tbody>\n",
       "</table>\n",
       "<p>5 rows × 358 columns</p>\n",
       "</div>"
      ],
      "text/plain": [
       "          Country  CountryID  Continent  Adolescent fertility rate (%)  \\\n",
       "166       Somalia        167          3                           35.0   \n",
       "167  South Africa        168          3                           65.0   \n",
       "168         Spain        169          2                           10.0   \n",
       "169     Sri Lanka        170          7                           29.0   \n",
       "170         Sudan        171          3                           51.0   \n",
       "\n",
       "     Adult literacy rate (%)  \\\n",
       "166                      NaN   \n",
       "167                     82.4   \n",
       "168                     97.2   \n",
       "169                     90.7   \n",
       "170                     60.9   \n",
       "\n",
       "     Gross national income per capita (PPP international $)  \\\n",
       "166                                                NaN        \n",
       "167                                             8900.0        \n",
       "168                                            28200.0        \n",
       "169                                             3730.0        \n",
       "170                                             1780.0        \n",
       "\n",
       "     Net primary school enrolment ratio female (%)  \\\n",
       "166                                            6.0   \n",
       "167                                           88.0   \n",
       "168                                           99.0   \n",
       "169                                          100.0   \n",
       "170                                           37.0   \n",
       "\n",
       "     Net primary school enrolment ratio male (%)  \\\n",
       "166                                         11.0   \n",
       "167                                         88.0   \n",
       "168                                        100.0   \n",
       "169                                         99.0   \n",
       "170                                         45.0   \n",
       "\n",
       "     Population (in thousands) total  Population annual growth rate (%)  ...  \\\n",
       "166                           8445.0                                3.0  ...   \n",
       "167                          48282.0                                0.7  ...   \n",
       "168                          43887.0                                1.1  ...   \n",
       "169                          19207.0                                0.5  ...   \n",
       "170                          37707.0                                2.2  ...   \n",
       "\n",
       "     Total_CO2_emissions  Total_income  Total_reserves  \\\n",
       "166               589.90           NaN             NaN   \n",
       "167            408792.47  1.610000e+11           66.32   \n",
       "168            343701.53  6.780000e+11             NaN   \n",
       "169             11017.65  1.980000e+10           24.28   \n",
       "170             10618.27  1.670000e+10           10.13   \n",
       "\n",
       "     Trade_balance_goods_and_services  Under_five_mortality_from_CME  \\\n",
       "166                               NaN                          150.8   \n",
       "167                     -2.200000e+09                           68.5   \n",
       "168                     -5.770000e+10                            4.9   \n",
       "169                     -2.180000e+09                           21.4   \n",
       "170                     -2.850000e+09                          111.3   \n",
       "\n",
       "     Under_five_mortality_from_IHME  Under_five_mortality_rate  \\\n",
       "166                           219.9                      150.8   \n",
       "167                            68.5                       68.5   \n",
       "168                             4.2                        4.9   \n",
       "169                            12.1                       21.4   \n",
       "170                            94.4                      111.3   \n",
       "\n",
       "     Urban_population  Urban_population_growth  Urban_population_pct_of_total  \n",
       "166         2885131.0                     4.09                           35.2  \n",
       "167        27800000.0                     1.98                           59.3  \n",
       "168        33300000.0                     1.75                           76.7  \n",
       "169         2969868.0                     0.26                           15.1  \n",
       "170        15100000.0                     4.40                           40.8  \n",
       "\n",
       "[5 rows x 358 columns]"
      ]
     },
     "execution_count": 44,
     "metadata": {},
     "output_type": "execute_result"
    }
   ],
   "source": [
    "df_who.loc[166:170] #slicing"
   ]
  },
  {
   "cell_type": "code",
   "execution_count": 45,
   "metadata": {},
   "outputs": [],
   "source": [
    "# Els índexs són útils quan són dates: Sèries temporals\n",
    "# per exemple:\n",
    "# df.loc[\"2020\":\"2022\"]"
   ]
  },
  {
   "cell_type": "markdown",
   "metadata": {},
   "source": [
    "L'índex pot canviar-se per qualsevol altre valor (i idealment únic)"
   ]
  },
  {
   "cell_type": "code",
   "execution_count": null,
   "metadata": {},
   "outputs": [],
   "source": [
    "df_who.set_index(\"Country\",inplace=True)"
   ]
  },
  {
   "cell_type": "code",
   "execution_count": 51,
   "metadata": {},
   "outputs": [
    {
     "name": "stdout",
     "output_type": "stream",
     "text": [
      "Index(['Afghanistan', 'Albania', 'Algeria', 'Andorra', 'Angola',\n",
      "       'Antigua and Barbuda', 'Argentina', 'Armenia', 'Australia', 'Austria',\n",
      "       ...\n",
      "       'United States of America', 'Uruguay', 'Uzbekistan', 'Vanuatu',\n",
      "       'Venezuela', 'Vietnam', 'West Bank and Gaza', 'Yemen', 'Zambia',\n",
      "       'Zimbabwe'],\n",
      "      dtype='object', name='Country', length=202)\n",
      "------------------------------\n"
     ]
    },
    {
     "data": {
      "text/plain": [
       "CountryID                                                       2.00\n",
       "Continent                                                       2.00\n",
       "Adolescent fertility rate (%)                                  27.00\n",
       "Adult literacy rate (%)                                        98.70\n",
       "Gross national income per capita (PPP international $)       6000.00\n",
       "                                                             ...    \n",
       "Under_five_mortality_from_IHME                                 15.50\n",
       "Under_five_mortality_rate                                      18.47\n",
       "Urban_population                                          1431793.90\n",
       "Urban_population_growth                                         2.21\n",
       "Urban_population_pct_of_total                                  45.40\n",
       "Name: Albania, Length: 357, dtype: float64"
      ]
     },
     "execution_count": 51,
     "metadata": {},
     "output_type": "execute_result"
    }
   ],
   "source": [
    "print(df_who.index)\n",
    "print(\"-\"*30)\n",
    "df_who.loc[\"Albania\"]          # l'accés per LOC ja no és numèric\n",
    "   "
   ]
  },
  {
   "cell_type": "markdown",
   "metadata": {
    "collapsed": false
   },
   "source": [
    "### Selecció condicional\n",
    "\n",
    "Si volem que la nostra selecció es correspongui amb un criteri lògic, per exemple saber quins són els països amb una taxa d'alfabetització dels adults amb més d'un 70% podem fer el següent:"
   ]
  },
  {
   "cell_type": "code",
   "execution_count": null,
   "metadata": {},
   "outputs": [],
   "source": [
    "df_who = pd.read_csv(\"http://www.exploredata.net/ftp/WHO.csv\") #dataframe"
   ]
  },
  {
   "cell_type": "code",
   "execution_count": null,
   "metadata": {
    "collapsed": false
   },
   "outputs": [],
   "source": [
    "alfabetitzacio = df_who[df_who['Adult literacy rate (%)'] > 70][[\"Country\",\"Adult literacy rate (%)\"]]\n",
    "\n",
    "alfabetitzacio[alfabetitzacio[\"Country\"] == \"Italy\"]"
   ]
  },
  {
   "cell_type": "markdown",
   "metadata": {
    "collapsed": false
   },
   "source": [
    "L'estructura d'aquest tipus de selecció sembla complexa, però si la dividim en parts veurem que és abordable:"
   ]
  },
  {
   "cell_type": "code",
   "execution_count": null,
   "metadata": {
    "collapsed": false
   },
   "outputs": [],
   "source": [
    "# En aquest codi obtenim una llista de valors booleans (True o False) segons és compleix la condició per cada una de les files:\n",
    "seleccio = df_who['Adult literacy rate (%)'] > 70"
   ]
  },
  {
   "cell_type": "code",
   "execution_count": null,
   "metadata": {
    "collapsed": false
   },
   "outputs": [],
   "source": [
    "# En aquest codi, de les files on seleccio == True agafam les dues columnes que ens interessen\n",
    "df_who[seleccio][[\"Country\",\"Adult literacy rate (%)\"]]"
   ]
  },
  {
   "cell_type": "markdown",
   "metadata": {
    "collapsed": false
   },
   "source": [
    "Aquest tipus de selecció ens obre tot un nou ventall de possibilitats de selecció \"automàtica\" de dades que fins ara es feia molt complicat.\n",
    "\n"
   ]
  },
  {
   "cell_type": "markdown",
   "metadata": {
    "collapsed": false
   },
   "source": [
    "## Files i columnes\n",
    "\n",
    "Obviament, si sabem seleccionar files i columnes, podem combinar-les per fer una selecció més específica."
   ]
  },
  {
   "cell_type": "code",
   "execution_count": null,
   "metadata": {},
   "outputs": [],
   "source": [
    "\n",
    "df_who.loc[167:169, [\"Country\",\"Total_CO2_emissions\"]] # per noms"
   ]
  },
  {
   "cell_type": "markdown",
   "metadata": {
    "collapsed": false
   },
   "source": [
    "No sempre ens serà còmode fer seleccions amb els noms de les files (encara que normalment siguin nombres) i de les columnes. Si volem fer seleccions emprant només els índexs podem emprar el mètode `iloc`:"
   ]
  },
  {
   "cell_type": "code",
   "execution_count": null,
   "metadata": {},
   "outputs": [],
   "source": [
    "df_who.iloc[[168,192],[0,43,118]] # per posicions"
   ]
  },
  {
   "attachments": {},
   "cell_type": "markdown",
   "metadata": {},
   "source": [
    "## Activitat\n",
    "\n",
    "En aquesta activitat practicarem la selecció de dades (columnes i files) en un dataframe"
   ]
  },
  {
   "cell_type": "markdown",
   "metadata": {
    "collapsed": false
   },
   "source": [
    "**1) Quina és la mitjana de la població urbana (\"Urban_population\") de tots els països? La seva desviació típica (std)?**"
   ]
  },
  {
   "cell_type": "code",
   "execution_count": null,
   "metadata": {
    "collapsed": false
   },
   "outputs": [],
   "source": []
  },
  {
   "cell_type": "markdown",
   "metadata": {
    "collapsed": false
   },
   "source": [
    "**2) Consulta la fila del país: “Spain”**"
   ]
  },
  {
   "cell_type": "code",
   "execution_count": null,
   "metadata": {
    "collapsed": false
   },
   "outputs": [],
   "source": []
  },
  {
   "cell_type": "markdown",
   "metadata": {
    "collapsed": false
   },
   "source": [
    "**3a) Quin país té una població urbana més gran?**\n",
    "**3b) Quins països tenen una població urbana menor a 50.000 ?**"
   ]
  },
  {
   "cell_type": "code",
   "execution_count": null,
   "metadata": {
    "collapsed": false
   },
   "outputs": [],
   "source": []
  },
  {
   "cell_type": "markdown",
   "metadata": {
    "collapsed": false
   },
   "source": [
    "**4) El continent on està situat Spain és el mateix que el d'UnitedStates?**\n",
    "\n",
    "Utilitza una condició per obtenir un resultat Booleà (*True* o *False*)"
   ]
  },
  {
   "cell_type": "code",
   "execution_count": null,
   "metadata": {
    "collapsed": false
   },
   "outputs": [],
   "source": []
  },
  {
   "cell_type": "markdown",
   "metadata": {
    "collapsed": false
   },
   "source": [
    "**5) Quins són els cinc països més contaminants (\"Total_CO2_emissions\")?**\n",
    "\n",
    "Aquesta és la meva [pista per a una solució elegant](http://pandas.pydata.org/pandas-docs/version/0.19.2/generated/pandas.DataFrame.sort_values.html)"
   ]
  },
  {
   "cell_type": "markdown",
   "metadata": {
    "collapsed": false
   },
   "source": [
    "**6) Observant algunes mostres del fitxer pots establir la relació entre l'identificador del continent i el seu nom?**\n",
    "\n",
    "És a dir, sabem que Spain és al continent Europeu i el codi del continent és el 2.\n",
    "\n",
    "Hi ha els codis de continents: 1, 2, 3, 4, 5, 6, 7\n",
    "\n",
    "**Nota:** Hi ha dos codis associats a Àsia.\n",
    "\n",
    "Fes les consultes pertinents al dataframe per construir un diccionari amb la següent"
   ]
  },
  {
   "cell_type": "code",
   "execution_count": null,
   "metadata": {
    "collapsed": false
   },
   "outputs": [],
   "source": [
    "codigoContinentes = {1:\"Asia\",2:\"Europa\"} #Al menos hay 7!\n",
    "print(codigoContinentes[2])"
   ]
  },
  {
   "cell_type": "code",
   "execution_count": null,
   "metadata": {
    "collapsed": false
   },
   "outputs": [],
   "source": [
    "codigoContinentes[3] = \"\"\n",
    "codigoContinentes[4] = \"\"\n",
    "codigoContinentes[5] = \"\"\n",
    "codigoContinentes[6] = \"\"\n",
    "codigoContinentes[7] = \"\""
   ]
  },
  {
   "attachments": {},
   "cell_type": "markdown",
   "metadata": {},
   "source": [
    "[![License: CC BY 4.0](https://img.shields.io/badge/License-CC_BY_4.0-lightgrey.svg)](https://creativecommons.org/licenses/by/4.0/) <br/>\n",
    "Isaac Lera and Gabriel Moya <br/>\n",
    "Universitat de les Illes Balears <br/>\n",
    "isaac.lera@uib.edu, gabriel.moya@uib.edu"
   ]
  },
  {
   "cell_type": "markdown",
   "metadata": {},
   "source": []
  }
 ],
 "metadata": {
  "kernelspec": {
   "display_name": "Python 3.9.7 64-bit ('3.9.7')",
   "language": "python",
   "name": "python3"
  },
  "language_info": {
   "codemirror_mode": {
    "name": "ipython",
    "version": 3
   },
   "file_extension": ".py",
   "mimetype": "text/x-python",
   "name": "python",
   "nbconvert_exporter": "python",
   "pygments_lexer": "ipython3",
   "version": "3.9.7"
  },
  "orig_nbformat": 4,
  "vscode": {
   "interpreter": {
    "hash": "1dd6de46b7c7be538353ccdeaa948031a5b4d43665739a26f55ca28b247c53cc"
   }
  }
 },
 "nbformat": 4,
 "nbformat_minor": 2
}
