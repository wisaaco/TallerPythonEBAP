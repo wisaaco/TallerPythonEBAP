{
 "cells": [
  {
   "attachments": {},
   "cell_type": "markdown",
   "metadata": {},
   "source": [
    "<div align=\"right\">\n",
    "\n",
    "[![Open In Colab](https://colab.research.google.com/assets/colab-badge.png)](https://colab.research.google.com/github/wisaaco/TallerPythonEBAP/blob/main/lessons/2_Pandas_Introduccio.ipynb)\n",
    "\n",
    "\n",
    "Si no funciona el botó podeu copiar el següent [enllaç](https://colab.research.google.com/github/wisaaco/TallerPythonEBAP/blob/main/lessons/2_Pandas_Introduccio.ipynb)\n",
    "</div>"
   ]
  },
  {
   "attachments": {},
   "cell_type": "markdown",
   "metadata": {},
   "source": [
    "# 2 - La llibreria Pandas\n",
    "\n",
    "**Pandas** és la llibreria per excel·lència per a l'anàlisi de dades del llenguatge Python. El seu nom prové de “panell data” (terme economètric). Inspirada en les funcionalitats de fulls de càlcul i _R_, però amb el potencial d'aquest llenguatge de propòsit general.\n",
    "\n",
    "**Pandas** inclou totes les funcionalitats necessàries per al procés d'anàlisi de dades: càrrega, filtrat, tractament, síntesi, agrupament, emmagatzematge i visualització. A més, s'integra amb la resta de llibreries de càlcul numèric com Numpy, visualització amb Matplotlib, aprenentatge automàtic amb scikit-learn, etc.\n",
    "\n",
    "**L'objectiu d'aquesta unitat és adquirir capacitats bàsiques de càrrega de dades amb Pandas.**\n",
    "\n",
    "Referències:\n",
    "- [Pandas](https://pandas.pydata.org/)\n",
    "- [Python](https://en.wikipedia.org/wiki/Python_(programming_language))\n",
    "- [Característiques Pandas](https://github.com/pandas-dev/pandas#*main-*features)\n",
    "\n",
    "*Nota*:  Pandas és una llibrería instal·lada per defecte a l'entorn d'execució de _Google Colab_."
   ]
  },
  {
   "cell_type": "code",
   "execution_count": 2,
   "metadata": {},
   "outputs": [],
   "source": [
    "import pandas as pd "
   ]
  },
  {
   "attachments": {},
   "cell_type": "markdown",
   "metadata": {},
   "source": [
    "## Càrrega de dades i estructures bàsiques de Pandas.\n",
    "\n",
    "A continuació, obrirem el nostre primer fitxer, ho farem a partir d'un fitxer de dades que presenta una estructura tabular. Aquests fitxers coneguts com a CSV (Comma Separated Value) és un dels formats més populars. A Excel pots exportar fitxers en format CSV.\n",
    "\n",
    "El mètode a Pandas per obrir un fitxer CSV és: [read_csv](https://pandas.pydata.org/pandas-docs/dev/reference/api/pandas.read_csv.html)."
   ]
  },
  {
   "cell_type": "code",
   "execution_count": 26,
   "metadata": {},
   "outputs": [],
   "source": [
    "df_who = pd.read_csv(\"data/WHO.csv\") #Nota: hem d'especificar la ruta (o path) del fitxer"
   ]
  },
  {
   "cell_type": "markdown",
   "metadata": {},
   "source": [
    "A Pandas hi ha dos tipus **principals** de variables: **dataframes i series**. Aquest mètode genera una variable del tipus dataframe"
   ]
  },
  {
   "cell_type": "code",
   "execution_count": null,
   "metadata": {},
   "outputs": [],
   "source": [
    "print(type(df_who))"
   ]
  },
  {
   "cell_type": "code",
   "execution_count": null,
   "metadata": {},
   "outputs": [],
   "source": [
    "df_who"
   ]
  },
  {
   "cell_type": "code",
   "execution_count": null,
   "metadata": {},
   "outputs": [],
   "source": [
    "# Estructura\n",
    "print(df_who.shape) # files o mostres x columnes"
   ]
  },
  {
   "cell_type": "code",
   "execution_count": null,
   "metadata": {},
   "outputs": [],
   "source": [
    "df_who.info()"
   ]
  },
  {
   "cell_type": "code",
   "execution_count": null,
   "metadata": {},
   "outputs": [],
   "source": [
    "df_who.describe()"
   ]
  },
  {
   "cell_type": "code",
   "execution_count": null,
   "metadata": {},
   "outputs": [],
   "source": [
    "df_who.head()"
   ]
  },
  {
   "cell_type": "code",
   "execution_count": null,
   "metadata": {},
   "outputs": [],
   "source": [
    "df_who.tail()"
   ]
  },
  {
   "cell_type": "markdown",
   "metadata": {
    "collapsed": false
   },
   "source": [
    "### Carrega de dades (II)\n",
    "\n",
    "Malauradament, l'estructura i la codificació de les dades en els fitxers _CSV_ varia segons l'eina o el sistema operatiu. Així, podem tenir separadors entre columnes que no siguin la típica ',' o formats no oberts (i.e. utf-8, ansci,...) de codificació del text.\n",
    "\n",
    "Per això, la funció *read_csv* té molta versatilitat. Mirem la seva [documentació](https://pandas.pydata.org/docs/reference/api/pandas.read_csv.html)\n",
    "\n",
    "Anem a veure que passa quan agafem dades de d'una administració pública: [enllaç](https://datos.gob.es/es/catalogo?q=bilbao&g-recaptcha-response=&administration_level=L&theme_id=economia&sort=score+desc%2C+metadata_created+desc) Aquest fitxer està disponible a: \"data/presupuesto_gastos_2023.csv\"\n"
   ]
  },
  {
   "cell_type": "code",
   "execution_count": 3,
   "metadata": {
    "collapsed": false
   },
   "outputs": [
    {
     "ename": "UnicodeDecodeError",
     "evalue": "'utf-8' codec can't decode byte 0xc1 in position 1697: invalid start byte",
     "output_type": "error",
     "traceback": [
      "\u001b[0;31m---------------------------------------------------------------------------\u001b[0m",
      "\u001b[0;31mUnicodeDecodeError\u001b[0m                        Traceback (most recent call last)",
      "\u001b[1;32m/Users/isaac/Projects/TallerPythonEBAP/lessons/2_Pandas_Introduccio.ipynb Cell 15\u001b[0m in \u001b[0;36m<cell line: 1>\u001b[0;34m()\u001b[0m\n\u001b[0;32m----> <a href='vscode-notebook-cell:/Users/isaac/Projects/TallerPythonEBAP/lessons/2_Pandas_Introduccio.ipynb#X20sZmlsZQ%3D%3D?line=0'>1</a>\u001b[0m df_gastos \u001b[39m=\u001b[39m pd\u001b[39m.\u001b[39;49mread_csv(\u001b[39m\"\u001b[39;49m\u001b[39mdata/presupuesto_gastos_2023.csv\u001b[39;49m\u001b[39m\"\u001b[39;49m)\n",
      "File \u001b[0;32m~/.pyenv/versions/3.9.7/envs/my397/lib/python3.9/site-packages/pandas/util/_decorators.py:311\u001b[0m, in \u001b[0;36mdeprecate_nonkeyword_arguments.<locals>.decorate.<locals>.wrapper\u001b[0;34m(*args, **kwargs)\u001b[0m\n\u001b[1;32m    305\u001b[0m \u001b[39mif\u001b[39;00m \u001b[39mlen\u001b[39m(args) \u001b[39m>\u001b[39m num_allow_args:\n\u001b[1;32m    306\u001b[0m     warnings\u001b[39m.\u001b[39mwarn(\n\u001b[1;32m    307\u001b[0m         msg\u001b[39m.\u001b[39mformat(arguments\u001b[39m=\u001b[39marguments),\n\u001b[1;32m    308\u001b[0m         \u001b[39mFutureWarning\u001b[39;00m,\n\u001b[1;32m    309\u001b[0m         stacklevel\u001b[39m=\u001b[39mstacklevel,\n\u001b[1;32m    310\u001b[0m     )\n\u001b[0;32m--> 311\u001b[0m \u001b[39mreturn\u001b[39;00m func(\u001b[39m*\u001b[39;49margs, \u001b[39m*\u001b[39;49m\u001b[39m*\u001b[39;49mkwargs)\n",
      "File \u001b[0;32m~/.pyenv/versions/3.9.7/envs/my397/lib/python3.9/site-packages/pandas/io/parsers/readers.py:680\u001b[0m, in \u001b[0;36mread_csv\u001b[0;34m(filepath_or_buffer, sep, delimiter, header, names, index_col, usecols, squeeze, prefix, mangle_dupe_cols, dtype, engine, converters, true_values, false_values, skipinitialspace, skiprows, skipfooter, nrows, na_values, keep_default_na, na_filter, verbose, skip_blank_lines, parse_dates, infer_datetime_format, keep_date_col, date_parser, dayfirst, cache_dates, iterator, chunksize, compression, thousands, decimal, lineterminator, quotechar, quoting, doublequote, escapechar, comment, encoding, encoding_errors, dialect, error_bad_lines, warn_bad_lines, on_bad_lines, delim_whitespace, low_memory, memory_map, float_precision, storage_options)\u001b[0m\n\u001b[1;32m    665\u001b[0m kwds_defaults \u001b[39m=\u001b[39m _refine_defaults_read(\n\u001b[1;32m    666\u001b[0m     dialect,\n\u001b[1;32m    667\u001b[0m     delimiter,\n\u001b[0;32m   (...)\u001b[0m\n\u001b[1;32m    676\u001b[0m     defaults\u001b[39m=\u001b[39m{\u001b[39m\"\u001b[39m\u001b[39mdelimiter\u001b[39m\u001b[39m\"\u001b[39m: \u001b[39m\"\u001b[39m\u001b[39m,\u001b[39m\u001b[39m\"\u001b[39m},\n\u001b[1;32m    677\u001b[0m )\n\u001b[1;32m    678\u001b[0m kwds\u001b[39m.\u001b[39mupdate(kwds_defaults)\n\u001b[0;32m--> 680\u001b[0m \u001b[39mreturn\u001b[39;00m _read(filepath_or_buffer, kwds)\n",
      "File \u001b[0;32m~/.pyenv/versions/3.9.7/envs/my397/lib/python3.9/site-packages/pandas/io/parsers/readers.py:575\u001b[0m, in \u001b[0;36m_read\u001b[0;34m(filepath_or_buffer, kwds)\u001b[0m\n\u001b[1;32m    572\u001b[0m _validate_names(kwds\u001b[39m.\u001b[39mget(\u001b[39m\"\u001b[39m\u001b[39mnames\u001b[39m\u001b[39m\"\u001b[39m, \u001b[39mNone\u001b[39;00m))\n\u001b[1;32m    574\u001b[0m \u001b[39m# Create the parser.\u001b[39;00m\n\u001b[0;32m--> 575\u001b[0m parser \u001b[39m=\u001b[39m TextFileReader(filepath_or_buffer, \u001b[39m*\u001b[39;49m\u001b[39m*\u001b[39;49mkwds)\n\u001b[1;32m    577\u001b[0m \u001b[39mif\u001b[39;00m chunksize \u001b[39mor\u001b[39;00m iterator:\n\u001b[1;32m    578\u001b[0m     \u001b[39mreturn\u001b[39;00m parser\n",
      "File \u001b[0;32m~/.pyenv/versions/3.9.7/envs/my397/lib/python3.9/site-packages/pandas/io/parsers/readers.py:933\u001b[0m, in \u001b[0;36mTextFileReader.__init__\u001b[0;34m(self, f, engine, **kwds)\u001b[0m\n\u001b[1;32m    930\u001b[0m     \u001b[39mself\u001b[39m\u001b[39m.\u001b[39moptions[\u001b[39m\"\u001b[39m\u001b[39mhas_index_names\u001b[39m\u001b[39m\"\u001b[39m] \u001b[39m=\u001b[39m kwds[\u001b[39m\"\u001b[39m\u001b[39mhas_index_names\u001b[39m\u001b[39m\"\u001b[39m]\n\u001b[1;32m    932\u001b[0m \u001b[39mself\u001b[39m\u001b[39m.\u001b[39mhandles: IOHandles \u001b[39m|\u001b[39m \u001b[39mNone\u001b[39;00m \u001b[39m=\u001b[39m \u001b[39mNone\u001b[39;00m\n\u001b[0;32m--> 933\u001b[0m \u001b[39mself\u001b[39m\u001b[39m.\u001b[39m_engine \u001b[39m=\u001b[39m \u001b[39mself\u001b[39;49m\u001b[39m.\u001b[39;49m_make_engine(f, \u001b[39mself\u001b[39;49m\u001b[39m.\u001b[39;49mengine)\n",
      "File \u001b[0;32m~/.pyenv/versions/3.9.7/envs/my397/lib/python3.9/site-packages/pandas/io/parsers/readers.py:1235\u001b[0m, in \u001b[0;36mTextFileReader._make_engine\u001b[0;34m(self, f, engine)\u001b[0m\n\u001b[1;32m   1232\u001b[0m     \u001b[39mraise\u001b[39;00m \u001b[39mValueError\u001b[39;00m(msg)\n\u001b[1;32m   1234\u001b[0m \u001b[39mtry\u001b[39;00m:\n\u001b[0;32m-> 1235\u001b[0m     \u001b[39mreturn\u001b[39;00m mapping[engine](f, \u001b[39m*\u001b[39;49m\u001b[39m*\u001b[39;49m\u001b[39mself\u001b[39;49m\u001b[39m.\u001b[39;49moptions)\n\u001b[1;32m   1236\u001b[0m \u001b[39mexcept\u001b[39;00m \u001b[39mException\u001b[39;00m:\n\u001b[1;32m   1237\u001b[0m     \u001b[39mif\u001b[39;00m \u001b[39mself\u001b[39m\u001b[39m.\u001b[39mhandles \u001b[39mis\u001b[39;00m \u001b[39mnot\u001b[39;00m \u001b[39mNone\u001b[39;00m:\n",
      "File \u001b[0;32m~/.pyenv/versions/3.9.7/envs/my397/lib/python3.9/site-packages/pandas/io/parsers/c_parser_wrapper.py:75\u001b[0m, in \u001b[0;36mCParserWrapper.__init__\u001b[0;34m(self, src, **kwds)\u001b[0m\n\u001b[1;32m     72\u001b[0m     kwds\u001b[39m.\u001b[39mpop(key, \u001b[39mNone\u001b[39;00m)\n\u001b[1;32m     74\u001b[0m kwds[\u001b[39m\"\u001b[39m\u001b[39mdtype\u001b[39m\u001b[39m\"\u001b[39m] \u001b[39m=\u001b[39m ensure_dtype_objs(kwds\u001b[39m.\u001b[39mget(\u001b[39m\"\u001b[39m\u001b[39mdtype\u001b[39m\u001b[39m\"\u001b[39m, \u001b[39mNone\u001b[39;00m))\n\u001b[0;32m---> 75\u001b[0m \u001b[39mself\u001b[39m\u001b[39m.\u001b[39m_reader \u001b[39m=\u001b[39m parsers\u001b[39m.\u001b[39;49mTextReader(src, \u001b[39m*\u001b[39;49m\u001b[39m*\u001b[39;49mkwds)\n\u001b[1;32m     77\u001b[0m \u001b[39mself\u001b[39m\u001b[39m.\u001b[39munnamed_cols \u001b[39m=\u001b[39m \u001b[39mself\u001b[39m\u001b[39m.\u001b[39m_reader\u001b[39m.\u001b[39munnamed_cols\n\u001b[1;32m     79\u001b[0m \u001b[39m# error: Cannot determine type of 'names'\u001b[39;00m\n",
      "File \u001b[0;32mpandas/_libs/parsers.pyx:544\u001b[0m, in \u001b[0;36mpandas._libs.parsers.TextReader.__cinit__\u001b[0;34m()\u001b[0m\n",
      "File \u001b[0;32mpandas/_libs/parsers.pyx:633\u001b[0m, in \u001b[0;36mpandas._libs.parsers.TextReader._get_header\u001b[0;34m()\u001b[0m\n",
      "File \u001b[0;32mpandas/_libs/parsers.pyx:847\u001b[0m, in \u001b[0;36mpandas._libs.parsers.TextReader._tokenize_rows\u001b[0;34m()\u001b[0m\n",
      "File \u001b[0;32mpandas/_libs/parsers.pyx:1952\u001b[0m, in \u001b[0;36mpandas._libs.parsers.raise_parser_error\u001b[0;34m()\u001b[0m\n",
      "\u001b[0;31mUnicodeDecodeError\u001b[0m: 'utf-8' codec can't decode byte 0xc1 in position 1697: invalid start byte"
     ]
    }
   ],
   "source": [
    "df_gastos = pd.read_csv(\"data/presupuesto_gastos_2023.csv\") # quins errors genera ?"
   ]
  },
  {
   "cell_type": "markdown",
   "metadata": {
    "collapsed": false
   },
   "source": [
    "### Codificació de caràcters\n",
    "\n",
    "Python utilitza una representació basada en Unicode (https://home.unicode.org/). En canvi altres sistemes operatius i eines opten per altres tipus de representacions.\n",
    "\n",
    "```python\n",
    "var = \"camión\"\n",
    "var = \"lul·lià\"\n",
    "var = \"Ζεύς\"\n",
    "var = \"ประเทศไทย\"\n",
    "var = \"日本語で\"\n",
    "```\n",
    "\n",
    "\n",
    "Codificacions:\n",
    "- [Llistat codificacions](https://docs.python.org/3.11/library/codecs.html#standard-encodings)\n",
    "- [UTF-8](https://es.wikipedia.org/wiki/UTF-8)"
   ]
  },
  {
   "cell_type": "code",
   "execution_count": 8,
   "metadata": {
    "collapsed": false
   },
   "outputs": [],
   "source": [
    "# cp1250 | windows-1250 | Central and Eastern Europe\n",
    "\n",
    "# Mètode bàsic: \"Prova i error\" !!!\n",
    "df_gastos = pd.read_csv(\"data/presupuesto_gastos_2023.csv\",delimiter=\";\",encoding=\"cp1250\")\n"
   ]
  },
  {
   "cell_type": "code",
   "execution_count": 9,
   "metadata": {
    "collapsed": false
   },
   "outputs": [
    {
     "data": {
      "text/html": [
       "<div>\n",
       "<style scoped>\n",
       "    .dataframe tbody tr th:only-of-type {\n",
       "        vertical-align: middle;\n",
       "    }\n",
       "\n",
       "    .dataframe tbody tr th {\n",
       "        vertical-align: top;\n",
       "    }\n",
       "\n",
       "    .dataframe thead th {\n",
       "        text-align: right;\n",
       "    }\n",
       "</style>\n",
       "<table border=\"1\" class=\"dataframe\">\n",
       "  <thead>\n",
       "    <tr style=\"text-align: right;\">\n",
       "      <th></th>\n",
       "      <th>_id</th>\n",
       "      <th>SOZIETATEA_EU/SOCIEDAD_EU</th>\n",
       "      <th>SOZIETATEA_CAS/SOCIEDAD_CAS</th>\n",
       "      <th>EKITALDIA/EJERCICIO</th>\n",
       "      <th>SAILA/DEPARTAMENTO</th>\n",
       "      <th>SAILAREN DESKRIBAPENA_EU/DESCRIPCION DEPARTAMENTO_EU</th>\n",
       "      <th>SAILAREN DESKRIBAPENA_EU/DESCRIPCION DEPARTAMENTO_CAS</th>\n",
       "      <th>ZENTRU KUDEATZAILEA/CENTRO GESTOR</th>\n",
       "      <th>ZENTRO KUDEATZAILEAREN DESKR._EUS/DESCR. CENTRO GESTOR_EUS</th>\n",
       "      <th>ZENTRO KUDEATZAILEAREN DESKR._CAS/DESCR. CENTRO GESTOR_CAS</th>\n",
       "      <th>...</th>\n",
       "      <th>ARTIKULUAREN DESKRIBAPENA_CAS/DESCRIPCION ARTICULO_CAS</th>\n",
       "      <th>KONTZEPTUA/CONCEPTO</th>\n",
       "      <th>KONTZEPTUAREN DESKRIBAPENA_EUS/DESCRIPCION CONCEPTO_EUS</th>\n",
       "      <th>KONTZEPTUAREN DESKRIBAPENA_CAS/DESCRIPCION CONCEPTO_CAS</th>\n",
       "      <th>AZPIKONTZEPTUA/SUBCONCEPTO</th>\n",
       "      <th>AZPIKONTZEPTUAREN DESKRIBAPENA_EUS/DESCRIPCION SUBCONCEPTO_EUS</th>\n",
       "      <th>AZPIKONTZEPTUAREN DESKRIBAPENA_CAS/DESCRIPCION SUBCONCEPTO_CAS</th>\n",
       "      <th>PROIEKTUA/PROYECTO</th>\n",
       "      <th>PROIEKTUAREN DESKRIBAPENA/DESCRIPCION PROYECTO</th>\n",
       "      <th>HASIERAKO KREDITUA/CREDITO INICIAL 2023</th>\n",
       "    </tr>\n",
       "  </thead>\n",
       "  <tbody>\n",
       "    <tr>\n",
       "      <th>0</th>\n",
       "      <td>1</td>\n",
       "      <td>UDAL</td>\n",
       "      <td>UDAL</td>\n",
       "      <td>2023</td>\n",
       "      <td>110</td>\n",
       "      <td>KULTURA ETA GOBERNANTZA</td>\n",
       "      <td>CULTURA Y GOBERNANZA</td>\n",
       "      <td>1100</td>\n",
       "      <td>KULTURA ETA GOBERNANTZA</td>\n",
       "      <td>CULTURA Y GOBERNANZA</td>\n",
       "      <td>...</td>\n",
       "      <td>RETRIBUCIONES DE ALTOS CARGOS</td>\n",
       "      <td>100</td>\n",
       "      <td>GOI KARGUEN OINARRIZKO SOLDATAK ETA BESTELAKO ...</td>\n",
       "      <td>RETRIBUCIONES BASICAS Y OTRAS REMUNERACIONES D...</td>\n",
       "      <td>10001</td>\n",
       "      <td>GOI KARGUEN OINARRIZKO SOLDATAK ETA BESTELAKO ...</td>\n",
       "      <td>RETRIBUCIONES BASICAS Y OTRAS REMUNERACIONES D...</td>\n",
       "      <td>9999/99999</td>\n",
       "      <td>GENERIKOA/ GENÉRICO</td>\n",
       "      <td>220.619,00</td>\n",
       "    </tr>\n",
       "    <tr>\n",
       "      <th>1</th>\n",
       "      <td>2</td>\n",
       "      <td>UDAL</td>\n",
       "      <td>UDAL</td>\n",
       "      <td>2023</td>\n",
       "      <td>110</td>\n",
       "      <td>KULTURA ETA GOBERNANTZA</td>\n",
       "      <td>CULTURA Y GOBERNANZA</td>\n",
       "      <td>1100</td>\n",
       "      <td>KULTURA ETA GOBERNANTZA</td>\n",
       "      <td>CULTURA Y GOBERNANZA</td>\n",
       "      <td>...</td>\n",
       "      <td>RETRIBUCIONES DEL PERSONAL EVENTUAL DE GABINETES</td>\n",
       "      <td>110</td>\n",
       "      <td>KABINETEETAKO ALDI BAT. PERTSONALAREN OINARRIZ...</td>\n",
       "      <td>RETRIBUCIONES BASICAS Y OTRAS REMUNERACIONES D...</td>\n",
       "      <td>11001</td>\n",
       "      <td>KABINETEETAKO ALDI BAT. PERTSONALAREN OINARRIZ...</td>\n",
       "      <td>RETRIBUCIONES BASICAS Y OTRAS REMUNERACIONES D...</td>\n",
       "      <td>9999/99999</td>\n",
       "      <td>GENERIKOA/ GENÉRICO</td>\n",
       "      <td>589.261,00</td>\n",
       "    </tr>\n",
       "    <tr>\n",
       "      <th>2</th>\n",
       "      <td>3</td>\n",
       "      <td>UDAL</td>\n",
       "      <td>UDAL</td>\n",
       "      <td>2023</td>\n",
       "      <td>110</td>\n",
       "      <td>KULTURA ETA GOBERNANTZA</td>\n",
       "      <td>CULTURA Y GOBERNANZA</td>\n",
       "      <td>1100</td>\n",
       "      <td>KULTURA ETA GOBERNANTZA</td>\n",
       "      <td>CULTURA Y GOBERNANZA</td>\n",
       "      <td>...</td>\n",
       "      <td>RETRIBUCIONES DEL PERSONAL FUNCIONARIO</td>\n",
       "      <td>120</td>\n",
       "      <td>FUNTZIONARIOEN OINARRIZKO SOLDATAK</td>\n",
       "      <td>RETRIBUCIONES BASICAS DEL PERSONAL FUNCIONARIO</td>\n",
       "      <td>12001</td>\n",
       "      <td>FUNTZIONARIOEN OINARRIZKO SOLDATAK</td>\n",
       "      <td>RETRIBUCIONES BASICAS DEL PERSONAL FUNCIONARIO</td>\n",
       "      <td>9999/99999</td>\n",
       "      <td>GENERIKOA/ GENÉRICO</td>\n",
       "      <td>383.369,00</td>\n",
       "    </tr>\n",
       "    <tr>\n",
       "      <th>3</th>\n",
       "      <td>4</td>\n",
       "      <td>UDAL</td>\n",
       "      <td>UDAL</td>\n",
       "      <td>2023</td>\n",
       "      <td>110</td>\n",
       "      <td>KULTURA ETA GOBERNANTZA</td>\n",
       "      <td>CULTURA Y GOBERNANZA</td>\n",
       "      <td>1100</td>\n",
       "      <td>KULTURA ETA GOBERNANTZA</td>\n",
       "      <td>CULTURA Y GOBERNANZA</td>\n",
       "      <td>...</td>\n",
       "      <td>RETRIBUCIONES DEL PERSONAL FUNCIONARIO</td>\n",
       "      <td>121</td>\n",
       "      <td>FUNTZIONARIOEN ORDAINSARI OSAGARRIAK</td>\n",
       "      <td>RETRIBUCIONES COMPLEMENTARIAS DEL PERSONAL FUN...</td>\n",
       "      <td>12101</td>\n",
       "      <td>LANTOKI OSAGARRIA</td>\n",
       "      <td>COMPLEMENTO DE DESTINO</td>\n",
       "      <td>9999/99999</td>\n",
       "      <td>GENERIKOA/ GENÉRICO</td>\n",
       "      <td>131.722,00</td>\n",
       "    </tr>\n",
       "    <tr>\n",
       "      <th>4</th>\n",
       "      <td>5</td>\n",
       "      <td>UDAL</td>\n",
       "      <td>UDAL</td>\n",
       "      <td>2023</td>\n",
       "      <td>110</td>\n",
       "      <td>KULTURA ETA GOBERNANTZA</td>\n",
       "      <td>CULTURA Y GOBERNANZA</td>\n",
       "      <td>1100</td>\n",
       "      <td>KULTURA ETA GOBERNANTZA</td>\n",
       "      <td>CULTURA Y GOBERNANZA</td>\n",
       "      <td>...</td>\n",
       "      <td>RETRIBUCIONES DEL PERSONAL FUNCIONARIO</td>\n",
       "      <td>121</td>\n",
       "      <td>FUNTZIONARIOEN ORDAINSARI OSAGARRIAK</td>\n",
       "      <td>RETRIBUCIONES COMPLEMENTARIAS DEL PERSONAL FUN...</td>\n",
       "      <td>12102</td>\n",
       "      <td>OSAGARRI BEREZIA</td>\n",
       "      <td>COMPLEMENTO ESPECIFICO</td>\n",
       "      <td>9999/99999</td>\n",
       "      <td>GENERIKOA/ GENÉRICO</td>\n",
       "      <td>396.609,00</td>\n",
       "    </tr>\n",
       "  </tbody>\n",
       "</table>\n",
       "<p>5 rows × 37 columns</p>\n",
       "</div>"
      ],
      "text/plain": [
       "   _id SOZIETATEA_EU/SOCIEDAD_EU SOZIETATEA_CAS/SOCIEDAD_CAS  \\\n",
       "0    1                      UDAL                        UDAL   \n",
       "1    2                      UDAL                        UDAL   \n",
       "2    3                      UDAL                        UDAL   \n",
       "3    4                      UDAL                        UDAL   \n",
       "4    5                      UDAL                        UDAL   \n",
       "\n",
       "   EKITALDIA/EJERCICIO SAILA/DEPARTAMENTO  \\\n",
       "0                 2023                110   \n",
       "1                 2023                110   \n",
       "2                 2023                110   \n",
       "3                 2023                110   \n",
       "4                 2023                110   \n",
       "\n",
       "  SAILAREN DESKRIBAPENA_EU/DESCRIPCION DEPARTAMENTO_EU  \\\n",
       "0                            KULTURA ETA GOBERNANTZA     \n",
       "1                            KULTURA ETA GOBERNANTZA     \n",
       "2                            KULTURA ETA GOBERNANTZA     \n",
       "3                            KULTURA ETA GOBERNANTZA     \n",
       "4                            KULTURA ETA GOBERNANTZA     \n",
       "\n",
       "  SAILAREN DESKRIBAPENA_EU/DESCRIPCION DEPARTAMENTO_CAS  \\\n",
       "0                               CULTURA Y GOBERNANZA      \n",
       "1                               CULTURA Y GOBERNANZA      \n",
       "2                               CULTURA Y GOBERNANZA      \n",
       "3                               CULTURA Y GOBERNANZA      \n",
       "4                               CULTURA Y GOBERNANZA      \n",
       "\n",
       "  ZENTRU KUDEATZAILEA/CENTRO GESTOR  \\\n",
       "0                              1100   \n",
       "1                              1100   \n",
       "2                              1100   \n",
       "3                              1100   \n",
       "4                              1100   \n",
       "\n",
       "  ZENTRO KUDEATZAILEAREN DESKR._EUS/DESCR. CENTRO GESTOR_EUS  \\\n",
       "0                            KULTURA ETA GOBERNANTZA           \n",
       "1                            KULTURA ETA GOBERNANTZA           \n",
       "2                            KULTURA ETA GOBERNANTZA           \n",
       "3                            KULTURA ETA GOBERNANTZA           \n",
       "4                            KULTURA ETA GOBERNANTZA           \n",
       "\n",
       "  ZENTRO KUDEATZAILEAREN DESKR._CAS/DESCR. CENTRO GESTOR_CAS  ...  \\\n",
       "0                               CULTURA Y GOBERNANZA          ...   \n",
       "1                               CULTURA Y GOBERNANZA          ...   \n",
       "2                               CULTURA Y GOBERNANZA          ...   \n",
       "3                               CULTURA Y GOBERNANZA          ...   \n",
       "4                               CULTURA Y GOBERNANZA          ...   \n",
       "\n",
       "   ARTIKULUAREN DESKRIBAPENA_CAS/DESCRIPCION ARTICULO_CAS KONTZEPTUA/CONCEPTO  \\\n",
       "0                      RETRIBUCIONES DE ALTOS CARGOS                      100   \n",
       "1   RETRIBUCIONES DEL PERSONAL EVENTUAL DE GABINETES                      110   \n",
       "2             RETRIBUCIONES DEL PERSONAL FUNCIONARIO                      120   \n",
       "3             RETRIBUCIONES DEL PERSONAL FUNCIONARIO                      121   \n",
       "4             RETRIBUCIONES DEL PERSONAL FUNCIONARIO                      121   \n",
       "\n",
       "  KONTZEPTUAREN DESKRIBAPENA_EUS/DESCRIPCION CONCEPTO_EUS  \\\n",
       "0  GOI KARGUEN OINARRIZKO SOLDATAK ETA BESTELAKO ...        \n",
       "1  KABINETEETAKO ALDI BAT. PERTSONALAREN OINARRIZ...        \n",
       "2                 FUNTZIONARIOEN OINARRIZKO SOLDATAK        \n",
       "3               FUNTZIONARIOEN ORDAINSARI OSAGARRIAK        \n",
       "4               FUNTZIONARIOEN ORDAINSARI OSAGARRIAK        \n",
       "\n",
       "   KONTZEPTUAREN DESKRIBAPENA_CAS/DESCRIPCION CONCEPTO_CAS  \\\n",
       "0  RETRIBUCIONES BASICAS Y OTRAS REMUNERACIONES D...         \n",
       "1  RETRIBUCIONES BASICAS Y OTRAS REMUNERACIONES D...         \n",
       "2     RETRIBUCIONES BASICAS DEL PERSONAL FUNCIONARIO         \n",
       "3  RETRIBUCIONES COMPLEMENTARIAS DEL PERSONAL FUN...         \n",
       "4  RETRIBUCIONES COMPLEMENTARIAS DEL PERSONAL FUN...         \n",
       "\n",
       "  AZPIKONTZEPTUA/SUBCONCEPTO  \\\n",
       "0                      10001   \n",
       "1                      11001   \n",
       "2                      12001   \n",
       "3                      12101   \n",
       "4                      12102   \n",
       "\n",
       "  AZPIKONTZEPTUAREN DESKRIBAPENA_EUS/DESCRIPCION SUBCONCEPTO_EUS  \\\n",
       "0  GOI KARGUEN OINARRIZKO SOLDATAK ETA BESTELAKO ...               \n",
       "1  KABINETEETAKO ALDI BAT. PERTSONALAREN OINARRIZ...               \n",
       "2                 FUNTZIONARIOEN OINARRIZKO SOLDATAK               \n",
       "3                                  LANTOKI OSAGARRIA               \n",
       "4                                   OSAGARRI BEREZIA               \n",
       "\n",
       "   AZPIKONTZEPTUAREN DESKRIBAPENA_CAS/DESCRIPCION SUBCONCEPTO_CAS  \\\n",
       "0  RETRIBUCIONES BASICAS Y OTRAS REMUNERACIONES D...                \n",
       "1  RETRIBUCIONES BASICAS Y OTRAS REMUNERACIONES D...                \n",
       "2     RETRIBUCIONES BASICAS DEL PERSONAL FUNCIONARIO                \n",
       "3                             COMPLEMENTO DE DESTINO                \n",
       "4                             COMPLEMENTO ESPECIFICO                \n",
       "\n",
       "  PROIEKTUA/PROYECTO PROIEKTUAREN DESKRIBAPENA/DESCRIPCION PROYECTO  \\\n",
       "0         9999/99999                            GENERIKOA/ GENÉRICO   \n",
       "1         9999/99999                            GENERIKOA/ GENÉRICO   \n",
       "2         9999/99999                            GENERIKOA/ GENÉRICO   \n",
       "3         9999/99999                            GENERIKOA/ GENÉRICO   \n",
       "4         9999/99999                            GENERIKOA/ GENÉRICO   \n",
       "\n",
       "   HASIERAKO KREDITUA/CREDITO INICIAL 2023  \n",
       "0                               220.619,00  \n",
       "1                               589.261,00  \n",
       "2                               383.369,00  \n",
       "3                               131.722,00  \n",
       "4                               396.609,00  \n",
       "\n",
       "[5 rows x 37 columns]"
      ]
     },
     "execution_count": 9,
     "metadata": {},
     "output_type": "execute_result"
    }
   ],
   "source": [
    "df_gastos.head()"
   ]
  },
  {
   "cell_type": "markdown",
   "metadata": {
    "collapsed": false
   },
   "source": [
    "### Guardant un dataframe\n",
    "\n",
    "Durant aquest curs aprendrem a modificar els dataframes, afegirem i eliminarem columnes i també modificarem les que ja tenim. Per tant, fet aquesta feinada, és necessari guardar les dades noves a un fitxer."
   ]
  },
  {
   "cell_type": "code",
   "execution_count": null,
   "metadata": {
    "collapsed": false
   },
   "outputs": [],
   "source": [
    "df_gastos.to_csv('data/tmp_file.csv',encoding='utf-8') # guardant un dataframe en un fitxer, especificant el format"
   ]
  },
  {
   "cell_type": "code",
   "execution_count": null,
   "metadata": {
    "collapsed": false
   },
   "outputs": [],
   "source": [
    "df_tmp = pd.read_csv(\"data/tmp_file.csv\") # test codificació i separador"
   ]
  },
  {
   "cell_type": "markdown",
   "metadata": {
    "collapsed": false
   },
   "source": [
    "### Carrega de dades (III)\n",
    "\n",
    "Pandas soporta diferents formats de fitxers (i.e. CSV,JSON, formats d'Excel, pàgines web, fitxers penjats a la web, etc.). Obviament, cada format té la seva particularitat.\n",
    "\n",
    "Trobarem més informació al següent [enllaç](https://pandas.pydata.org/docs/reference/io.html) \n",
    "\n",
    "Un exemple de contigut a la Wikipedia:"
   ]
  },
  {
   "cell_type": "code",
   "execution_count": null,
   "metadata": {
    "collapsed": false
   },
   "outputs": [],
   "source": [
    "url = \"https://es.wikipedia.org/wiki/Anexo:Comunidades_y_ciudades_aut%C3%B3nomas_de_Espa%C3%B1a\" # Fes un copypaste d'aquesta url al teu navigador\n",
    "\n",
    "comunidades_esp = pd.io.html.read_html(url) \n",
    "comunidades_esp # Alerta! Encara no és un dataframe! En una web pots trobar més \"taules\""
   ]
  },
  {
   "cell_type": "code",
   "execution_count": null,
   "metadata": {
    "collapsed": false
   },
   "outputs": [],
   "source": [
    "print(type(comunidades_esp[0]))\n",
    "df_comunidades_esp = comunidades_esp[0]"
   ]
  },
  {
   "cell_type": "code",
   "execution_count": null,
   "metadata": {
    "collapsed": false
   },
   "outputs": [],
   "source": [
    "df_comunidades_esp.head() # funciona perfectament??"
   ]
  },
  {
   "cell_type": "markdown",
   "metadata": {},
   "source": [
    "Un segon exemple de contigut amb un fitxer JSON penjat a la web:"
   ]
  },
  {
   "cell_type": "code",
   "execution_count": null,
   "metadata": {},
   "outputs": [],
   "source": [
    "#Font: https://data.cityofnewyork.us/Environment/Urban-Park-Ranger-Animal-Condition-Response/fuhs-xmg2\n",
    "url = 'https://data.cityofnewyork.us/resource/s3vf-x992.json'\n",
    "df = pd.read_json(url)\n",
    "df.head()"
   ]
  },
  {
   "attachments": {},
   "cell_type": "markdown",
   "metadata": {},
   "source": [
    "## Activitat\n",
    "\n",
    "En aquesta activitat practicarem la càrrega de dades en diferents formats. Al món real les dades no sempre tenen una estructura i un format com ens agradaríem.\n",
    "\n",
    "L'objectiu és que analitzeu la càrrega d'aquestes dades amb les originals: <br/>\n",
    "- Quina dimensió tenen les dades reals i carregades?\n",
    "- Quines columnes?\n",
    "- El concepte de columna com atribut o característica i el concepte de fila com a mostra està present en l'estructura de les dades?\n",
    "- Coincideixen amb la informació del fitxer?"
   ]
  },
  {
   "attachments": {},
   "cell_type": "markdown",
   "metadata": {},
   "source": [
    "### A) \"Municipios y fenómeno demográfico de les Illes Balears\" <br/>\n",
    "Font: https://datos.gob.es/es/catalogo/ea0010587-balears-illes-por-municipios-y-fenomeno-demografico-mnpd-identificador-api-t20-e301-fenom-a2020-l0-23007-px <br/>\n",
    "Fitxer: \"data/municipis.csv\" <br/>\n",
    "\n"
   ]
  },
  {
   "cell_type": "code",
   "execution_count": null,
   "metadata": {},
   "outputs": [],
   "source": [
    "import pandas as pd\n",
    "#TODO"
   ]
  },
  {
   "attachments": {},
   "cell_type": "markdown",
   "metadata": {},
   "source": [
    "### B) \"Speculation Watch List\"\n",
    "Font: https://data.cityofnewyork.us/Housing-Development/Speculation-Watch-List/adax-9mit <br/>\n",
    "Fitxer: \"data/Speculation_Watch_List.csv\""
   ]
  },
  {
   "cell_type": "code",
   "execution_count": null,
   "metadata": {},
   "outputs": [],
   "source": [
    "import pandas as pd\n",
    "#TODO"
   ]
  },
  {
   "attachments": {},
   "cell_type": "markdown",
   "metadata": {},
   "source": [
    "### C) \"Europe Inflation monthly data (annual rate of change)\" \n",
    "Font: https://ec.europa.eu/eurostat/databrowser/view/PRC_HICP_MANR__custom_3761882/bookmark/table?lang=en&bookmarkId=4ad27e6f-358a-4a3d-82a0-587d69a833eb <br/>\n",
    "Fitxer: \"data/prc_hicp_manr__custom_3761882_spreadsheet.xlsx\" <br/>\n",
    "*Nota:*\n",
    "  - Com podem agafar una \"fulla\" concreta del full de càlcul? [documentació](https://pandas.pydata.org/docs/reference/api/pandas.read_excel.html)\n",
    "  - Per aquesta activitat necessitem instal·lar una llibreria específica: executa la següent cel·la"
   ]
  },
  {
   "cell_type": "code",
   "execution_count": null,
   "metadata": {},
   "outputs": [],
   "source": [
    "%pip install openpyxl"
   ]
  },
  {
   "cell_type": "code",
   "execution_count": null,
   "metadata": {},
   "outputs": [],
   "source": [
    "\n",
    "import pandas as pd\n",
    "#TODO\n"
   ]
  },
  {
   "attachments": {},
   "cell_type": "markdown",
   "metadata": {},
   "source": [
    "### D) \"Taula de Naixements\"\n",
    "Font: https://ibestat.caib.es/ibestat/estadistiques/poblacio/naixements/414cab4f-b402-4cd1-af05-6617443de384 <br/>\n",
    "URL dades: \"https://ibestat.caib.es/ibestat/estadistiques/poblacio/naixements/414cab4f-b402-4cd1-af05-6617443de384\" <br/>\n",
    "\n"
   ]
  },
  {
   "cell_type": "code",
   "execution_count": null,
   "metadata": {},
   "outputs": [],
   "source": [
    "import pandas as pd\n",
    "#TODO\n"
   ]
  },
  {
   "attachments": {},
   "cell_type": "markdown",
   "metadata": {},
   "source": [
    "### E) \"Nights spent at tourist accommodation establishments by residents/non-residents - monthly data\"\n",
    "Font:  https://ec.europa.eu/eurostat/databrowser/view/tin00171/default/table?lang=en <br/>\n",
    "Fitxer: \"data/tin00171_linear.csv.gz\" <br/>\n",
    "Nota: \n",
    "- Els fitxers comprimits amb format .gz podem obrir-se directament com si fossin fitxers de dades amb pandas, i en aquest cas és un fitxer del tipus CSV. És a dir, no cal descomprimir.\n"
   ]
  },
  {
   "cell_type": "code",
   "execution_count": null,
   "metadata": {},
   "outputs": [],
   "source": [
    "import pandas as pd\n",
    "#TODO"
   ]
  },
  {
   "attachments": {},
   "cell_type": "markdown",
   "metadata": {},
   "source": [
    "[![License: CC BY 4.0](https://img.shields.io/badge/License-CC_BY_4.0-lightgrey.svg)](https://creativecommons.org/licenses/by/4.0/) <br/>\n",
    "Isaac Lera and Gabriel Moya <br/>\n",
    "Universitat de les Illes Balears <br/>\n",
    "isaac.lera@uib.edu, gabriel.moya@uib.edu"
   ]
  },
  {
   "cell_type": "markdown",
   "metadata": {},
   "source": []
  }
 ],
 "metadata": {
  "kernelspec": {
   "display_name": "Python 3.9.7 64-bit ('3.9.7')",
   "language": "python",
   "name": "python3"
  },
  "language_info": {
   "codemirror_mode": {
    "name": "ipython",
    "version": 3
   },
   "file_extension": ".py",
   "mimetype": "text/x-python",
   "name": "python",
   "nbconvert_exporter": "python",
   "pygments_lexer": "ipython3",
   "version": "3.9.7"
  },
  "orig_nbformat": 4,
  "vscode": {
   "interpreter": {
    "hash": "1dd6de46b7c7be538353ccdeaa948031a5b4d43665739a26f55ca28b247c53cc"
   }
  }
 },
 "nbformat": 4,
 "nbformat_minor": 2
}
