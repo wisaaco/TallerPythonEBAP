{
 "cells": [
  {
   "attachments": {},
   "cell_type": "markdown",
   "metadata": {},
   "source": [
    "# Introducció al curs\n",
    "\n",
    "**Curs de Python per l'Escola Balear d'Administració Pública (EBAP)**: \"Manipulació i anàlisi de dades basat en el llenguatge de programació Python\"\n",
    "\n",
    "Benvinguts i Benvingudes!"
   ]
  },
  {
   "attachments": {},
   "cell_type": "markdown",
   "metadata": {},
   "source": [
    "## Noltros\n",
    "\n",
    "- [Isaac Lera](https://personal.uib.cat/isaac.lera)\n",
    "- [Biel Moyà](https://personal.uib.cat/gabriel.moya)\n",
    "\n",
    "**Breu presentació**\n",
    "\n",
    "- Professors Titulars d'Universitat. Doctors en informàtica per la UIB.\n",
    "- Membres del Laboratori d'Aplicacions de la Intel·ligència Artificial ([LAIA](https://laia.uib.cat/)).\n",
    "- La nostra docència està relacionada amb la programació a diferents assignatures al grau d'informàtica i a estudis de postgrau com [MADM](http://madm.uib.es/) i [MUSI](https://estudis.uib.cat/estudis-de-master/master/MUSI/).\n",
    "- Hem impartit 4 cursos d'estiu de Python per a personal científic i 2 cursos de Python avançats per personal intern de la UIB i SOCIB.\n",
    "- Python és el llenguatge transversal usat a la nostra recerca: problemes d'optimització de recursos i IA amb imatges, respectivament."
   ]
  },
  {
   "attachments": {},
   "cell_type": "markdown",
   "metadata": {},
   "source": [
    "## Sobre aquest curs\n",
    "\n",
    "El curs té com a fi l'adquisició de coneixement i d'habilitats per a utilitzar un llenguatge de programació molt potent i senzill com és Python. <br/>\n",
    "L'objectiu és que sigui una eina més del vostre repertori i complementi les vostres necessitats en:\n",
    "\n",
    "\t- Carrega i manipulació de dades,\n",
    "\t- Anàlisi de dades i\n",
    "\t- Visualització\n",
    "\n",
    "I en cadascun d'aquests passos intermedis tingueu la possibilitat d'integrar els resultats en les vostres eines més quotidianes: editors de textos, fulls de càlcul, PDF, etc.\n",
    "\n"
   ]
  },
  {
   "attachments": {},
   "cell_type": "markdown",
   "metadata": {},
   "source": [
    "## El llenguatge Python\n",
    "\n",
    "[Python](https://www.python.org/) és un llenguatge interpretable amb una sintaxi tan senzilla que conjuntment amb les funcionalitats del gran nombre de llibreries podem crear processos complexos en un parell de línies de codi!\n",
    "\n",
    "- Python és el llenguatge més demandat a nivel professional  (Font [Tiobe index](https://www.tiobe.com/tiobe-index/) 2023)\n",
    "- El llenguatge dominant amb l'anàlisi de dades\n",
    "- i de llibrerías de Inteligència Artificial\n",
    "- Moltes eines ofereixen compatiblitat de integració de codi Python al seu propi entorn\n",
    "- Capacitat de fer-ho servir com servei web, i.e. [Google Notebook](https://colab.research.google.com/)\n"
   ]
  },
  {
   "attachments": {},
   "cell_type": "markdown",
   "metadata": {},
   "source": [
    "#### Com funciona Python?\n",
    "\n",
    "- Llenguatge interpretat. Què significa això? Terminal!\n",
    "- Possibilita entorns interactius com Jupyter Notebooks i la seva integració en altres eines.\n",
    "- També existeixen editors de codi professionals.\n",
    "- Està integrat en moltes eines de software lliure... i també a [Excel](https://www.microsoft.com/en-us/microsoft-365/python-in-excel)!!"
   ]
  },
  {
   "attachments": {},
   "cell_type": "markdown",
   "metadata": {},
   "source": [
    "#### Per què és tan pràctic Python?\n",
    "- Una sintaxi senzilla.\n",
    "- No hi ha tipologia de variables.\n",
    "- Mètodes i comportaments molt semblant entre diferents tipus de variables.\n",
    "\n",
    "\n",
    "Exemple:"
   ]
  },
  {
   "cell_type": "code",
   "execution_count": 9,
   "metadata": {},
   "outputs": [
    {
     "data": {
      "text/plain": [
       "<AxesSubplot:>"
      ]
     },
     "execution_count": 9,
     "metadata": {},
     "output_type": "execute_result"
    },
    {
     "data": {
      "image/png": "[encoded data removed]",
      "text/plain": [
       "<Figure size 432x288 with 1 Axes>"
      ]
     },
     "metadata": {
      "needs_background": "light"
     },
     "output_type": "display_data"
    }
   ],
   "source": [
    "# Un primer exemple\n",
    "\n",
    "## Importació de llibreries\n",
    "import pandas as pd\n",
    "import numpy as np\n",
    "\n",
    "# Dades\n",
    "municipis  = ['Palma de Mallorca', 'Alcúdia', 'Andratx', 'Artà', 'Campos', 'Felanitx', 'Inca', 'Llucmajor', 'Manacor', 'Sóller']\n",
    "candidats = np.random.randint(10,100,len(municipis))\n",
    "# Creació d'un panel\n",
    "df = pd.DataFrame({\"nombre candidats\":candidats},index=municipis)\n",
    "\n",
    "# Visualització\n",
    "df.plot(kind=\"bar\")"
   ]
  },
  {
   "attachments": {},
   "cell_type": "markdown",
   "metadata": {},
   "source": [
    "Un exemple comparatiu amb l'entorn **R**:\n",
    "\n",
    "  ```r\n",
    "\n",
    "  library(ggplot2)\n",
    "\n",
    "  municipios_mallorca <- c('Palma de Mallorca', 'Alcúdia', 'Andratx', 'Artà', 'Campos', 'Felanitx', 'Inca', 'Llucmajor', 'Manacor', 'Sóller')\n",
    "\n",
    "  dataFrame <- data.frame(\n",
    "    Municipio = municipios_mallorca\n",
    "  )\n",
    "\n",
    "  dataFrame$Num_Candidatos<-sample1(10:100, size = nrow(dataFrame), replace = TRUE)\n",
    "\n",
    "  plot <- ggplot(dataFrame, aes(x = Municipio, y = Num_Candidatos)) +\n",
    "    geom_bar(stat = \"identity\", fill = \"steelblue\") +\n",
    "    xlab(\"Municipio\") +\n",
    "    ylab(\"Número de Candidatos\") +\n",
    "    ggtitle(\"Número de Candidatos por Municipio\")\n",
    "\n",
    "  \n",
    "  print(plot)\n",
    "  ```\n"
   ]
  },
  {
   "attachments": {},
   "cell_type": "markdown",
   "metadata": {},
   "source": [
    "#### Ecosistema de llibreries\n",
    "\n",
    "- Existeixen llibreries per a pràcticament qualsevol disciplina: biologia, química, física, xarxes, IA, aprenentatge automàtic, integració amb base de dades, integració amb gestió d'arquitectures Web, etc.\n",
    "  \n",
    "- <img src=\"images/Top-10-Python-Libraries-Used-1.png\" style=\"width:40%\"/>\n",
    "- [Pandas](https://pandas.pydata.org/)\n",
    "- [Seaborn](https://seaborn.pydata.org/)"
   ]
  },
  {
   "attachments": {},
   "cell_type": "markdown",
   "metadata": {},
   "source": [
    "## Material del curs\n",
    "\n",
    "Tot el material d'aquest curs estarà disponible en línia com a document de text , com a codi) i de dins de l'entorn de Google Colab per a la seva edició.\n",
    "\n",
    "Fem una prova! Pitja aquest botó [![Open in Colab](https://colab.research.google.com/assets/colab-badge.svg)](https://colab.research.google.com/github/wisaaco/TallerPythonEBAP/blob/main/lessons/CursPython.ipynb)\n",
    "\n",
    "\n",
    "### Temari\n",
    "- U1. Introducció a la sintaxi Python i editor Jupyter\n",
    "  - Editor Jupyter Notebook mitjançat Google Colab\n",
    "  - Principals operacions arimètiques i lògiques\n",
    "  - Tipus d'objectes\n",
    "  - Funcions\n",
    "  - Ús de llibreríes: numpy i random\n",
    "- U2. Llibrería Pandas\n",
    "- U3. Numpy\n",
    "- U4. Matplotlib\n",
    "- *A definir segons evolució del curs*  "
   ]
  },
  {
   "attachments": {},
   "cell_type": "markdown",
   "metadata": {},
   "source": [
    "### Recursos complementaris\n",
    "- https://wesmckinney.com/book/\n",
    "- Intel·ligències generatives com ChatGPT (Alerta! al·lucinacions, compromís i dedicació)"
   ]
  },
  {
   "attachments": {},
   "cell_type": "markdown",
   "metadata": {},
   "source": [
    "## Consideracions\n",
    "\n",
    "- **Actualitzacions constants de la documentació**\n",
    "- **Limitacions de Google Colab**: <br/>\n",
    "    Una advertència important a recordar quan feu servir Colab és que els fitxers que hi pengeu no estaran disponibles per sempre. Colab és un entorn temporal amb un temps d'inactivitat de 90 minuts i un temps d'espera absolut de 12 hores. Això vol dir que el temps d'execució es desconnectarà si s'ha mantingut inactiu durant 90 minuts o si ha estat en ús durant 12 hores. En desconnectar, perds totes les teves variables, estats, paquets instal·lats i fitxers i es connectarà a un entorn completament nou i net en tornar a connectar-te.A més, Colab té una limitació d'espai en disc de 108 GB, dels quals només 77 GB estan disponibles per a l'usuari. Tot i que això hauria de ser suficient per a la majoria de les tasques, tingueu-ho en compte mentre treballeu amb conjunts de dades més grans, com ara dades d'imatge o de vídeo."
   ]
  },
  {
   "cell_type": "code",
   "execution_count": null,
   "metadata": {},
   "outputs": [],
   "source": []
  }
 ],
 "metadata": {
  "kernelspec": {
   "display_name": "my397",
   "language": "python",
   "name": "python3"
  },
  "language_info": {
   "codemirror_mode": {
    "name": "ipython",
    "version": 3
   },
   "file_extension": ".py",
   "mimetype": "text/x-python",
   "name": "python",
   "nbconvert_exporter": "python",
   "pygments_lexer": "ipython3",
   "version": "3.9.7"
  },
  "orig_nbformat": 4
 },
 "nbformat": 4,
 "nbformat_minor": 2
}
