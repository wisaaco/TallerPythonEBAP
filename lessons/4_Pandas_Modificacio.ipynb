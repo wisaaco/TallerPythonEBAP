{
 "cells": [
  {
   "cell_type": "markdown",
   "metadata": {
    "collapsed": false
   },
   "source": [
    "<div align=\"right\">\n",
    "\n",
    "[![Open In Colab](https://colab.research.google.com/assets/colab-badge.png)](https://colab.research.google.com/github/wisaaco/TallerPythonEBAP/blob/main/lessons/4_Pandas_Modificacio.ipynb)\n",
    "\n",
    "\n",
    "Si no funciona el botó podeu copiar el següent [enllaç](https://colab.research.google.com/github/wisaaco/TallerPythonEBAP/blob/main/lessons/4_Pandas_Modificacio.ipynb)\n",
    "</div>"
   ]
  },
  {
   "cell_type": "markdown",
   "metadata": {
    "collapsed": false
   },
   "source": [
    "# 4 - Pandas: modificació del dataframe\n",
    "A més de fer seleccions, en alguns moments necessitarem incorporar nova informació a les nostres taules de dades.\n"
   ]
  },
  {
   "cell_type": "code",
   "execution_count": null,
   "metadata": {
    "collapsed": false
   },
   "outputs": [],
   "source": [
    "import pandas as pd"
   ]
  },
  {
   "cell_type": "code",
   "execution_count": null,
   "metadata": {
    "collapsed": false
   },
   "outputs": [],
   "source": [
    "df2 = pd.DataFrame([('Foreign Cinema', 'Restaurant', 289.0),\n",
    "                   ('Liho Liho', 'Restaurant', 224.0),\n",
    "                   ('500 Club', 'bar', 80.5),\n",
    "                   ('The Square', 'bar', 25.30)],\n",
    "           columns=('name', 'type', 'AvgBill')\n",
    "                 )\n",
    "df2"
   ]
  },
  {
   "cell_type": "markdown",
   "metadata": {
    "collapsed": false
   },
   "source": [
    "## Afegir columnes\n",
    "\n",
    "Tenim diverses maneres d'afegir columnes a un _dataFrame_:\n",
    "\n",
    "- Mitjançant el nom de la columna que volem afegir, tal com afegim una clau nova a un diccionari.\n",
    "- `insert`: és un mètode que necessita 3 paràmetres. La posició on volem afegir la columna (`loc`), el seu nom (`column`) i la llista de valors (`value`).\n",
    "- `assign`: molt semblant a l'anterior, però permet afegir múltiples columnes.\n",
    "\n",
    "Vegem-ne alguns exemples:"
   ]
  },
  {
   "cell_type": "code",
   "execution_count": null,
   "metadata": {
    "collapsed": false
   },
   "outputs": [],
   "source": [
    "df2['Day'] = \"Monday\" # Com un diccionari. un ùnic valor a la nova sèrie\n",
    "df2"
   ]
  },
  {
   "cell_type": "code",
   "execution_count": null,
   "metadata": {
    "collapsed": false
   },
   "outputs": [],
   "source": [
    "df2['Day'] = ['Monday', 'Tuesday', 'Wednesday', 'Thursday']\n",
    "df2"
   ]
  },
  {
   "cell_type": "code",
   "execution_count": null,
   "metadata": {
    "collapsed": false
   },
   "outputs": [],
   "source": [
    "#Emprarem el mètode insert. Indicant on volem inserir aquesta columna amb el paràmetre loc\n",
    "\n",
    "df2.insert(loc=1, column=\"Stars\", value=[2,2,3,4])\n",
    "df2"
   ]
  },
  {
   "cell_type": "markdown",
   "metadata": {
    "collapsed": false
   },
   "source": [
    "El mètode `assing` permet afegir múltiples columnes en una sola operació. És interessant veure que la columna anomenada _AvgHalfBill_ és el resultat de dividir una columna entre 2."
   ]
  },
  {
   "cell_type": "code",
   "execution_count": null,
   "metadata": {
    "collapsed": false
   },
   "outputs": [],
   "source": [
    "df3 = df2.assign(AvgHalfBill=df2.AvgBill / 2, Michelin_Star=3)\n",
    "df3"
   ]
  },
  {
   "cell_type": "markdown",
   "metadata": {
    "collapsed": false
   },
   "source": [
    "## Afegir files\n",
    "\n",
    "Per afegir files (una nova mostra) a un _dataframe_ tenim\n",
    "\n",
    "- `concat`: concatena dos o més _dataFrames_ separats per comes."
   ]
  },
  {
   "cell_type": "code",
   "execution_count": null,
   "metadata": {
    "collapsed": false
   },
   "outputs": [],
   "source": [
    "df_files = df2.copy() # Fem una còpia de tota la informació\n",
    "\n",
    "#Cream un diccionari\n",
    "fila = {\"name\":\"Isaacs\", \"type\":\"bar\" ,\"AvgBill\":[148.2], \"day\":\"Friday\"}\n",
    "\n",
    "nou_df = pd.concat([df_files, pd.DataFrame(fila)])"
   ]
  },
  {
   "cell_type": "code",
   "execution_count": null,
   "metadata": {
    "collapsed": false
   },
   "outputs": [],
   "source": [
    "nou_df"
   ]
  },
  {
   "cell_type": "markdown",
   "metadata": {
    "collapsed": false
   },
   "source": [
    "## Eliminar columnes i files\n",
    "\n",
    "Molts cops tendrem la necessitat d'eliminar informació que no ens és interessant.\n",
    "\n",
    "### Columnes\n",
    "\n",
    "Tenim el mètode `drop` que ens proporciona un nou _dataFrame_ sense la(es) fila(es) o la(les) columna(es) que seleccionem.\n",
    "Si volem eliminar columnes podem fer-ho especificant la llista de columnes al paràmetre `columns` de la següent manera:"
   ]
  },
  {
   "cell_type": "code",
   "execution_count": null,
   "metadata": {
    "collapsed": false
   },
   "outputs": [],
   "source": [
    "df_no_michelin = df3.drop(columns=[\"Michelin_Star\"]) # Eliminamos la última columna que hemos creado\n",
    "df_no_michelin"
   ]
  },
  {
   "cell_type": "markdown",
   "metadata": {
    "collapsed": false
   },
   "source": [
    "Anem a veure com ha quedat el dataframe del qual hem eliminat una columna:"
   ]
  },
  {
   "cell_type": "code",
   "execution_count": null,
   "metadata": {
    "collapsed": false
   },
   "outputs": [],
   "source": [
    "df3"
   ]
  },
  {
   "cell_type": "markdown",
   "metadata": {
    "collapsed": false
   },
   "source": [
    "### Files\n",
    "Per poder eliminar files, fem servir la mateixa funció `drop`, aquesta vegada sense el paràmetre que hem fet servir anteriorment, simplement indiquem els índexs a eliminar:"
   ]
  },
  {
   "cell_type": "code",
   "execution_count": null,
   "metadata": {
    "collapsed": false
   },
   "outputs": [],
   "source": [
    "df_less_rows = df_no_michelin.drop([1,3])\n",
    "df_less_rows"
   ]
  },
  {
   "cell_type": "markdown",
   "metadata": {},
   "source": [
    "#### Eliminació de files segons un criteri"
   ]
  },
  {
   "cell_type": "code",
   "execution_count": null,
   "metadata": {},
   "outputs": [],
   "source": [
    "dfs1 = df3[df3.Stars>=3] # per una selecció?\n",
    "dfs1"
   ]
  },
  {
   "cell_type": "code",
   "execution_count": null,
   "metadata": {},
   "outputs": [],
   "source": [
    "df3.drop(df3.Stars>=3) #! requereix l'index"
   ]
  },
  {
   "cell_type": "code",
   "execution_count": null,
   "metadata": {},
   "outputs": [],
   "source": [
    "df3[df3.Stars>=3].index"
   ]
  },
  {
   "cell_type": "code",
   "execution_count": null,
   "metadata": {},
   "outputs": [],
   "source": [
    "df3.drop(df3[df3.Stars>=3].index)"
   ]
  },
  {
   "cell_type": "code",
   "execution_count": null,
   "metadata": {},
   "outputs": [],
   "source": [
    "df3 #! Alerta amb els canvis"
   ]
  },
  {
   "cell_type": "code",
   "execution_count": null,
   "metadata": {},
   "outputs": [],
   "source": [
    "df3.drop(df3[df3.Stars>=3].index, inplace=True)\n",
    "df3"
   ]
  },
  {
   "cell_type": "markdown",
   "metadata": {},
   "source": [
    "## Concatenació i unió de dataframes\n",
    "\n",
    "A vegades les dades venem en diferents fitxers i necessiten un únic fitxer, aquest procés implica una concatenació de dataframes. I en altres ocasions, les dades són complementàries és a dir, hi ha noves columnes d'un dataframe i això es coneix com fer operacions d'unió (joins)."
   ]
  },
  {
   "cell_type": "markdown",
   "metadata": {},
   "source": [
    "**Concatenació**"
   ]
  },
  {
   "cell_type": "code",
   "execution_count": null,
   "metadata": {},
   "outputs": [],
   "source": [
    "df1 = pd.DataFrame([('Foreign Cinema', 'Restaurant', 289.0),\n",
    "                   ('Liho Liho', 'Restaurant', 224.0),\n",
    "                   ('500 Club', 'bar', 80.5),\n",
    "                   ('The Square', 'bar', 25.30)],\n",
    "           columns=('name', 'type', 'AvgBill')\n",
    "                 )\n",
    "df1"
   ]
  },
  {
   "cell_type": "code",
   "execution_count": null,
   "metadata": {},
   "outputs": [],
   "source": [
    "df2 = pd.DataFrame([('Biels', 'Quiosquet', 389.0),\n",
    "                   ('Barkus', 'Bar', 24.0),\n",
    "                   ('Blue Wall', 'bar', 80.5),\n",
    "                   ('Bounty Hunters', 'Social Club', 125.30)],\n",
    "           columns=('name', 'type', 'AvgBill')\n",
    "                 )\n",
    "df2"
   ]
  },
  {
   "cell_type": "code",
   "execution_count": null,
   "metadata": {},
   "outputs": [],
   "source": [
    "dfAll = pd.concat([df1,df2])\n",
    "dfAll"
   ]
  },
  {
   "cell_type": "code",
   "execution_count": null,
   "metadata": {},
   "outputs": [],
   "source": [
    "dfAll = dfAll.reset_index()\n",
    "dfAll"
   ]
  },
  {
   "cell_type": "code",
   "execution_count": null,
   "metadata": {},
   "outputs": [],
   "source": [
    "dfAll.drop(columns=[\"index\"])"
   ]
  },
  {
   "cell_type": "code",
   "execution_count": null,
   "metadata": {},
   "outputs": [],
   "source": [
    "# https://pandas.pydata.org/docs/reference/api/pandas.concat.html\n",
    "dfAll = pd.concat([df1,df2],ignore_index=True)\n",
    "dfAll"
   ]
  },
  {
   "cell_type": "markdown",
   "metadata": {},
   "source": [
    "**Unió**\n",
    "\n",
    "Més informació: https://pandas.pydata.org/docs/user_guide/merging.html"
   ]
  },
  {
   "cell_type": "code",
   "execution_count": null,
   "metadata": {},
   "outputs": [],
   "source": [
    "df1 = pd.DataFrame([('Jhon', 1, \"Italy\"),\n",
    "                   ('Pep', 2, \"Germany\"),\n",
    "                   ('William', 3, \"Finland\"),\n",
    "                   ('Snake', 4, \"Italy\")],\n",
    "           columns=('name', 'ID', 'Country')\n",
    "                 )\n",
    "df1"
   ]
  },
  {
   "cell_type": "code",
   "execution_count": null,
   "metadata": {},
   "outputs": [],
   "source": [
    "df2 = pd.DataFrame([(1, 145.0, 3000.1),\n",
    "                   ( 2, 189.2, 2030.2),\n",
    "                   ( 3, 129.0, 3000.0),\n",
    "                   ( 4, 198.1, 4020.2)],\n",
    "           columns=('DNI', 'Weight', 'Salary')\n",
    "                 )\n",
    "df2"
   ]
  },
  {
   "cell_type": "code",
   "execution_count": null,
   "metadata": {},
   "outputs": [],
   "source": [
    "# https://pandas.pydata.org/docs/reference/api/pandas.DataFrame.merge.html\n",
    "\n",
    "df1.merge(df2)"
   ]
  },
  {
   "cell_type": "code",
   "execution_count": null,
   "metadata": {},
   "outputs": [],
   "source": [
    "df1.merge(df2, left_on='ID', right_on='DNI')"
   ]
  },
  {
   "cell_type": "code",
   "execution_count": null,
   "metadata": {},
   "outputs": [],
   "source": [
    "df2 = pd.DataFrame([(1, 145.0, 3000.1), #No 2\n",
    "                   ( 3, 129.0, 3000.0), # Multiples 3\n",
    "                   ( 3, 159.0, 4000.0),\n",
    "                   ( 3, 109.0, 5000.0),\n",
    "                   ( 4, 198.1, 4020.2),\n",
    "                   ( 5, 200.0, 5000.2)], #a new one \n",
    "           columns=('DNI', 'Weight', 'Salary')\n",
    "                 )\n",
    "df2"
   ]
  },
  {
   "cell_type": "code",
   "execution_count": null,
   "metadata": {},
   "outputs": [],
   "source": [
    "df1.merge(df2, left_on='ID', right_on='DNI')"
   ]
  },
  {
   "cell_type": "code",
   "execution_count": null,
   "metadata": {},
   "outputs": [],
   "source": [
    "df1.merge(df2, left_on='ID', right_on='DNI',how=\"left\")"
   ]
  },
  {
   "cell_type": "code",
   "execution_count": null,
   "metadata": {},
   "outputs": [],
   "source": [
    "df1.merge(df2, left_on='ID', right_on='DNI',how=\"right\")"
   ]
  },
  {
   "cell_type": "code",
   "execution_count": null,
   "metadata": {},
   "outputs": [],
   "source": [
    "df1.merge(df2, left_on='ID', right_on='DNI',how=\"inner\")"
   ]
  },
  {
   "cell_type": "code",
   "execution_count": null,
   "metadata": {},
   "outputs": [],
   "source": [
    "df1.merge(df2,how=\"cross\")"
   ]
  },
  {
   "cell_type": "markdown",
   "metadata": {
    "collapsed": false
   },
   "source": [
    "## Activitat\n",
    "Fer l'activitat 1.2 del _homework_ [enllaç](https://colab.research.google.com/github/wisaaco/TallerPythonEBAP/blob/main/homework/00/activitat_1_2.ipynb)"
   ]
  },
  {
   "cell_type": "markdown",
   "metadata": {
    "collapsed": false
   },
   "source": [
    "[![License: CC BY 4.0](https://img.shields.io/badge/License-CC_BY_4.0-lightgrey.svg)](https://creativecommons.org/licenses/by/4.0/) <br/>\n",
    "Isaac Lera and Gabriel Moya <br/>\n",
    "Universitat de les Illes Balears <br/>\n",
    "isaac.lera@uib.edu, gabriel.moya@uib.edu"
   ]
  }
 ],
 "metadata": {
  "kernelspec": {
   "display_name": "my397",
   "language": "python",
   "name": "python3"
  },
  "language_info": {
   "codemirror_mode": {
    "name": "ipython",
    "version": 3
   },
   "file_extension": ".py",
   "mimetype": "text/x-python",
   "name": "python",
   "nbconvert_exporter": "python",
   "pygments_lexer": "ipython3",
   "version": "3.9.7"
  },
  "vscode": {
   "interpreter": {
    "hash": "8b38137d60f5ef6101ebd11fd805c6415d52a5c999d13278488bced8392256b3"
   }
  }
 },
 "nbformat": 4,
 "nbformat_minor": 0
}
