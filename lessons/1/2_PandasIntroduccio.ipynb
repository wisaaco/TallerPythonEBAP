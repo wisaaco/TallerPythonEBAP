{
 "cells": [
  {
   "attachments": {},
   "cell_type": "markdown",
   "metadata": {},
   "source": [
    "<div align=\"right\">\n",
    "\n",
    "[![Open In Colab](https://colab.research.google.com/assets/colab-badge.svg)](https://colab.research.google.com/github/wisaaco/TallerPythonEBAP/blob/main/lessons/1/2_PandasIntroduccio.ipynb)\n",
    "\n",
    "\n",
    "Si no funciona el botó podeu copiar el següent [enllaç](https://colab.research.google.com/github/wisaaco/TallerPythonEBAP/blob/main/lessons/1/2_PandasIntroduccio.ipynb)\n",
    "</div>"
   ]
  },
  {
   "attachments": {},
   "cell_type": "markdown",
   "metadata": {},
   "source": [
    "# 2 - La llibreria Pandas\n",
    "\n",
    "**Pandas** és la llibreria per excel·lència per a l'anàlisi de dades del llenguatge Python. El seu nom prové de “panell data” (terme economètric). Inspirada en les funcionalitats de fulls de càlcul i _R_, però amb el potencial d'aquest llenguatge de propòsit general.\n",
    "\n",
    "**Pandas** inclou totes les funcionalitats necessàries per al procés d'anàlisi de dades: càrrega, filtrat, tractament, síntesi, agrupament, emmagatzematge i visualització. A més, s'integra amb la resta de llibreries de càlcul numèric com Numpy, visualització amb Matplotlib, aprenentatge automàtic amb scikit-learn, etc.\n",
    "\n",
    "**L'objectiu d'aquesta unitat és adquirir capacitats bàsiques de càrrega de dades amb Pandas.**\n",
    "\n",
    "Referències:\n",
    "- [Pandas](https://pandas.pydata.org/)\n",
    "- [Python](https://en.wikipedia.org/wiki/Python_(programming_language))\n",
    "- [Característiques Pandas](https://github.com/pandas-dev/pandas#*main-*features)\n",
    "\n",
    "*Nota*:  Pandas és una llibrería instal·lada per defecte a l'entorn d'execució de _Google Colab_."
   ]
  },
  {
   "cell_type": "code",
   "execution_count": null,
   "metadata": {},
   "outputs": [],
   "source": [
    "import pandas as pd "
   ]
  },
  {
   "attachments": {},
   "cell_type": "markdown",
   "metadata": {},
   "source": [
    "## Càrrega de dades i estructures bàsiques de Pandas.\n",
    "\n",
    "A continuació, obrirem el nostre primer fitxer, ho farem a partir d'un fitxer de dades que presenta una estructura tabular. Aquests fitxers coneguts com a CSV (Comma Separated Value) és un dels formats més populars. A Excel pots exportar fitxers en format CSV.\n",
    "\n",
    "El mètode a Pandas per obrir un fitxer CSV és: [read_csv](https://pandas.pydata.org/pandas-docs/dev/reference/api/pandas.read_csv.html)."
   ]
  },
  {
   "cell_type": "code",
   "execution_count": 26,
   "metadata": {},
   "outputs": [],
   "source": [
    "df_who = pd.read_csv(\"data/WHO.csv\") #Nota: hem d'especificar la ruta (o path) del fitxer"
   ]
  },
  {
   "cell_type": "markdown",
   "metadata": {},
   "source": [
    "A Pandas hi ha dos tipus **principals** de variables: **dataframes i series**. Aquest mètode genera una variable del tipus dataframe"
   ]
  },
  {
   "cell_type": "code",
   "execution_count": null,
   "metadata": {},
   "outputs": [],
   "source": [
    "print(type(df_who))"
   ]
  },
  {
   "cell_type": "code",
   "execution_count": null,
   "metadata": {},
   "outputs": [],
   "source": [
    "df_who"
   ]
  },
  {
   "cell_type": "code",
   "execution_count": null,
   "metadata": {},
   "outputs": [],
   "source": [
    "# Estructura\n",
    "print(df_who.shape) # files o mostres x columnes"
   ]
  },
  {
   "cell_type": "code",
   "execution_count": null,
   "metadata": {},
   "outputs": [],
   "source": [
    "df_who.info()"
   ]
  },
  {
   "cell_type": "code",
   "execution_count": null,
   "metadata": {},
   "outputs": [],
   "source": [
    "df_who.describe()"
   ]
  },
  {
   "cell_type": "code",
   "execution_count": null,
   "metadata": {},
   "outputs": [],
   "source": [
    "df_who.head()"
   ]
  },
  {
   "cell_type": "code",
   "execution_count": null,
   "metadata": {},
   "outputs": [],
   "source": [
    "df_who.tail()"
   ]
  },
  {
   "cell_type": "markdown",
   "metadata": {
    "collapsed": false
   },
   "source": [
    "### Carrega de dades (II)\n",
    "\n",
    "Malauradament, l'estructura i la codificació de les dades en els fitxers _CSV_ varia segons l'eina o el sistema operatiu. Així, podem tenir separadors entre columnes que no siguin la típica ',' o formats no oberts (i.e. utf-8, ansci,...) de codificació del text.\n",
    "\n",
    "Per això, la funció *read_csv* té molta versatilitat. Mirem la seva [documentació](https://pandas.pydata.org/docs/reference/api/pandas.read_csv.html)\n",
    "\n",
    "Anem a veure que passa quan agafem dades de d'una administració pública: [enllaç](https://datos.gob.es/es/catalogo?q=bilbao&g-recaptcha-response=&administration_level=L&theme_id=economia&sort=score+desc%2C+metadata_created+desc) Aquest fitxer està disponible a: \"data/presupuesto_gastos_2023.csv\"\n"
   ]
  },
  {
   "cell_type": "code",
   "execution_count": null,
   "metadata": {
    "collapsed": false
   },
   "outputs": [],
   "source": [
    "df_gastos = pd.read_csv(\"data/presupuesto_gastos_2023.csv\") # quins errors genera ?"
   ]
  },
  {
   "cell_type": "code",
   "execution_count": null,
   "metadata": {
    "collapsed": false
   },
   "outputs": [],
   "source": [
    "df_gastos = pd.read_csv(\"data/presupuesto_gastos_2023.csv\",delimiter=\";\") # quins errors genera ?"
   ]
  },
  {
   "cell_type": "markdown",
   "metadata": {
    "collapsed": false
   },
   "source": [
    "### Codificació de caràcters\n",
    "\n",
    "Python utilitza una representació basada en Unicode (https://home.unicode.org/). En canvi altres sistemes operatius i eines opten per altres tipus de representacions.\n",
    "\n",
    "```python\n",
    "var = \"camión\"\n",
    "var = \"lul·lià\"\n",
    "var = \"Ζεύς\"\n",
    "var = \"ประเทศไทย\"\n",
    "var = \"日本語で\"\n",
    "```\n",
    "\n",
    "\n",
    "Codificacions:\n",
    "- [Llistat codificacions](https://docs.python.org/3.11/library/codecs.html#standard-encodings)\n",
    "- [UTF-8](https://es.wikipedia.org/wiki/UTF-8)"
   ]
  },
  {
   "cell_type": "code",
   "execution_count": null,
   "metadata": {
    "collapsed": false
   },
   "outputs": [],
   "source": [
    "# cp1250 | windows-1250 | Central and Eastern Europe\n",
    "\n",
    "# Mètode bàsic: \"Prova i error\" !!!\n",
    "df_gastos = pd.read_csv(\"data/presupuesto_gastos_2023.csv\",delimiter=\";\",encoding=\"cp1250\")\n"
   ]
  },
  {
   "cell_type": "code",
   "execution_count": null,
   "metadata": {
    "collapsed": false
   },
   "outputs": [],
   "source": [
    "df_gastos.head()"
   ]
  },
  {
   "cell_type": "markdown",
   "metadata": {
    "collapsed": false
   },
   "source": [
    "### Guardant un dataframe\n",
    "\n",
    "Durant aquest curs aprendrem a modificar els dataframes, afegirem i eliminarem columnes i també modificarem les que ja tenim. Per tant, fet aquesta feinada, és necessari guardar les dades noves a un fitxer."
   ]
  },
  {
   "cell_type": "code",
   "execution_count": null,
   "metadata": {
    "collapsed": false
   },
   "outputs": [],
   "source": [
    "df_gastos.to_csv('data/tmp_file.csv',encoding='utf-8') # guardant un dataframe en un fitxer, especificant el format"
   ]
  },
  {
   "cell_type": "code",
   "execution_count": null,
   "metadata": {
    "collapsed": false
   },
   "outputs": [],
   "source": [
    "df_tmp = pd.read_csv(\"data/tmp_file.csv\") # test codificació i separador"
   ]
  },
  {
   "cell_type": "markdown",
   "metadata": {
    "collapsed": false
   },
   "source": [
    "### Carrega de dades (III)\n",
    "\n",
    "Pandas soporta diferents formats de fitxers (i.e. CSV,JSON, formats d'Excel, pàgines web, fitxers penjats a la web, etc.). Obviament, cada format té la seva particularitat.\n",
    "\n",
    "Trobarem més informació al següent [enllaç](https://pandas.pydata.org/docs/reference/io.html) \n",
    "\n",
    "Un exemple de contigut a la Wikipedia:"
   ]
  },
  {
   "cell_type": "code",
   "execution_count": null,
   "metadata": {
    "collapsed": false
   },
   "outputs": [],
   "source": [
    "url = \"https://es.wikipedia.org/wiki/Anexo:Comunidades_y_ciudades_aut%C3%B3nomas_de_Espa%C3%B1a\" # Fes un copypaste d'aquesta url al teu navigador\n",
    "\n",
    "comunidades_esp = pd.io.html.read_html(url) \n",
    "comunidades_esp # Alerta! Encara no és un dataframe! En una web pots trobar més \"taules\""
   ]
  },
  {
   "cell_type": "code",
   "execution_count": null,
   "metadata": {
    "collapsed": false
   },
   "outputs": [],
   "source": [
    "print(type(comunidades_esp[0]))\n",
    "df_comunidades_esp = comunidades_esp[0]"
   ]
  },
  {
   "cell_type": "code",
   "execution_count": null,
   "metadata": {
    "collapsed": false
   },
   "outputs": [],
   "source": [
    "df_comunidades_esp.head() # funciona perfectament??"
   ]
  },
  {
   "cell_type": "markdown",
   "metadata": {},
   "source": [
    "Un segon exemple de contigut amb un fitxer JSON penjat a la web:"
   ]
  },
  {
   "cell_type": "code",
   "execution_count": null,
   "metadata": {},
   "outputs": [],
   "source": [
    "#Font: https://data.cityofnewyork.us/Environment/Urban-Park-Ranger-Animal-Condition-Response/fuhs-xmg2\n",
    "url = 'https://data.cityofnewyork.us/resource/s3vf-x992.json'\n",
    "df = pd.read_json(url)\n",
    "df.head()"
   ]
  },
  {
   "attachments": {},
   "cell_type": "markdown",
   "metadata": {},
   "source": [
    "## Activitat\n",
    "\n",
    "En aquesta activitat practicarem la càrrega de dades en diferents formats. Al món real les dades no sempre tenen una estructura i un format com ens agradaríem.\n",
    "\n",
    "L'objectiu és que analitzeu la càrrega d'aquestes dades amb les originals: <br/>\n",
    "- Quina dimensió tenen les dades reals i carregades?\n",
    "- Quines columnes?\n",
    "- El concepte de columna com atribut o característica i el concepte de fila com a mostra està present en l'estructura de les dades?\n",
    "- Coincideixen amb la informació del fitxer?"
   ]
  },
  {
   "attachments": {},
   "cell_type": "markdown",
   "metadata": {},
   "source": [
    "### A) \"Municipios y fenómeno demográfico de les Illes Balears\" <br/>\n",
    "Font: https://datos.gob.es/es/catalogo/ea0010587-balears-illes-por-municipios-y-fenomeno-demografico-mnpd-identificador-api-t20-e301-fenom-a2020-l0-23007-px <br/>\n",
    "Fitxer: \"data/municipis.csv\" <br/>\n",
    "\n"
   ]
  },
  {
   "cell_type": "code",
   "execution_count": null,
   "metadata": {},
   "outputs": [],
   "source": [
    "import pandas as pd\n",
    "#TODO"
   ]
  },
  {
   "attachments": {},
   "cell_type": "markdown",
   "metadata": {},
   "source": [
    "### B) \"Speculation Watch List\"\n",
    "Font: https://data.cityofnewyork.us/Housing-Development/Speculation-Watch-List/adax-9mit <br/>\n",
    "Fitxer: \"data/Speculation_Watch_List.csv\""
   ]
  },
  {
   "cell_type": "code",
   "execution_count": null,
   "metadata": {},
   "outputs": [],
   "source": [
    "import pandas as pd\n",
    "#TODO"
   ]
  },
  {
   "attachments": {},
   "cell_type": "markdown",
   "metadata": {},
   "source": [
    "### C) \"Europe Inflation monthly data (annual rate of change)\" \n",
    "Font: https://ec.europa.eu/eurostat/databrowser/view/PRC_HICP_MANR__custom_3761882/bookmark/table?lang=en&bookmarkId=4ad27e6f-358a-4a3d-82a0-587d69a833eb <br/>\n",
    "Fitxer: \"data/prc_hicp_manr__custom_3761882_spreadsheet.xlsx\" <br/>\n",
    "*Nota:*\n",
    "  - Com podem agafar una \"fulla\" concreta del full de càlcul? [documentació](https://pandas.pydata.org/docs/reference/api/pandas.read_excel.html)\n",
    "  - Per aquesta activitat necessitem instal·lar una llibreria específica: executa la següent cel·la"
   ]
  },
  {
   "cell_type": "code",
   "execution_count": null,
   "metadata": {},
   "outputs": [],
   "source": [
    "%pip install openpyxl"
   ]
  },
  {
   "cell_type": "code",
   "execution_count": null,
   "metadata": {},
   "outputs": [],
   "source": [
    "\n",
    "import pandas as pd\n",
    "#TODO\n"
   ]
  },
  {
   "attachments": {},
   "cell_type": "markdown",
   "metadata": {},
   "source": [
    "### D) \"Taula de Naixements\"\n",
    "Font: https://ibestat.caib.es/ibestat/estadistiques/poblacio/naixements/414cab4f-b402-4cd1-af05-6617443de384 <br/>\n",
    "URL dades: \"https://ibestat.caib.es/ibestat/estadistiques/poblacio/naixements/414cab4f-b402-4cd1-af05-6617443de384\" <br/>\n",
    "\n"
   ]
  },
  {
   "cell_type": "code",
   "execution_count": null,
   "metadata": {},
   "outputs": [],
   "source": [
    "import pandas as pd\n",
    "#TODO\n"
   ]
  },
  {
   "attachments": {},
   "cell_type": "markdown",
   "metadata": {},
   "source": [
    "### E) \"Nights spent at tourist accommodation establishments by residents/non-residents - monthly data\"\n",
    "Font:  https://ec.europa.eu/eurostat/databrowser/view/tin00171/default/table?lang=en <br/>\n",
    "Fitxer: \"data/tin00171_linear.csv.gz\" <br/>\n",
    "Nota: \n",
    "- Els fitxers comprimits amb format .gz podem obrir-se directament com si fossin fitxers de dades amb pandas, i en aquest cas és un fitxer del tipus CSV. És a dir, no cal descomprimir.\n"
   ]
  },
  {
   "cell_type": "code",
   "execution_count": null,
   "metadata": {},
   "outputs": [],
   "source": [
    "import pandas as pd\n",
    "#TODO"
   ]
  },
  {
   "attachments": {},
   "cell_type": "markdown",
   "metadata": {},
   "source": [
    "[![License: CC BY 4.0](https://img.shields.io/badge/License-CC_BY_4.0-lightgrey.svg)](https://creativecommons.org/licenses/by/4.0/) <br/>\n",
    "Isaac Lera and Gabriel Moya <br/>\n",
    "Universitat de les Illes Balears <br/>\n",
    "isaac.lera@uib.edu, gabriel.moya@uib.edu"
   ]
  },
  {
   "cell_type": "markdown",
   "metadata": {},
   "source": []
  }
 ],
 "metadata": {
  "kernelspec": {
   "display_name": "Python 3.9.7 64-bit ('3.9.7')",
   "language": "python",
   "name": "python3"
  },
  "language_info": {
   "codemirror_mode": {
    "name": "ipython",
    "version": 3
   },
   "file_extension": ".py",
   "mimetype": "text/x-python",
   "name": "python",
   "nbconvert_exporter": "python",
   "pygments_lexer": "ipython3",
   "version": "3.9.7"
  },
  "orig_nbformat": 4,
  "vscode": {
   "interpreter": {
    "hash": "1dd6de46b7c7be538353ccdeaa948031a5b4d43665739a26f55ca28b247c53cc"
   }
  }
 },
 "nbformat": 4,
 "nbformat_minor": 2
}
