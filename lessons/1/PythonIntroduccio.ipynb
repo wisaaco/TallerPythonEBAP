{
 "cells": [
  {
   "attachments": {},
   "cell_type": "markdown",
   "metadata": {},
   "source": [
    "**Nota** <br/>\n",
    "Pots trobar aquests material a:\n",
    "\n",
    "<span style=\"font-size:36px\">https://curspythonebap.readthedocs.io/en/latest/</span>"
   ]
  },
  {
   "attachments": {},
   "cell_type": "markdown",
   "metadata": {},
   "source": [
    "<div align=\"right\">\n",
    "\n",
    "[![Open In Colab](https://colab.research.google.com/assets/colab-badge.svg)](https://colab.research.google.com/github/wisaaco/TallerPythonEBAP/blob/main/lessons/1/PythonIntroduccio.ipynb)\n",
    "\n",
    "\n",
    "https://colab.research.google.com/github/wisaaco/TallerPythonEBAP/blob/main/lessons/1/PythonIntroduccio.ipynb\n",
    "</div>"
   ]
  },
  {
   "cell_type": "markdown",
   "metadata": {},
   "source": [
    "# 1 - L'ecosistema de Python"
   ]
  },
  {
   "attachments": {},
   "cell_type": "markdown",
   "metadata": {},
   "source": [
    "### L'entorn de Google Colab \n",
    "\n",
    "[Google Colab](https://colab.research.google.com/) ofereix un entorn d'execució de Python dins del seu ecosistema basat en el editor Jupyter Notebook. Jupyter un project de codi obert de 2014 que permet l'execució interactiva de petits parts de codi. Aquesta interacció facilita l'aprenentatge.\n",
    "\n",
    "Colab és un servei gratuït de Google i has de tindre compte d'usuari. Per accedir a aquest notebook pitja el botó:\n",
    "[![Open In Colab](https://colab.research.google.com/assets/colab-badge.svg)](https://colab.research.google.com/github/wisaaco/TallerPythonFEE/blob/main/lessons/1/PythonIntroduccio.ipynb)\n",
    "\n",
    "Alternativament, es pot fer una instal·lació de Python i de Jupyter Notebook en el vostre sistema d'una manera *crua* o emprant gestors com [Anaconda](https://www.anaconda.com/) que tot ve integrat. \n",
    "\n",
    "En aquest curs farem servir Google Colab.\n"
   ]
  },
  {
   "attachments": {},
   "cell_type": "markdown",
   "metadata": {},
   "source": [
    "Dins de l'editor de Jupyter Notebook trobem cel·les. Una cel·la pot ser de codi o de text en format Markdown. Podem entremesclar cel·les i els resultats intermedis de codi es conserven en tot el document. Això dona la capacitat d'emprar els notebooks com informes intercalant codi i gràfiques amb text descriptiu.\n",
    "\n",
    "Aquesta documentació està feta amb Jupyter Notebooks!\n",
    "\n",
    "Referències a manuals de Markadown:\n",
    "- https://experienceleague.adobe.com/docs/contributor/contributor-guide/writing-essentials/markdown.html?lang=es\n",
    "- https://docs.github.com/es/get-started/writing-on-github/getting-started-with-writing-and-formatting-on-github/basic-writing-and-formatting-syntax\n",
    "- https://tutorialmarkdown.com/sintaxis\n",
    "- "
   ]
  },
  {
   "attachments": {},
   "cell_type": "markdown",
   "metadata": {},
   "source": [
    "Exemples comuns de la sintaxi Markdown:\n",
    "\n",
    "```md\n",
    "# Heading 1\n",
    "## Heading 2\n",
    "### Heading 3\n",
    "\n",
    "**Negrete**\n",
    "*Cursiva*\n",
    "\n",
    "[un enllaç](http://hola.com)\n",
    "\n",
    "Una llista:\n",
    "- A\n",
    "- B\n",
    "- C\n",
    "\n",
    "\n",
    "```"
   ]
  },
  {
   "cell_type": "code",
   "execution_count": 6,
   "metadata": {},
   "outputs": [
    {
     "name": "stdout",
     "output_type": "stream",
     "text": [
      "Hello World !\n",
      "Print a list of numbers: [0, 1, 2, 3, 4, 5, 6, 7, 8, 9]\n"
     ]
    }
   ],
   "source": [
    "# Això és un comentari d'una cella amb codi. \n",
    "# Els comentaris són importants per descriure línies de codi complicades.\n",
    "# Si et trobas a Colab pots executar aquesta cel·la fent: shit+enter o icona de triangle\n",
    "print(\"Hello World !\")\n",
    "print(\"Print a list of numbers: %s\"%list(range(10)))"
   ]
  },
  {
   "cell_type": "code",
   "execution_count": 7,
   "metadata": {},
   "outputs": [
    {
     "data": {
      "text/plain": [
       "2"
      ]
     },
     "execution_count": 7,
     "metadata": {},
     "output_type": "execute_result"
    }
   ],
   "source": [
    "# Cel·la de codi #1\n",
    "a = 1+1\n",
    "a"
   ]
  },
  {
   "cell_type": "code",
   "execution_count": 8,
   "metadata": {},
   "outputs": [
    {
     "name": "stdout",
     "output_type": "stream",
     "text": [
      "2\n",
      "4\n"
     ]
    }
   ],
   "source": [
    "# Cel·la de codi #2\n",
    "b = a\n",
    "print(b)\n",
    "print(a*b)"
   ]
  },
  {
   "attachments": {},
   "cell_type": "markdown",
   "metadata": {},
   "source": []
  },
  {
   "attachments": {},
   "cell_type": "markdown",
   "metadata": {},
   "source": [
    "## Què és Python?\n",
    "\n",
    "**Python** és un llenguatge de programació interpretat on destaca la seva filosofia d'una sintaxi  fàcilment interpretable. Va ser creat per Guido van Rossum en 1991.\n",
    "\n",
    "És un llenguatge dissenyat perquè les aplicacions siguin independents de la plataforma en la qual s'executen. Això significa que un programa escrit en aquest llenguatge s'executarà sense cap mena de modificació en qualsevol sistema informàtic, almenys en qualsevol sistema que suport-hi **Python**.\n",
    "\n",
    "Emprar Python en lloc d'aplicacions com R, fulls de càlcul o d'altres tipus fa que l'objectiu implementat, per exemple el tractament de dades, sigui un procés més àgil i eficient. És a dir, es pot treballar amb una gran diversitat de formats de dades al mateix temps i amb un gran volum de mostres per obtenir diferents tipus de resultats: numèrics, visuals estadístics, visuals geogràfics i una altra vegada com a dades intermèdies d'altres processos.\n",
    "\n",
    "En definitiva, Python es caracteritza pel seu potencial de funcionalitats ja implementades, i per oferir una fluïdesa a tots els nivells computacionals i lògics.\n",
    "\n",
    "Referències:\n",
    "- https://en.wikipedia.org/wiki/Python_(programming_language)\n"
   ]
  },
  {
   "attachments": {},
   "cell_type": "markdown",
   "metadata": {},
   "source": [
    "## Variables i operadors\n",
    "Un llenguatge de programació ofereix operacions aritmètiques i lògiques relacionades amb el tipus de dades."
   ]
  },
  {
   "cell_type": "code",
   "execution_count": null,
   "metadata": {},
   "outputs": [],
   "source": [
    "caracter = 'a'\n",
    "estring = \"Hello!\"\n",
    "enter =  123\n",
    "decimal = 1.23\n",
    "complexe = 1+23j\n",
    "logic = False\n",
    "\n",
    "print(type(caracter))\n",
    "print(type(estring))\n",
    "print(type(enter))\n",
    "print(type(decimal))\n",
    "print(type(complexe))\n",
    "print(type(logic))\n",
    "\n",
    "# Pots crear totes les variables que vulguis amb format lliure.\n",
    "# Intenta que les variables tinguin un nom adequat al seu contingut.\n",
    "# Evita espais, símbols i accents.\n",
    "\n",
    "nameCognoms = \"Pep Vila\"\n",
    "telefono = \"97100000\"\n",
    "dni = \"34989542A\"\n",
    "pes = 80.3\n",
    "pesos = [1.3, 40.3, 20.0, -1.0]\n",
    "\n",
    "print(pesos)"
   ]
  },
  {
   "attachments": {},
   "cell_type": "markdown",
   "metadata": {},
   "source": [
    "En Python, els **operadors** són símbols especials que indiquen que és necessari realitzar algun tipus de computació. Els valors amb els quals actua un operador es diuen **operands**.\n",
    "\n",
    "Ho entendrem amb un petit exemple:\n",
    "```python\n",
    "x = 10.0\n",
    "i = 5\n",
    "resultat = x + i\n",
    "```\n",
    "En aquest cas, l'operador `+` ens permet sumar els operands `x` i `i` junts i guardar el resultat en la variable del mateix nom. Hem de destacar que en aquest codi hem necessitat definir tres variables diferents.\n",
    "\n",
    "Un operand pot ser una variable o literal. Definim els **literals** en un programa com la idea d'expressar un valor que no canvia en el codi font, aquests han de ser d'un dels diferents tipus de dades que hem descrit\n",
    "anteriorment.\n",
    "\n",
    "A continuació tenim un altre fragment de codi en el qual usem altres operadors i literals de tipus sencer:\n",
    "```python\n",
    "a = 10\n",
    "b = 20\n",
    "x = 45\n",
    "r = (a + b - 5) + (x + 10 + 20)\n",
    "```"
   ]
  },
  {
   "cell_type": "code",
   "execution_count": null,
   "metadata": {},
   "outputs": [],
   "source": [
    "## Operadors ARITMÉTICS\n",
    "\n",
    "a = 10\n",
    "b = 20\n",
    "print(a+b) # suma\n",
    "print(a-b) # resta\n",
    "print(-a)  # negació\n",
    "print(a*b) # multiplicació\n",
    "print(a/b) # divisió\n",
    "print(a%b) # modul\n",
    "print(a//b) # divisió entera\n",
    "print(a**b) # exponent\n",
    "print(\"---\")\n",
    "a = 10.3\n",
    "b = 2.34\n",
    "\n",
    "print(a%b) # modul flotant\n",
    "print(a//b) # divisió entera\n",
    "print(a**b) # exponent\n",
    "print(\"---\")\n",
    "\n",
    "aj = 1+23j\n",
    "bj = 23j\n",
    "\n",
    "print(aj-bj) # resta complexe\n",
    "print(-aj)  # negació complexe\n",
    "print(aj*bj) # multiplicació complexe\n"
   ]
  },
  {
   "cell_type": "code",
   "execution_count": null,
   "metadata": {},
   "outputs": [],
   "source": [
    "## Operadors de COMPARACIÓ\n",
    "a = 10\n",
    "b = 12\n",
    "\n",
    "print(a==b) # Igualtat\n",
    "print(a!=b) # diferència\n",
    "print(a>b)\n",
    "print(a<b)\n",
    "print(a>=b)\n",
    "print(a<=b)\n",
    "\n",
    "print(\"---\")\n",
    "a = 10.0\n",
    "b = 10.0\n",
    "result = a==b\n",
    "print(result)"
   ]
  },
  {
   "cell_type": "code",
   "execution_count": null,
   "metadata": {},
   "outputs": [],
   "source": [
    "## Operadors lògics\n",
    "a = 10.0\n",
    "b = 10.0\n",
    "c = True\n",
    "f = False\n",
    "print(not(a==b))\n",
    "print(c or f)\n",
    "print(c and (a==c))\n",
    "print(True and True)\n",
    "print(False or True)\n",
    "print(not(not(not(True))))"
   ]
  },
  {
   "cell_type": "code",
   "execution_count": null,
   "metadata": {},
   "outputs": [],
   "source": [
    "# Print data\n",
    "a = \"HOLA\"\n",
    "b = 10\n",
    "c = 3.141618\n",
    "\n",
    "print(\"This is the value of a string %s\"%a)\n",
    "print(\"This is the value of a integer %i\"%b)\n",
    "print(\"This is the value of a float %f\"%c)\n",
    "print(\"This is the value of a float %0.2f\"%c)\n",
    "\n",
    "print(\"---\")\n",
    "print(\"Print a float as a integer %i\"%c)\n",
    "print(\"Print a integer as a string %s\"%b)\n",
    "\n",
    "print(\"---\")\n",
    "print(\"Print a string as a float %f\"%a) # ERRORs!"
   ]
  },
  {
   "attachments": {},
   "cell_type": "markdown",
   "metadata": {},
   "source": [
    "#### Activitat\n",
    "\n",
    "\n",
    "Suposem que un objecte es llança verticalment cap amunt des del sòl amb una velocitat inicial de 20 m/s. L'acceleració deguda a la gravetat és de -9.8 m/s². Calcula:\n",
    "\n",
    "a) El temps que trigarà a aconseguir la seva altura màxima.\n",
    "\n",
    "Formula:\n",
    "v = o + a * t\n",
    "\n",
    "On:\n",
    "- v = velocitat final\n",
    "- o = velocitat inicial\n",
    "- a = acceleració\n",
    "- t = temps\n"
   ]
  },
  {
   "cell_type": "code",
   "execution_count": 12,
   "metadata": {},
   "outputs": [],
   "source": [
    "v = 0\n",
    "a = -9.8\n"
   ]
  },
  {
   "attachments": {},
   "cell_type": "markdown",
   "metadata": {},
   "source": [
    "b) L'altura màxima que aconseguirà l'objecte.\n",
    "\n",
    "Formula: <br/>\n",
    "\n",
    "s = ot + (1/2) * a * t²\n",
    "\n",
    "On:\n",
    "- s = desplaçament vertical (altura)\n",
    "- o = velocitat inicial\n",
    "- a = acceleració\n",
    "- t = temps"
   ]
  },
  {
   "cell_type": "code",
   "execution_count": null,
   "metadata": {},
   "outputs": [],
   "source": []
  },
  {
   "attachments": {},
   "cell_type": "markdown",
   "metadata": {},
   "source": [
    "### Operacions de control\n",
    "\n",
    "No volem introduir molta complexitat en aquest curs, però has d'entendre que podem fer certes operacions de control amb les dades: recorreguts de seqüències, comprovacions, etc."
   ]
  },
  {
   "cell_type": "code",
   "execution_count": null,
   "metadata": {},
   "outputs": [],
   "source": [
    "name = \"Pep\"\n",
    "grau = 0.3\n",
    "\n",
    "if name == \"Pep\":\n",
    "    factor = 10\n",
    "else: \n",
    "    factor = 1\n",
    "\n",
    "grau = grau * factor\n",
    "print(\"Grau d'amistat amb %s es: %f \"%(name,grau))"
   ]
  },
  {
   "cell_type": "code",
   "execution_count": null,
   "metadata": {},
   "outputs": [],
   "source": [
    "names = [\"Pep\",\"Lluis\",\"Paco\"]\n",
    "\n",
    "for name in names:\n",
    "    grau = 0.3\n",
    "\n",
    "    if name == \"Pep\":\n",
    "        factor = 10\n",
    "    else: \n",
    "        factor = 1\n",
    "\n",
    "    grau = grau * factor\n",
    "    print(\"Grau d'amistat amb %s es: %f \"%(name,grau))"
   ]
  },
  {
   "cell_type": "code",
   "execution_count": null,
   "metadata": {},
   "outputs": [],
   "source": [
    "names = [\"Pep\",\"Lluis\",\"Paco\"]\n",
    "\n",
    "i = 0\n",
    "while i<len(names):\n",
    "    print(names[i])\n",
    "    i+=1"
   ]
  },
  {
   "attachments": {},
   "cell_type": "markdown",
   "metadata": {},
   "source": [
    "#### Activitat\n",
    "Donada aquesta llista de noms es demana:"
   ]
  },
  {
   "cell_type": "code",
   "execution_count": 18,
   "metadata": {},
   "outputs": [],
   "source": [
    "noms = [\"Ruscalleda\", \"Nadal\", \"Gaudi\", \"Rodoreda\"]"
   ]
  },
  {
   "cell_type": "code",
   "execution_count": 15,
   "metadata": {},
   "outputs": [],
   "source": [
    "# 1. Està \"Gasol\" en aquesta llista: Sí/No?"
   ]
  },
  {
   "cell_type": "code",
   "execution_count": 20,
   "metadata": {},
   "outputs": [
    {
     "name": "stdout",
     "output_type": "stream",
     "text": [
      "4\n"
     ]
    }
   ],
   "source": [
    "# 2. Imprimeix cada ítem de la llista sempre que la seva longitud (nombre de caràcters) sigui major que 6.\n",
    "print(len(\"Paco\")) #la funció len es pot aplicar a molt tipus d'objectes/variables"
   ]
  },
  {
   "cell_type": "code",
   "execution_count": 16,
   "metadata": {},
   "outputs": [],
   "source": [
    "# 3. Afegeix \"Gasol\" a aquesta llista"
   ]
  },
  {
   "attachments": {},
   "cell_type": "markdown",
   "metadata": {},
   "source": [
    "## Variables més complexes\n"
   ]
  },
  {
   "cell_type": "code",
   "execution_count": null,
   "metadata": {},
   "outputs": [],
   "source": [
    "llistes =  [\"Pep\",\"Lluis\",\"Paco\"]  # \"Corchetes\"\n",
    "print(llistes)\n",
    "print(llistes[0])\n",
    "print(len(llistes))\n",
    "\n",
    "print(\"-\"*20)\n",
    "\n",
    "\n",
    "diccionaris = { \"Pep\": \"324345C\", \"Lluis\":\"493094B\", \"Paco\":\"309403A\"} # \"Llaves\"\n",
    "print(diccionaris)\n",
    "print(len(diccionaris))\n",
    "print(diccionaris.keys())\n",
    "print(diccionaris.values())\n",
    "print(diccionaris[\"Pep\"])\n",
    "\n",
    "print(\"-\"*20)\n",
    "\n",
    "tuples = (\"Pep\",33,\"3490940A\") \n",
    "print(tuples)\n",
    "print(tuples[1])\n",
    "\n",
    "print(\"-\"*20)\n",
    "\n",
    "grups = set([0,2,2,3,\"Pep\",\"Paco\",\"Pep\"])\n",
    "print(grups)\n",
    "print(len(grups))\n",
    "print(\"Paco\" in grups)\n"
   ]
  },
  {
   "attachments": {},
   "cell_type": "markdown",
   "metadata": {},
   "source": [
    "És molt important conèixer el tipus de cada composició d'una variable i dels seus mètodes associats (built types)"
   ]
  },
  {
   "cell_type": "code",
   "execution_count": null,
   "metadata": {},
   "outputs": [],
   "source": [
    "codiPostal = { \"Palma\": [\"07004\",\"07122\"], \"Inca\": [\"07300\"]}\n",
    "\n",
    "print(type(codiPostal))"
   ]
  },
  {
   "cell_type": "code",
   "execution_count": null,
   "metadata": {},
   "outputs": [],
   "source": [
    "print(type(codiPostal[\"Palma\"]))"
   ]
  },
  {
   "cell_type": "code",
   "execution_count": null,
   "metadata": {},
   "outputs": [],
   "source": [
    "print(type(codiPostal[\"Palma\"][0]))"
   ]
  },
  {
   "cell_type": "code",
   "execution_count": null,
   "metadata": {},
   "outputs": [],
   "source": [
    "if \"07122\" in codiPostal[\"Palma\"]:\n",
    "    print(\"El codi 07122 és el CP de la UIB\")"
   ]
  },
  {
   "cell_type": "code",
   "execution_count": null,
   "metadata": {},
   "outputs": [],
   "source": [
    "codiPostal[\"Sineu\"] = [\"07510\"]\n",
    "print(codiPostal)\n",
    "print(len(codiPostal))"
   ]
  },
  {
   "cell_type": "code",
   "execution_count": null,
   "metadata": {},
   "outputs": [],
   "source": [
    "codiPostal[\"Sineu\"].append(\"07511\")\n",
    "\n",
    "for key in codiPostal:\n",
    "    print(key, codiPostal[key])"
   ]
  },
  {
   "attachments": {},
   "cell_type": "markdown",
   "metadata": {},
   "source": [
    "#### Activitat\n",
    "Donat aquest objecte es demana:"
   ]
  },
  {
   "cell_type": "code",
   "execution_count": 30,
   "metadata": {},
   "outputs": [],
   "source": [
    "data = [\n",
    "    {\n",
    "        \"nom\":\"Pep\",\n",
    "        \"DNI\": {\n",
    "                \"numero\":3243434,\n",
    "                \"lletra\":\"A\"\n",
    "        }\n",
    "    },\n",
    "    {\n",
    "        \"nom\":\"Lluis\",\n",
    "        \"DNI\": {\n",
    "                \"numero\":1000000,\n",
    "                \"lletra\":\"B\"\n",
    "        }\n",
    "    }\n",
    "]"
   ]
  },
  {
   "cell_type": "code",
   "execution_count": 32,
   "metadata": {},
   "outputs": [],
   "source": [
    "#1 . Quina lletra té el DNI de Pep.\n"
   ]
  },
  {
   "cell_type": "code",
   "execution_count": 33,
   "metadata": {},
   "outputs": [],
   "source": [
    "#2 . Quants elements té la variable data"
   ]
  },
  {
   "cell_type": "code",
   "execution_count": 34,
   "metadata": {},
   "outputs": [],
   "source": [
    "# 3. Afegeix una altra persona. Nota: No cal que tingui els mateix camps"
   ]
  },
  {
   "attachments": {},
   "cell_type": "markdown",
   "metadata": {},
   "source": [
    "## Llibreries\n",
    "\n",
    "Python inclou moltes funcionalitats de base, però hi ha llibreries que donem molt de potencial.\n",
    "Pràcticament, ja està tot implementat en Python i a les seves llibreries.\n",
    "\n",
    "A Google Colab no cal instal·lar-ne, però a una plataforma pròpia si seria necessari. En aquest curs introductori no cobriren aquest punt."
   ]
  },
  {
   "cell_type": "code",
   "execution_count": null,
   "metadata": {},
   "outputs": [],
   "source": [
    "preus = [10.0, 20.3, 12.3, 13.4, 9.65, 9.98, 7.98, 9.9]\n",
    "\n",
    "print(sum(preus)/len(preus))\n"
   ]
  },
  {
   "cell_type": "code",
   "execution_count": null,
   "metadata": {},
   "outputs": [],
   "source": [
    "# Hi ha llibreries incloses en el core de Python. Estan instal·lades, però per defecte no es carreguen\n",
    "import math\n",
    "print(math.sqrt(preus[0])) # arrel quadrada\n"
   ]
  },
  {
   "attachments": {},
   "cell_type": "markdown",
   "metadata": {},
   "source": [
    "### Llibreria Numpy\n",
    "\n",
    "Numpy és la llibreria numèrica per excel·lència.\n",
    "\n",
    "https://numpy.org/"
   ]
  },
  {
   "cell_type": "code",
   "execution_count": null,
   "metadata": {},
   "outputs": [],
   "source": [
    "# Hi ha d'altres que cal instal·lar-les\n",
    "import numpy as np #np és un alias\n",
    "\n",
    "\n",
    "preus = np.array(preus)\n",
    "print(preus.mean())\n",
    "print(preus.std())\n",
    "print(preus.min())\n",
    "print(preus.max())\n"
   ]
  },
  {
   "cell_type": "code",
   "execution_count": null,
   "metadata": {},
   "outputs": [],
   "source": [
    "# Operacions vectorials\n",
    "preusIVA = preus*1.21\n",
    "print(preusIVA)"
   ]
  },
  {
   "cell_type": "code",
   "execution_count": null,
   "metadata": {},
   "outputs": [],
   "source": [
    "# Operacions lògiques\n",
    "print(preus>10.0)\n",
    "print(preus[preus>10.0])"
   ]
  },
  {
   "cell_type": "code",
   "execution_count": null,
   "metadata": {},
   "outputs": [],
   "source": [
    "# Seleccio (slicing)\n",
    "print(preus)\n",
    "print(preus[3])\n",
    "print(preus[-1])\n",
    "\n",
    "print(\"-\"*30)\n",
    "\n",
    "print(preus[:3])\n",
    "print(preus[:-1])\n",
    "print(preus[2:4])\n",
    "print(preus[6:])"
   ]
  },
  {
   "attachments": {},
   "cell_type": "markdown",
   "metadata": {},
   "source": [
    "#### Activitat\n",
    "\n",
    "S'ha fet un petit estudi de mercat del preu d'origen de certs productes. Són preus per kilogram durant quatre dies.\n",
    "\n",
    "Es demana:\n",
    "- a) Quin és el preu màxim de cada producte?\n",
    "- b) Quin és el producte més car?\n",
    "- c) Quin dia són més cares les taronges?\n",
    "- d) Si el preu de mercat és tres vegades més (x3), fes un nou diccionari amb el \"preuMercat\".\n",
    "- e) Quin és el cost de comprar a \"preu de mercat\", 3 kg de taronges i 2.5 kg de cebes el dia 2?\n",
    "\n",
    "L'objectiu d'aquesta activitat és la consolidació de les estructures bàsiques de Python."
   ]
  },
  {
   "cell_type": "code",
   "execution_count": 11,
   "metadata": {},
   "outputs": [],
   "source": [
    "preus = {                                      # Unitats:\n",
    "            \"ceba\":  [30.3, 20.3, 25.9, 39.0], # cèntims/kg !!! ALERTA\n",
    "            \"patata\":[0.33, 0.43, 0.34, 0.12], # euro/kg\n",
    "            \"taronja\":[0.45, 0.56, 0.38, 0.43] # euro/kg\n",
    "        }"
   ]
  },
  {
   "attachments": {},
   "cell_type": "markdown",
   "metadata": {},
   "source": [
    "Recomanacions:\n",
    "- Identifiqueu el tipus de variable i els tipus inherents que pugui tindre aquest objecte (*preuOrigin*)\n",
    "- Com podem accedir a cada part?, i subpart?"
   ]
  },
  {
   "cell_type": "code",
   "execution_count": null,
   "metadata": {},
   "outputs": [],
   "source": [
    "#. Preparació i normalització dels preus"
   ]
  },
  {
   "cell_type": "code",
   "execution_count": null,
   "metadata": {},
   "outputs": [],
   "source": [
    "# A) Quin és el preu màxim de cada producte?"
   ]
  },
  {
   "cell_type": "code",
   "execution_count": null,
   "metadata": {},
   "outputs": [],
   "source": [
    "# B) Quin és el producte més car?"
   ]
  },
  {
   "cell_type": "code",
   "execution_count": null,
   "metadata": {},
   "outputs": [],
   "source": [
    "# C) Quin dia són més cares les taronges?"
   ]
  },
  {
   "cell_type": "code",
   "execution_count": null,
   "metadata": {},
   "outputs": [],
   "source": [
    "# D) Si el preu de mercat és tres vegades més (x3), fes un nou diccionari amb el \"preuMercat\"."
   ]
  },
  {
   "cell_type": "code",
   "execution_count": null,
   "metadata": {},
   "outputs": [],
   "source": [
    "# E) Quin és el cost de comprar a \"preu de mercat\", 3 kg de taronges i 2.5 kg de cebes el dia 2?"
   ]
  },
  {
   "attachments": {},
   "cell_type": "markdown",
   "metadata": {},
   "source": []
  },
  {
   "cell_type": "markdown",
   "metadata": {},
   "source": [
    "### Llibreria Random\n",
    "Per definir"
   ]
  },
  {
   "attachments": {},
   "cell_type": "markdown",
   "metadata": {},
   "source": [
    "[![License: CC BY 4.0](https://img.shields.io/badge/License-CC_BY_4.0-lightgrey.svg)](https://creativecommons.org/licenses/by/4.0/) <br/>\n",
    "Isaac Lera and Gabriel Moya <br/>\n",
    "Universitat de les Illes Balears <br/>\n",
    "isaac.lera@uib.edu, gabriel.moya@uib.edu"
   ]
  }
 ],
 "metadata": {
  "kernelspec": {
   "display_name": "Python 3.9.7 64-bit ('3.9.7')",
   "language": "python",
   "name": "python3"
  },
  "language_info": {
   "codemirror_mode": {
    "name": "ipython",
    "version": 3
   },
   "file_extension": ".py",
   "mimetype": "text/x-python",
   "name": "python",
   "nbconvert_exporter": "python",
   "pygments_lexer": "ipython3",
   "version": "3.9.7"
  },
  "orig_nbformat": 4,
  "vscode": {
   "interpreter": {
    "hash": "1dd6de46b7c7be538353ccdeaa948031a5b4d43665739a26f55ca28b247c53cc"
   }
  }
 },
 "nbformat": 4,
 "nbformat_minor": 2
}
