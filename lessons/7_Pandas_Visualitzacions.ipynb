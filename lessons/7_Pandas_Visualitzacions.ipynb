{
 "cells": [
  {
   "attachments": {},
   "cell_type": "markdown",
   "metadata": {},
   "source": [
    "<div align=\"right\">\n",
    "\n",
    "[![Open In Colab](https://colab.research.google.com/assets/colab-badge.png)](https://colab.research.google.com/github/wisaaco/TallerPythonEBAP/blob/main/lessons/7_Pandas_Visualitzacions.ipynb)\n",
    "\n",
    "Si no funciona el botó podeu copiar el següent [enllaç](https://colab.research.google.com/github/wisaaco/TallerPythonEBAP/blob/main/lessons/7_Pandas_Visualitzacions.ipynb)\n",
    "\n",
    "</div>"
   ]
  },
  {
   "attachments": {},
   "cell_type": "markdown",
   "metadata": {},
   "source": [
    "# 7 - Visualitzacions\n",
    "\n",
    "Pandas inclou una gran quantitat d'utilitats per a facilitar la representació gràfica d'un dataframe i de les seves sèries mitjançant l'ús de la llibreria `matplotlib`.\n",
    "\n",
    "[Veure documentació](https://pandas.pydata.org/docs/user_guide/visualization.html).\n",
    "\n",
    "La visualització de dades amb Pandas molt pràctica a causa del seu fàcil ús, i ens servirà per realitzar interpretacions de les dades que hem processat i a la realització d'informes.\n",
    "\n",
    "Els gràfics de Pandas són una abstracció de la llibreria `matplotlib`  això ens permetrà realitzar alguns gràfics de manera senzilla. Si necessitem fer gràfics més complexos, podrem emprar les eines que `matplotlib` posa a la nostra disposició, encara que augmentant el codi necessari.\n",
    "\n",
    "D'altra banda, veurem alguns exemples de visualització amb una altra llibreria anomenada [Seaborn](https://seaborn.pydata.org/). Aquesta una mica més moderna i es complementa molt bé amb `pandas`.\n",
    "\n",
    "Encara que les possibilitats són pràcticament il·limitades, en aquesta secció ens limitarem a parlar sobre els tipus bàsics de visualització i dels elements necessaris per facilitar la interpretació (títols, tics als eixos, llegendes, selecció de colors, etc.). Els principals diagrames que podem realitzar són:\n",
    "- Línies\n",
    "- Barres\n",
    "- Histogrames\n",
    "- Diagrames de caixes (*boxplot*)\n",
    "- Gràfics de dispersió (*scatter plot*)\n",
    " "
   ]
  },
  {
   "attachments": {},
   "cell_type": "markdown",
   "metadata": {},
   "source": [
    "## Plot\n",
    "El mètode `plot` de Pandas s'utilitza per crear gràfics i visualitzacions de dades a partir d'objectes de tipus `DataFrame` i `Series`.\n"
   ]
  },
  {
   "cell_type": "code",
   "execution_count": null,
   "metadata": {},
   "outputs": [],
   "source": [
    "import numpy as np\n",
    "import pandas as pd\n",
    "import matplotlib.pyplot as plt\n",
    "# Generació de dades\n",
    "np.random.seed(1)\n",
    "samples = 50\n",
    "\n",
    "df = pd.DataFrame({ \n",
    "    \"temperatura\":np.random.randint(low=-10,high=50,size=samples),\n",
    "    \"pluja\":np.random.randint(low= 0,high=50,size=samples),\n",
    "    \"vent\":np.random.choice([\"N\",\"S\",\"E\",\"W\"],size=samples)})\n",
    "\n",
    "df.head()"
   ]
  },
  {
   "cell_type": "code",
   "execution_count": null,
   "metadata": {},
   "outputs": [],
   "source": [
    "df.plot(); # que passa si llevem el;"
   ]
  },
  {
   "cell_type": "code",
   "execution_count": null,
   "metadata": {},
   "outputs": [],
   "source": [
    "df.temperatura.plot(); # Quines diferències a les dues gràfiques hi ha entre un dataframe i una sèrie?"
   ]
  },
  {
   "cell_type": "markdown",
   "source": [
    "La funció `plot` és molt versàtil però no funciona sempre, hem de vigilar amb el tipus de dades que mostram:"
   ],
   "metadata": {
    "collapsed": false
   }
  },
  {
   "cell_type": "code",
   "execution_count": null,
   "metadata": {},
   "outputs": [],
   "source": [
    "df.vent.plot()"
   ]
  },
  {
   "cell_type": "code",
   "execution_count": null,
   "metadata": {},
   "outputs": [],
   "source": [
    "df.groupby([\"vent\"]).count()"
   ]
  },
  {
   "cell_type": "markdown",
   "source": [
    "Hem realitzat una transformació de les dades i ara podrem construir un gràfic, tot i que aquest sembla que no té massa sentit:"
   ],
   "metadata": {
    "collapsed": false
   }
  },
  {
   "cell_type": "code",
   "execution_count": null,
   "metadata": {},
   "outputs": [],
   "source": [
    "df[[\"vent\",\"temperatura\"]].groupby([\"vent\"]).count().plot();"
   ]
  },
  {
   "cell_type": "markdown",
   "source": [
    "### El paràmetre kind\n",
    "\n",
    "Aquest paràmetre serveix per controlar el tipus de gràfic que mostrem, entre les opcions que es disposen tenim:\n",
    "- `bar`: trama de barres verticals\n",
    "- `barh`: trama de barres horitzontals\n",
    "- `hist`: histograma\n",
    "- `box`: trama de caixa\n",
    "- `area`: parcel·la de superfície\n",
    "- `pie`: trama de pastís\n",
    "- `scatter`: gràfic de dispersió (només DataFrame)\n",
    "- `hexbin`: trama hexbin (només DataFrame)"
   ],
   "metadata": {
    "collapsed": false
   }
  },
  {
   "cell_type": "code",
   "execution_count": null,
   "metadata": {},
   "outputs": [],
   "source": [
    "df.groupby([\"vent\"]).size().plot(kind=\"bar\"); #millor un de barres"
   ]
  },
  {
   "cell_type": "code",
   "execution_count": null,
   "outputs": [],
   "source": [
    "df.temperatura.plot(kind=\"hist\"); # Si les dades són numèriques un histograma serveix"
   ],
   "metadata": {
    "collapsed": false
   }
  },
  {
   "cell_type": "markdown",
   "source": [
    "A més del tipus de gràfic la funció `plot` ens permet definir altres característiques del gràfic mitjançant diversos paràmetres:\n",
    "- `title`: permet definir el títol d'un gràfic mitjançant un String.\n",
    "- `legend`: booleà que indica si el gràfic porta llegenda o no.\n",
    "- `xlabel`: etiqueta de l'eix x.\n",
    "- `ylabel`: etiqueta de l'eix y.\n",
    "- `colormap`: mapa de colors per dibuixar. [documentacio](https://matplotlib.org/stable/users/explain/colors/colormaps.html)\n",
    "\n",
    "Aquesta funció té alguns paràmetres més que podem consultar a la seva [documentació](https://pandas.pydata.org/docs/reference/api/pandas.DataFrame.plot.html)\n",
    "\n",
    "Veiem com podem afegir una mica d'informació al nostre gràfic:"
   ],
   "metadata": {
    "collapsed": false
   }
  },
  {
   "cell_type": "code",
   "execution_count": null,
   "outputs": [],
   "source": [
    "df.groupby([\"vent\"]).size().plot(kind=\"bar\", title=\"Procedencia del vent\", ylabel=\"Nombre de dies\", colormap=\"summer\");"
   ],
   "metadata": {
    "collapsed": false
   }
  },
  {
   "attachments": {},
   "cell_type": "markdown",
   "metadata": {},
   "source": [
    "## Matplotlib\n",
    "\n",
    "Com ja hem comentat a la introducció, `Pandas` internament utilitza la llibreria on es defineixen els components d'un gràfic. Es diu `Matplotlib` i permet fer visualitzacions avançades.\n",
    "\n",
    "Emprant directament `Matplotlib` tenim un major control de les opcions de visualització. També podem guardar els nostres gràfics."
   ]
  },
  {
   "cell_type": "code",
   "execution_count": null,
   "metadata": {},
   "outputs": [],
   "source": [
    "import matplotlib.pyplot as plt\n",
    "\n",
    "fig, ax = plt.subplots() # Definició forma\n",
    "\n",
    "ax.plot(df.temperatura) # Inserció de dades\n",
    "\n",
    "plt.title(\"Temperatura \", fontsize=20) # Maquetació\n",
    "plt.xlabel('Samples', fontsize=14)\n",
    "plt.ylabel('Celsius')\n",
    "\n",
    "plt.savefig('data/test.png',dpi=100) # guardat\n",
    "plt.show() # Visualització"
   ]
  },
  {
   "cell_type": "markdown",
   "source": [
    "Anem a reproduir el mateix gràfic dels dies de vent emprant `Matplolib`:"
   ],
   "metadata": {
    "collapsed": false
   }
  },
  {
   "cell_type": "code",
   "execution_count": null,
   "metadata": {},
   "outputs": [],
   "source": [
    "tipusVent  = df.groupby([\"vent\"]).size()\n",
    "print(tipusVent)"
   ]
  },
  {
   "cell_type": "markdown",
   "source": [
    "La funció bar necessita 2 informacions els valors de l'eix X i els seus corresponents valors de l'eix Y:"
   ],
   "metadata": {
    "collapsed": false
   }
  },
  {
   "cell_type": "code",
   "execution_count": null,
   "metadata": {},
   "outputs": [],
   "source": [
    "x = tipusVent.index\n",
    "y = tipusVent.values\n",
    "print(\"x: \", tipusVent.index)\n",
    "print(\"y: \", tipusVent.values)\n",
    "\n",
    "fig, ax = plt.subplots() # Definició forma\n",
    "\n",
    "ax.bar(x, y, color=['#5cb85c','#5bc0de','#d9534f','#59484a']) # Colors en hexadecimal\n",
    "plt.title(\"Informació de vent\");\n",
    "plt.xlabel('Direccions', fontsize=14);\n",
    "plt.ylabel('Dies', fontsize=14);\n",
    "\n"
   ]
  },
  {
   "cell_type": "markdown",
   "source": [
    "Un cop entram en la dinàmica de la llibreria i entenem les diferents funcions, tenim la capacitat de crear gràfics avançats:\n",
    "\n",
    "Aquest gràfic està extret del següent tutorial [enllaç](https://matplotlib.org/stable/gallery/pie_and_polar_charts/polar_bar.html)"
   ],
   "metadata": {
    "collapsed": false
   }
  },
  {
   "cell_type": "code",
   "execution_count": null,
   "metadata": {},
   "outputs": [],
   "source": [
    "import numpy as np\n",
    "import matplotlib.pyplot as plt\n",
    "\n",
    "N = 4 #direccions\n",
    "theta = np.linspace(0.0, 2 * np.pi, N, endpoint=False)\n",
    "\n",
    "width = np.pi / y\n",
    "colors = [\"red\",\"blue\",\"green\",\"black\"] # també podem definir els colors amb un string\n",
    "\n",
    "ax = plt.subplot(projection='polar')\n",
    "ax.bar(theta, y, width=width, bottom=0.0, color=colors, alpha=0.5)\n",
    "plt.title(\"Direccions dels vents \\n\")\n",
    "plt.show()"
   ]
  },
  {
   "attachments": {},
   "cell_type": "markdown",
   "metadata": {},
   "source": [
    "## Tipus de visualitzacions\n",
    "\n",
    "A continuació repassarem diferents tipus de visualitzacions, d'aquesta manera tindreu a la vostra disposició alguns exemples.\n",
    "\n",
    "Existeix una galeria d'exemples molt útil que podeu trobar en el següent [enllaç](https://matplotlib.org/stable/gallery/index.html)"
   ]
  },
  {
   "attachments": {},
   "cell_type": "markdown",
   "metadata": {},
   "source": [
    "### Barres\n",
    "Els diagrames de barres ens són molt útils, ja hem vist com dibuixar-los directament des d'un _dataframe_ i també emprant la llibreria `matplotlib`:"
   ]
  },
  {
   "cell_type": "code",
   "execution_count": null,
   "metadata": {},
   "outputs": [],
   "source": [
    "df = pd.read_csv(\"../../lessons/data/WHO.csv\")\n",
    "\n",
    "co2 = df[\"Total_CO2_emissions\"]\n",
    "ticks_labels = df[\"Country\"][1:10].values\n",
    "\n",
    "ax = co2[1:10].plot(kind=\"bar\") # un plot retorna el component ax, combinam les dues lliberies\n",
    "ax.set_xticklabels(ticks_labels)\n",
    "plt.show()"
   ]
  },
  {
   "cell_type": "markdown",
   "source": [
    "Anem a fer una segona versió, fent una selecció de les dades a mostrar:"
   ],
   "metadata": {
    "collapsed": false
   }
  },
  {
   "cell_type": "code",
   "execution_count": null,
   "metadata": {},
   "outputs": [],
   "source": [
    "co2 = df[\"Total_CO2_emissions\"].sort_values(ascending=False).head(10) \n",
    "\n",
    "dateSelect = df.loc[co2.index] # Noms\n",
    "co2.index = dateSelect[\"Country\"] \n",
    "\n",
    "ax = co2.plot(kind=\"bar\") \n",
    "ax.set_ylabel(\"count\")\n",
    "plt.title(\"Principals països emissors de C02\")\n",
    "plt.show()"
   ]
  },
  {
   "attachments": {},
   "cell_type": "markdown",
   "metadata": {},
   "source": [
    "### Histogrames\n",
    "\n",
    "Un histograma és una representació gràfica que mostra la distribució de dades numèriques en forma de barres verticals, on cada barra representa la freqüència o la quantitat de vegades que es produeixen valors dins d'un rang específic.\n"
   ]
  },
  {
   "cell_type": "code",
   "execution_count": null,
   "metadata": {},
   "outputs": [],
   "source": [
    "co2 = df[\"Total_CO2_emissions\"]\n",
    "#co2.dropna(inplace=True) ##  NaN (NotAtNumber)\n",
    "fig, ax = plt.subplots() # Definició forma\n",
    "ax.hist(co2.values,bins=10) # la definició dels bins és molt rellevant en aquest tipus de gràfic ()\n",
    "plt.show()\n"
   ]
  },
  {
   "cell_type": "markdown",
   "metadata": {},
   "source": [
    "### Boxplots\n",
    "\n",
    "Un diagrama de caixa, també conegut com a *boxplot* en anglès, és una representació gràfica que s'utilitza per mostrar la distribució i els estadístics clau d'un conjunt de dades. Aquesta representació consisteix en una caixa que abasta el quartil inferior (Q1) i el quartil superior (Q3) de les dades, amb una línia en el mig que indica la mediana. Les \"whiskers\" (o fletxes) s'estenen des de la caixa fins als valors màxims i mínims dins d'un rang específic, mentre que els punts fora d'aquest rang s'identifiquen com a valors atípics. Això permet visualitzar la dispersió, la simetria i les possibles valors atípics en un conjunt de dades de manera concisa.\n"
   ]
  },
  {
   "cell_type": "code",
   "execution_count": null,
   "metadata": {},
   "outputs": [],
   "source": [
    "co2 = df[\"Total_CO2_emissions\"]\n",
    "co2.dropna(inplace=True)\n",
    "\n",
    "fig, ax = plt.subplots(ncols=2)  # Podem definir múltiples plots en el mateix gràfic\n",
    "\n",
    "ax[0].boxplot(co2.values*1000)\n",
    "ax[1].hist(co2)\n",
    "\n",
    "plt.show()\n",
    "\n",
    "# On estan els valors ?"
   ]
  },
  {
   "attachments": {},
   "cell_type": "markdown",
   "metadata": {},
   "source": [
    "### Lineals\n",
    "\n",
    "Anem a veure com podem construir una visualització completa amb diferents propietats, aprofitarem per fer un `plot` lineal:"
   ]
  },
  {
   "cell_type": "code",
   "execution_count": null,
   "metadata": {},
   "outputs": [],
   "source": [
    "import numpy as np\n",
    "\n",
    "xs = np.random.randn(3, 10000)\n",
    "print(xs.shape)\n"
   ]
  },
  {
   "cell_type": "code",
   "execution_count": null,
   "metadata": {},
   "outputs": [],
   "source": [
    "bms = xs.cumsum(axis=1)\n",
    "print(bms.shape)\n",
    "print(bms[:5])"
   ]
  },
  {
   "cell_type": "code",
   "execution_count": null,
   "metadata": {},
   "outputs": [],
   "source": [
    "fig, ax = plt.subplots()\n",
    "for bm in bms:\n",
    "    ax.plot(bm)\n",
    "plt.title(\"Random motion\");"
   ]
  },
  {
   "cell_type": "code",
   "execution_count": null,
   "metadata": {},
   "outputs": [],
   "source": [
    "labels = [\"MarketX\",\"IB35\",\"S&P500\"]\n",
    "fig, ax = plt.subplots()\n",
    "for e,bm in enumerate(bms):\n",
    "    ax.plot(bm, label=labels[e])\n",
    "plt.title(\"Random market motion\")\n",
    "plt.legend()    \n",
    "plt.show()"
   ]
  },
  {
   "cell_type": "code",
   "execution_count": null,
   "metadata": {},
   "outputs": [],
   "source": [
    "# https://matplotlib.org/stable/gallery/lines_bars_and_markers/linestyles.html\n",
    "\n",
    "labels = [\"MarketX\",\"IB35\",\"S&P500\"]\n",
    "lstyle = [\"solid\",\"dashdot\",\"dotted\"]\n",
    "fig, ax = plt.subplots()\n",
    "for e,bm in enumerate(bms):\n",
    "    ax.plot(bm, label=labels[e],linestyle=lstyle[e])\n",
    "plt.title(\"Random market motion\")\n",
    "plt.legend()    \n",
    "plt.show()\n",
    "\n",
    "\n"
   ]
  },
  {
   "cell_type": "code",
   "execution_count": null,
   "metadata": {},
   "outputs": [],
   "source": [
    "# https://matplotlib.org/stable/api/_as_gen/matplotlib.pyplot.vlines.html\n",
    "# https://matplotlib.org/stable/api/_as_gen/matplotlib.pyplot.grid.html\n",
    "\n",
    "labels = [\"MarketX\",\"IB35\",\"S&P500\"]\n",
    "lstyle = [\"solid\",\"dashdot\",\"dotted\"]\n",
    "fig, ax = plt.subplots(figsize=(18,10)) #diferent mida\n",
    "for e,bm in enumerate(bms):\n",
    "    ax.plot(bm, label=labels[e],linestyle=lstyle[e])\n",
    "\n",
    "ax.vlines(x=4000,ymin=-50,ymax=50,color=\"red\",linewidth=5) \n",
    "plt.title(\"Random market motion\")\n",
    "plt.legend(prop={'size': 20})    # Alerta! Prova de llevar aquesta \"prop\" (propietat)\n",
    "plt.grid()  # grid # Alerta! El Grid moltes vegades no és necessari\n",
    "plt.show()"
   ]
  },
  {
   "cell_type": "code",
   "execution_count": null,
   "metadata": {},
   "outputs": [],
   "source": [
    "# Podem millorar certes visualitzacions de sèries fent filtratge de les dades\n",
    "def moving_average(a, n=3) :\n",
    "    ret = np.cumsum(a, dtype=float)\n",
    "    ret[n:] = ret[n:] - ret[:-n]\n",
    "    return ret[n - 1:] / n\n",
    "\n",
    "xs = np.random.randn(10000)\n",
    "bms = xs.cumsum()\n",
    "bmsMA = moving_average(bms,100)\n",
    "\n",
    "\n",
    "fig, ax = plt.subplots(figsize=(18,10)) #diferent mida\n",
    "ax.plot(bms, label=\"Original\",color=\"gray\")\n",
    "ax.plot(bmsMA, label=\"Moving average\",color=\"red\",linewidth=3)\n",
    "plt.title(\"Random market motion\")\n",
    "plt.legend(prop={'size': 20})   \n",
    "plt.show()\n",
    "\n"
   ]
  },
  {
   "attachments": {},
   "cell_type": "markdown",
   "metadata": {},
   "source": [
    "## Llibrería Seaborn\n",
    "\n",
    "Seaborn és una biblioteca de visualització de dades per a Python que s'utilitza per crear gràfics estadístics atractius i informatius. Aquesta biblioteca simplifica la creació de gràfics com histogrames, diagrames de caixa, gràfics de dispersió, i molts altres, i ofereix una interfície fàcil d'ús que permet personalitzar l'aparença dels gràfics.\n",
    "\n",
    "[Plana web](https://seaborn.pydata.org/)"
   ]
  },
  {
   "cell_type": "code",
   "execution_count": null,
   "metadata": {},
   "outputs": [],
   "source": [
    "%pip install seaborn"
   ]
  },
  {
   "cell_type": "code",
   "execution_count": null,
   "metadata": {},
   "outputs": [],
   "source": [
    "import seaborn as sns\n",
    "\n",
    "dfwho = pd.read_csv(\"data/WHO.csv\", usecols=[0,1,2,185,67,4])\n",
    "dfwho.columns =['Country', 'CountryID', 'Continent', 'LiteracyRate', 'TotalExpenditureHealth',\n",
    "       'CO2_emissions']\n",
    "\n",
    "continents = {1:\"Africa\",2:\"Europa\",3:\"Africa\",4:\"North America\",7:\"Asia\",6:\"Asia\",5:\"South America\"}\n",
    "dfwho.replace({\"Continent\": continents},inplace=True)              \n",
    "              \n",
    "print(list(dfwho.columns))\n",
    "print(\"Dimensions del dataframe:\", dfwho.shape)\n",
    "\n"
   ]
  },
  {
   "cell_type": "markdown",
   "source": [
    "Tornarem a fer feina amb el \"LiteracyRate\".\n",
    "\n",
    "És interessant veure que el disseny de `seaborn` s'integra directament amb els *dataframes*. En primer lloc indicam el *dataframe* i com a paràmetre y"
   ],
   "metadata": {
    "collapsed": false
   }
  },
  {
   "cell_type": "code",
   "execution_count": null,
   "metadata": {},
   "outputs": [],
   "source": [
    "# https://seaborn.pydata.org/generated/seaborn.histplot.html\n",
    "\n",
    "fig, ax = plt.subplots(figsize=(10, 8)) # Establim el marc de dibuix\n",
    "sns.histplot(dfwho, x=\"LiteracyRate\")\n",
    "plt.show()"
   ]
  },
  {
   "cell_type": "code",
   "execution_count": null,
   "metadata": {},
   "outputs": [],
   "source": [
    "fig, ax = plt.subplots(figsize=(10, 8))\n",
    "sns.histplot(dfwho,x=\"LiteracyRate\", hue=\"Continent\")\n",
    "plt.show()"
   ]
  },
  {
   "cell_type": "code",
   "execution_count": null,
   "metadata": {},
   "outputs": [],
   "source": [
    "fig, ax = plt.subplots(figsize=(10, 8))\n",
    "sns.histplot(dfwho,x=\"TotalExpenditureHealth\", hue=\"Continent\", multiple=\"stack\")\n",
    "plt.show()"
   ]
  },
  {
   "cell_type": "code",
   "execution_count": null,
   "metadata": {},
   "outputs": [],
   "source": [
    "# https://seaborn.pydata.org/generated/seaborn.violinplot.html\n",
    "\n",
    "fig, ax = plt.subplots(figsize=(10, 8))\n",
    "sns.violinplot(x=dfwho[\"TotalExpenditureHealth\"],y=dfwho.Continent)\n",
    "plt.show()\n",
    "\n"
   ]
  },
  {
   "cell_type": "code",
   "execution_count": null,
   "metadata": {},
   "outputs": [],
   "source": [
    "# https://seaborn.pydata.org/generated/seaborn.rugplot.html\n",
    "import seaborn as sns; sns.set_theme()\n",
    "\n",
    "fig, ax = plt.subplots(figsize=(10, 8))\n",
    "sns.scatterplot(data=dfwho, x=\"CO2_emissions\", y=\"LiteracyRate\",hue=\"Continent\")\n",
    "sns.rugplot(data=dfwho, x=\"CO2_emissions\", y=\"LiteracyRate\",hue=\"Continent\")\n",
    "plt.show()\n",
    "\n",
    "#Africa valors?\n"
   ]
  },
  {
   "attachments": {},
   "cell_type": "markdown",
   "metadata": {},
   "source": [
    "## Activitats\n",
    "Intenta provar diferents opcions de gràfics, l'interessant és poder veure les diferents possibilitats que ens ofereixen les eines gràfiques."
   ]
  },
  {
   "attachments": {},
   "cell_type": "markdown",
   "metadata": {},
   "source": [
    "A) Amb el fitxer who.csv,\n",
    "- Podries mostrar un gràfic amb els 10 països més poblats (\"Population (in thousands) total\")? <br/>\n",
    "- I un dels 10 menys poblats? <br/>\n",
    "\n",
    "Nota: Recorda que els valos `Nan` afectaran la visualització.\n"
   ]
  },
  {
   "cell_type": "code",
   "execution_count": null,
   "metadata": {},
   "outputs": [],
   "source": []
  },
  {
   "attachments": {},
   "cell_type": "markdown",
   "metadata": {},
   "source": [
    "B) Representa en un gràfic de barres el creixement de població (*Population annual growth rate (%)) dels països del top 10 més poblats.*"
   ]
  },
  {
   "cell_type": "code",
   "execution_count": null,
   "metadata": {},
   "outputs": [],
   "source": [
    "#TODO"
   ]
  },
  {
   "attachments": {},
   "cell_type": "markdown",
   "metadata": {},
   "source": [
    "C) Representa amb un boxplot la contaminació (CO2) (`CO2_emissions`)d'Europa (codi continent: 2)\n"
   ]
  },
  {
   "cell_type": "code",
   "execution_count": null,
   "metadata": {},
   "outputs": [],
   "source": []
  },
  {
   "attachments": {},
   "cell_type": "markdown",
   "metadata": {},
   "source": [
    "D) Amb el fitxer `data_groups.csv`, visualitza la distribució de ciutats i punts de candidats"
   ]
  },
  {
   "cell_type": "code",
   "execution_count": null,
   "metadata": {},
   "outputs": [],
   "source": [
    "#TODO\n"
   ]
  },
  {
   "attachments": {},
   "cell_type": "markdown",
   "metadata": {},
   "source": [
    "E) Amb el fitxer `data_groups.csv`, visualitza la distribució de ciutats, punts de candidats i sexe."
   ]
  },
  {
   "cell_type": "code",
   "execution_count": null,
   "metadata": {},
   "outputs": [],
   "source": [
    "#TODO\n"
   ]
  },
  {
   "cell_type": "code",
   "execution_count": null,
   "outputs": [],
   "source": [],
   "metadata": {
    "collapsed": false
   }
  },
  {
   "attachments": {},
   "cell_type": "markdown",
   "metadata": {},
   "source": [
    "[![License: CC BY 4.0](https://img.shields.io/badge/License-CC_BY_4.0-lightgrey.svg)](https://creativecommons.org/licenses/by/4.0/) <br/>\n",
    "Isaac Lera and Gabriel Moya <br/>\n",
    "Universitat de les Illes Balears <br/>\n",
    "isaac.lera@uib.edu, gabriel.moya@uib.edu"
   ]
  },
  {
   "cell_type": "markdown",
   "metadata": {},
   "source": []
  }
 ],
 "metadata": {
  "kernelspec": {
   "display_name": "my397",
   "language": "python",
   "name": "python3"
  },
  "language_info": {
   "codemirror_mode": {
    "name": "ipython",
    "version": 3
   },
   "file_extension": ".py",
   "mimetype": "text/x-python",
   "name": "python",
   "nbconvert_exporter": "python",
   "pygments_lexer": "ipython3",
   "version": "3.9.7"
  },
  "orig_nbformat": 4,
  "vscode": {
   "interpreter": {
    "hash": "8b38137d60f5ef6101ebd11fd805c6415d52a5c999d13278488bced8392256b3"
   }
  }
 },
 "nbformat": 4,
 "nbformat_minor": 2
}
