{
 "cells": [
  {
   "attachments": {},
   "cell_type": "markdown",
   "metadata": {},
   "source": [
    "<div align=\"right\">\n",
    "\n",
    "[![Open In Colab](https://colab.research.google.com/assets/colab-badge.svg)](https://colab.research.google.com/github/wisaaco/TallerPythonEBAP/blob/main/lessons/3_Pandas_Estructura.ipynb)\n",
    "\n",
    "Si no funciona el botó podeu copiar el següent [enllaç](https://colab.research.google.com/github/wisaaco/TallerPythonEBAP/blob/main/lessons/3_Pandas_Estructura.ipynb)\n",
    "</div>"
   ]
  },
  {
   "cell_type": "markdown",
   "metadata": {
    "collapsed": false
   },
   "source": [
    "# 3 - Pandas: estructura del dataframe\n",
    "\n",
    "Ara que ja sabem carregar dataframes de fitxers, descobrirem com podem accedir a l'informació que es troba dins dels tipus de variable fet servir per Pandas.\n",
    "\n",
    "Un dataframe té columnes i files. Les files són mostres i les columnes representen característiques d'una mostra. Una columna és del tipus Sèrie.\n",
    "\n",
    "**L'objectiu d'aquesta unitat és adquirir eines per entendre i seleccionar les dades representades a un dataframe i a una sèrie amb Pandas.**\n",
    "\n",
    "\n",
    "Començarem seleccionant columnes i obtenint resums estadístics d'elles. Més endavant passarem a fer seleccions de files del dataframe. Finalment, realitzarem seleccions combinades creant els nostres propis dataframes a partir dels subconjunts seleccionats."
   ]
  },
  {
   "cell_type": "code",
   "execution_count": 2,
   "metadata": {
    "collapsed": false
   },
   "outputs": [],
   "source": [
    "#Seguirem emprant la llibreria pandas\n",
    "\n",
    "import pandas as pd\n",
    "\n",
    "df_who = pd.read_csv(\"http://www.exploredata.net/ftp/WHO.csv\") #dataframe"
   ]
  },
  {
   "cell_type": "code",
   "execution_count": null,
   "metadata": {},
   "outputs": [],
   "source": [
    "df_who.info()"
   ]
  },
  {
   "cell_type": "code",
   "execution_count": null,
   "metadata": {},
   "outputs": [],
   "source": [
    "df_who.describe()"
   ]
  },
  {
   "attachments": {},
   "cell_type": "markdown",
   "metadata": {},
   "source": [
    "## Columnes\n",
    "\n",
    "Com hem comentat a l'introducció, començarem amb les columnes"
   ]
  },
  {
   "cell_type": "code",
   "execution_count": null,
   "metadata": {},
   "outputs": [],
   "source": [
    "# Columnes o caracteristiques de cada mostra\n",
    "print(df_who.columns)"
   ]
  },
  {
   "cell_type": "code",
   "execution_count": null,
   "metadata": {},
   "outputs": [],
   "source": [
    "for col in df_who.columns: #label\n",
    "    print(col)"
   ]
  },
  {
   "cell_type": "markdown",
   "metadata": {},
   "source": [
    "Access als valors d'una columna: sèrie"
   ]
  },
  {
   "cell_type": "code",
   "execution_count": null,
   "metadata": {},
   "outputs": [],
   "source": [
    "df_who[\"Country\"] "
   ]
  },
  {
   "cell_type": "code",
   "execution_count": null,
   "metadata": {},
   "outputs": [],
   "source": [
    "type(df_who[\"Country\"])"
   ]
  },
  {
   "cell_type": "markdown",
   "metadata": {
    "collapsed": false
   },
   "source": [
    "Un cop seleccionam una columna podem accedir als seus elements com si fossin una llista:"
   ]
  },
  {
   "cell_type": "code",
   "execution_count": null,
   "metadata": {},
   "outputs": [],
   "source": [
    "print(df_who[\"Country\"][0])\n",
    "print(\"-\"*30)\n",
    "print(df_who[\"Country\"][:5]) # slicing\n",
    "print(\"-\"*30)\n",
    "print(df_who[\"Country\"].values)"
   ]
  },
  {
   "cell_type": "markdown",
   "metadata": {
    "collapsed": false
   },
   "source": [
    " Existeix una altra manera més simple de seleccionar una única columna pero hi ha noms de columnes molt llargues: \"Children aged &lt;5 years who received any antimalarial treatment for fever (%)\"\n",
    "\n",
    "**Nota**: En la creació de documents és important un adequat nom de columnes"
   ]
  },
  {
   "cell_type": "code",
   "execution_count": null,
   "metadata": {},
   "outputs": [],
   "source": [
    "df_who.Country"
   ]
  },
  {
   "cell_type": "code",
   "execution_count": null,
   "metadata": {
    "pycharm": {
     "is_executing": true
    }
   },
   "outputs": [],
   "source": [
    "print(df_who.columns[9])\n",
    "print(\"-\"*30)\n",
    "print(df_who[df_who.columns[9]])\n"
   ]
  },
  {
   "cell_type": "code",
   "execution_count": null,
   "metadata": {},
   "outputs": [],
   "source": [
    "# Podem agafar multiples columnes\n",
    "df_who[df_who.columns[0:5]]\n"
   ]
  },
  {
   "cell_type": "code",
   "execution_count": null,
   "metadata": {},
   "outputs": [],
   "source": [
    "df_who[[\"CountryID\",\"Continent\"]]"
   ]
  },
  {
   "cell_type": "code",
   "execution_count": null,
   "metadata": {},
   "outputs": [],
   "source": [
    "# Podem accedir a les columnes amb la seva posició en lloc del nom\n",
    "# funció: .iloc(files, columnes)\n",
    "df_who.iloc[:,3:5]"
   ]
  },
  {
   "cell_type": "code",
   "execution_count": null,
   "metadata": {},
   "outputs": [],
   "source": [
    "# o a un subconjunt específic\n",
    "df_who.iloc[:,[3,5,9]]"
   ]
  },
  {
   "cell_type": "markdown",
   "metadata": {
    "collapsed": false
   },
   "source": [
    "### Sèries i mètodes estadístics\n",
    "\n",
    "En seleccionar una columna d'un dataframe obtenim una sèrie. Les sèries tenem certes característiques com l'aplicació de mètodes estadístics (sí és una sèrie numèrica).\n"
   ]
  },
  {
   "cell_type": "code",
   "execution_count": null,
   "metadata": {
    "collapsed": false
   },
   "outputs": [],
   "source": [
    "fertilitat = df_who[df_who.columns[3]]\n",
    "print(\"Min \", fertilitat.min()) # a Pandas el concepte d'iterar \"no té sentit\"\n",
    "print(\"Max \", fertilitat.max())\n",
    "print(\"Mean \", fertilitat.mean())"
   ]
  },
  {
   "cell_type": "markdown",
   "metadata": {
    "collapsed": false
   },
   "source": [
    "A continuació trobareu la taula que mostra les funcions descriptives que tenim disponibles:\n",
    "<img src=\"https://i.imgur.com/OYnOFwL.png\">\n",
    "\n",
    "Veurem que obtenir aquestes informacions estadístiques ens pot ajudar a extreure informació molt concreta de la taula, per exemple, si volem saber:\n",
    "\n",
    "**¿Quin pais té la major emissió de CO2 ?**"
   ]
  },
  {
   "cell_type": "code",
   "execution_count": null,
   "metadata": {
    "collapsed": false
   },
   "outputs": [],
   "source": [
    "co2 = df_who[\"Total_CO2_emissions\"]\n",
    "row = df_who[co2 == co2.max()]  # Selecció condicionada *\n",
    "type(row)"
   ]
  },
  {
   "cell_type": "markdown",
   "metadata": {
    "collapsed": false
   },
   "source": [
    "La variable row conté la fila amb el valor màxim a la columna \"Total_CO2_emissions\""
   ]
  },
  {
   "cell_type": "code",
   "execution_count": null,
   "metadata": {
    "collapsed": false
   },
   "outputs": [],
   "source": [
    "print(row[\"Country\"])"
   ]
  },
  {
   "cell_type": "code",
   "execution_count": null,
   "metadata": {
    "collapsed": false
   },
   "outputs": [],
   "source": [
    "row[\"Country\"].values"
   ]
  },
  {
   "cell_type": "code",
   "execution_count": null,
   "metadata": {
    "collapsed": false
   },
   "outputs": [],
   "source": [
    "print(\"El pais mas contaminante es: \", row[\"Country\"].values[0])"
   ]
  },
  {
   "cell_type": "markdown",
   "metadata": {},
   "source": [
    "Podem fer seleccions aleatories d'una serie"
   ]
  },
  {
   "cell_type": "code",
   "execution_count": null,
   "metadata": {},
   "outputs": [],
   "source": [
    "fertilitat = df_who[df_who.columns[3]]\n",
    "some = fertilitat.sample(n=3)\n",
    "print(some)\n",
    "fertilitat.sample(n=3,random_state=2023) #on random_state és la llavor/seed del aleatori"
   ]
  },
  {
   "attachments": {},
   "cell_type": "markdown",
   "metadata": {},
   "source": [
    "## Files\n",
    "\n",
    "Cada fila té un índex. L'índex pot ser numèric, alfabètic o de temps."
   ]
  },
  {
   "cell_type": "code",
   "execution_count": null,
   "metadata": {},
   "outputs": [],
   "source": [
    "df_who.index"
   ]
  },
  {
   "cell_type": "code",
   "execution_count": null,
   "metadata": {},
   "outputs": [],
   "source": [
    "df_who.index.values"
   ]
  },
  {
   "cell_type": "markdown",
   "metadata": {
    "collapsed": false
   },
   "source": [
    "Emprant el tribut  `loc` del dataframe podem accedir a les seves files amb la mateixa lògica que empram a les llistes:"
   ]
  },
  {
   "cell_type": "code",
   "execution_count": null,
   "metadata": {},
   "outputs": [],
   "source": [
    "df_who.loc[0] #la mostra zero, primera fila"
   ]
  },
  {
   "cell_type": "code",
   "execution_count": null,
   "metadata": {},
   "outputs": [],
   "source": [
    "type(df_who.loc[0]) # una fila també és una sèrie"
   ]
  },
  {
   "cell_type": "code",
   "execution_count": null,
   "metadata": {},
   "outputs": [],
   "source": [
    "print(df_who.loc[0].Country) # Podem accedir a una sèrie amb el seu índex\n",
    "print(df_who.loc[0][0]) #o amb la seva posició\n",
    "print(df_who.loc[0][3])"
   ]
  },
  {
   "cell_type": "markdown",
   "metadata": {
    "collapsed": false
   },
   "source": [
    "Com passava amb les llistes també podem seleccionar diversos elements (files) en una sola comanda usant la tècnica de _slicing_."
   ]
  },
  {
   "cell_type": "code",
   "execution_count": null,
   "metadata": {},
   "outputs": [],
   "source": [
    "df_who.loc[166:170] #slicing"
   ]
  },
  {
   "cell_type": "code",
   "execution_count": null,
   "metadata": {},
   "outputs": [],
   "source": [
    "# Els índexs són útils quan són dates: Sèries temporals\n",
    "# per exemple:\n",
    "# df.loc[\"2020\":\"2022\"]"
   ]
  },
  {
   "cell_type": "markdown",
   "metadata": {},
   "source": [
    "L'índex pot canviar-se per qualsevol altre valor (i idealment únic)"
   ]
  },
  {
   "cell_type": "code",
   "execution_count": null,
   "metadata": {},
   "outputs": [],
   "source": [
    "df_who.set_index(\"Country\",inplace=True)"
   ]
  },
  {
   "cell_type": "code",
   "execution_count": null,
   "metadata": {},
   "outputs": [],
   "source": [
    "print(df_who.index)\n",
    "print(\"-\"*30)\n",
    "df_who.loc[\"Albania\"]          # l'accés per LOC ja no és numèric\n",
    "   "
   ]
  },
  {
   "cell_type": "markdown",
   "metadata": {
    "collapsed": false
   },
   "source": [
    "### Selecció condicional\n",
    "\n",
    "Si volem que la nostra selecció es correspongui amb un criteri lògic, per exemple saber quins són els països amb una taxa d'alfabetització dels adults amb més d'un 70% podem fer el següent:"
   ]
  },
  {
   "cell_type": "code",
   "execution_count": null,
   "metadata": {},
   "outputs": [],
   "source": [
    "df_who = pd.read_csv(\"http://www.exploredata.net/ftp/WHO.csv\") #dataframe"
   ]
  },
  {
   "cell_type": "code",
   "execution_count": null,
   "metadata": {
    "collapsed": false
   },
   "outputs": [],
   "source": [
    "alfabetitzacio = df_who[df_who['Adult literacy rate (%)'] > 70][[\"Country\",\"Adult literacy rate (%)\"]]\n",
    "\n",
    "alfabetitzacio[alfabetitzacio[\"Country\"] == \"Italy\"]"
   ]
  },
  {
   "cell_type": "markdown",
   "metadata": {
    "collapsed": false
   },
   "source": [
    "L'estructura d'aquest tipus de selecció sembla complexa, però si la dividim en parts veurem que és abordable:"
   ]
  },
  {
   "cell_type": "code",
   "execution_count": null,
   "metadata": {
    "collapsed": false
   },
   "outputs": [],
   "source": [
    "# En aquest codi obtenim una llista de valors booleans (True o False) segons és compleix la condició per cada una de les files:\n",
    "seleccio = df_who['Adult literacy rate (%)'] > 70"
   ]
  },
  {
   "cell_type": "code",
   "execution_count": null,
   "metadata": {
    "collapsed": false
   },
   "outputs": [],
   "source": [
    "# En aquest codi, de les files on seleccio == True agafam les dues columnes que ens interessen\n",
    "df_who[seleccio][[\"Country\",\"Adult literacy rate (%)\"]]"
   ]
  },
  {
   "cell_type": "code",
   "execution_count": 3,
   "metadata": {},
   "outputs": [
    {
     "data": {
      "text/plain": [
       "(array([92]),)"
      ]
     },
     "execution_count": 3,
     "metadata": {},
     "output_type": "execute_result"
    }
   ],
   "source": [
    "# Multiples criteris\n",
    "# CO_emisions i Fertilitat\n",
    "import numpy as np\n",
    "ix = np.where((df_who[\"Total_CO2_emissions\"] > 10) & (df_who[df_who.columns[3]] <=0.6))\n",
    "ix"
   ]
  },
  {
   "cell_type": "markdown",
   "metadata": {},
   "source": [
    "I una mostra aleatoria:"
   ]
  },
  {
   "cell_type": "code",
   "execution_count": null,
   "metadata": {},
   "outputs": [],
   "source": [
    "import numpy as np\n",
    "random_sample = np.random.randint(0,2,df_who.shape[0]).astype('bool')\n",
    "print(random_sample)\n",
    "print(len(random_sample))"
   ]
  },
  {
   "cell_type": "code",
   "execution_count": null,
   "metadata": {},
   "outputs": [],
   "source": [
    "df_who[random_sample]"
   ]
  },
  {
   "cell_type": "code",
   "execution_count": null,
   "metadata": {},
   "outputs": [],
   "source": [
    "df_who.sample(3) #Nota: hi ha altres mètodes més efectius per fer aquesta funció de sampling"
   ]
  },
  {
   "cell_type": "markdown",
   "metadata": {
    "collapsed": false
   },
   "source": [
    "Aquest tipus de selecció ens obre tot un nou ventall de possibilitats de selecció \"automàtica\" de dades que fins ara es feia molt complicat.\n",
    "\n"
   ]
  },
  {
   "cell_type": "markdown",
   "metadata": {
    "collapsed": false
   },
   "source": [
    "## Files i columnes\n",
    "\n",
    "Obviament, si sabem seleccionar files i columnes, podem combinar-les per fer una selecció més específica."
   ]
  },
  {
   "cell_type": "code",
   "execution_count": null,
   "metadata": {},
   "outputs": [],
   "source": [
    "\n",
    "df_who.loc[167:169, [\"Country\",\"Total_CO2_emissions\"]] # per noms"
   ]
  },
  {
   "cell_type": "markdown",
   "metadata": {
    "collapsed": false
   },
   "source": [
    "No sempre ens serà còmode fer seleccions amb els noms de les files (encara que normalment siguin nombres) i de les columnes. Si volem fer seleccions emprant només els índexs podem emprar el mètode `iloc`:"
   ]
  },
  {
   "cell_type": "code",
   "execution_count": null,
   "metadata": {},
   "outputs": [],
   "source": [
    "df_who.iloc[[168,192],[0,43,118]] # per posicions"
   ]
  },
  {
   "cell_type": "markdown",
   "metadata": {},
   "source": [
    "## Estadistics damunt d'un dataframe"
   ]
  },
  {
   "cell_type": "code",
   "execution_count": null,
   "metadata": {},
   "outputs": [],
   "source": [
    "# Creem un dataframe numèric amb valors aleatoris\n",
    "import numpy as np\n",
    "\n",
    "np.random.seed(10)\n",
    "\n",
    "df = pd.DataFrame({\"one\":np.random.randint(-10,10,5),\n",
    "                  \"two\":np.random.random(5),\n",
    "                  \"three\":np.random.randint(0,5,5)})\n",
    "df"
   ]
  },
  {
   "cell_type": "code",
   "execution_count": null,
   "metadata": {},
   "outputs": [],
   "source": [
    "df.sum()"
   ]
  },
  {
   "cell_type": "code",
   "execution_count": null,
   "metadata": {},
   "outputs": [],
   "source": [
    "df.sum(axis=1) # concepte d'axis "
   ]
  },
  {
   "cell_type": "code",
   "execution_count": null,
   "metadata": {},
   "outputs": [],
   "source": [
    "df.cumsum()"
   ]
  },
  {
   "cell_type": "code",
   "execution_count": null,
   "metadata": {},
   "outputs": [],
   "source": [
    "df.apply(np.abs).cumsum()"
   ]
  },
  {
   "cell_type": "code",
   "execution_count": null,
   "metadata": {},
   "outputs": [],
   "source": [
    "df.apply(np.abs).cumsum(axis=1)"
   ]
  },
  {
   "cell_type": "code",
   "execution_count": null,
   "metadata": {},
   "outputs": [],
   "source": [
    "df.cumprod()"
   ]
  },
  {
   "cell_type": "code",
   "execution_count": null,
   "metadata": {},
   "outputs": [],
   "source": [
    "df.cumprod(axis=1)"
   ]
  },
  {
   "cell_type": "code",
   "execution_count": null,
   "metadata": {},
   "outputs": [],
   "source": [
    "ones = np.ones(5)\n",
    "print(ones)\n"
   ]
  },
  {
   "cell_type": "code",
   "execution_count": null,
   "metadata": {},
   "outputs": [],
   "source": [
    "df.sub(ones,axis=0)"
   ]
  },
  {
   "cell_type": "code",
   "execution_count": null,
   "metadata": {},
   "outputs": [],
   "source": [
    "df.sub(ones) #Alerta!"
   ]
  },
  {
   "cell_type": "code",
   "execution_count": null,
   "metadata": {},
   "outputs": [],
   "source": [
    "df.sub(df.one,axis=0)"
   ]
  },
  {
   "cell_type": "code",
   "execution_count": null,
   "metadata": {},
   "outputs": [],
   "source": [
    "# nornalització z-score (mean a 0 i desviació a 1)\n",
    "ts_stand = (df - df.mean()) / df.std()\n",
    "ts_stand"
   ]
  },
  {
   "cell_type": "code",
   "execution_count": null,
   "metadata": {},
   "outputs": [],
   "source": [
    "print(ts_stand.mean())\n",
    "print(\"----\")\n",
    "print(ts_stand.std())"
   ]
  },
  {
   "cell_type": "markdown",
   "metadata": {},
   "source": [
    "## Sèries no numèriques"
   ]
  },
  {
   "cell_type": "code",
   "execution_count": null,
   "metadata": {},
   "outputs": [],
   "source": [
    "df_who[\"Country\"] "
   ]
  },
  {
   "cell_type": "markdown",
   "metadata": {},
   "source": [
    "Si l'objecte es del tipus string (str) podem aplicar mètodes d'aquest tipus a tota la sèrie:\n",
    "https://www.w3schools.com/python/python_ref_string.asp"
   ]
  },
  {
   "cell_type": "code",
   "execution_count": null,
   "metadata": {},
   "outputs": [],
   "source": [
    "df_who.Country.str.casefold()"
   ]
  },
  {
   "cell_type": "code",
   "execution_count": null,
   "metadata": {},
   "outputs": [],
   "source": [
    "df_who.Country.str.zfill(12)"
   ]
  },
  {
   "cell_type": "code",
   "execution_count": null,
   "metadata": {},
   "outputs": [],
   "source": []
  },
  {
   "attachments": {},
   "cell_type": "markdown",
   "metadata": {},
   "source": [
    "## Activitat\n",
    "\n",
    "En aquesta activitat practicarem la selecció de dades (columnes i files) en un dataframe"
   ]
  },
  {
   "cell_type": "markdown",
   "metadata": {
    "collapsed": false
   },
   "source": [
    "**1) Quina és la mitjana de la població urbana (\"Urban_population\") de tots els països? La seva desviació típica (std)?**"
   ]
  },
  {
   "cell_type": "code",
   "execution_count": null,
   "metadata": {
    "collapsed": false
   },
   "outputs": [],
   "source": []
  },
  {
   "cell_type": "markdown",
   "metadata": {
    "collapsed": false
   },
   "source": [
    "**2) Consulta la fila del país: “Spain”**"
   ]
  },
  {
   "cell_type": "code",
   "execution_count": null,
   "metadata": {
    "collapsed": false
   },
   "outputs": [],
   "source": []
  },
  {
   "cell_type": "markdown",
   "metadata": {
    "collapsed": false
   },
   "source": [
    "**3) Quin país té una població urbana més gran?**"
   ]
  },
  {
   "cell_type": "code",
   "execution_count": null,
   "metadata": {
    "collapsed": false
   },
   "outputs": [],
   "source": []
  },
  {
   "cell_type": "markdown",
   "metadata": {
    "collapsed": false
   },
   "source": [
    "**4) El continent on està situat Spain és el mateix que el d'UnitedStates?**\n",
    "\n",
    "Utilitza una condició per obtenir un resultat Booleà (*True* o *False*)"
   ]
  },
  {
   "cell_type": "code",
   "execution_count": null,
   "metadata": {
    "collapsed": false
   },
   "outputs": [],
   "source": []
  },
  {
   "cell_type": "markdown",
   "metadata": {
    "collapsed": false
   },
   "source": [
    "**5) Quins són els cinc països més contaminants (\"Total_CO2_emissions\")?**\n",
    "\n",
    "Aquesta és la meva [pista per a una solució elegant](http://pandas.pydata.org/pandas-docs/version/0.19.2/generated/pandas.DataFrame.sort_values.html)"
   ]
  },
  {
   "cell_type": "code",
   "execution_count": null,
   "metadata": {},
   "outputs": [],
   "source": []
  },
  {
   "cell_type": "markdown",
   "metadata": {
    "collapsed": false
   },
   "source": [
    "**6) Observant algunes mostres del fitxer pots establir la relació entre l'identificador del continent i el seu nom?**\n",
    "\n",
    "És a dir, sabem que Spain és al continent Europeu i el codi del continent és el 2.\n",
    "\n",
    "Hi ha els codis de continents: 1, 2, 3, 4, 5, 6, 7\n",
    "\n",
    "**Nota:** Hi ha dos codis associats a Àsia.\n",
    "\n",
    "Fes les consultes pertinents al dataframe per construir un diccionari amb la següent"
   ]
  },
  {
   "cell_type": "code",
   "execution_count": null,
   "metadata": {
    "collapsed": false
   },
   "outputs": [],
   "source": [
    "codigoContinentes = {1:\"Asia\",2:\"Europa\"} \n",
    "print(codigoContinentes[2])"
   ]
  },
  {
   "cell_type": "code",
   "execution_count": null,
   "metadata": {
    "collapsed": false
   },
   "outputs": [],
   "source": [
    "codigoContinentes[3] = \"\"\n",
    "codigoContinentes[4] = \"\"\n",
    "codigoContinentes[5] = \"\"\n",
    "codigoContinentes[6] = \"\"\n",
    "codigoContinentes[7] = \"\""
   ]
  },
  {
   "cell_type": "markdown",
   "metadata": {},
   "source": [
    "\n",
    "**7) Quins països tenen una població urbana menor a 50.000 ?**"
   ]
  },
  {
   "cell_type": "code",
   "execution_count": null,
   "metadata": {},
   "outputs": [],
   "source": [
    "#TODO"
   ]
  },
  {
   "cell_type": "markdown",
   "metadata": {},
   "source": [
    "**8) Selecciona els països entre les files 100 i 120 i només 4 columnes a l'atzar.**"
   ]
  },
  {
   "cell_type": "code",
   "execution_count": null,
   "metadata": {},
   "outputs": [],
   "source": [
    "#TODO"
   ]
  },
  {
   "cell_type": "markdown",
   "metadata": {},
   "source": [
    "**9) Selecciona totes les dades dels països que començen amb la lletra \"A\".**"
   ]
  },
  {
   "cell_type": "code",
   "execution_count": null,
   "metadata": {},
   "outputs": [],
   "source": [
    "#TODO"
   ]
  },
  {
   "cell_type": "markdown",
   "metadata": {},
   "source": [
    "**6b) Amb el diccionari de codi i nom de continent (activitat 6) transforma aquesta sèrie numèrica de codis en una sèrie més descriptiva que contengui el nom del continent (pista: transform(), map() o apply())**"
   ]
  },
  {
   "cell_type": "code",
   "execution_count": null,
   "metadata": {},
   "outputs": [],
   "source": []
  },
  {
   "attachments": {},
   "cell_type": "markdown",
   "metadata": {},
   "source": [
    "[![License: CC BY 4.0](https://img.shields.io/badge/License-CC_BY_4.0-lightgrey.svg)](https://creativecommons.org/licenses/by/4.0/) <br/>\n",
    "Isaac Lera and Gabriel Moya <br/>\n",
    "Universitat de les Illes Balears <br/>\n",
    "isaac.lera@uib.edu, gabriel.moya@uib.edu"
   ]
  },
  {
   "cell_type": "markdown",
   "metadata": {},
   "source": []
  }
 ],
 "metadata": {
  "kernelspec": {
   "display_name": "Python 3.9.7 64-bit ('3.9.7')",
   "language": "python",
   "name": "python3"
  },
  "language_info": {
   "codemirror_mode": {
    "name": "ipython",
    "version": 3
   },
   "file_extension": ".py",
   "mimetype": "text/x-python",
   "name": "python",
   "nbconvert_exporter": "python",
   "pygments_lexer": "ipython3",
   "version": "3.9.7"
  },
  "orig_nbformat": 4,
  "vscode": {
   "interpreter": {
    "hash": "1dd6de46b7c7be538353ccdeaa948031a5b4d43665739a26f55ca28b247c53cc"
   }
  }
 },
 "nbformat": 4,
 "nbformat_minor": 2
}
