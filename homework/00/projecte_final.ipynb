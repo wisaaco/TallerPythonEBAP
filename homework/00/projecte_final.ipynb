{
 "cells": [
  {
   "cell_type": "markdown",
   "metadata": {},
   "source": [
    "<div align=\"right\">\n",
    "\n",
    "[![Open In Colab](https://colab.research.google.com/assets/colab-badge.svg)](https://colab.research.google.com/github/wisaaco/TallerPythonEBAP/blob/main/homework/00/projecte_final.ipynb)\n",
    "\n",
    "\n",
    "</div>"
   ]
  },
  {
   "cell_type": "markdown",
   "metadata": {},
   "source": [
    "# Projecte final\n",
    "<span style=\"color:red\">Versió no definitiva</span>\n",
    "\n",
    "Les qüestions plantejades en aquest projecte final exploten les eines i mecanismes vistos al llarg del curs per desenvolupar un tractament i anàlisi de dades amb Python.\n",
    "\n",
    "Les activitats estan classificades en tres nivells segons el seu grau de complexitat.\n",
    "\n",
    "Es valorarà:<br/>\n",
    "- El mínim ús d'estructures de codi (if, for, while, etc.). És a dir, *maximitzar l'ús de mètodes de Pandas*.<br/>\n",
    "- La inclusió de gràfics per a mostrar els resultats de les qüestions."
   ]
  },
  {
   "cell_type": "markdown",
   "metadata": {},
   "source": [
    "## Fitxer\n",
    "\n",
    "El fitxer per resoldre les qüestions dels dos primers nivells és: *data/candidats1.csv*\n",
    "\n",
    "\n"
   ]
  },
  {
   "cell_type": "markdown",
   "metadata": {},
   "source": [
    "## Nivell bàsic"
   ]
  },
  {
   "cell_type": "markdown",
   "metadata": {},
   "source": [
    "- A) Arregla el nom de la columna de \"Tipus de Sol·licitud\" i tots els valors de \"*PresZèncial\" per \"Presencial\" \n",
    "- B) Pots eliminar el prefix \"+34\" de la columna telèfon?\n",
    "- C) Pots comprovar que no hi ha cap candidat repetit per \"Id Empleat\"?\n",
    "- D) Quants CP coincideixen amb \"CP per notificacions\"?\n",
    "- E) Que percentatge de candidats han usat el DNI per identificar-se?\n",
    "- F) Quina distribució hi ha de candidats per municipi?\n",
    "- G) Quants candidats són \"Apte Segons centre base\"?"
   ]
  },
  {
   "cell_type": "code",
   "execution_count": null,
   "metadata": {
    "vscode": {
     "languageId": "plaintext"
    }
   },
   "outputs": [],
   "source": []
  },
  {
   "cell_type": "markdown",
   "metadata": {},
   "source": [
    "## Nivell intermedi"
   ]
  },
  {
   "cell_type": "markdown",
   "metadata": {},
   "source": [
    "- H) Crea una nova columna amb el \"Tipus de Grau\" de minusvalidesa o discapacitat (I,II,III,IV) segons aquestes franges de valors:\n",
    "  - Grau I. Minusvalidesa nul·la 0%\n",
    "  - Grau II. Minusvalidesa lleu 1-24%\n",
    "  - Grau III. Minusvalidesa moderada 25-49%\n",
    "  - Grau IV. Minusvalidesa greu 50-70%"
   ]
  },
  {
   "cell_type": "markdown",
   "metadata": {},
   "source": [
    "- J) Com és la distribució del \"tipus de minusvalidesa o discapacitat\" ?\n",
    "- K) Quants candidats hi ha entre 18 i 30 anys, entre 30 i 40 anys, i més de 45 anys? \n",
    "- L) Quants candidats han superat 5 exàmens?\n",
    "- M) Quants candidats han superat almenys 3 exàmens?\n",
    "- N) Quants candidats no han superat cap examen?"
   ]
  },
  {
   "cell_type": "code",
   "execution_count": null,
   "metadata": {
    "vscode": {
     "languageId": "plaintext"
    }
   },
   "outputs": [],
   "source": []
  },
  {
   "cell_type": "markdown",
   "metadata": {},
   "source": [
    "## Nivell avançat"
   ]
  },
  {
   "cell_type": "markdown",
   "metadata": {},
   "source": [
    "P1) Crearem una llista de candidats on seran marcats com a ```descartats``` tots aquells que:\n",
    "- El seu nivell de català sigui A1,\n",
    "- No estiguin aptes segons \"Comprobació amb política lingüística\",\n",
    "- Hagin suspès o no s'hagin presentat a dues proves/\"examenes\".\n",
    "\n",
    "\n",
    "P2) Ordenarem als restants candidats segons una nota final. La nota final és una mitjana ponderada dels cinc \"examenes\": \n",
    "```text\n",
    "   examen1*10% + examen2*30% + examen3*30% + examen4*20% + examen5*10%\n",
    "```\n",
    "- Si tenen algun grau de discapacitat:<br/>\n",
    "  - Grau II, el ```examen2``` té factor de 1.5 fins a un màxim de 10 punts<br/>\n",
    "  - Grau III, ```examen2*3``` fins a un màxim de 10 punts<br/>\n",
    "  - Grau IV, ```examen1*2``` i ```examen2*4``` fins a un màxim de 10 punts<br/>\n",
    "- Si no té permís de conduir: perd 3 punts de la nota final<br/>\n",
    "\n"
   ]
  },
  {
   "cell_type": "code",
   "execution_count": null,
   "metadata": {
    "vscode": {
     "languageId": "plaintext"
    }
   },
   "outputs": [],
   "source": []
  },
  {
   "cell_type": "markdown",
   "metadata": {},
   "source": [
    "P3) Guarda en un fitxer CSV, les següents columnes nota final, DNI o Passaport i correu de notificació dels 10 primers candidats segons la seva nota final"
   ]
  },
  {
   "cell_type": "code",
   "execution_count": null,
   "metadata": {
    "vscode": {
     "languageId": "plaintext"
    }
   },
   "outputs": [],
   "source": []
  },
  {
   "cell_type": "markdown",
   "metadata": {},
   "source": [
    "\n",
    "Q) Per una reclamació, un nombre de candidats ha repetit tres proves. El fitxer \"data/candidats2.csv\" conté aquests nous valors. Com fusionaries aquests valors en l'anterior fitxer, substituint els vells valors per aquests?"
   ]
  },
  {
   "cell_type": "code",
   "execution_count": null,
   "metadata": {
    "vscode": {
     "languageId": "plaintext"
    }
   },
   "outputs": [],
   "source": []
  },
  {
   "cell_type": "markdown",
   "metadata": {},
   "source": []
  }
 ],
 "metadata": {
  "language_info": {
   "name": "python"
  },
  "orig_nbformat": 4
 },
 "nbformat": 4,
 "nbformat_minor": 2
}
