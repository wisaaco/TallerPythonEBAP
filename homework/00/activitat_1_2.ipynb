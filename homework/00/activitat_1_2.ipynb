{
 "cells": [
  {
   "attachments": {},
   "cell_type": "markdown",
   "metadata": {},
   "source": [
    "<div align=\"right\">\n",
    "\n",
    "[![Open In Colab](https://colab.research.google.com/assets/colab-badge.svg)](https://colab.research.google.com/github/wisaaco/TallerPythonEBAP/blob/main/homework/00/activitat_1_2.ipynb)\n",
    "\n",
    "\n",
    "</div>\n",
    "\n",
    "# 1.2. Activitat\n",
    "\n",
    "A) Del fitxer WHO.csv, crea un nou dataframe que contengui les columnes: 4,10-39,90,120-123\n",
    "i guarda'l a un nou fitxer CSV anomenat _mini_who.csv_"
   ]
  },
  {
   "cell_type": "code",
   "execution_count": null,
   "metadata": {},
   "outputs": [],
   "source": []
  },
  {
   "cell_type": "markdown",
   "metadata": {
    "collapsed": false
   },
   "source": [
    "B) Donat el següent dataframe, una versió molt simplificada de `WHO` per poder comprovar les operacions:"
   ]
  },
  {
   "cell_type": "code",
   "execution_count": null,
   "metadata": {
    "collapsed": false
   },
   "outputs": [],
   "source": [
    "import pandas as pd\n",
    "\n",
    "# cream un diccionari amb les dades\n",
    "data = {'País': ['Estados Unidos', 'China', 'Japón', 'Alemania', 'Reino Unido', 'India', 'Francia', 'Italia', 'Brasil', 'Canadá'],\n",
    "        'PIB (billones de dólares)': [21.44, 15.54, 5.15, 4.17, 2.62, 2.61, 2.58, 1.93, 1.67, 1.65],\n",
    "        'Inflación (%)': [1.8, 2.9, 0.2, 1.6, 2.2, 5.0, 1.2, 0.9, 3.7, 1.8],\n",
    "        'Tasa de desempleo (%)': [3.7, 3.6, 2.9, 3.2, 3.8, 6.6, 8.1, 10.0, 13.9, 5.6],\n",
    "        'Índice de competitividad': [85.6, 83.1, 82.5, 80.9, 78.9, 64.4, 78.0, 70.3, 59.5, 77.2]}\n",
    "\n",
    "# cream el dataframe\n",
    "df_economia = pd.DataFrame(data)"
   ]
  },
  {
   "cell_type": "markdown",
   "metadata": {
    "collapsed": false
   },
   "source": [
    "1. Afegeix una columna al dataframe que sigui la població de cada país segons la següent llista: `poblacion = [328.2, 1393, 126.5, 83.2, 66.9, 1380, 66.99, 60.3, 212.6, 38.1]`\n",
    "2. Afegir una columna addicional que calculi el PIB per càpita per a cada país en dòlars dividint el PIB de cada país per la població.\n",
    "3. Seleccionar els països amb una tasa d'atur major a 8.0.\n",
    "4. Eliminar els països anteriorment seleccionats."
   ]
  },
  {
   "cell_type": "markdown",
   "metadata": {
    "collapsed": false
   },
   "source": [
    "C) Del fitxer presupuesto_ingresos_2023.csv, pots trobar el total de crèdit (un sumatori de la darrera columna): \"HASIERAKO KREDITUA/CREDITO INICIAL 2023\"?\n",
    "\n"
   ]
  },
  {
   "cell_type": "code",
   "execution_count": null,
   "metadata": {},
   "outputs": [],
   "source": []
  },
  {
   "cell_type": "markdown",
   "metadata": {},
   "source": [
    "D) Donat els dos següents dataframes, es demana: \n",
    "- calcula la quantitat d'ajuda rebuda per cada municipi en funció del nombre total d'habitants. \n"
   ]
  },
  {
   "cell_type": "code",
   "execution_count": 5,
   "metadata": {},
   "outputs": [
    {
     "name": "stdout",
     "output_type": "stream",
     "text": [
      "Dataframe de Municipios:\n",
      "        Nombre  Código Postal  Población\n",
      "0   Municipio1          60494      39232\n",
      "1   Municipio2          65125      15315\n",
      "2   Municipio3          15306      34075\n",
      "3   Municipio4          43936      10127\n",
      "4   Municipio5          77013      19470\n",
      "5   Municipio6          73691      10158\n",
      "6   Municipio7          63075       7214\n",
      "7   Municipio8          49755      41525\n",
      "8   Municipio9          72468      17417\n",
      "9  Municipio10          56930      35902\n",
      "\n",
      "Dataframe de Ayudas:\n",
      "         Nombre  Ayuda Económica (en euros)  Número de Beneficiarios\n",
      "0   Municipio10                        9989                       72\n",
      "1    Municipio3                        1230                       23\n",
      "2    Municipio5                        2528                       48\n",
      "3    Municipio2                        7534                       80\n",
      "4    Municipio2                        1018                       47\n",
      "5    Municipio6                        9086                      100\n",
      "6    Municipio8                        6458                       25\n",
      "7    Municipio9                        4996                       80\n",
      "8    Municipio2                        6328                       52\n",
      "9    Municipio6                        2031                       79\n",
      "10   Municipio7                        4130                       36\n",
      "11   Municipio6                        4632                       87\n",
      "12  Municipio10                        4909                       80\n",
      "13   Municipio4                        3334                       85\n",
      "14   Municipio9                        9896                       46\n",
      "15   Municipio8                        8339                       66\n",
      "16   Municipio8                        2494                       21\n",
      "17   Municipio9                        2318                       86\n",
      "18   Municipio5                        6243                       59\n",
      "19   Municipio1                        9322                       50\n"
     ]
    }
   ],
   "source": [
    "import pandas as pd\n",
    "import random\n",
    "\n",
    "random.seed(0)\n",
    "\n",
    "nombres = [f'Municipio{i}' for i in range(1, 11)] \n",
    "\n",
    "data_municipios = {\n",
    "    'Nombre': nombres,\n",
    "    'Código Postal': [random.randint(10000, 99999) for _ in range(10)],\n",
    "    'Población': [random.randint(1000, 50000) for _ in range(10)]  # Añadimos un atributo aleatorio, en este caso \"Población\"\n",
    "}\n",
    "\n",
    "df_municipios = pd.DataFrame(data_municipios)\n",
    "\n",
    "\n",
    "data_ayudas = {\n",
    "    'Nombre': [random.choice(nombres) for _ in range(20)],\n",
    "    'Ayuda Económica (en euros)': [random.randint(1000, 10000) for _ in range(20)],\n",
    "    'Número de Beneficiarios': [random.randint(10, 100) for _ in range(20)]\n",
    "}\n",
    "\n",
    "df_ayudas = pd.DataFrame(data_ayudas)\n",
    "\n",
    "print(\"Dataframe de Municipios:\")\n",
    "print(df_municipios)\n",
    "\n",
    "print(\"\\nDataframe de Ayudas:\")\n",
    "print(df_ayudas)\n"
   ]
  },
  {
   "cell_type": "markdown",
   "metadata": {},
   "source": [
    "E) A l'anterior dataframe (*df_ayudas*), afegeix a cada Municipi la seva informació de latitud i longitud:"
   ]
  },
  {
   "cell_type": "code",
   "execution_count": 6,
   "metadata": {},
   "outputs": [
    {
     "name": "stdout",
     "output_type": "stream",
     "text": [
      "     Municipio  Latitud  Longitud\n",
      "0   Municipio1  39.5696    2.6502\n",
      "1   Municipio2  39.5437    2.5110\n",
      "2   Municipio3  39.5690    3.2096\n",
      "3   Municipio4  39.8531    3.1250\n",
      "4   Municipio5  39.4942    2.8730\n",
      "5   Municipio6  39.8776    3.0154\n",
      "6   Municipio7  39.7680    2.7152\n",
      "7   Municipio8  39.4696    3.1502\n",
      "8   Municipio9  39.3532    3.1544\n",
      "9  Municipio10  39.7204    2.9070\n"
     ]
    }
   ],
   "source": [
    "import pandas as pd\n",
    "\n",
    "data = {\n",
    "    'Municipio': [f'Municipio{i}' for i in range(1, 11)],\n",
    "    'Latitud': [39.5696, 39.5437, 39.5690, 39.8531, 39.4942, 39.8776, 39.7680, 39.4696, 39.3532, 39.7204],\n",
    "    'Longitud': [2.6502, 2.5110, 3.2096, 3.1250, 2.8730, 3.0154, 2.7152, 3.1502, 3.1544, 2.9070]\n",
    "}\n",
    "\n",
    "df2 = pd.DataFrame(data)\n",
    "print(df2)"
   ]
  },
  {
   "cell_type": "markdown",
   "metadata": {},
   "source": [
    "F) Substituïx la variable *df2* del següent codi per la variable de l'anterior activitat E"
   ]
  },
  {
   "cell_type": "code",
   "execution_count": 12,
   "metadata": {},
   "outputs": [
    {
     "name": "stdout",
     "output_type": "stream",
     "text": [
      "[[39.5696  2.6502]\n",
      " [39.5437  2.511 ]\n",
      " [39.569   3.2096]]\n"
     ]
    },
    {
     "data": {
      "text/html": [
       "<div style=\"width:100%;\"><div style=\"position:relative;width:100%;height:0;padding-bottom:60%;\"><span style=\"color:#565656\">Make this Notebook Trusted to load map: File -> Trust Notebook</span><iframe srcdoc=\"&lt;!DOCTYPE html&gt;\n",
       "&lt;html&gt;\n",
       "&lt;head&gt;\n",
       "    \n",
       "    &lt;meta http-equiv=&quot;content-type&quot; content=&quot;text/html; charset=UTF-8&quot; /&gt;\n",
       "    \n",
       "        &lt;script&gt;\n",
       "            L_NO_TOUCH = false;\n",
       "            L_DISABLE_3D = false;\n",
       "        &lt;/script&gt;\n",
       "    \n",
       "    &lt;style&gt;html, body {width: 100%;height: 100%;margin: 0;padding: 0;}&lt;/style&gt;\n",
       "    &lt;style&gt;#map {position:absolute;top:0;bottom:0;right:0;left:0;}&lt;/style&gt;\n",
       "    &lt;script src=&quot;https://cdn.jsdelivr.net/npm/leaflet@1.9.3/dist/leaflet.js&quot;&gt;&lt;/script&gt;\n",
       "    &lt;script src=&quot;https://code.jquery.com/jquery-1.12.4.min.js&quot;&gt;&lt;/script&gt;\n",
       "    &lt;script src=&quot;https://cdn.jsdelivr.net/npm/bootstrap@5.2.2/dist/js/bootstrap.bundle.min.js&quot;&gt;&lt;/script&gt;\n",
       "    &lt;script src=&quot;https://cdnjs.cloudflare.com/ajax/libs/Leaflet.awesome-markers/2.0.2/leaflet.awesome-markers.js&quot;&gt;&lt;/script&gt;\n",
       "    &lt;link rel=&quot;stylesheet&quot; href=&quot;https://cdn.jsdelivr.net/npm/leaflet@1.9.3/dist/leaflet.css&quot;/&gt;\n",
       "    &lt;link rel=&quot;stylesheet&quot; href=&quot;https://cdn.jsdelivr.net/npm/bootstrap@5.2.2/dist/css/bootstrap.min.css&quot;/&gt;\n",
       "    &lt;link rel=&quot;stylesheet&quot; href=&quot;https://netdna.bootstrapcdn.com/bootstrap/3.0.0/css/bootstrap.min.css&quot;/&gt;\n",
       "    &lt;link rel=&quot;stylesheet&quot; href=&quot;https://cdn.jsdelivr.net/npm/@fortawesome/fontawesome-free@6.2.0/css/all.min.css&quot;/&gt;\n",
       "    &lt;link rel=&quot;stylesheet&quot; href=&quot;https://cdnjs.cloudflare.com/ajax/libs/Leaflet.awesome-markers/2.0.2/leaflet.awesome-markers.css&quot;/&gt;\n",
       "    &lt;link rel=&quot;stylesheet&quot; href=&quot;https://cdn.jsdelivr.net/gh/python-visualization/folium/folium/templates/leaflet.awesome.rotate.min.css&quot;/&gt;\n",
       "    \n",
       "            &lt;meta name=&quot;viewport&quot; content=&quot;width=device-width,\n",
       "                initial-scale=1.0, maximum-scale=1.0, user-scalable=no&quot; /&gt;\n",
       "            &lt;style&gt;\n",
       "                #map_699812f91006b6f8df730495c1a66dbb {\n",
       "                    position: relative;\n",
       "                    width: 100.0%;\n",
       "                    height: 100.0%;\n",
       "                    left: 0.0%;\n",
       "                    top: 0.0%;\n",
       "                }\n",
       "                .leaflet-container { font-size: 1rem; }\n",
       "            &lt;/style&gt;\n",
       "        \n",
       "    &lt;script src=&quot;https://cdn.jsdelivr.net/gh/python-visualization/folium@main/folium/templates/leaflet_heat.min.js&quot;&gt;&lt;/script&gt;\n",
       "&lt;/head&gt;\n",
       "&lt;body&gt;\n",
       "    \n",
       "    \n",
       "            &lt;div class=&quot;folium-map&quot; id=&quot;map_699812f91006b6f8df730495c1a66dbb&quot; &gt;&lt;/div&gt;\n",
       "        \n",
       "&lt;/body&gt;\n",
       "&lt;script&gt;\n",
       "    \n",
       "    \n",
       "            var map_699812f91006b6f8df730495c1a66dbb = L.map(\n",
       "                &quot;map_699812f91006b6f8df730495c1a66dbb&quot;,\n",
       "                {\n",
       "                    center: [39.550743977879726, 2.943255234860999],\n",
       "                    crs: L.CRS.EPSG3857,\n",
       "                    zoom: 10,\n",
       "                    zoomControl: true,\n",
       "                    preferCanvas: false,\n",
       "                }\n",
       "            );\n",
       "\n",
       "            \n",
       "\n",
       "        \n",
       "    \n",
       "            var tile_layer_a19283092aa96d04fc6b001798bd8358 = L.tileLayer(\n",
       "                &quot;https://{s}.tile.openstreetmap.org/{z}/{x}/{y}.png&quot;,\n",
       "                {&quot;attribution&quot;: &quot;Data by \\u0026copy; \\u003ca target=\\&quot;_blank\\&quot; href=\\&quot;http://openstreetmap.org\\&quot;\\u003eOpenStreetMap\\u003c/a\\u003e, under \\u003ca target=\\&quot;_blank\\&quot; href=\\&quot;http://www.openstreetmap.org/copyright\\&quot;\\u003eODbL\\u003c/a\\u003e.&quot;, &quot;detectRetina&quot;: false, &quot;maxNativeZoom&quot;: 18, &quot;maxZoom&quot;: 18, &quot;minZoom&quot;: 0, &quot;noWrap&quot;: false, &quot;opacity&quot;: 1, &quot;subdomains&quot;: &quot;abc&quot;, &quot;tms&quot;: false}\n",
       "            ).addTo(map_699812f91006b6f8df730495c1a66dbb);\n",
       "        \n",
       "    \n",
       "            var heat_map_ffd52a8ead37c2a7ba9c8f091a9f8068 = L.heatLayer(\n",
       "                [[39.5696, 2.6502], [39.5437, 2.511], [39.569, 3.2096], [39.8531, 3.125], [39.4942, 2.873], [39.8776, 3.0154], [39.768, 2.7152], [39.4696, 3.1502], [39.3532, 3.1544], [39.7204, 2.907]],\n",
       "                {&quot;blur&quot;: 15, &quot;maxZoom&quot;: 18, &quot;minOpacity&quot;: 0.5, &quot;radius&quot;: 15}\n",
       "            ).addTo(map_699812f91006b6f8df730495c1a66dbb);\n",
       "        \n",
       "&lt;/script&gt;\n",
       "&lt;/html&gt;\" style=\"position:absolute;width:100%;height:100%;left:0;top:0;border:none !important;\" allowfullscreen webkitallowfullscreen mozallowfullscreen></iframe></div></div>"
      ],
      "text/plain": [
       "<folium.folium.Map at 0x13fcf2b20>"
      ]
     },
     "execution_count": 12,
     "metadata": {},
     "output_type": "execute_result"
    }
   ],
   "source": [
    "##E2. Extra: Podem generar un mapa de calor\n",
    "#Si tenim un dataframe amb \"lat, long\"  podem visualitzar-ho amb aquesta llibreria folium. \n",
    "# Nota: Hi ha moltes opcions de visualitzacions \n",
    "\n",
    "import folium # funciona aquesta llibrería a Google Colab? es necessari la seva instal·lació?\n",
    "from folium import plugins #una altra manera de incloure components especifics d'una llibreria\n",
    "\n",
    "mostres = df2[[\"Latitud\",\"Longitud\"]].values ## HERE!\n",
    "print(mostres[:3])\n",
    "\n",
    "m = folium.Map(location=[39.550743977879726, 2.943255234860999],zoom_start=10) \n",
    "m.add_child(plugins.HeatMap(mostres, radius=15))\n",
    "m"
   ]
  },
  {
   "cell_type": "code",
   "execution_count": null,
   "metadata": {},
   "outputs": [],
   "source": []
  }
 ],
 "metadata": {
  "kernelspec": {
   "display_name": "Python 3.9.7 64-bit ('3.9.7')",
   "language": "python",
   "name": "python3"
  },
  "language_info": {
   "codemirror_mode": {
    "name": "ipython",
    "version": 3
   },
   "file_extension": ".py",
   "mimetype": "text/x-python",
   "name": "python",
   "nbconvert_exporter": "python",
   "pygments_lexer": "ipython3",
   "version": "3.9.7"
  },
  "orig_nbformat": 4,
  "vscode": {
   "interpreter": {
    "hash": "1dd6de46b7c7be538353ccdeaa948031a5b4d43665739a26f55ca28b247c53cc"
   }
  }
 },
 "nbformat": 4,
 "nbformat_minor": 2
}
