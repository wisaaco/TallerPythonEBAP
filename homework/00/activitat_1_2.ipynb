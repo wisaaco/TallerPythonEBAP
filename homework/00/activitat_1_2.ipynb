{
 "cells": [
  {
   "attachments": {},
   "cell_type": "markdown",
   "metadata": {},
   "source": [
    "<div align=\"right\">\n",
    "\n",
    "[![Open In Colab](https://colab.research.google.com/assets/colab-badge.svg)](https://colab.research.google.com/github/wisaaco/TallerPythonEBAP/blob/main/homework/00/activitat_1_2.ipynb)\n",
    "\n",
    "\n",
    "</div>\n",
    "\n",
    "# 1.2. Activitat\n",
    "\n",
    "A) Del fitxer WHO.csv, crea un nou dataframe que contengui les columnes: 4,10-39,90,120-123\n",
    "i guarda'l a un nou fitxer CSV anomenat _mini_who.csv_"
   ]
  },
  {
   "cell_type": "code",
   "execution_count": null,
   "metadata": {},
   "outputs": [],
   "source": []
  },
  {
   "cell_type": "markdown",
   "metadata": {
    "collapsed": false
   },
   "source": [
    "B) Donat el següent dataframe, una versió molt simplificada de `WHO` per poder comprovar les operacions:"
   ]
  },
  {
   "cell_type": "code",
   "execution_count": null,
   "metadata": {
    "collapsed": false
   },
   "outputs": [],
   "source": [
    "import pandas as pd\n",
    "\n",
    "# cream un diccionari amb les dades\n",
    "data = {'País': ['Estados Unidos', 'China', 'Japón', 'Alemania', 'Reino Unido', 'India', 'Francia', 'Italia', 'Brasil', 'Canadá'],\n",
    "        'PIB (billones de dólares)': [21.44, 15.54, 5.15, 4.17, 2.62, 2.61, 2.58, 1.93, 1.67, 1.65],\n",
    "        'Inflación (%)': [1.8, 2.9, 0.2, 1.6, 2.2, 5.0, 1.2, 0.9, 3.7, 1.8],\n",
    "        'Tasa de desempleo (%)': [3.7, 3.6, 2.9, 3.2, 3.8, 6.6, 8.1, 10.0, 13.9, 5.6],\n",
    "        'Índice de competitividad': [85.6, 83.1, 82.5, 80.9, 78.9, 64.4, 78.0, 70.3, 59.5, 77.2]}\n",
    "\n",
    "# cream el dataframe\n",
    "df_economia = pd.DataFrame(data)"
   ]
  },
  {
   "cell_type": "markdown",
   "metadata": {
    "collapsed": false
   },
   "source": [
    "1. Afegeix una columna al dataframe que sigui la població de cada país segons la següent llista: `poblacion = [328.2, 1393, 126.5, 83.2, 66.9, 1380, 66.99, 60.3, 212.6, 38.1]`\n",
    "2. Afegir una columna addicional que calculi el PIB per càpita per a cada país en dòlars dividint el PIB de cada país per la població.\n",
    "3. Seleccionar els països amb una tasa d'atur major a 8.0.\n",
    "4. Eliminar els països anteriorment seleccionats."
   ]
  },
  {
   "cell_type": "markdown",
   "metadata": {
    "collapsed": false
   },
   "source": [
    "C) Del fitxer presupuesto_ingresos_2023.csv, pots trobar el total de crèdit (un sumatori de la darrera columna): \"HASIERAKO KREDITUA/CREDITO INICIAL 2023\"?\n",
    "\n"
   ]
  },
  {
   "cell_type": "code",
   "execution_count": null,
   "metadata": {},
   "outputs": [],
   "source": []
  },
  {
   "cell_type": "markdown",
   "metadata": {},
   "source": [
    "D) Donat els dos següents dataframes, es demana: \n",
    "- calcula la quantitat d'ajuda rebuda per cada municipi en funció del nombre total d'habitants. \n"
   ]
  },
  {
   "cell_type": "code",
   "execution_count": 5,
   "metadata": {},
   "outputs": [
    {
     "name": "stdout",
     "output_type": "stream",
     "text": [
      "Dataframe de Municipios:\n",
      "        Nombre  Código Postal  Población\n",
      "0   Municipio1          60494      39232\n",
      "1   Municipio2          65125      15315\n",
      "2   Municipio3          15306      34075\n",
      "3   Municipio4          43936      10127\n",
      "4   Municipio5          77013      19470\n",
      "5   Municipio6          73691      10158\n",
      "6   Municipio7          63075       7214\n",
      "7   Municipio8          49755      41525\n",
      "8   Municipio9          72468      17417\n",
      "9  Municipio10          56930      35902\n",
      "\n",
      "Dataframe de Ayudas:\n",
      "         Nombre  Ayuda Económica (en euros)  Número de Beneficiarios\n",
      "0   Municipio10                        9989                       72\n",
      "1    Municipio3                        1230                       23\n",
      "2    Municipio5                        2528                       48\n",
      "3    Municipio2                        7534                       80\n",
      "4    Municipio2                        1018                       47\n",
      "5    Municipio6                        9086                      100\n",
      "6    Municipio8                        6458                       25\n",
      "7    Municipio9                        4996                       80\n",
      "8    Municipio2                        6328                       52\n",
      "9    Municipio6                        2031                       79\n",
      "10   Municipio7                        4130                       36\n",
      "11   Municipio6                        4632                       87\n",
      "12  Municipio10                        4909                       80\n",
      "13   Municipio4                        3334                       85\n",
      "14   Municipio9                        9896                       46\n",
      "15   Municipio8                        8339                       66\n",
      "16   Municipio8                        2494                       21\n",
      "17   Municipio9                        2318                       86\n",
      "18   Municipio5                        6243                       59\n",
      "19   Municipio1                        9322                       50\n"
     ]
    }
   ],
   "source": [
    "import pandas as pd\n",
    "import random\n",
    "\n",
    "random.seed(0)\n",
    "\n",
    "nombres = [f'Municipio{i}' for i in range(1, 11)] \n",
    "\n",
    "data_municipios = {\n",
    "    'Nombre': nombres,\n",
    "    'Código Postal': [random.randint(10000, 99999) for _ in range(10)],\n",
    "    'Población': [random.randint(1000, 50000) for _ in range(10)]  # Añadimos un atributo aleatorio, en este caso \"Población\"\n",
    "}\n",
    "\n",
    "df_municipios = pd.DataFrame(data_municipios)\n",
    "\n",
    "\n",
    "data_ayudas = {\n",
    "    'Nombre': [random.choice(nombres) for _ in range(20)],\n",
    "    'Ayuda Económica (en euros)': [random.randint(1000, 10000) for _ in range(20)],\n",
    "    'Número de Beneficiarios': [random.randint(10, 100) for _ in range(20)]\n",
    "}\n",
    "\n",
    "df_ayudas = pd.DataFrame(data_ayudas)\n",
    "\n",
    "print(\"Dataframe de Municipios:\")\n",
    "print(df_municipios)\n",
    "\n",
    "print(\"\\nDataframe de Ayudas:\")\n",
    "print(df_ayudas)\n"
   ]
  },
  {
   "cell_type": "code",
   "execution_count": null,
   "metadata": {},
   "outputs": [],
   "source": []
  }
 ],
 "metadata": {
  "kernelspec": {
   "display_name": "Python 3.9.7 64-bit ('3.9.7')",
   "language": "python",
   "name": "python3"
  },
  "language_info": {
   "codemirror_mode": {
    "name": "ipython",
    "version": 3
   },
   "file_extension": ".py",
   "mimetype": "text/x-python",
   "name": "python",
   "nbconvert_exporter": "python",
   "pygments_lexer": "ipython3",
   "version": "3.9.7"
  },
  "orig_nbformat": 4,
  "vscode": {
   "interpreter": {
    "hash": "1dd6de46b7c7be538353ccdeaa948031a5b4d43665739a26f55ca28b247c53cc"
   }
  }
 },
 "nbformat": 4,
 "nbformat_minor": 2
}
