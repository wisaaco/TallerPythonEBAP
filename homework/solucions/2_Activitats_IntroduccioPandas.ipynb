{
 "cells": [
  {
   "cell_type": "markdown",
   "metadata": {},
   "source": [
    "# Unitat 2\n",
    "\n",
    "En aquesta activitat practicarem la càrrega de dades en diferents formats. Al món real les dades no sempre tenen una estructura i un format com ens agradaríem.\n",
    "\n",
    "L'objectiu és que analitzeu la càrrega d'aquestes dades amb les originals: <br/>\n",
    "- Quina dimensió tenen les dades reals i carregades?\n",
    "- Quines columnes?\n",
    "- El concepte de columna com atribut o característica i el concepte de fila com a mostra està present en l'estructura de les dades?\n",
    "- Coincideixen amb la informació del fitxer?"
   ]
  },
  {
   "cell_type": "markdown",
   "metadata": {},
   "source": [
    "### A) \"Municipios y fenómeno demográfico de les Illes Balears\" <br/>\n",
    "Font: https://datos.gob.es/es/catalogo/ea0010587-balears-illes-por-municipios-y-fenomeno-demografico-mnpd-identificador-api-t20-e301-fenom-a2020-l0-23007-px <br/>\n",
    "Fitxer: \"data/municipis.csv\" <br/>"
   ]
  },
  {
   "cell_type": "code",
   "execution_count": null,
   "metadata": {},
   "outputs": [],
   "source": [
    "import pandas as pd\n",
    "#alerta amb la ruta del fitxer!!!\n",
    "df_muni = pd.read_csv(\"../../lessons/data/municipis.csv\",sep=\";\")\n",
    "\n",
    "print(df_muni.info())\n"
   ]
  },
  {
   "cell_type": "markdown",
   "metadata": {},
   "source": [
    "### B) \"Speculation Watch List\"\n",
    "Font: https://data.cityofnewyork.us/Housing-Development/Speculation-Watch-List/adax-9mit <br/>\n",
    "Fitxer: \"data/Speculation_Watch_List.csv\""
   ]
  },
  {
   "cell_type": "code",
   "execution_count": null,
   "metadata": {},
   "outputs": [],
   "source": [
    "import pandas as pd\n",
    "#alerta amb la ruta del fitxer!!!\n",
    "df_spec = pd.read_csv(\"../../lessons/data/Speculation_Watch_List.csv\",sep=\";\")\n",
    "\n",
    "print(df_spec.info())\n",
    "print(\"--\"*30)\n",
    "print(df_spec.shape)"
   ]
  },
  {
   "cell_type": "markdown",
   "metadata": {},
   "source": [
    "### C) \"Europe Inflation monthly data (annual rate of change)\" \n",
    "Font: https://ec.europa.eu/eurostat/databrowser/view/PRC_HICP_MANR__custom_3761882/bookmark/table?lang=en&bookmarkId=4ad27e6f-358a-4a3d-82a0-587d69a833eb <br/>\n",
    "Fitxer: \"data/prc_hicp_manr__custom_3761882_spreadsheet.xlsx\" <br/>\n",
    "*Nota:*\n",
    "  - Com podem agafar una \"fulla\" concreta del full de càlcul? [documentació](https://pandas.pydata.org/docs/reference/api/pandas.read_excel.html)\n",
    "  - Per aquesta activitat necessitem instal·lar una llibreria específica: executa la següent cel·la"
   ]
  },
  {
   "cell_type": "code",
   "execution_count": null,
   "metadata": {},
   "outputs": [],
   "source": [
    "#Hem de fer la instal·lació d'aquesta llibreria\n",
    "%pip install openpyxl"
   ]
  },
  {
   "cell_type": "code",
   "execution_count": null,
   "metadata": {},
   "outputs": [],
   "source": [
    "import pandas as pd\n",
    "import openpyxl\n",
    "#Carregam tot el document. Poc pràctic!!!!!\n",
    "df_excel = pd.read_excel(\"../../lessons/data/prc_hicp_manr__custom_3761882_spreadsheet.xlsx\",engine=\"openpyxl\")\n",
    "print(df_excel)\n",
    "\n",
    "# És millor una fulla especifica:\n",
    "# hem de posar el nom, en aquest cas: \"Sheet 1\"\n",
    "df_fulla_excel = pd.read_excel(\"../../lessons/data/prc_hicp_manr__custom_3761882_spreadsheet.xlsx\",engine=\"openpyxl\",sheet_name=\"Sheet 1\")\n",
    "print(type(df_fulla_excel))\n",
    "df_fulla_excel.head()"
   ]
  },
  {
   "cell_type": "markdown",
   "metadata": {},
   "source": [
    "### D) \"Taula de Naixements\"\n",
    "Font: https://ibestat.caib.es/ibestat/estadistiques/poblacio/naixements/414cab4f-b402-4cd1-af05-6617443de384 <br/>\n",
    "URL dades: \"https://ibestat.caib.es/ibestat/estadistiques/poblacio/naixements/414cab4f-b402-4cd1-af05-6617443de384\" <br/>\n",
    "\n"
   ]
  },
  {
   "cell_type": "code",
   "execution_count": null,
   "metadata": {},
   "outputs": [],
   "source": [
    "import pandas as pd\n",
    "df_naixements = pd.io.html.read_html(\"https://ibestat.caib.es/ibestat/estadistiques/poblacio/naixements/414cab4f-b402-4cd1-af05-6617443de384\", attrs = {'id': 'tabla_ulti_datos'})\n",
    "df_naixements"
   ]
  },
  {
   "cell_type": "markdown",
   "metadata": {},
   "source": [
    "### E) \"Nights spent at tourist accommodation establishments by residents/non-residents - monthly data\"\n",
    "Font:  https://ec.europa.eu/eurostat/databrowser/view/tin00171/default/table?lang=en <br/>\n",
    "Fitxer: \"data/tin00171_linear.csv.gz\" <br/>\n",
    "Nota: \n",
    "- Els fitxers comprimits amb format .gz podem obrir-se directament com si fossin fitxers de dades amb pandas, i en aquest cas és un fitxer del tipus CSV. És a dir, no cal descomprimir.\n"
   ]
  },
  {
   "cell_type": "code",
   "execution_count": null,
   "metadata": {},
   "outputs": [],
   "source": [
    "import pandas as pd\n",
    "#alerta amb la ruta del fitxer!!!\n",
    "df_tourist = pd.read_csv(\"../../lessons/data/tin00171_linear.csv.gz\",sep=\",\")\n",
    "df_tourist\n"
   ]
  },
  {
   "cell_type": "code",
   "execution_count": null,
   "metadata": {},
   "outputs": [],
   "source": []
  }
 ],
 "metadata": {
  "kernelspec": {
   "display_name": "my397",
   "language": "python",
   "name": "python3"
  },
  "language_info": {
   "codemirror_mode": {
    "name": "ipython",
    "version": 3
   },
   "file_extension": ".py",
   "mimetype": "text/x-python",
   "name": "python",
   "nbconvert_exporter": "python",
   "pygments_lexer": "ipython3",
   "version": "3.9.7"
  },
  "orig_nbformat": 4
 },
 "nbformat": 4,
 "nbformat_minor": 2
}
