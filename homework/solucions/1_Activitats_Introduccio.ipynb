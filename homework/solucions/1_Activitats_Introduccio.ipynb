{
 "cells": [
  {
   "cell_type": "markdown",
   "metadata": {},
   "source": [
    "# Unitat 1"
   ]
  },
  {
   "cell_type": "markdown",
   "metadata": {},
   "source": [
    "**Activitat**\n",
    "\n",
    "S'ha fet un petit estudi de mercat del preu d'origen de certs productes. Són preus per kilogram durant quatre dies.\n",
    "\n",
    "Es demana:\n",
    "- a) Quin és el preu màxim de cada producte?\n",
    "- b) Quin és el producte més car?\n",
    "- c) Quin dia són més cares les taronges?\n",
    "- d) Si el preu de mercat és tres vegades més (x3), fes un nou diccionari amb el \"preuMercat\".\n",
    "- e) Quin és el cost de comprar a \"preu de mercat\", 3 kg de taronges i 2.5 kg de cebes el dia 2?\n",
    "\n",
    "L'objectiu d'aquesta activitat és la consolidació de les estructures bàsiques de Python."
   ]
  },
  {
   "cell_type": "code",
   "execution_count": 4,
   "metadata": {},
   "outputs": [],
   "source": [
    "preus = {                                      # Unitats:\n",
    "            \"ceba\":  [30.3, 20.3, 25.9, 39.0], # cèntims/kg !!! ALERTA\n",
    "            \"patata\":[0.33, 0.43, 0.34, 0.12], # euro/kg\n",
    "            \"taronja\":[0.45, 0.56, 0.38, 0.43] # euro/kg\n",
    "        }"
   ]
  },
  {
   "cell_type": "code",
   "execution_count": 5,
   "metadata": {},
   "outputs": [],
   "source": [
    "#. Preparació i normalització dels preus\n",
    "import numpy as np\n",
    "preus_ceba = np.array(preus[\"ceba\"])\n",
    "preus_ceba = preus_ceba / 100 #euro/kg\n",
    "preus_patata = np.array(preus[\"patata\"])\n",
    "preus_taronja = np.array(preus[\"taronja\"])"
   ]
  },
  {
   "cell_type": "code",
   "execution_count": 6,
   "metadata": {},
   "outputs": [
    {
     "name": "stdout",
     "output_type": "stream",
     "text": [
      "0.39\n",
      "0.43\n",
      "0.56\n"
     ]
    }
   ],
   "source": [
    "# A) Quin és el preu màxim de cada producte?\n",
    "print(preus_ceba.max())\n",
    "print(preus_patata.max())\n",
    "print(preus_taronja.max())"
   ]
  },
  {
   "cell_type": "code",
   "execution_count": 10,
   "metadata": {},
   "outputs": [
    {
     "name": "stdout",
     "output_type": "stream",
     "text": [
      "2\n"
     ]
    }
   ],
   "source": [
    "# B) Quin és el producte més car?\n",
    "maxims = np.array([preus_ceba.max(),preus_patata.max(),preus_taronja.max()])\n",
    "print(maxims.argmax())\n",
    "# 0 - cebes\n",
    "# 1 - patates\n",
    "# 2 - taronges"
   ]
  },
  {
   "cell_type": "code",
   "execution_count": 7,
   "metadata": {},
   "outputs": [
    {
     "name": "stdout",
     "output_type": "stream",
     "text": [
      "1\n"
     ]
    }
   ],
   "source": [
    "# C) Quin dia són més cares les taronges?\n",
    "print(preus_taronja.argmax())"
   ]
  },
  {
   "cell_type": "code",
   "execution_count": 8,
   "metadata": {},
   "outputs": [
    {
     "name": "stdout",
     "output_type": "stream",
     "text": [
      "{'ceba': array([0.909, 0.609, 0.777, 1.17 ]), 'patata': array([0.99, 1.29, 1.02, 0.36]), 'taronja': array([1.35, 1.68, 1.14, 1.29])}\n"
     ]
    }
   ],
   "source": [
    "# D) Si el preu de mercat és tres vegades més (x3), fes un nou diccionari amb el \"preuMercat\".\n",
    "\n",
    "preus_Mercat = {\n",
    "    \"ceba\" : preus_ceba*3,\n",
    "    \"patata\" : preus_patata*3,\n",
    "    \"taronja\" : preus_taronja*3,\n",
    "\n",
    "}\n",
    "\n",
    "print(preus_Mercat)\n"
   ]
  },
  {
   "cell_type": "code",
   "execution_count": 9,
   "metadata": {},
   "outputs": [
    {
     "name": "stdout",
     "output_type": "stream",
     "text": [
      "1.5285000000000002\n"
     ]
    }
   ],
   "source": [
    "# E) Quin és el cost de comprar a \"preu de mercat\", 3 kg de taronges i 2.5 kg de cebes el dia 2?\n",
    "cost = preus_ceba[2]*1.5+preus_taronja[2]*3\n",
    "print(cost)\n"
   ]
  },
  {
   "cell_type": "markdown",
   "metadata": {},
   "source": [
    "**Activitat**\n",
    "\n",
    "Un joc de cartes\n",
    "- A. Genera una baralla de cartes (una llista ordenada)\n",
    "- B. Remena la baralla\n",
    "- C. Tria una carta a l'atzar\n",
    "- D. Crea un petit programa que intenti esbrina la carta triada aleatòriament i mostri la quantitat d'intents que ha hagut de realitzar."
   ]
  },
  {
   "cell_type": "code",
   "execution_count": 25,
   "metadata": {},
   "outputs": [
    {
     "name": "stdout",
     "output_type": "stream",
     "text": [
      "[1, 2, 3, 4, 5, 6, 7, 8]\n",
      "[5, 2, 6, 3, 1, 4, 8, 7]\n",
      "8\n"
     ]
    }
   ],
   "source": [
    "# A\n",
    "baralla = list(range(1,9))\n",
    "print(baralla)\n",
    "\n",
    "# B \n",
    "import random as rnd\n",
    "rnd.seed(0)\n",
    "rnd.shuffle(baralla)\n",
    "print(baralla)\n",
    "\n",
    "# C\n",
    "carta_rnd = rnd.choice(baralla)\n",
    "print(carta_rnd)\n",
    "\n",
    "\n",
    "\n",
    "\n"
   ]
  },
  {
   "cell_type": "code",
   "execution_count": 26,
   "metadata": {},
   "outputs": [
    {
     "name": "stdout",
     "output_type": "stream",
     "text": [
      "Tries: 2\n"
     ]
    }
   ],
   "source": [
    "# D\n",
    "found = False\n",
    "tries = 0\n",
    "while not found:\n",
    "    tries = tries +1\n",
    "    number = rnd.randint(1,8)\n",
    "    if number == carta_rnd:\n",
    "        found = True\n",
    "\n",
    "print(\"Tries: %i\"%tries)"
   ]
  },
  {
   "cell_type": "markdown",
   "metadata": {},
   "source": []
  }
 ],
 "metadata": {
  "kernelspec": {
   "display_name": "my397",
   "language": "python",
   "name": "python3"
  },
  "language_info": {
   "codemirror_mode": {
    "name": "ipython",
    "version": 3
   },
   "file_extension": ".py",
   "mimetype": "text/x-python",
   "name": "python",
   "nbconvert_exporter": "python",
   "pygments_lexer": "ipython3",
   "version": "3.9.7"
  },
  "orig_nbformat": 4
 },
 "nbformat": 4,
 "nbformat_minor": 2
}
